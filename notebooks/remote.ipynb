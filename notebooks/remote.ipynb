{
 "cells": [
  {
   "cell_type": "code",
   "execution_count": 1,
   "metadata": {},
   "outputs": [
    {
     "name": "stderr",
     "output_type": "stream",
     "text": [
      "/Users/augustin/.virtualenvs/spherical-joint/lib/python3.6/site-packages/quaternion/numba_wrapper.py:20: UserWarning: \n",
      "\n",
      "!!!!!!!!!!!!!!!!!!!!!!!!!!!!!!!!!!!!!!!!!!!!!!!!!!!!!\n",
      "Could not import from numba, which means that some\n",
      "parts of this code may run MUCH more slowly.  You\n",
      "may wish to install numba.\n",
      "!!!!!!!!!!!!!!!!!!!!!!!!!!!!!!!!!!!!!!!!!!!!!!!!!!!!!\n",
      "\n",
      "  warnings.warn(warning_text)\n"
     ]
    }
   ],
   "source": [
    "import numpy as np\n",
    "import quaternion\n",
    "from numpy import linalg as LA\n",
    "from math import *\n",
    "from pyluos import Robot\n",
    "import time\n",
    "\n",
    "x0 = [1, 0, 0]\n",
    "y0 = [0, 1, 0]\n",
    "z0 = [0, 0, 1]\n",
    "\n",
    "x0_quat = quaternion.quaternion(0,1,0,0)\n",
    "y0_quat = quaternion.quaternion(0,0,1,0)\n",
    "z0_quat = quaternion.quaternion(0,0,0,1)\n",
    "\n",
    "Pc = [0,0,89.40]   #Coordinates of the plateform's center\n",
    "C = [0,0,64.227]   #Coordinates of the center of the proximal circle\n",
    "R = 39.162   #Radius of the distal circle\n",
    "Rp = R*cos(40.0*pi/180)   #Radius of the proximal center"
   ]
  },
  {
   "cell_type": "code",
   "execution_count": 2,
   "metadata": {},
   "outputs": [],
   "source": [
    "def get_new_frame(Q):\n",
    " #1st rotation quaternion\n",
    "    if type(Q)==type((0,0,0)):\n",
    "        q1 = quaternion.quaternion(Q[0],Q[1],Q[2],Q[3])\n",
    "    \n",
    "    q1_inv = q1.inverse()\n",
    "\n",
    "\n",
    "    new_z = q1*z0_quat*q1_inv #Final Z\n",
    "    new_x = q1*x0_quat*q1_inv#Final X\n",
    "    new_y = q1*y0_quat*q1_inv#Final Y\n",
    "\n",
    "    X = [new_x.x, new_x.y, new_x.z]\n",
    "    Y = [new_y.x, new_y.y, new_y.z]\n",
    "    Z = [new_z.x, new_z.y, new_z.z]\n",
    "    \n",
    "    return X,Y,Z"
   ]
  },
  {
   "cell_type": "code",
   "execution_count": 3,
   "metadata": {},
   "outputs": [],
   "source": [
    "def Q_angles(Q,last_angles):\n",
    "    quat = quaternion.quaternion(Q[0],Q[1],Q[2],Q[3])\n",
    "    ### Find q31 and q11 ###\n",
    "    X,Y,Z = get_new_frame(quat)\n",
    "    q31_ = [2*atan2((R*X[2] - sqrt(R**2*X[2]**2 + R**2*Z[2]**2 - C[2]**2 + 2*C[2]*Pc[2] - Pc[2]**2)),(R*Z[2] + C[2] - Pc[2])), 2*atan2((R*X[2] + sqrt(R**2*X[2]**2 + R**2*Z[2]**2 - C[2]**2 + 2*C[2]*Pc[2] - Pc[2]**2)),(R*Z[2] + C[2] - Pc[2]))]\n",
    "\n",
    "    if 0<=q31_[0]<=180:\n",
    "        q31 = q31_[0]\n",
    "    else :\n",
    "        q31= q31_[1]\n",
    "    num1=Z[1]*cos(q31)+X[1]*sin(q31)\n",
    "    den1=Z[0]*cos(q31)+X[0]*sin(q31)\n",
    "    q11 = atan2(num1,den1)\n",
    "    \n",
    "    ### Find q32 and q12 ###\n",
    "    w_offset = cos(2*pi/6.0)\n",
    "    x_offset = sin(2*pi/6.0)*z0_quat.x\n",
    "    y_offset = sin(2*pi/6.0)*z0_quat.y\n",
    "    z_offset = sin(2*pi/6.0)*z0_quat.z\n",
    "\n",
    "    q_offset = quaternion.quaternion(w_offset,x_offset,y_offset,z_offset) #1st rotation quaternion\n",
    "    \n",
    "    X,Y,Z = get_new_frame(quat*q_offset)\n",
    "    q32_ = [2*atan2((R*X[2] - sqrt(R**2*X[2]**2 + R**2*Z[2]**2 - C[2]**2 + 2*C[2]*Pc[2] - Pc[2]**2)),(R*Z[2] + C[2] - Pc[2])), 2*atan2((R*X[2] + sqrt(R**2*X[2]**2 + R**2*Z[2]**2 - C[2]**2 + 2*C[2]*Pc[2] - Pc[2]**2)),(R*Z[2] + C[2] - Pc[2]))]\n",
    "\n",
    "    if 0<=q32_[0]<=180:\n",
    "        q32 = q32_[0]\n",
    "    else :\n",
    "        q32= q32_[1]\n",
    "    num2=(Z[1]*cos(q32)+X[1]*sin(q32))\n",
    "    den2=(Z[0]*cos(q32)+X[0]*sin(q32))\n",
    "    q12 = atan2(num2,den2)\n",
    "    \n",
    "    ### Find q33 and q13 ###\n",
    "    w_offset = cos(-2*pi/6.0)\n",
    "    x_offset = sin(-2*pi/6.0)*z0_quat.x\n",
    "    y_offset = sin(-2*pi/6.0)*z0_quat.y\n",
    "    z_offset = sin(-2*pi/6.0)*z0_quat.z\n",
    "\n",
    "    q_offset = quaternion.quaternion(w_offset,x_offset,y_offset,z_offset) #1st rotation quaternion\n",
    "    \n",
    "    X,Y,Z = get_new_frame(quat*q_offset)\n",
    "    q33_ = [2*atan2((R*X[2] - sqrt(R**2*X[2]**2 + R**2*Z[2]**2 - C[2]**2 + 2*C[2]*Pc[2] - Pc[2]**2)),(R*Z[2] + C[2] - Pc[2])), 2*atan2((R*X[2] + sqrt(R**2*X[2]**2 + R**2*Z[2]**2 - C[2]**2 + 2*C[2]*Pc[2] - Pc[2]**2)),(R*Z[2] + C[2] - Pc[2]))]\n",
    "\n",
    "    if 0<=q33_[0]<=180:\n",
    "        q33 = q33_[0]\n",
    "    else :\n",
    "        q33= q33_[1]\n",
    "    num3=(Z[1]*cos(q33)+X[1]*sin(q33))\n",
    "    den3=(Z[0]*cos(q33)+X[0]*sin(q33))\n",
    "    q13 = atan2(num3,den3)\n",
    "    \n",
    "    if (abs(q11-last_angles[0])>=2.96):\n",
    "        if last_angles[0]>0:\n",
    "            q11=q11+2*pi\n",
    "        elif last_angles[0]<0:\n",
    "            q11=q11-2*pi\n",
    "    if (abs(q12-last_angles[1])>=2.96):\n",
    "        if last_angles[1]>0:\n",
    "            q12=q12+2*pi\n",
    "        elif last_angles[1]<0:\n",
    "            q12=q12-2*pi\n",
    "    if (abs(q13-last_angles[2])>=2.96):\n",
    "        if last_angles[2]>0:\n",
    "            q13=q13+2*pi\n",
    "        elif last_angles[2]<0:\n",
    "            q13=q13-2*pi\n",
    "\n",
    "    \n",
    "    return [q11*180/pi,(q12*180/pi)-120,(q13*180/pi)+120]"
   ]
  },
  {
   "cell_type": "code",
   "execution_count": 4,
   "metadata": {},
   "outputs": [
    {
     "name": "stdout",
     "output_type": "stream",
     "text": [
      "Connected to \"/dev/cu.usbserial-DN05NM0L\".\n",
      "Sending detection signal.\n",
      "Waiting for route table...\n",
      "Robot setup.\n"
     ]
    }
   ],
   "source": [
    "r = Robot('/dev/cu.usbserial-DN05NM0L')\n",
    "r.gate.delay=10\n",
    "r.disk_bottom.rot_position=False\n",
    "r.disk_middle.rot_position=False\n",
    "r.disk_top.rot_position=False\n",
    "\n",
    "###########Setup############\n",
    "\n",
    "r.disk_bottom.encoder_res = 5\n",
    "r.disk_middle.encoder_res = 5\n",
    "r.disk_top.encoder_res = 5\n",
    "\n",
    "\n",
    "r.disk_bottom.setToZero()\n",
    "r.disk_middle.setToZero()\n",
    "r.disk_top.setToZero()\n",
    "\n",
    "\n",
    "r.disk_bottom.reduction = 232\n",
    "r.disk_middle.reduction = 232\n",
    "r.disk_top.reduction = 232\n",
    "\n",
    "\n",
    "r.disk_bottom.wheel_size = 60.0\n",
    "r.disk_middle.wheel_size = 60.0\n",
    "r.disk_top.wheel_size = 60\n",
    "\n",
    "\n",
    "r.disk_bottom.positionPid = [9,0.02,100]\n",
    "r.disk_middle.positionPid = [9,0.02,100]\n",
    "r.disk_top.positionPid = [9,0.02,100]\n",
    "\n",
    "\n",
    "r.disk_bottom.rot_position_mode(True)\n",
    "r.disk_middle.rot_position_mode(True)\n",
    "r.disk_top.rot_position_mode(True)"
   ]
  },
  {
   "cell_type": "code",
   "execution_count": 5,
   "metadata": {},
   "outputs": [],
   "source": [
    "r.disk_bottom.compliant = True\n",
    "r.disk_middle.compliant = True\n",
    "r.disk_top.compliant = True"
   ]
  },
  {
   "cell_type": "code",
   "execution_count": 6,
   "metadata": {},
   "outputs": [],
   "source": [
    "r.disk_bottom.compliant = False\n",
    "r.disk_middle.compliant = False\n",
    "r.disk_top.compliant = False"
   ]
  },
  {
   "cell_type": "code",
   "execution_count": 7,
   "metadata": {},
   "outputs": [],
   "source": [
    "##### Remise à zéro #####\n",
    "r.disk_bottom.target_rot_position = 0\n",
    "r.disk_middle.target_rot_position = 0\n",
    "r.disk_top.target_rot_position = 0"
   ]
  },
  {
   "cell_type": "code",
   "execution_count": null,
   "metadata": {},
   "outputs": [],
   "source": [
    "last_angles = [0,2*pi/3,-2*pi/3]\n",
    "\n",
    "while(True):\n",
    "    imu_quat = r.Imu_mod.quaternion\n",
    "    Q=Q_angles(imu_quat,last_angles)\n",
    "    last_angles=[Q[0]*pi/180,Q[1]*pi/180,Q[2]*pi/180]\n",
    "    r.disk_top.target_rot_position = Q[0]\n",
    "    r.disk_middle.target_rot_position = Q[1]\n",
    "    r.disk_bottom.target_rot_position = Q[2]\n",
    "\n",
    "    time.sleep(0.01)\n",
    " \n"
   ]
  },
  {
   "cell_type": "code",
   "execution_count": 19,
   "metadata": {},
   "outputs": [
    {
     "data": {
      "text/plain": [
       "<matplotlib.legend.Legend at 0x1133a29b0>"
      ]
     },
     "execution_count": 19,
     "metadata": {},
     "output_type": "execute_result"
    },
    {
     "data": {
      "image/png": "[encoded data removed]",
      "text/plain": [
       "<Figure size 432x288 with 1 Axes>"
      ]
     },
     "metadata": {
      "needs_background": "light"
     },
     "output_type": "display_data"
    }
   ],
   "source": [
    "from matplotlib import pyplot as plt\n",
    "plt.plot(T,q_top, label='haut')\n",
    "plt.plot(T,q_middle, label='milieu')\n",
    "plt.plot(T,q_bottom, label='bas')\n",
    "plt.legend()"
   ]
  },
  {
   "cell_type": "code",
   "execution_count": 9,
   "metadata": {},
   "outputs": [
    {
     "data": {
      "text/plain": [
       "<matplotlib.legend.Legend at 0x1177e9470>"
      ]
     },
     "execution_count": 9,
     "metadata": {},
     "output_type": "execute_result"
    },
    {
     "data": {
      "image/png": "[encoded data removed]",
      "text/plain": [
       "<Figure size 432x288 with 1 Axes>"
      ]
     },
     "metadata": {
      "needs_background": "light"
     },
     "output_type": "display_data"
    },
    {
     "name": "stderr",
     "output_type": "stream",
     "text": [
      "Exception in thread Thread-4:\n",
      "Traceback (most recent call last):\n",
      "  File \"/usr/local/Cellar/python/3.6.5_1/Frameworks/Python.framework/Versions/3.6/lib/python3.6/threading.py\", line 916, in _bootstrap_inner\n",
      "    self.run()\n",
      "  File \"/usr/local/Cellar/python/3.6.5_1/Frameworks/Python.framework/Versions/3.6/lib/python3.6/threading.py\", line 864, in run\n",
      "    self._target(*self._args, **self._kwargs)\n",
      "  File \"/Users/augustin/Downloads/pyluos/pyluos/io/serial_io.py\", line 83, in _poll\n",
      "    to_read = self._serial.in_waiting\n",
      "  File \"/Users/augustin/.virtualenvs/spherical-joint/lib/python3.6/site-packages/serial/serialposix.py\", line 467, in in_waiting\n",
      "    s = fcntl.ioctl(self.fd, TIOCINQ, TIOCM_zero_str)\n",
      "OSError: [Errno 6] Device not configured\n",
      "\n"
     ]
    }
   ],
   "source": [
    "from matplotlib import pyplot as plt\n",
    "plt.plot(T,q_top, label='haut')\n",
    "plt.plot(T,q_middle, label='milieu')\n",
    "plt.plot(T,q_bottom, label='bas')\n",
    "plt.legend()"
   ]
  },
  {
   "cell_type": "code",
   "execution_count": null,
   "metadata": {},
   "outputs": [],
   "source": []
  }
 ],
 "metadata": {
  "kernelspec": {
   "display_name": "Python 3",
   "language": "python",
   "name": "python3"
  },
  "language_info": {
   "codemirror_mode": {
    "name": "ipython",
    "version": 3
   },
   "file_extension": ".py",
   "mimetype": "text/x-python",
   "name": "python",
   "nbconvert_exporter": "python",
   "pygments_lexer": "ipython3",
   "version": "3.6.5"
  }
 },
 "nbformat": 4,
 "nbformat_minor": 2
}
