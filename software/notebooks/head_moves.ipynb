{
 "cells": [
  {
   "cell_type": "markdown",
   "metadata": {},
   "source": [
    "# HEAD MOVES\n",
    "### Useful libraries"
   ]
  },
  {
   "cell_type": "code",
   "execution_count": 1,
   "metadata": {},
   "outputs": [
    {
     "name": "stderr",
     "output_type": "stream",
     "text": [
      "/Users/augustin/.virtualenvs/spherical-joint/lib/python3.6/site-packages/quaternion/numba_wrapper.py:20: UserWarning: \n",
      "\n",
      "!!!!!!!!!!!!!!!!!!!!!!!!!!!!!!!!!!!!!!!!!!!!!!!!!!!!!\n",
      "Could not import from numba, which means that some\n",
      "parts of this code may run MUCH more slowly.  You\n",
      "may wish to install numba.\n",
      "!!!!!!!!!!!!!!!!!!!!!!!!!!!!!!!!!!!!!!!!!!!!!!!!!!!!!\n",
      "\n",
      "  warnings.warn(warning_text)\n"
     ]
    }
   ],
   "source": [
    "from pyluos import Robot\n",
    "from orbita import Actuator\n",
    "import time\n",
    "import math\n",
    "import numpy as np\n",
    "import threading"
   ]
  },
  {
   "cell_type": "code",
   "execution_count": 2,
   "metadata": {},
   "outputs": [
    {
     "name": "stdout",
     "output_type": "stream",
     "text": [
      "Connected to \"/dev/cu.usbserial-DN05NM15\".\n",
      "Sending detection signal.\n",
      "Waiting for route table...\n",
      "Robot setup.\n"
     ]
    }
   ],
   "source": [
    "r = Robot('/dev/cu.usbserial-DN05NM15')"
   ]
  },
  {
   "cell_type": "markdown",
   "metadata": {},
   "source": [
    "### Parameters of the actuator"
   ]
  },
  {
   "cell_type": "code",
   "execution_count": 4,
   "metadata": {},
   "outputs": [],
   "source": [
    "a = Actuator([0,0,117.4],[0,0,84.256],51.56)\n",
    "\n",
    "#r.gate.delay=10\n",
    "r.disk_bottom.rot_position=False\n",
    "r.disk_middle.rot_position=False\n",
    "r.disk_top.rot_position=False\n",
    "\n",
    "###########Setup############\n",
    "\n",
    "r.disk_bottom.encoder_res = 5\n",
    "r.disk_middle.encoder_res = 5\n",
    "r.disk_top.encoder_res = 5\n",
    "\n",
    "\n",
    "r.disk_bottom.setToZero()\n",
    "r.disk_middle.setToZero()\n",
    "r.disk_top.setToZero()\n",
    "\n",
    "\n",
    "r.disk_bottom.reduction = 214\n",
    "r.disk_middle.reduction = 214\n",
    "r.disk_top.reduction = 214\n",
    "\n",
    "\n",
    "r.disk_bottom.wheel_size = 79\n",
    "r.disk_middle.wheel_size = 79\n",
    "r.disk_top.wheel_size = 79\n",
    "\n",
    "r.disk_bottom.positionPid = [9,0.06,80]\n",
    "r.disk_middle.positionPid = [9,0.06,110]\n",
    "r.disk_top.positionPid = [9,0.02,120]\n",
    "\n",
    "r.disk_bottom.rot_position_mode=True\n",
    "r.disk_middle.rot_position_mode=True\n",
    "r.disk_top.rot_position_mode=True\n",
    "\n",
    "r.disk_top.rot_position = True\n",
    "r.disk_middle.rot_position = True\n",
    "r.disk_bottom.rot_position = True\n",
    "\n",
    "#If speed must be limited\n",
    "\n",
    "#r.disk_bottom.rot_speed_mode(True)\n",
    "#r.disk_middle.rot_speed_mode(True)\n",
    "#r.disk_top.rot_speed_mode(True)\n",
    "\n",
    "#r.disk_bottom.target_rot_speed = 9\n",
    "#r.disk_middle.target_rot_speed = 9\n",
    "#r.disk_top.target_rot_speed = 9"
   ]
  },
  {
   "cell_type": "markdown",
   "metadata": {},
   "source": [
    "### Compliant Mode"
   ]
  },
  {
   "cell_type": "code",
   "execution_count": null,
   "metadata": {},
   "outputs": [],
   "source": [
    "r.disk_bottom.compliant = True\n",
    "r.disk_middle.compliant = True\n",
    "r.disk_top.compliant = True"
   ]
  },
  {
   "cell_type": "code",
   "execution_count": 3,
   "metadata": {},
   "outputs": [],
   "source": [
    "r.disk_bottom.compliant = False\n",
    "r.disk_middle.compliant = False\n",
    "r.disk_top.compliant = False"
   ]
  },
  {
   "cell_type": "markdown",
   "metadata": {},
   "source": [
    "### Initial position"
   ]
  },
  {
   "cell_type": "code",
   "execution_count": 44,
   "metadata": {},
   "outputs": [],
   "source": [
    "r.disk_bottom.target_rot_position = 0\n",
    "r.disk_middle.target_rot_position = 0\n",
    "r.disk_top.target_rot_position = 0"
   ]
  },
  {
   "cell_type": "code",
   "execution_count": 10,
   "metadata": {},
   "outputs": [],
   "source": [
    "q11,q12,q13 = a.get_angles_from_vector([0,0,1],0)\n",
    "r.disk_top.target_rot_position = q11\n",
    "r.disk_middle.target_rot_position = q12\n",
    "r.disk_bottom.target_rot_position = q13"
   ]
  },
  {
   "cell_type": "markdown",
   "metadata": {},
   "source": [
    "## Demo 1 : Yes/No"
   ]
  },
  {
   "cell_type": "markdown",
   "metadata": {},
   "source": [
    "2) Yes\n"
   ]
  },
  {
   "cell_type": "code",
   "execution_count": 13,
   "metadata": {},
   "outputs": [],
   "source": [
    "t=0\n",
    "while t < 2.5:\n",
    "    X=0.3*math.sin(10*t)\n",
    "    q11,q12,q13 = a.get_angles_from_vector([0.2+X,0,1],0)\n",
    "    r.disk_top.target_rot_position = q11\n",
    "    r.disk_middle.target_rot_position = q12\n",
    "    r.disk_bottom.target_rot_position = q13\n",
    "    time.sleep(0.01)\n",
    "    t=t+0.01"
   ]
  },
  {
   "cell_type": "markdown",
   "metadata": {},
   "source": [
    "1) No"
   ]
  },
  {
   "cell_type": "code",
   "execution_count": 8,
   "metadata": {},
   "outputs": [],
   "source": [
    "t=0\n",
    "while t < 2.5:\n",
    "    angle=10*math.sin(5*t)\n",
    "    q11,q12,q13 = a.get_angles_from_vector([0.3,0,1],angle)\n",
    "    r.disk_top.target_rot_position = q11\n",
    "    r.disk_middle.target_rot_position = q12\n",
    "    r.disk_bottom.target_rot_position = q13\n",
    "    time.sleep(0.01)\n",
    "    t=t+0.01"
   ]
  },
  {
   "cell_type": "markdown",
   "metadata": {},
   "source": [
    "both"
   ]
  },
  {
   "cell_type": "code",
   "execution_count": 15,
   "metadata": {},
   "outputs": [],
   "source": [
    "t=0\n",
    "while t < 2.5:\n",
    "    angle1=0.5*math.sin(20*t)\n",
    "    angle2=0.5*math.sin(10*t)\n",
    "    q11,q12,q13 = a.get_angles_from_vector([0.2+angle1,angle2,1],0)\n",
    "    r.disk_top.target_rot_position = q11\n",
    "    r.disk_middle.target_rot_position = q12\n",
    "    r.disk_bottom.target_rot_position = q13\n",
    "    time.sleep(0.01)\n",
    "    t=t+0.01"
   ]
  },
  {
   "cell_type": "markdown",
   "metadata": {},
   "source": [
    "## Demo 2 : Rotation of the platform / Exorcist"
   ]
  },
  {
   "cell_type": "code",
   "execution_count": 8,
   "metadata": {},
   "outputs": [],
   "source": [
    "q11,q12,q13 = a.get_angles_from_vector([0.8,0,1],0)\n",
    "r.disk_top.target_rot_position = q11\n",
    "r.disk_middle.target_rot_position = q12\n",
    "r.disk_bottom.target_rot_position = q13\n",
    "\n",
    "time.sleep(1)\n",
    "angle = 0\n",
    "for i in range(360):\n",
    "    angle=i\n",
    "    time.sleep(0.01)\n",
    "    q11,q12,q13 = a.get_angles_from_vector([0.8,0,1],angle)\n",
    "    \n",
    "    r.disk_top.target_rot_position = q11\n",
    "    r.disk_middle.target_rot_position = q12\n",
    "    r.disk_bottom.target_rot_position = q13\n",
    "\n",
    "time.sleep(1)\n",
    "q11,q12,q13 = a.get_angles_from_vector([0,0,1],0)\n",
    "r.disk_bottom.target_rot_position = q11\n",
    "r.disk_middle.target_rot_position = q12\n",
    "r.disk_top.target_rot_position = q13"
   ]
  },
  {
   "cell_type": "markdown",
   "metadata": {},
   "source": [
    "## Demo 3 : Circle"
   ]
  },
  {
   "cell_type": "code",
   "execution_count": 7,
   "metadata": {},
   "outputs": [],
   "source": [
    "Rtest = 4\n",
    "centerTest = 10\n",
    "angle=0\n",
    "t=0\n",
    "a.reset_last_angles()\n",
    "a.reset_offset()\n",
    "\n",
    "while t<5*2*math.pi: #TEST CIRCLE PARAMETRIC EQUATION:\n",
    "    locus = np.array([Rtest*math.cos(t),Rtest*math.sin(t),centerTest])\n",
    "    t=t+math.pi/50\n",
    "    angle = angle\n",
    "    \n",
    "    q11,q12,q13 = a.get_angles_from_vector(locus,angle)\n",
    "    \n",
    "    r.disk_top.target_rot_position = q11\n",
    "    r.disk_middle.target_rot_position = q12\n",
    "    r.disk_bottom.target_rot_position = q13\n",
    "\n",
    "    \n",
    "    time.sleep(0.01)"
   ]
  },
  {
   "cell_type": "markdown",
   "metadata": {},
   "source": [
    "## Demo 4 : Circle and rotation"
   ]
  },
  {
   "cell_type": "code",
   "execution_count": 9,
   "metadata": {},
   "outputs": [],
   "source": [
    "Rtest = 4\n",
    "centerTest = 10\n",
    "angle=0\n",
    "t=0\n",
    "\n",
    "a.reset_last_angles()\n",
    "a.reset_offset()\n",
    "\n",
    "while t<2*2*math.pi:\n",
    "    locus = np.array([Rtest*math.cos(t),Rtest*math.sin(t),centerTest])\n",
    "    t=t+math.pi/1000\n",
    "    angle = angle+1\n",
    "    \n",
    "    q11,q12,q13 = a.get_angles_from_vector(locus,angle)\n",
    "    \n",
    "    r.disk_top.target_rot_position = q11\n",
    "    r.disk_middle.target_rot_position = q12\n",
    "    r.disk_bottom.target_rot_position = q13\n",
    "\n",
    "\n",
    "    time.sleep(0.01)"
   ]
  },
  {
   "cell_type": "markdown",
   "metadata": {},
   "source": [
    "## Demo 5 : Record and play moves\n",
    "1) Record and play a pose"
   ]
  },
  {
   "cell_type": "code",
   "execution_count": 7,
   "metadata": {},
   "outputs": [],
   "source": [
    "pose = [r.disk_top.rot_position,r.disk_middle.rot_position,r.disk_bottom.rot_position]"
   ]
  },
  {
   "cell_type": "code",
   "execution_count": 13,
   "metadata": {},
   "outputs": [],
   "source": [
    "r.disk_top.target_rot_position = pose[0]\n",
    "r.disk_middle.target_rot_position = pose[1]\n",
    "r.disk_bottom.target_rot_position = pose[2]"
   ]
  },
  {
   "cell_type": "markdown",
   "metadata": {},
   "source": [
    "2) Record a move"
   ]
  },
  {
   "cell_type": "code",
   "execution_count": 18,
   "metadata": {},
   "outputs": [
    {
     "name": "stdout",
     "output_type": "stream",
     "text": [
      "\n"
     ]
    }
   ],
   "source": [
    "r.disk_bottom.compliant = True\n",
    "r.disk_middle.compliant = True\n",
    "r.disk_top.compliant = True\n",
    "\n",
    "Input = []\n",
    "T = []\n",
    "t=0\n",
    "top = []\n",
    "middle = []\n",
    "bottom = []\n",
    "\n",
    "def Listener():\n",
    "    global Input\n",
    "    Input = input()\n",
    "    \n",
    "listener = threading.Thread(target=Listener)\n",
    "listener.start()\n",
    "move = []\n",
    "\n",
    "while True:\n",
    "    if type(Input) == type(\"\"):\n",
    "        break\n",
    "    else :\n",
    "        move.append([r.disk_top.rot_position,r.disk_middle.rot_position,r.disk_bottom.rot_position])\n",
    "        t=t+0.005\n",
    "        T.append(t)\n",
    "        top.append(move[-1][0])\n",
    "        middle.append(move[-1][1])\n",
    "        bottom.append(move[-1][2])\n",
    "    time.sleep(0.005)"
   ]
  },
  {
   "cell_type": "markdown",
   "metadata": {},
   "source": [
    "3) Play a move"
   ]
  },
  {
   "cell_type": "code",
   "execution_count": 6,
   "metadata": {},
   "outputs": [
    {
     "data": {
      "text/plain": [
       "[<matplotlib.lines.Line2D at 0x118ea7f28>]"
      ]
     },
     "execution_count": 6,
     "metadata": {},
     "output_type": "execute_result"
    },
    {
     "data": {
      "text/plain": [
       "<Figure size 432x288 with 1 Axes>"
      ]
     },
     "metadata": {
      "needs_background": "light"
     },
     "output_type": "display_data"
    },
    {
     "name": "stderr",
     "output_type": "stream",
     "text": [
      "Exception in thread Thread-4:\n",
      "Traceback (most recent call last):\n",
      "  File \"/usr/local/Cellar/python/3.6.5_1/Frameworks/Python.framework/Versions/3.6/lib/python3.6/threading.py\", line 916, in _bootstrap_inner\n",
      "    self.run()\n",
      "  File \"/usr/local/Cellar/python/3.6.5_1/Frameworks/Python.framework/Versions/3.6/lib/python3.6/threading.py\", line 864, in run\n",
      "    self._target(*self._args, **self._kwargs)\n",
      "  File \"/Users/augustin/Downloads/pyluos/pyluos/io/serial_io.py\", line 83, in _poll\n",
      "    to_read = self._serial.in_waiting\n",
      "  File \"/Users/augustin/.virtualenvs/spherical-joint/lib/python3.6/site-packages/serial/serialposix.py\", line 467, in in_waiting\n",
      "    s = fcntl.ioctl(self.fd, TIOCINQ, TIOCM_zero_str)\n",
      "OSError: [Errno 6] Device not configured\n",
      "\n"
     ]
    }
   ],
   "source": [
    "from matplotlib import pyplot as plt\n",
    "plt.plot(T,top, label = 'top')\n",
    "plt.plot(T,middle, label='middle')\n",
    "plt.plot(T,bottom, label = 'bottom')"
   ]
  },
  {
   "cell_type": "code",
   "execution_count": 4,
   "metadata": {},
   "outputs": [],
   "source": [
    "r.disk_bottom.compliant = False\n",
    "r.disk_middle.compliant = False\n",
    "r.disk_top.compliant = False\n",
    "\n",
    "for i in range(len(move)):\n",
    "    r.disk_top.target_rot_position = move[i][0]\n",
    "    r.disk_middle.target_rot_position = move[i][1]\n",
    "    r.disk_bottom.target_rot_position = move[i][2]\n",
    "    time.sleep(0.005)"
   ]
  },
  {
   "cell_type": "code",
   "execution_count": null,
   "metadata": {},
   "outputs": [],
   "source": []
  }
 ],
 "metadata": {
  "kernelspec": {
   "display_name": "Python 3",
   "language": "python",
   "name": "python3"
  },
  "language_info": {
   "codemirror_mode": {
    "name": "ipython",
    "version": 3
   },
   "file_extension": ".py",
   "mimetype": "text/x-python",
   "name": "python",
   "nbconvert_exporter": "python",
   "pygments_lexer": "ipython3",
   "version": "3.7.4"
  }
 },
 "nbformat": 4,
 "nbformat_minor": 2
}