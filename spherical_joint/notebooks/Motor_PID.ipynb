{
 "cells": [
  {
   "cell_type": "code",
   "execution_count": 1,
   "metadata": {},
   "outputs": [],
   "source": [
    "%matplotlib inline\n",
    "from pyluos import Robot\n",
    "from IPython.display import clear_output\n",
    "import time\n",
    "import matplotlib\n",
    "matplotlib.use('TkAgg')\n",
    "import matplotlib.pyplot as plt\n",
    "\n",
    "# Connect your Luos network (here using an USB module)\n",
    "r = Robot('/dev/cu.usbserial-DN05NM0L')\n",
    "r.modules\n",
    "module = r.disk_top\n",
    "\n",
    "# Update a the module data\n",
    "module.encoder_res = 5\n",
    "module.reduction = 232.0\n",
    "module.wheel_size = 60.0\n",
    "\n",
    "module.setToZero()\n",
    "\n",
    "\n",
    "def run_speed_test(velocity_target):\n",
    "    print(\"Speed test\")\n",
    "    module.rot_position = False\n",
    "    module.rot_speed = True\n",
    "    module.rot_position_mode(False)\n",
    "    module.rot_speed_mode(True)\n",
    "    module.target_rot_speed = 0.0\n",
    "    module.compliant = False\n",
    "    target = []\n",
    "    real = []\n",
    "    test_time_vector = []\n",
    "    test_start_time = time.time()\n",
    "    target.append(module.target_rot_speed)\n",
    "    real.append(module.rot_speed)\n",
    "    test_time = time.time()\n",
    "    test_time_vector.append(0.0)\n",
    "    while (test_time < test_start_time + 0.5):\n",
    "        target.append(module.target_rot_speed)\n",
    "        real.append(module.rot_speed)\n",
    "        test_time_vector.append(test_time - test_start_time)\n",
    "        test_time = time.time()\n",
    "    module.target_rot_speed = velocity_target\n",
    "    while (test_time < test_start_time + 2.5):\n",
    "        target.append(module.target_rot_speed)\n",
    "        real.append(module.rot_speed)\n",
    "        test_time_vector.append(test_time - test_start_time)\n",
    "        test_time = time.time()\n",
    "    module.compliant = True\n",
    "    plot_test(test_time_vector, target, real)\n",
    "\n",
    "def run_pos_test(pos_target):\n",
    "    print(\"Speed test\")\n",
    "    module.rot_speed = False\n",
    "    module.rot_position = True\n",
    "    module.rot_speed_mode(False)\n",
    "    module.rot_position_mode(True)\n",
    "    module.target_rot_position = 0.0\n",
    "    module.compliant = False\n",
    "    target = []\n",
    "    real = []\n",
    "    test_time_vector = []\n",
    "    test_start_time = time.time()\n",
    "    target.append(module.target_rot_position)\n",
    "    real.append(module.rot_position)\n",
    "    test_time = time.time()\n",
    "    test_time_vector.append(0.0)\n",
    "    while (test_time < test_start_time + 1):\n",
    "        target.append(module.target_rot_position)\n",
    "        real.append(module.rot_position)\n",
    "        test_time_vector.append(test_time - test_start_time)\n",
    "        test_time = time.time()\n",
    "    module.target_rot_position = pos_target\n",
    "    while (test_time < test_start_time + 2.5):\n",
    "        target.append(module.target_rot_position)\n",
    "        real.append(module.rot_position)\n",
    "        test_time_vector.append(test_time - test_start_time)\n",
    "        test_time = time.time()\n",
    "    module.compliant = True\n",
    "    plot_test(test_time_vector, target, real)\n",
    "\n",
    "def plot_test(test_time_vector, target, real):\n",
    "    fig = plt.figure()\n",
    "    ax = plt.subplot(111)\n",
    "    ax.plot(test_time_vector,target,'r')\n",
    "    ax.plot(test_time_vector,real,'b')\n",
    "    plt.show()\n",
    "    plt.close(fig)"
   ]
  },
  {
   "cell_type": "code",
   "execution_count": null,
   "metadata": {},
   "outputs": [],
   "source": [
    "# Speed settings\n",
    "module.speedPid = [0.8,0.1,1] # speed PID [P, I, D]\n",
    "\n",
    "run_speed_test(100.0)\n"
   ]
  },
  {
   "cell_type": "code",
   "execution_count": 6,
   "metadata": {},
   "outputs": [
    {
     "name": "stdout",
     "output_type": "stream",
     "text": [
      "Speed test\n"
     ]
    },
    {
     "data": {
      "image/png": "[encoded data removed]",
      "text/plain": [
       "<Figure size 432x288 with 1 Axes>"
      ]
     },
     "metadata": {
      "needs_background": "light"
     },
     "output_type": "display_data"
    }
   ],
   "source": [
    "# position settings\n",
    "module.positionPid = [9,0.02,100] # position PID [P, I, D]\n",
    "run_pos_test(90.0)"
   ]
  },
  {
   "cell_type": "code",
   "execution_count": 9,
   "metadata": {},
   "outputs": [
    {
     "data": {
      "application/vnd.jupyter.widget-view+json": {
       "model_id": "580b46c8b55545909e31c3be77837e08",
       "version_major": 2,
       "version_minor": 0
      },
      "text/plain": [
       "interactive(children=(Checkbox(value=False, description='rot_speed_report'), Checkbox(value=True, description=…"
      ]
     },
     "metadata": {},
     "output_type": "display_data"
    }
   ],
   "source": [
    "module.control()"
   ]
  },
  {
   "cell_type": "code",
   "execution_count": null,
   "metadata": {},
   "outputs": [],
   "source": []
  }
 ],
 "metadata": {
  "kernelspec": {
   "display_name": "Python 3",
   "language": "python",
   "name": "python3"
  },
  "language_info": {
   "codemirror_mode": {
    "name": "ipython",
    "version": 3
   },
   "file_extension": ".py",
   "mimetype": "text/x-python",
   "name": "python",
   "nbconvert_exporter": "python",
   "pygments_lexer": "ipython3",
   "version": "3.6.5"
  }
 },
 "nbformat": 4,
 "nbformat_minor": 2
}
