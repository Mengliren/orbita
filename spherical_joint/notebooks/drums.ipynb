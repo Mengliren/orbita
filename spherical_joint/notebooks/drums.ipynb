{
 "cells": [
  {
   "cell_type": "code",
   "execution_count": 5,
   "metadata": {},
   "outputs": [],
   "source": [
    "from pyluos import Robot\n",
    "from spherical_joint import Actuator\n",
    "import time\n",
    "import math\n",
    "import numpy as np"
   ]
  },
  {
   "cell_type": "code",
   "execution_count": 8,
   "metadata": {},
   "outputs": [
    {
     "name": "stdout",
     "output_type": "stream",
     "text": [
      "Connected to \"/dev/cu.usbserial-DN05NM15\".\n",
      "Sending detection signal.\n",
      "Waiting for route table...\n",
      "Robot setup.\n",
      "-------------------------------------------------\n",
      "Type                Alias               ID   \n",
      "-------------------------------------------------\n",
      "Gate                gate                1    \n",
      "ControlledMotor     disk_bottom         2    \n",
      "ControlledMotor     disk_middle         3    \n",
      "ControlledMotor     disk_top            4    \n",
      "\n"
     ]
    }
   ],
   "source": [
    "r = Robot('/dev/cu.usbserial-DN05NM15')\n",
    "print(r.modules)"
   ]
  },
  {
   "cell_type": "code",
   "execution_count": 9,
   "metadata": {},
   "outputs": [],
   "source": [
    "a = Actuator([0,0,93],[0,0,73],33.5)\n",
    "\n",
    "#r.gate.delay=10\n",
    "r.disk_bottom.rot_position=False\n",
    "r.disk_middle.rot_position=False\n",
    "r.disk_top.rot_position=False\n",
    "\n",
    "###########Setup############\n",
    "\n",
    "r.disk_bottom.encoder_res = 5\n",
    "r.disk_middle.encoder_res = 5\n",
    "r.disk_top.encoder_res = 5\n",
    "\n",
    "\n",
    "r.disk_bottom.setToZero()\n",
    "r.disk_middle.setToZero()\n",
    "r.disk_top.setToZero()\n",
    "\n",
    "\n",
    "r.disk_bottom.reduction = 77.35\n",
    "r.disk_middle.reduction = 77.35\n",
    "r.disk_top.reduction = 77.35\n",
    "\n",
    "\n",
    "r.disk_bottom.wheel_size = 62\n",
    "r.disk_middle.wheel_size = 62\n",
    "r.disk_top.wheel_size = 62\n",
    "\n",
    "r.disk_bottom.positionPid = [10,0.04,90.0]\n",
    "r.disk_middle.positionPid = [10,0.04,90.0]\n",
    "r.disk_top.positionPid = [10,0.04,90.0]\n",
    "\n",
    "r.disk_bottom.rot_position_mode = True\n",
    "r.disk_middle.rot_position_mode = True\n",
    "r.disk_top.rot_position_mode = True\n",
    "\n",
    "r.disk_top.rot_position = True\n",
    "r.disk_middle.rot_position = True\n",
    "r.disk_bottom.rot_position = True\n",
    "\n",
    "#If speed must be limited\n",
    "\n",
    "#r.disk_bottom.rot_speed_mode(True)\n",
    "#r.disk_middle.rot_speed_mode(True)\n",
    "#r.disk_top.rot_speed_mode(True)\n",
    "\n",
    "#r.disk_bottom.target_rot_speed = 9\n",
    "#r.disk_middle.target_rot_speed = 9\n",
    "#r.disk_top.target_rot_speed = 9"
   ]
  },
  {
   "cell_type": "code",
   "execution_count": 10,
   "metadata": {},
   "outputs": [],
   "source": [
    "r.disk_bottom.compliant = True\n",
    "r.disk_middle.compliant = True\n",
    "r.disk_top.compliant = True"
   ]
  },
  {
   "cell_type": "code",
   "execution_count": 11,
   "metadata": {},
   "outputs": [],
   "source": [
    "r.disk_bottom.compliant = False\n",
    "r.disk_middle.compliant = False\n",
    "r.disk_top.compliant = False"
   ]
  },
  {
   "cell_type": "code",
   "execution_count": null,
   "metadata": {},
   "outputs": [],
   "source": [
    "r.disk_bottom.target_rot_position = 0\n",
    "r.disk_middle.target_rot_position = 0\n",
    "r.disk_top.target_rot_position = 0"
   ]
  },
  {
   "cell_type": "code",
   "execution_count": 53,
   "metadata": {},
   "outputs": [],
   "source": [
    "for _ in range(5):\n",
    "\n",
    "    t=0\n",
    "    bpm = 120\n",
    "    while t < 0.75:\n",
    "        angle=20+12*math.sin(2*math.pi*2*bpm/60*t)\n",
    "        q11,q12,q13 = a.get_angles_from_vector([-math.sin(angle*math.pi/180),0,math.cos(angle*math.pi/180)],0)\n",
    "        r.disk_top.target_rot_position = -q11\n",
    "        r.disk_middle.target_rot_position = -q12\n",
    "        r.disk_bottom.target_rot_position = -q13\n",
    "        time.sleep(0.01)\n",
    "        t=t+0.01\n",
    "\n",
    "    \n",
    "    t=0\n",
    "    bpm = 240\n",
    "    while t < 0.75:\n",
    "        angle=20+12*math.sin(2*math.pi*2*bpm/60*t)\n",
    "        q11,q12,q13 = a.get_angles_from_vector([-math.sin(angle*math.pi/180),0,math.cos(angle*math.pi/180)],0)\n",
    "        r.disk_top.target_rot_position = -q11\n",
    "        r.disk_middle.target_rot_position = -q12\n",
    "        r.disk_bottom.target_rot_position = -q13\n",
    "        time.sleep(0.01)\n",
    "        t=t+0.01\n",
    "    time.sleep(0.25)"
   ]
  }
 ],
 "metadata": {
  "kernelspec": {
   "display_name": "Python 3",
   "language": "python",
   "name": "python3"
  },
  "language_info": {
   "codemirror_mode": {
    "name": "ipython",
    "version": 3
   },
   "file_extension": ".py",
   "mimetype": "text/x-python",
   "name": "python",
   "nbconvert_exporter": "python",
   "pygments_lexer": "ipython3",
   "version": "3.6.5"
  }
 },
 "nbformat": 4,
 "nbformat_minor": 2
}
