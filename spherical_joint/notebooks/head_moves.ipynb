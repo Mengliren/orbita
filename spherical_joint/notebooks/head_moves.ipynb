{
 "cells": [
  {
   "cell_type": "markdown",
   "metadata": {},
   "source": [
    "# HEAD MOVES\n",
    "### Useful libraries"
   ]
  },
  {
   "cell_type": "code",
   "execution_count": 1,
   "metadata": {},
   "outputs": [
    {
     "name": "stderr",
     "output_type": "stream",
     "text": [
      "/Users/augustin/.virtualenvs/spherical-joint/lib/python3.6/site-packages/quaternion/numba_wrapper.py:20: UserWarning: \n",
      "\n",
      "!!!!!!!!!!!!!!!!!!!!!!!!!!!!!!!!!!!!!!!!!!!!!!!!!!!!!\n",
      "Could not import from numba, which means that some\n",
      "parts of this code may run MUCH more slowly.  You\n",
      "may wish to install numba.\n",
      "!!!!!!!!!!!!!!!!!!!!!!!!!!!!!!!!!!!!!!!!!!!!!!!!!!!!!\n",
      "\n",
      "  warnings.warn(warning_text)\n"
     ]
    }
   ],
   "source": [
    "from pyluos import Robot\n",
    "from spherical_joint import Actuator\n",
    "import time\n",
    "import math\n",
    "import numpy as np\n",
    "import threading"
   ]
  },
  {
   "cell_type": "code",
   "execution_count": 2,
   "metadata": {},
   "outputs": [
    {
     "name": "stdout",
     "output_type": "stream",
     "text": [
      "Connected to \"/dev/cu.usbserial-DN05NM15\".\n",
      "Sending detection signal.\n",
      "Waiting for route table...\n",
      "Robot setup.\n"
     ]
    }
   ],
   "source": [
    "r = Robot('/dev/cu.usbserial-DN05NM15')"
   ]
  },
  {
   "cell_type": "markdown",
   "metadata": {},
   "source": [
    "### Parameters of the actuator"
   ]
  },
  {
   "cell_type": "code",
   "execution_count": 4,
   "metadata": {},
   "outputs": [],
   "source": [
    "a = Actuator([0,0,117.4],[0,0,84.256],51.56)\n",
    "\n",
    "#r.gate.delay=10\n",
    "r.disk_bottom.rot_position=False\n",
    "r.disk_middle.rot_position=False\n",
    "r.disk_top.rot_position=False\n",
    "\n",
    "###########Setup############\n",
    "\n",
    "r.disk_bottom.encoder_res = 5\n",
    "r.disk_middle.encoder_res = 5\n",
    "r.disk_top.encoder_res = 5\n",
    "\n",
    "\n",
    "r.disk_bottom.setToZero()\n",
    "r.disk_middle.setToZero()\n",
    "r.disk_top.setToZero()\n",
    "\n",
    "\n",
    "r.disk_bottom.reduction = 214\n",
    "r.disk_middle.reduction = 214\n",
    "r.disk_top.reduction = 214\n",
    "\n",
    "\n",
    "r.disk_bottom.wheel_size = 79\n",
    "r.disk_middle.wheel_size = 79\n",
    "r.disk_top.wheel_size = 79\n",
    "\n",
    "r.disk_bottom.positionPid = [9,0.06,80]\n",
    "r.disk_middle.positionPid = [9,0.06,110]\n",
    "r.disk_top.positionPid = [9,0.02,120]\n",
    "\n",
    "r.disk_bottom.rot_position_mode=True\n",
    "r.disk_middle.rot_position_mode=True\n",
    "r.disk_top.rot_position_mode=True\n",
    "\n",
    "r.disk_top.rot_position = True\n",
    "r.disk_middle.rot_position = True\n",
    "r.disk_bottom.rot_position = True\n",
    "\n",
    "#If speed must be limited\n",
    "\n",
    "#r.disk_bottom.rot_speed_mode(True)\n",
    "#r.disk_middle.rot_speed_mode(True)\n",
    "#r.disk_top.rot_speed_mode(True)\n",
    "\n",
    "#r.disk_bottom.target_rot_speed = 9\n",
    "#r.disk_middle.target_rot_speed = 9\n",
    "#r.disk_top.target_rot_speed = 9"
   ]
  },
  {
   "cell_type": "markdown",
   "metadata": {},
   "source": [
    "### Compliant Mode"
   ]
  },
  {
   "cell_type": "code",
   "execution_count": null,
   "metadata": {},
   "outputs": [],
   "source": [
    "r.disk_bottom.compliant = True\n",
    "r.disk_middle.compliant = True\n",
    "r.disk_top.compliant = True"
   ]
  },
  {
   "cell_type": "code",
   "execution_count": 3,
   "metadata": {},
   "outputs": [],
   "source": [
    "r.disk_bottom.compliant = False\n",
    "r.disk_middle.compliant = False\n",
    "r.disk_top.compliant = False"
   ]
  },
  {
   "cell_type": "markdown",
   "metadata": {},
   "source": [
    "### Initial position"
   ]
  },
  {
   "cell_type": "code",
   "execution_count": 44,
   "metadata": {},
   "outputs": [],
   "source": [
    "r.disk_bottom.target_rot_position = 0\n",
    "r.disk_middle.target_rot_position = 0\n",
    "r.disk_top.target_rot_position = 0"
   ]
  },
  {
   "cell_type": "code",
   "execution_count": 10,
   "metadata": {},
   "outputs": [],
   "source": [
    "q11,q12,q13 = a.get_angles_from_vector([0,0,1],0)\n",
    "r.disk_top.target_rot_position = q11\n",
    "r.disk_middle.target_rot_position = q12\n",
    "r.disk_bottom.target_rot_position = q13"
   ]
  },
  {
   "cell_type": "markdown",
   "metadata": {},
   "source": [
    "## Demo 1 : Yes/No"
   ]
  },
  {
   "cell_type": "markdown",
   "metadata": {},
   "source": [
    "2) Yes\n"
   ]
  },
  {
   "cell_type": "code",
   "execution_count": 13,
   "metadata": {},
   "outputs": [],
   "source": [
    "t=0\n",
    "while t < 2.5:\n",
    "    X=0.3*math.sin(10*t)\n",
    "    q11,q12,q13 = a.get_angles_from_vector([0.2+X,0,1],0)\n",
    "    r.disk_top.target_rot_position = q11\n",
    "    r.disk_middle.target_rot_position = q12\n",
    "    r.disk_bottom.target_rot_position = q13\n",
    "    time.sleep(0.01)\n",
    "    t=t+0.01"
   ]
  },
  {
   "cell_type": "markdown",
   "metadata": {},
   "source": [
    "1) No"
   ]
  },
  {
   "cell_type": "code",
   "execution_count": 8,
   "metadata": {},
   "outputs": [],
   "source": [
    "t=0\n",
    "while t < 2.5:\n",
    "    angle=10*math.sin(5*t)\n",
    "    q11,q12,q13 = a.get_angles_from_vector([0.3,0,1],angle)\n",
    "    r.disk_top.target_rot_position = q11\n",
    "    r.disk_middle.target_rot_position = q12\n",
    "    r.disk_bottom.target_rot_position = q13\n",
    "    time.sleep(0.01)\n",
    "    t=t+0.01"
   ]
  },
  {
   "cell_type": "markdown",
   "metadata": {},
   "source": [
    "both"
   ]
  },
  {
   "cell_type": "code",
   "execution_count": 15,
   "metadata": {},
   "outputs": [],
   "source": [
    "t=0\n",
    "while t < 2.5:\n",
    "    angle1=0.5*math.sin(20*t)\n",
    "    angle2=0.5*math.sin(10*t)\n",
    "    q11,q12,q13 = a.get_angles_from_vector([0.2+angle1,angle2,1],0)\n",
    "    r.disk_top.target_rot_position = q11\n",
    "    r.disk_middle.target_rot_position = q12\n",
    "    r.disk_bottom.target_rot_position = q13\n",
    "    time.sleep(0.01)\n",
    "    t=t+0.01"
   ]
  },
  {
   "cell_type": "markdown",
   "metadata": {},
   "source": [
    "## Demo 2 : Rotation of the platform / Exorcist"
   ]
  },
  {
   "cell_type": "code",
   "execution_count": 8,
   "metadata": {},
   "outputs": [],
   "source": [
    "q11,q12,q13 = a.get_angles_from_vector([0.8,0,1],0)\n",
    "r.disk_top.target_rot_position = q11\n",
    "r.disk_middle.target_rot_position = q12\n",
    "r.disk_bottom.target_rot_position = q13\n",
    "\n",
    "time.sleep(1)\n",
    "angle = 0\n",
    "for i in range(360):\n",
    "    angle=i\n",
    "    time.sleep(0.01)\n",
    "    q11,q12,q13 = a.get_angles_from_vector([0.8,0,1],angle)\n",
    "    \n",
    "    r.disk_top.target_rot_position = q11\n",
    "    r.disk_middle.target_rot_position = q12\n",
    "    r.disk_bottom.target_rot_position = q13\n",
    "\n",
    "time.sleep(1)\n",
    "q11,q12,q13 = a.get_angles_from_vector([0,0,1],0)\n",
    "r.disk_bottom.target_rot_position = q11\n",
    "r.disk_middle.target_rot_position = q12\n",
    "r.disk_top.target_rot_position = q13"
   ]
  },
  {
   "cell_type": "markdown",
   "metadata": {},
   "source": [
    "## Demo 3 : Circle"
   ]
  },
  {
   "cell_type": "code",
   "execution_count": 7,
   "metadata": {},
   "outputs": [],
   "source": [
    "Rtest = 4\n",
    "centerTest = 10\n",
    "angle=0\n",
    "t=0\n",
    "a.reset_last_angles()\n",
    "a.reset_offset()\n",
    "\n",
    "while t<5*2*math.pi: #TEST CIRCLE PARAMETRIC EQUATION:\n",
    "    locus = np.array([Rtest*math.cos(t),Rtest*math.sin(t),centerTest])\n",
    "    t=t+math.pi/50\n",
    "    angle = angle\n",
    "    \n",
    "    q11,q12,q13 = a.get_angles_from_vector(locus,angle)\n",
    "    \n",
    "    r.disk_top.target_rot_position = q11\n",
    "    r.disk_middle.target_rot_position = q12\n",
    "    r.disk_bottom.target_rot_position = q13\n",
    "\n",
    "    \n",
    "    time.sleep(0.01)"
   ]
  },
  {
   "cell_type": "markdown",
   "metadata": {},
   "source": [
    "## Demo 4 : Circle and rotation"
   ]
  },
  {
   "cell_type": "code",
   "execution_count": 9,
   "metadata": {},
   "outputs": [],
   "source": [
    "Rtest = 4\n",
    "centerTest = 10\n",
    "angle=0\n",
    "t=0\n",
    "\n",
    "a.reset_last_angles()\n",
    "a.reset_offset()\n",
    "\n",
    "while t<2*2*math.pi:\n",
    "    locus = np.array([Rtest*math.cos(t),Rtest*math.sin(t),centerTest])\n",
    "    t=t+math.pi/1000\n",
    "    angle = angle+1\n",
    "    \n",
    "    q11,q12,q13 = a.get_angles_from_vector(locus,angle)\n",
    "    \n",
    "    r.disk_top.target_rot_position = q11\n",
    "    r.disk_middle.target_rot_position = q12\n",
    "    r.disk_bottom.target_rot_position = q13\n",
    "\n",
    "\n",
    "    time.sleep(0.01)"
   ]
  },
  {
   "cell_type": "markdown",
   "metadata": {},
   "source": [
    "## Demo 5 : Record and play moves\n",
    "1) Record and play a pose"
   ]
  },
  {
   "cell_type": "code",
   "execution_count": 7,
   "metadata": {},
   "outputs": [],
   "source": [
    "pose = [r.disk_top.rot_position,r.disk_middle.rot_position,r.disk_bottom.rot_position]"
   ]
  },
  {
   "cell_type": "code",
   "execution_count": 13,
   "metadata": {},
   "outputs": [],
   "source": [
    "r.disk_top.target_rot_position = pose[0]\n",
    "r.disk_middle.target_rot_position = pose[1]\n",
    "r.disk_bottom.target_rot_position = pose[2]"
   ]
  },
  {
   "cell_type": "markdown",
   "metadata": {},
   "source": [
    "2) Record a move"
   ]
  },
  {
   "cell_type": "code",
   "execution_count": 18,
   "metadata": {},
   "outputs": [
    {
     "name": "stdout",
     "output_type": "stream",
     "text": [
      "\n"
     ]
    }
   ],
   "source": [
    "r.disk_bottom.compliant = True\n",
    "r.disk_middle.compliant = True\n",
    "r.disk_top.compliant = True\n",
    "\n",
    "Input = []\n",
    "T = []\n",
    "t=0\n",
    "top = []\n",
    "middle = []\n",
    "bottom = []\n",
    "\n",
    "def Listener():\n",
    "    global Input\n",
    "    Input = input()\n",
    "    \n",
    "listener = threading.Thread(target=Listener)\n",
    "listener.start()\n",
    "move = []\n",
    "\n",
    "while True:\n",
    "    if type(Input) == type(\"\"):\n",
    "        break\n",
    "    else :\n",
    "        move.append([r.disk_top.rot_position,r.disk_middle.rot_position,r.disk_bottom.rot_position])\n",
    "        t=t+0.005\n",
    "        T.append(t)\n",
    "        top.append(move[-1][0])\n",
    "        middle.append(move[-1][1])\n",
    "        bottom.append(move[-1][2])\n",
    "    time.sleep(0.005)"
   ]
  },
  {
   "cell_type": "markdown",
   "metadata": {},
   "source": [
    "3) Play a move"
   ]
  },
  {
   "cell_type": "code",
   "execution_count": 6,
   "metadata": {},
   "outputs": [
    {
     "data": {
      "text/plain": [
       "[<matplotlib.lines.Line2D at 0x118ea7f28>]"
      ]
     },
     "execution_count": 6,
     "metadata": {},
     "output_type": "execute_result"
    },
    {
     "data": {
      "image/png": "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
      "text/plain": [
       "<Figure size 432x288 with 1 Axes>"
      ]
     },
     "metadata": {
      "needs_background": "light"
     },
     "output_type": "display_data"
    },
    {
     "name": "stderr",
     "output_type": "stream",
     "text": [
      "Exception in thread Thread-4:\n",
      "Traceback (most recent call last):\n",
      "  File \"/usr/local/Cellar/python/3.6.5_1/Frameworks/Python.framework/Versions/3.6/lib/python3.6/threading.py\", line 916, in _bootstrap_inner\n",
      "    self.run()\n",
      "  File \"/usr/local/Cellar/python/3.6.5_1/Frameworks/Python.framework/Versions/3.6/lib/python3.6/threading.py\", line 864, in run\n",
      "    self._target(*self._args, **self._kwargs)\n",
      "  File \"/Users/augustin/Downloads/pyluos/pyluos/io/serial_io.py\", line 83, in _poll\n",
      "    to_read = self._serial.in_waiting\n",
      "  File \"/Users/augustin/.virtualenvs/spherical-joint/lib/python3.6/site-packages/serial/serialposix.py\", line 467, in in_waiting\n",
      "    s = fcntl.ioctl(self.fd, TIOCINQ, TIOCM_zero_str)\n",
      "OSError: [Errno 6] Device not configured\n",
      "\n"
     ]
    }
   ],
   "source": [
    "from matplotlib import pyplot as plt\n",
    "plt.plot(T,top, label = 'top')\n",
    "plt.plot(T,middle, label='middle')\n",
    "plt.plot(T,bottom, label = 'bottom')"
   ]
  },
  {
   "cell_type": "code",
   "execution_count": 4,
   "metadata": {},
   "outputs": [],
   "source": [
    "r.disk_bottom.compliant = False\n",
    "r.disk_middle.compliant = False\n",
    "r.disk_top.compliant = False\n",
    "\n",
    "for i in range(len(move)):\n",
    "    r.disk_top.target_rot_position = move[i][0]\n",
    "    r.disk_middle.target_rot_position = move[i][1]\n",
    "    r.disk_bottom.target_rot_position = move[i][2]\n",
    "    time.sleep(0.005)"
   ]
  },
  {
   "cell_type": "code",
   "execution_count": null,
   "metadata": {},
   "outputs": [],
   "source": []
  }
 ],
 "metadata": {
  "kernelspec": {
   "display_name": "Python 3",
   "language": "python",
   "name": "python3"
  },
  "language_info": {
   "codemirror_mode": {
    "name": "ipython",
    "version": 3
   },
   "file_extension": ".py",
   "mimetype": "text/x-python",
   "name": "python",
   "nbconvert_exporter": "python",
   "pygments_lexer": "ipython3",
   "version": "3.6.5"
  }
 },
 "nbformat": 4,
 "nbformat_minor": 2
}
