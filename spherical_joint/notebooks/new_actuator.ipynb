{
 "cells": [
  {
   "cell_type": "code",
   "execution_count": 1,
   "metadata": {},
   "outputs": [],
   "source": [
    "from pyluos import Robot\n",
    "from spherical_joint import Actuator\n",
    "import time\n",
    "import math\n",
    "import numpy as np\n",
    "import threading"
   ]
  },
  {
   "cell_type": "code",
   "execution_count": 2,
   "metadata": {},
   "outputs": [
    {
     "name": "stdout",
     "output_type": "stream",
     "text": [
      "Connected to \"/dev/cu.usbserial-DN05NM15\".\n",
      "Sending detection signal.\n",
      "Waiting for route table...\n",
      "Robot setup.\n",
      "-------------------------------------------------\n",
      "Type                Alias               ID   \n",
      "-------------------------------------------------\n",
      "Gate                r_head              1    \n",
      "ControlledMotor     disk_top            2    \n",
      "ControlledMotor     disk_middle         3    \n",
      "ControlledMotor     disk_bottom         4    \n",
      "\n"
     ]
    }
   ],
   "source": [
    "r = Robot('/dev/cu.usbserial-DN05NM15')\n",
    "print(r.modules)"
   ]
  },
  {
   "cell_type": "markdown",
   "metadata": {},
   "source": [
    "### Parameters of the actuator"
   ]
  },
  {
   "cell_type": "code",
   "execution_count": 3,
   "metadata": {},
   "outputs": [],
   "source": [
    "R0 = [[math.cos(60*math.pi/180),-math.sin(60*math.pi/180),0],[math.sin(60*math.pi/180),math.cos(60*math.pi/180),0],[0,0,1]]\n",
    "a = Actuator([0,0,93],[0,0,73],33.5,R0)\n",
    "\n",
    "#r.gate.delay=10\n",
    "r.disk_bottom.rot_position=False\n",
    "r.disk_middle.rot_position=False\n",
    "r.disk_top.rot_position=False\n",
    "\n",
    "###########Setup############\n",
    "\n",
    "r.disk_bottom.encoder_res = 3\n",
    "r.disk_middle.encoder_res = 3\n",
    "r.disk_top.encoder_res = 3\n",
    "\n",
    "\n",
    "r.disk_bottom.setToZero()\n",
    "r.disk_middle.setToZero()\n",
    "r.disk_top.setToZero()\n",
    "\n",
    "\n",
    "r.disk_bottom.reduction = 77.35\n",
    "r.disk_middle.reduction = 77.35\n",
    "r.disk_top.reduction = 77.35\n",
    "\n",
    "r.disk_bottom.limit_current = 0.4\n",
    "r.disk_middle.limit_current = 0.4\n",
    "r.disk_top.limit_current = 0.4\n",
    "\n",
    "r.disk_bottom.wheel_size = 62\n",
    "r.disk_middle.wheel_size = 62\n",
    "r.disk_top.wheel_size = 62\n",
    "\n",
    "r.disk_bottom.positionPid = [10,0.04,90.0]\n",
    "r.disk_middle.positionPid = [10,0.04,90.0]\n",
    "r.disk_top.positionPid = [10,0.04,90.0]\n",
    "\n",
    "r.disk_middle.speedPid = [0,0.25,0.5]\n",
    "r.disk_top.speedPid = [0,0.25,0.5]\n",
    "r.disk_bottom.speedPid = [0,0.25,0.5]\n",
    "\n",
    "r.disk_bottom.rot_position_mode = True\n",
    "r.disk_middle.rot_position_mode = True\n",
    "r.disk_top.rot_position_mode = True\n",
    "\n",
    "r.disk_top.rot_position = True\n",
    "r.disk_middle.rot_position = True\n",
    "r.disk_bottom.rot_position = True\n",
    "\n",
    "r.disk_top.rot_speed = True\n",
    "r.disk_middle.rot_speed = True\n",
    "r.disk_bottom.rot_speed = True\n"
   ]
  },
  {
   "cell_type": "code",
   "execution_count": 4,
   "metadata": {},
   "outputs": [],
   "source": [
    "#If speed must be limited\n",
    "\n",
    "r.disk_bottom.rot_speed_mode = True\n",
    "r.disk_middle.rot_speed_mode = True\n",
    "r.disk_top.rot_speed_mode = True\n",
    "time.sleep(1)\n",
    "r.disk_bottom.target_rot_speed = 50\n",
    "r.disk_middle.target_rot_speed = 50\n",
    "r.disk_top.target_rot_speed = 50"
   ]
  },
  {
   "cell_type": "markdown",
   "metadata": {},
   "source": [
    "#### Def Minjerk"
   ]
  },
  {
   "cell_type": "code",
   "execution_count": 5,
   "metadata": {},
   "outputs": [],
   "source": [
    "def minjerk(initial_position, goal_position, duration):\n",
    "    initial_velocity=0\n",
    "    final_velocity=0\n",
    "    initial_acceleration=0\n",
    "    final_acceleration=0\n",
    "    \n",
    "    a0 = initial_position\n",
    "    a1 = initial_velocity\n",
    "    a2 = initial_acceleration / 2\n",
    "\n",
    "    d1, d2, d3, d4, d5 = [duration ** i for i in range(1, 6)]\n",
    "\n",
    "    A = np.array((\n",
    "        (d3, d4, d5),\n",
    "        (3 * d2, 4 * d3, 5 * d4),\n",
    "        (6 * d1, 12 * d2, 20 * d3)\n",
    "    ))\n",
    "    B = np.array((\n",
    "        goal_position - a0 - (a1 * d1) - (a2 * d2),\n",
    "        final_velocity - a1 - (2 * a2 * d1),\n",
    "        final_acceleration - (2 * a2)\n",
    "    ))\n",
    "    X = np.linalg.solve(A, B)\n",
    "\n",
    "    coeffs = [\n",
    "            a0,\n",
    "            a1,\n",
    "            a2,\n",
    "            X[0],\n",
    "            X[1],\n",
    "            X[2]\n",
    "    ]\n",
    "\n",
    "    return lambda t: np.sum([\n",
    "        c * t ** i\n",
    "        for i, c in enumerate(coeffs)\n",
    "    ], axis=0)"
   ]
  },
  {
   "cell_type": "markdown",
   "metadata": {},
   "source": [
    "### Compliant Mode"
   ]
  },
  {
   "cell_type": "code",
   "execution_count": 9,
   "metadata": {},
   "outputs": [],
   "source": [
    "r.disk_bottom.compliant = True\n",
    "r.disk_middle.compliant = True\n",
    "r.disk_top.compliant = True"
   ]
  },
  {
   "cell_type": "code",
   "execution_count": 6,
   "metadata": {},
   "outputs": [],
   "source": [
    "r.disk_bottom.compliant = False\n",
    "r.disk_middle.compliant = False\n",
    "r.disk_top.compliant = False"
   ]
  },
  {
   "cell_type": "markdown",
   "metadata": {},
   "source": [
    "### Finds zero with a stop screw"
   ]
  },
  {
   "cell_type": "code",
   "execution_count": 14,
   "metadata": {},
   "outputs": [],
   "source": [
    "def zero3(): ###Pratique sans la tête\n",
    "    r.disk_bottom.power_mode = True\n",
    "    r.disk_middle.power_mode = True\n",
    "    r.disk_top.power_mode = True\n",
    "\n",
    "    r.disk_bottom.power_ratio = 0\n",
    "    r.disk_middle.power_ratio = 0\n",
    "    r.disk_top.power_ratio = 0\n",
    "\n",
    "        #Bottom disk zero\n",
    "\n",
    "    r.disk_bottom.compliant = False\n",
    "    r.disk_middle.compliant = False\n",
    "    r.disk_top.compliant = False\n",
    "\n",
    "    r.disk_bottom.power_ratio = -40\n",
    "    r.disk_middle.power_ratio = -40\n",
    "    r.disk_top.power_ratio = -40\n",
    "\n",
    "    \n",
    "    time.sleep(1)\n",
    "\n",
    "    r.disk_bottom.power_ratio = 0\n",
    "    r.disk_middle.power_ratio = 0\n",
    "    r.disk_top.power_ratio = 0\n",
    "    \n",
    "    r.disk_bottom.setToZero()\n",
    "    r.disk_middle.setToZero()\n",
    "    r.disk_top.setToZero()\n",
    "    \n",
    "    time.sleep(0.1)\n",
    "    r.disk_bottom.rot_position_mode = True\n",
    "    r.disk_middle.rot_position_mode = True\n",
    "    r.disk_top.rot_position_mode = True\n",
    "\n",
    "    r.disk_bottom.target_rot_position = 125\n",
    "    r.disk_middle.target_rot_position = 45+125\n",
    "    r.disk_top.target_rot_position = 90+125\n",
    "\n",
    "    time.sleep(0.5)\n",
    "    \n",
    "    r.disk_bottom.setToZero()\n",
    "    r.disk_middle.setToZero()\n",
    "    r.disk_top.setToZero()\n",
    "    \n",
    "    time.sleep(0.1)\n",
    "    \n",
    "    q11,q12,q13 = a.get_angles_from_vector([0,0,1],0)\n",
    "    r.disk_top.target_rot_position = -q11\n",
    "    r.disk_middle.target_rot_position = -q12\n",
    "    r.disk_bottom.target_rot_position = -q13"
   ]
  },
  {
   "cell_type": "markdown",
   "metadata": {},
   "source": [
    "### Finds zeros with stops in the gears"
   ]
  },
  {
   "cell_type": "code",
   "execution_count": 11,
   "metadata": {},
   "outputs": [],
   "source": [
    "r.disk_bottom.rot_speed_mode = True\n",
    "r.disk_middle.rot_speed_mode = True\n",
    "r.disk_top.rot_speed_mode = True\n",
    "time.sleep(0.5)\n",
    "r.disk_bottom.target_rot_speed = 60\n",
    "r.disk_middle.target_rot_speed = 60\n",
    "r.disk_top.target_rot_speed = 60\n",
    "\n",
    "dur = 2\n",
    "r.disk_bottom.sampling_freq = 100\n",
    "r.disk_middle.sampling_freq = 100\n",
    "r.disk_top.sampling_freq = 100\n",
    "\n",
    "fq1 = minjerk(0, -360, dur)\n",
    "fq2 = minjerk(0, -360, dur)\n",
    "fq3 = minjerk(0, -360, dur)\n",
    "\n",
    "Q1 = []\n",
    "Q2 = []\n",
    "Q3 = []\n",
    "\n",
    "t0 = time.time()\n",
    "while time.time() - t0 < dur:\n",
    "    t = time.time() - t0\n",
    "    Q1.append(fq1(t))\n",
    "    Q2.append(fq2(t))\n",
    "    Q3.append(fq3(t))\n",
    "    \n",
    "    time.sleep(0.01)\n",
    "    \n",
    "r.disk_top.play()\n",
    "r.disk_middle.play()\n",
    "r.disk_bottom.play()\n",
    "    \n",
    "r.disk_top.target_rot_position = Q1\n",
    "r.disk_middle.target_rot_position = Q2\n",
    "r.disk_bottom.target_rot_position = Q3\n",
    "\n",
    "time.sleep(0.2)\n",
    "\n",
    "while (r.disk_bottom.rot_speed < 0 or r.disk_middle.rot_speed < 0 or r.disk_top.rot_speed < 0):\n",
    "    time.sleep(0.01)\n",
    "\n",
    "r.disk_bottom.stop()\n",
    "r.disk_middle.stop()\n",
    "r.disk_top.stop()\n",
    "    \n",
    "r.disk_bottom.setToZero()\n",
    "r.disk_middle.setToZero()\n",
    "r.disk_top.setToZero()\n",
    "\n",
    "time.sleep(0.2)\n",
    "\n",
    "r.disk_bottom.target_rot_position = 110\n",
    "r.disk_middle.target_rot_position = 110\n",
    "r.disk_top.target_rot_position = 110\n",
    "\n",
    "time.sleep(3)\n",
    "\n",
    "r.disk_bottom.setToZero()\n",
    "r.disk_middle.setToZero()\n",
    "r.disk_top.setToZero()\n",
    "time.sleep(0.2)\n",
    "\n",
    "q11,q12,q13 = a.get_angles_from_vector([0,0,1],0)\n",
    "r.disk_top.target_rot_position = -q11\n",
    "r.disk_middle.target_rot_position = -q12\n",
    "r.disk_bottom.target_rot_position = -q13"
   ]
  },
  {
   "cell_type": "markdown",
   "metadata": {},
   "source": [
    "### Zeros with buttons"
   ]
  },
  {
   "cell_type": "code",
   "execution_count": null,
   "metadata": {},
   "outputs": [],
   "source": [
    "angle = 0\n",
    "\n",
    "value_top = 0\n",
    "value_middle = 0\n",
    "value_bottom = 0\n",
    "\n",
    "bottom_zero_set = False\n",
    "middle_zero_set = False\n",
    "top_zero_set = False\n",
    "\n",
    "while (bottom_zero_set == False or middle_zero_set == False or top_zero_set == False):\n",
    "\n",
    "    if top_zero_set == False:\n",
    "        r.disk_top.target_rot_position = -angle\n",
    "    if middle_zero_set == False:\n",
    "        r.disk_middle.target_rot_position = -angle\n",
    "    if bottom_zero_set == False:\n",
    "        r.disk_bottom.target_rot_position = -angle\n",
    "    \n",
    "    value_top = r.analog_read_P9.volt\n",
    "    value_middle = r.analog_read_P8.volt\n",
    "    value_bottom = r.analog_read_P7.volt\n",
    "        \n",
    "    if (value_top > 3 and top_zero_set == False):\n",
    "        r.disk_top.setToZero()\n",
    "        top_zero_set = True\n",
    "        r.disk_top.target_rot_position = 0\n",
    "        print(\"top ok\")\n",
    "\n",
    "    if (value_middle > 3 and middle_zero_set == False):\n",
    "        r.disk_middle.setToZero()\n",
    "        middle_zero_set = True\n",
    "        r.disk_middle.target_rot_position = 0\n",
    "        print(\"middle ok\")\n",
    "\n",
    "    if (value_bottom > 3 and bottom_zero_set == False):\n",
    "        r.disk_bottom.setToZero()\n",
    "        bottom_zero_set = True\n",
    "        r.disk_bottom.target_rot_position = 0\n",
    "        print(\"bottom ok\")\n",
    "    \n",
    " \n",
    "\n",
    "    time.sleep(0.005)\n",
    "    angle+=0.5\n",
    "\n",
    "time.sleep(1)\n",
    "\n",
    "r.disk_top.target_rot_position = 0\n",
    "r.disk_middle.target_rot_position = 0\n",
    "r.disk_bottom.target_rot_position = 0"
   ]
  },
  {
   "cell_type": "markdown",
   "metadata": {},
   "source": [
    "______________"
   ]
  },
  {
   "cell_type": "code",
   "execution_count": 6,
   "metadata": {},
   "outputs": [],
   "source": [
    "angle = 0\n",
    "\n",
    "value_top = 0\n",
    "value_middle = 0\n",
    "value_bottom = 0\n",
    "\n",
    "bottom_zero_set = False\n",
    "middle_zero_set = False\n",
    "top_zero_set = False\n",
    "\n",
    "r.disk_bottom.target_rot_position = -100\n",
    "#r.disk_middle.target_rot_position = -100\n",
    "#r.disk_top.target_rot_position = -100"
   ]
  },
  {
   "cell_type": "code",
   "execution_count": null,
   "metadata": {},
   "outputs": [],
   "source": [
    "while (bottom_zero_set == False or middle_zero_set == False or top_zero_set == False):\n",
    "\n",
    "    #if top_zero_set == False:\n",
    "    #    r.disk_top.target_rot_position = -angle\n",
    "    #if middle_zero_set == False:\n",
    "    #    r.disk_middle.target_rot_position = -angle\n",
    "    #if bottom_zero_set == False:\n",
    "    #    r.disk_bottom.target_rot_position = -angle\n",
    "    #\n",
    "    value_top = r.analog_read_P9.volt\n",
    "    value_middle = r.analog_read_P8.volt\n",
    "    value_bottom = r.analog_read_P7.volt\n",
    "        \n",
    "    if (value_top > 3 and top_zero_set == False):\n",
    "        r.disk_top.setToZero()\n",
    "        top_zero_set = True\n",
    "        r.disk_top.target_rot_position = 0\n",
    "        print(\"top ok\")\n",
    "\n",
    "    if (value_middle > 3 and middle_zero_set == False):\n",
    "        r.disk_middle.setToZero()\n",
    "        middle_zero_set = True\n",
    "        r.disk_middle.target_rot_position = 0\n",
    "        print(\"middle ok\")\n",
    "\n",
    "    if (value_bottom > 3 and bottom_zero_set == False):\n",
    "        r.disk_bottom.setToZero()\n",
    "        bottom_zero_set = True\n",
    "        r.disk_bottom.target_rot_position = 0\n",
    "        print(\"bottom ok\")\n",
    "    \n",
    " \n",
    "\n",
    "    time.sleep(0.005)\n",
    "    #angle+=0.5\n",
    "\n",
    "time.sleep(1)\n",
    "\n",
    "r.disk_top.target_rot_position = 0\n",
    "r.disk_middle.target_rot_position = 0\n",
    "r.disk_bottom.target_rot_position = 0"
   ]
  },
  {
   "cell_type": "code",
   "execution_count": 6,
   "metadata": {},
   "outputs": [],
   "source": [
    "r.disk_top.target_rot_position = -90\n",
    "r.disk_middle.target_rot_position = -90\n",
    "r.disk_bottom.target_rot_position = -90\n",
    "time.sleep(0.5)\n",
    "r.disk_bottom.setToZero()\n",
    "r.disk_middle.setToZero()\n",
    "r.disk_top.setToZero()"
   ]
  },
  {
   "cell_type": "code",
   "execution_count": 4,
   "metadata": {},
   "outputs": [
    {
     "name": "stdout",
     "output_type": "stream",
     "text": [
      "3.26\n"
     ]
    }
   ],
   "source": [
    "while r.analog_read_P9.volt < 3:\n",
    "    time.sleep(0.01)\n",
    "print(r.analog_read_P9.volt)"
   ]
  },
  {
   "cell_type": "code",
   "execution_count": 8,
   "metadata": {},
   "outputs": [
    {
     "data": {
      "text/plain": [
       "1040.837247181289"
      ]
     },
     "execution_count": 8,
     "metadata": {},
     "output_type": "execute_result"
    }
   ],
   "source": [
    "r.analog_read_P8.refresh_freq"
   ]
  },
  {
   "cell_type": "code",
   "execution_count": 4,
   "metadata": {},
   "outputs": [
    {
     "data": {
      "text/plain": [
       "3.25"
      ]
     },
     "execution_count": 4,
     "metadata": {},
     "output_type": "execute_result"
    }
   ],
   "source": [
    "r.analog_read_P7.volt"
   ]
  },
  {
   "cell_type": "code",
   "execution_count": 18,
   "metadata": {},
   "outputs": [
    {
     "data": {
      "text/plain": [
       "3.25"
      ]
     },
     "execution_count": 18,
     "metadata": {},
     "output_type": "execute_result"
    }
   ],
   "source": [
    "r.analog_read_P8.volt"
   ]
  },
  {
   "cell_type": "code",
   "execution_count": 6,
   "metadata": {},
   "outputs": [
    {
     "name": "stdout",
     "output_type": "stream",
     "text": [
      "ok\n"
     ]
    }
   ],
   "source": [
    "while r.analog_read_P9.volt < 3:\n",
    "    time.sleep(0.01)\n",
    "print(\"ok\")"
   ]
  },
  {
   "cell_type": "markdown",
   "metadata": {},
   "source": [
    "### Initial position"
   ]
  },
  {
   "cell_type": "code",
   "execution_count": 21,
   "metadata": {},
   "outputs": [],
   "source": [
    "r.disk_bottom.target_rot_position = 0\n",
    "r.disk_middle.target_rot_position = 0\n",
    "r.disk_top.target_rot_position = 0"
   ]
  },
  {
   "cell_type": "code",
   "execution_count": 9,
   "metadata": {},
   "outputs": [
    {
     "name": "stdout",
     "output_type": "stream",
     "text": [
      "-59.99999999999999 -60.00000000000001 -59.99999999999997\n"
     ]
    },
    {
     "name": "stderr",
     "output_type": "stream",
     "text": [
      "/Users/augustin/dev/spherical-joint/spherical_joint/spherical_joint/spherical_joint.py:86: RuntimeWarning: invalid value encountered in double_scalars\n",
      "  vector_norm.append(i/LA.norm(vec))\n"
     ]
    }
   ],
   "source": [
    "q11,q12,q13 = a.get_angles_from_vector([0,0,1],0)\n",
    "r.disk_top.target_rot_position = -q11\n",
    "r.disk_middle.target_rot_position = -q12\n",
    "r.disk_bottom.target_rot_position = -q13"
   ]
  },
  {
   "cell_type": "code",
   "execution_count": 19,
   "metadata": {},
   "outputs": [
    {
     "name": "stdout",
     "output_type": "stream",
     "text": [
      "0.0 0.0 0.23\n"
     ]
    }
   ],
   "source": [
    "print(r.disk_top.rot_position, r.disk_middle.rot_position, r.disk_bottom.rot_position)"
   ]
  },
  {
   "cell_type": "markdown",
   "metadata": {},
   "source": [
    "## Demo 0"
   ]
  },
  {
   "cell_type": "markdown",
   "metadata": {},
   "source": [
    "#### 4 points of view"
   ]
  },
  {
   "cell_type": "code",
   "execution_count": 12,
   "metadata": {},
   "outputs": [],
   "source": [
    "dur = 2\n",
    "\n",
    "q1, q2, q3 = a.get_angles_from_vector([0,0,1],0)\n",
    "\n",
    "q11, q12, q13 = a.get_angles_from_vector([-0.3, 0.3, 1], -45)\n",
    "\n",
    "fq1 = minjerk(-q1, -q11, dur)\n",
    "fq2 = minjerk(-q2, -q12, dur)\n",
    "fq3 = minjerk(-q3, -q13, dur)\n",
    "\n",
    "t0 = time.time()\n",
    "while time.time() - t0 < dur:\n",
    "    t = time.time() - t0\n",
    "    r.disk_top.target_rot_position = fq1(t)\n",
    "    r.disk_middle.target_rot_position = fq2(t)\n",
    "    r.disk_bottom.target_rot_position = fq3(t)\n",
    "    \n",
    "    time.sleep(0.01)\n",
    "q1, q2, q3 = q11, q12, q13\n",
    "#time.sleep(2)\n",
    "################\n",
    "\n",
    "q11, q12, q13 = a.get_angles_from_vector([-0.3, -0.3, 1], 45)\n",
    "\n",
    "fq1 = minjerk(-q1, -q11, dur)\n",
    "fq2 = minjerk(-q2, -q12, dur)\n",
    "fq3 = minjerk(-q3, -q13, dur)\n",
    "\n",
    "t0 = time.time()\n",
    "while time.time() - t0 < dur:\n",
    "    t = time.time() - t0\n",
    "    r.disk_top.target_rot_position = fq1(t)\n",
    "    r.disk_middle.target_rot_position = fq2(t)\n",
    "    r.disk_bottom.target_rot_position = fq3(t)\n",
    "    \n",
    "    time.sleep(0.01)\n",
    "q1, q2, q3 = q11, q12, q13\n",
    "    \n",
    "#time.sleep(2)\n",
    "################\n",
    "\n",
    "q11, q12, q13 = a.get_angles_from_vector([0.1, 0.1, 1], 45)\n",
    "\n",
    "fq1 = minjerk(-q1, -q11, dur)\n",
    "fq2 = minjerk(-q2, -q12, dur)\n",
    "fq3 = minjerk(-q3, -q13, dur)\n",
    "\n",
    "t0 = time.time()\n",
    "while time.time() - t0 < dur:\n",
    "    t = time.time() - t0\n",
    "    r.disk_top.target_rot_position = fq1(t)\n",
    "    r.disk_middle.target_rot_position = fq2(t)\n",
    "    r.disk_bottom.target_rot_position = fq3(t)\n",
    "    \n",
    "    time.sleep(0.01)\n",
    "q1, q2, q3 = q11, q12, q13\n",
    "    \n",
    "#time.sleep(2)\n",
    "################\n",
    "\n",
    "q11, q12, q13 = a.get_angles_from_vector([0.1, -0.1, 1], -45)\n",
    "\n",
    "fq1 = minjerk(-q1, -q11, dur)\n",
    "fq2 = minjerk(-q2, -q12, dur)\n",
    "fq3 = minjerk(-q3, -q13, dur)\n",
    "\n",
    "t0 = time.time()\n",
    "while time.time() - t0 < dur:\n",
    "    t = time.time() - t0\n",
    "    r.disk_top.target_rot_position = fq1(t)\n",
    "    r.disk_middle.target_rot_position = fq2(t)\n",
    "    r.disk_bottom.target_rot_position = fq3(t)\n",
    "    \n",
    "    time.sleep(0.01)\n",
    "q1, q2, q3 = q11, q12, q13\n",
    "    \n",
    "#time.sleep(2)\n",
    "################\n",
    "\n",
    "q11, q12, q13 = a.get_angles_from_vector([0, 0, 1], 0)\n",
    "\n",
    "fq1 = minjerk(-q1, -q11, dur)\n",
    "fq2 = minjerk(-q2, -q12, dur)\n",
    "fq3 = minjerk(-q3, -q13, dur)\n",
    "\n",
    "t0 = time.time()\n",
    "while time.time() - t0 < dur:\n",
    "    t = time.time() - t0\n",
    "    r.disk_top.target_rot_position = fq1(t)\n",
    "    r.disk_middle.target_rot_position = fq2(t)\n",
    "    r.disk_bottom.target_rot_position = fq3(t)\n",
    "    \n",
    "    time.sleep(0.01)\n",
    "q1, q2, q3 = q11, q12, q13\n",
    "    \n",
    "#time.sleep(2)\n",
    "################\n",
    "\n"
   ]
  },
  {
   "cell_type": "markdown",
   "metadata": {},
   "source": [
    "#### Semi-Exorcist"
   ]
  },
  {
   "cell_type": "code",
   "execution_count": 11,
   "metadata": {},
   "outputs": [],
   "source": [
    "dur = 2\n",
    "\n",
    "q1, q2, q3 = a.get_angles_from_vector([0,0,1],0)\n",
    "\n",
    "q11, q12, q13 = a.get_angles_from_vector([0.4, 0, 1], 0)\n",
    "\n",
    "fq1 = minjerk(-q1, -q11, dur)\n",
    "fq2 = minjerk(-q2, -q12, dur)\n",
    "fq3 = minjerk(-q3, -q13, dur)\n",
    "\n",
    "t0 = time.time()\n",
    "while time.time() - t0 < dur:\n",
    "    t = time.time() - t0\n",
    "    r.disk_top.target_rot_position = fq1(t)\n",
    "    r.disk_middle.target_rot_position = fq2(t)\n",
    "    r.disk_bottom.target_rot_position = fq3(t)\n",
    "    \n",
    "    time.sleep(0.01)\n",
    "q1, q2, q3 = q11, q12, q13\n",
    "    \n",
    "time.sleep(1)\n",
    "angle = 0\n",
    "for i in range(900):\n",
    "    angle=i/5\n",
    "    time.sleep(0.001)\n",
    "    q11,q12,q13 = a.get_angles_from_vector([0.4,0,1],angle)\n",
    "    \n",
    "    r.disk_top.target_rot_position = -q11\n",
    "    r.disk_middle.target_rot_position = -q12\n",
    "    r.disk_bottom.target_rot_position = -q13\n",
    "\n",
    "q1, q2, q3 = q11, q12, q13\n",
    "\n",
    "#time.sleep(2)\n",
    "################\n",
    "q11, q12, q13 = a.get_angles_from_vector([-0.4, 0, 1], 0)\n",
    "\n",
    "fq1 = minjerk(-q1, -q11, dur)\n",
    "fq2 = minjerk(-q2, -q12, dur)\n",
    "fq3 = minjerk(-q3, -q13, dur)\n",
    "\n",
    "t0 = time.time()\n",
    "while time.time() - t0 < dur:\n",
    "    t = time.time() - t0\n",
    "    r.disk_top.target_rot_position = fq1(t)\n",
    "    r.disk_middle.target_rot_position = fq2(t)\n",
    "    r.disk_bottom.target_rot_position = fq3(t)\n",
    "    \n",
    "    time.sleep(0.01)\n",
    "q1, q2, q3 = q11, q12, q13\n",
    "    \n",
    "#time.sleep(2)\n",
    "################\n",
    "q11, q12, q13 = a.get_angles_from_vector([0, 0, 1], 0)\n",
    "\n",
    "fq1 = minjerk(-q1, -q11, dur)\n",
    "fq2 = minjerk(-q2, -q12, dur)\n",
    "fq3 = minjerk(-q3, -q13, dur)\n",
    "\n",
    "t0 = time.time()\n",
    "while time.time() - t0 < dur:\n",
    "    t = time.time() - t0\n",
    "    r.disk_top.target_rot_position = fq1(t)\n",
    "    r.disk_middle.target_rot_position = fq2(t)\n",
    "    r.disk_bottom.target_rot_position = fq3(t)\n",
    "    \n",
    "    time.sleep(0.01)\n",
    "q1, q2, q3 = q11, q12, q13\n",
    "    "
   ]
  },
  {
   "cell_type": "markdown",
   "metadata": {},
   "source": [
    "## Demo 1 : Yes/No"
   ]
  },
  {
   "cell_type": "markdown",
   "metadata": {},
   "source": [
    "2) Yes\n"
   ]
  },
  {
   "cell_type": "code",
   "execution_count": 8,
   "metadata": {},
   "outputs": [],
   "source": [
    "t=0\n",
    "while t < 2.5:\n",
    "    X=0.3*math.sin(10*t)\n",
    "    q11,q12,q13 = a.get_angles_from_vector([X,0,1],0)\n",
    "    r.disk_top.target_rot_position = -q11\n",
    "    r.disk_middle.target_rot_position = -q12\n",
    "    r.disk_bottom.target_rot_position = -q13\n",
    "    time.sleep(0.005)\n",
    "    t=t+0.005"
   ]
  },
  {
   "cell_type": "markdown",
   "metadata": {},
   "source": [
    "Fast"
   ]
  },
  {
   "cell_type": "code",
   "execution_count": 13,
   "metadata": {},
   "outputs": [],
   "source": [
    "t=0\n",
    "while t < 2.5:\n",
    "    X=0.4*math.sin(50*t)\n",
    "    q11,q12,q13 = a.get_angles_from_vector([X,0,1],0)\n",
    "    r.disk_top.target_rot_position = -q11\n",
    "    r.disk_middle.target_rot_position = -q12\n",
    "    r.disk_bottom.target_rot_position = -q13\n",
    "    time.sleep(0.005)\n",
    "    t=t+0.005"
   ]
  },
  {
   "cell_type": "markdown",
   "metadata": {},
   "source": [
    "Test with array"
   ]
  },
  {
   "cell_type": "code",
   "execution_count": 9,
   "metadata": {},
   "outputs": [
    {
     "name": "stdout",
     "output_type": "stream",
     "text": [
      "len 200\n",
      "len 200\n"
     ]
    }
   ],
   "source": [
    "r.disk_top.sampling_freq = 200\n",
    "r.disk_middle.sampling_freq = 200\n",
    "\n",
    "r.disk_middle.pause()\n",
    "r.disk_top.pause()\n",
    "r.disk_bottom.pause()\n",
    "\n",
    "top = [[],[]]\n",
    "middle = [[],[]]\n",
    "bottom = [[],[]]\n",
    "\n",
    "t=0\n",
    "while t < 2.5:\n",
    "    X=0.2*math.sin(10*t)\n",
    "    q11,q12,q13 = a.get_angles_from_vector([X,0,1],0)\n",
    "    top[0].append(-q11)\n",
    "    middle[0].append(-q12)\n",
    "    bottom[0].append(-q13)\n",
    "    t=t+0.005\n",
    "\n",
    "while len(top[0]) > 200 :\n",
    "    for i in range(200):\n",
    "        top[1].append(top[0][i])\n",
    "        middle[1].append(middle[0][i])\n",
    "        bottom[1].append(bottom[0][i])\n",
    "    r.disk_top.target_rot_position = top[1]\n",
    "    r.disk_middle.target_rot_position = middle[1]\n",
    "    r.disk_middle.target_rot_position = bottom[1]\n",
    "    print(\"len\", len(middle[1]))\n",
    "    time.sleep(0.1)\n",
    "    top[1] = []\n",
    "    middle[1] = []\n",
    "    bottom[1] = []\n",
    "    T = []\n",
    "    M = []\n",
    "    B = []\n",
    "    for j in range(200,len(top[0])):\n",
    "        T.append(top[0][j])\n",
    "        M.append(middle[0][j])\n",
    "        B.append(bottom[0][j])\n",
    "        \n",
    "    top[0] = T\n",
    "    middle[0] = M\n",
    "    bottom[0] = B\n",
    "    \n",
    "r.disk_top.target_rot_position = top[0]\n",
    "r.disk_middle.target_rot_position = middle[0]\n",
    "r.disk_bottom.target_rot_position = bottom[0]\n"
   ]
  },
  {
   "cell_type": "code",
   "execution_count": 10,
   "metadata": {},
   "outputs": [],
   "source": [
    "r.disk_top.play()\n",
    "r.disk_middle.play()\n",
    "r.disk_bottom.play()"
   ]
  },
  {
   "cell_type": "markdown",
   "metadata": {},
   "source": [
    "1) No"
   ]
  },
  {
   "cell_type": "code",
   "execution_count": 13,
   "metadata": {},
   "outputs": [
    {
     "name": "stdout",
     "output_type": "stream",
     "text": [
      "defaultdict(<function Robot._push_once.<locals>.<lambda> at 0x1166a0730>, {'disk_top': defaultdict(<function Robot._push_once.<locals>.<lambda>.<locals>.<lambda> at 0x10fe05ea0>, {'target_rot_position': 69.943}), 'disk_middle': defaultdict(<function Robot._push_once.<locals>.<lambda>.<locals>.<lambda> at 0x1166a01e0>, {'target_rot_position': 50.057}), 'disk_bottom': defaultdict(<function Robot._push_once.<locals>.<lambda>.<locals>.<lambda> at 0x1166a0158>, {'target_rot_position': 60.0})})\n",
      "defaultdict(<function Robot._push_once.<locals>.<lambda> at 0x1166a02f0>, {'disk_top': defaultdict(<function Robot._push_once.<locals>.<lambda>.<locals>.<lambda> at 0x10fe05ea0>, {'target_rot_position': 68.801}), 'disk_middle': defaultdict(<function Robot._push_once.<locals>.<lambda>.<locals>.<lambda> at 0x1166a0158>, {'target_rot_position': 48.918}), 'disk_bottom': defaultdict(<function Robot._push_once.<locals>.<lambda>.<locals>.<lambda> at 0x1166a01e0>, {'target_rot_position': 59.256})})\n",
      "defaultdict(<function Robot._push_once.<locals>.<lambda> at 0x1166a0268>, {'disk_top': defaultdict(<function Robot._push_once.<locals>.<lambda>.<locals>.<lambda> at 0x10fe05ea0>, {'target_rot_position': 67.661}), 'disk_middle': defaultdict(<function Robot._push_once.<locals>.<lambda>.<locals>.<lambda> at 0x1166a01e0>, {'target_rot_position': 47.783}), 'disk_bottom': defaultdict(<function Robot._push_once.<locals>.<lambda>.<locals>.<lambda> at 0x1166a0158>, {'target_rot_position': 58.514})})\n",
      "defaultdict(<function Robot._push_once.<locals>.<lambda> at 0x1166a02f0>, {'disk_top': defaultdict(<function Robot._push_once.<locals>.<lambda>.<locals>.<lambda> at 0x10fe05ea0>, {'target_rot_position': 66.524}), 'disk_middle': defaultdict(<function Robot._push_once.<locals>.<lambda>.<locals>.<lambda> at 0x1166a0158>, {'target_rot_position': 46.656}), 'disk_bottom': defaultdict(<function Robot._push_once.<locals>.<lambda>.<locals>.<lambda> at 0x1166a01e0>, {'target_rot_position': 57.776})})\n",
      "defaultdict(<function Robot._push_once.<locals>.<lambda> at 0x1166a0730>, {'disk_top': defaultdict(<function Robot._push_once.<locals>.<lambda>.<locals>.<lambda> at 0x10fe05ea0>, {'target_rot_position': 65.395}), 'disk_middle': defaultdict(<function Robot._push_once.<locals>.<lambda>.<locals>.<lambda> at 0x1166a01e0>, {'target_rot_position': 45.54}), 'disk_bottom': defaultdict(<function Robot._push_once.<locals>.<lambda>.<locals>.<lambda> at 0x1166a0158>, {'target_rot_position': 57.043})})\n",
      "defaultdict(<function Robot._push_once.<locals>.<lambda> at 0x1166a02f0>, {'disk_top': defaultdict(<function Robot._push_once.<locals>.<lambda>.<locals>.<lambda> at 0x10fe05ea0>, {'target_rot_position': 64.275}), 'disk_middle': defaultdict(<function Robot._push_once.<locals>.<lambda>.<locals>.<lambda> at 0x1166a0158>, {'target_rot_position': 44.437}), 'disk_bottom': defaultdict(<function Robot._push_once.<locals>.<lambda>.<locals>.<lambda> at 0x1166a01e0>, {'target_rot_position': 56.317})})\n",
      "defaultdict(<function Robot._push_once.<locals>.<lambda> at 0x1166a0268>, {'disk_top': defaultdict(<function Robot._push_once.<locals>.<lambda>.<locals>.<lambda> at 0x10fe05ea0>, {'target_rot_position': 63.168})})\n",
      "defaultdict(<function Robot._push_once.<locals>.<lambda> at 0x1166a01e0>, {'disk_middle': defaultdict(<function Robot._push_once.<locals>.<lambda>.<locals>.<lambda> at 0x10fe05ea0>, {'target_rot_position': 43.351})})\n",
      "defaultdict(<function Robot._push_once.<locals>.<lambda> at 0x1166a06a8>, {'disk_bottom': defaultdict(<function Robot._push_once.<locals>.<lambda>.<locals>.<lambda> at 0x10fe05ea0>, {'target_rot_position': 55.6})})\n",
      "defaultdict(<function Robot._push_once.<locals>.<lambda> at 0x1166a0268>, {'disk_top': defaultdict(<function Robot._push_once.<locals>.<lambda>.<locals>.<lambda> at 0x10fe05ea0>, {'target_rot_position': 62.076}), 'disk_middle': defaultdict(<function Robot._push_once.<locals>.<lambda>.<locals>.<lambda> at 0x1166a01e0>, {'target_rot_position': 42.283}), 'disk_bottom': defaultdict(<function Robot._push_once.<locals>.<lambda>.<locals>.<lambda> at 0x1166a0730>, {'target_rot_position': 54.893})})\n",
      "defaultdict(<function Robot._push_once.<locals>.<lambda> at 0x1166a0158>, {'disk_top': defaultdict(<function Robot._push_once.<locals>.<lambda>.<locals>.<lambda> at 0x10fe05ea0>, {'target_rot_position': 61.003}), 'disk_middle': defaultdict(<function Robot._push_once.<locals>.<lambda>.<locals>.<lambda> at 0x1166a0730>, {'target_rot_position': 41.238}), 'disk_bottom': defaultdict(<function Robot._push_once.<locals>.<lambda>.<locals>.<lambda> at 0x1166a01e0>, {'target_rot_position': 54.198})})\n",
      "defaultdict(<function Robot._push_once.<locals>.<lambda> at 0x1166a02f0>, {'disk_top': defaultdict(<function Robot._push_once.<locals>.<lambda>.<locals>.<lambda> at 0x10fe05ea0>, {'target_rot_position': 59.951}), 'disk_middle': defaultdict(<function Robot._push_once.<locals>.<lambda>.<locals>.<lambda> at 0x1166a0268>, {'target_rot_position': 40.216}), 'disk_bottom': defaultdict(<function Robot._push_once.<locals>.<lambda>.<locals>.<lambda> at 0x1166a01e0>, {'target_rot_position': 53.518})})\n",
      "defaultdict(<function Robot._push_once.<locals>.<lambda> at 0x1166a0730>, {'disk_top': defaultdict(<function Robot._push_once.<locals>.<lambda>.<locals>.<lambda> at 0x10fe05ea0>, {'target_rot_position': 58.924}), 'disk_middle': defaultdict(<function Robot._push_once.<locals>.<lambda>.<locals>.<lambda> at 0x1166a01e0>, {'target_rot_position': 39.22}), 'disk_bottom': defaultdict(<function Robot._push_once.<locals>.<lambda>.<locals>.<lambda> at 0x1166a0268>, {'target_rot_position': 52.852})})\n",
      "defaultdict(<function Robot._push_once.<locals>.<lambda> at 0x1166a02f0>, {'disk_top': defaultdict(<function Robot._push_once.<locals>.<lambda>.<locals>.<lambda> at 0x10fe05ea0>, {'target_rot_position': 57.923}), 'disk_middle': defaultdict(<function Robot._push_once.<locals>.<lambda>.<locals>.<lambda> at 0x1166a0158>, {'target_rot_position': 38.254}), 'disk_bottom': defaultdict(<function Robot._push_once.<locals>.<lambda>.<locals>.<lambda> at 0x1166a0268>, {'target_rot_position': 52.205})})\n",
      "defaultdict(<function Robot._push_once.<locals>.<lambda> at 0x1166a0730>, {'disk_top': defaultdict(<function Robot._push_once.<locals>.<lambda>.<locals>.<lambda> at 0x10fe05ea0>, {'target_rot_position': 56.951}), 'disk_middle': defaultdict(<function Robot._push_once.<locals>.<lambda>.<locals>.<lambda> at 0x1166a0268>, {'target_rot_position': 37.319}), 'disk_bottom': defaultdict(<function Robot._push_once.<locals>.<lambda>.<locals>.<lambda> at 0x1166a0158>, {'target_rot_position': 51.576})})\n",
      "defaultdict(<function Robot._push_once.<locals>.<lambda> at 0x1166a01e0>, {'disk_top': defaultdict(<function Robot._push_once.<locals>.<lambda>.<locals>.<lambda> at 0x10fe05ea0>, {'target_rot_position': 56.012}), 'disk_middle': defaultdict(<function Robot._push_once.<locals>.<lambda>.<locals>.<lambda> at 0x1166a0158>, {'target_rot_position': 36.417}), 'disk_bottom': defaultdict(<function Robot._push_once.<locals>.<lambda>.<locals>.<lambda> at 0x1166a0268>, {'target_rot_position': 50.967})})\n",
      "defaultdict(<function Robot._push_once.<locals>.<lambda> at 0x1166a02f0>, {'disk_top': defaultdict(<function Robot._push_once.<locals>.<lambda>.<locals>.<lambda> at 0x10fe05ea0>, {'target_rot_position': 55.106}), 'disk_middle': defaultdict(<function Robot._push_once.<locals>.<lambda>.<locals>.<lambda> at 0x1166a0268>, {'target_rot_position': 35.551}), 'disk_bottom': defaultdict(<function Robot._push_once.<locals>.<lambda>.<locals>.<lambda> at 0x1166a0158>, {'target_rot_position': 50.381})})\n",
      "defaultdict(<function Robot._push_once.<locals>.<lambda> at 0x1166a01e0>, {'disk_top': defaultdict(<function Robot._push_once.<locals>.<lambda>.<locals>.<lambda> at 0x10fe05ea0>, {'target_rot_position': 54.238}), 'disk_middle': defaultdict(<function Robot._push_once.<locals>.<lambda>.<locals>.<lambda> at 0x1166a0158>, {'target_rot_position': 34.722}), 'disk_bottom': defaultdict(<function Robot._push_once.<locals>.<lambda>.<locals>.<lambda> at 0x1166a0268>, {'target_rot_position': 49.818})})\n",
      "defaultdict(<function Robot._push_once.<locals>.<lambda> at 0x1166a06a8>, {'disk_top': defaultdict(<function Robot._push_once.<locals>.<lambda>.<locals>.<lambda> at 0x10fe05ea0>, {'target_rot_position': 53.408}), 'disk_middle': defaultdict(<function Robot._push_once.<locals>.<lambda>.<locals>.<lambda> at 0x1166a02f0>, {'target_rot_position': 33.933}), 'disk_bottom': defaultdict(<function Robot._push_once.<locals>.<lambda>.<locals>.<lambda> at 0x1166a0268>, {'target_rot_position': 49.28})})\n",
      "defaultdict(<function Robot._push_once.<locals>.<lambda> at 0x1166a01e0>, {'disk_top': defaultdict(<function Robot._push_once.<locals>.<lambda>.<locals>.<lambda> at 0x10fe05ea0>, {'target_rot_position': 52.62}), 'disk_middle': defaultdict(<function Robot._push_once.<locals>.<lambda>.<locals>.<lambda> at 0x1166a0268>, {'target_rot_position': 33.185}), 'disk_bottom': defaultdict(<function Robot._push_once.<locals>.<lambda>.<locals>.<lambda> at 0x1166a02f0>, {'target_rot_position': 48.768})})\n",
      "defaultdict(<function Robot._push_once.<locals>.<lambda> at 0x1166a06a8>, {'disk_top': defaultdict(<function Robot._push_once.<locals>.<lambda>.<locals>.<lambda> at 0x10fe05ea0>, {'target_rot_position': 51.875}), 'disk_middle': defaultdict(<function Robot._push_once.<locals>.<lambda>.<locals>.<lambda> at 0x1166a02f0>, {'target_rot_position': 32.479}), 'disk_bottom': defaultdict(<function Robot._push_once.<locals>.<lambda>.<locals>.<lambda> at 0x1166a0268>, {'target_rot_position': 48.284})})\n",
      "defaultdict(<function Robot._push_once.<locals>.<lambda> at 0x1166a0158>, {'disk_top': defaultdict(<function Robot._push_once.<locals>.<lambda>.<locals>.<lambda> at 0x10fe05ea0>, {'target_rot_position': 51.175}), 'disk_middle': defaultdict(<function Robot._push_once.<locals>.<lambda>.<locals>.<lambda> at 0x1166a0268>, {'target_rot_position': 31.818}), 'disk_bottom': defaultdict(<function Robot._push_once.<locals>.<lambda>.<locals>.<lambda> at 0x1166a02f0>, {'target_rot_position': 47.829})})\n",
      "defaultdict(<function Robot._push_once.<locals>.<lambda> at 0x1166a01e0>, {'disk_top': defaultdict(<function Robot._push_once.<locals>.<lambda>.<locals>.<lambda> at 0x10fe05ea0>, {'target_rot_position': 49.918}), 'disk_middle': defaultdict(<function Robot._push_once.<locals>.<lambda>.<locals>.<lambda> at 0x1166a06a8>, {'target_rot_position': 30.635}), 'disk_bottom': defaultdict(<function Robot._push_once.<locals>.<lambda>.<locals>.<lambda> at 0x1166a02f0>, {'target_rot_position': 47.011})})\n",
      "defaultdict(<function Robot._push_once.<locals>.<lambda> at 0x1166a0158>, {'disk_top': defaultdict(<function Robot._push_once.<locals>.<lambda>.<locals>.<lambda> at 0x10fe05ea0>, {'target_rot_position': 49.364}), 'disk_middle': defaultdict(<function Robot._push_once.<locals>.<lambda>.<locals>.<lambda> at 0x1166a02f0>, {'target_rot_position': 30.115}), 'disk_bottom': defaultdict(<function Robot._push_once.<locals>.<lambda>.<locals>.<lambda> at 0x1166a06a8>, {'target_rot_position': 46.65})})\n",
      "defaultdict(<function Robot._push_once.<locals>.<lambda> at 0x1166a01e0>, {'disk_top': defaultdict(<function Robot._push_once.<locals>.<lambda>.<locals>.<lambda> at 0x10fe05ea0>, {'target_rot_position': 48.862}), 'disk_middle': defaultdict(<function Robot._push_once.<locals>.<lambda>.<locals>.<lambda> at 0x1166a06a8>, {'target_rot_position': 29.645}), 'disk_bottom': defaultdict(<function Robot._push_once.<locals>.<lambda>.<locals>.<lambda> at 0x1166a02f0>, {'target_rot_position': 46.323})})\n",
      "defaultdict(<function Robot._push_once.<locals>.<lambda> at 0x1166a0268>, {'disk_top': defaultdict(<function Robot._push_once.<locals>.<lambda>.<locals>.<lambda> at 0x10fe05ea0>, {'target_rot_position': 48.413}), 'disk_middle': defaultdict(<function Robot._push_once.<locals>.<lambda>.<locals>.<lambda> at 0x1166a02f0>, {'target_rot_position': 29.224}), 'disk_bottom': defaultdict(<function Robot._push_once.<locals>.<lambda>.<locals>.<lambda> at 0x1166a06a8>, {'target_rot_position': 46.03})})\n"
     ]
    },
    {
     "name": "stdout",
     "output_type": "stream",
     "text": [
      "defaultdict(<function Robot._push_once.<locals>.<lambda> at 0x1166a0730>, {'disk_top': defaultdict(<function Robot._push_once.<locals>.<lambda>.<locals>.<lambda> at 0x10fe05ea0>, {'target_rot_position': 48.018}), 'disk_middle': defaultdict(<function Robot._push_once.<locals>.<lambda>.<locals>.<lambda> at 0x1166a0158>, {'target_rot_position': 28.855}), 'disk_bottom': defaultdict(<function Robot._push_once.<locals>.<lambda>.<locals>.<lambda> at 0x1166a01e0>, {'target_rot_position': 45.772})})\n",
      "defaultdict(<function Robot._push_once.<locals>.<lambda> at 0x1166a02f0>, {'disk_top': defaultdict(<function Robot._push_once.<locals>.<lambda>.<locals>.<lambda> at 0x10fe05ea0>, {'target_rot_position': 47.679}), 'disk_middle': defaultdict(<function Robot._push_once.<locals>.<lambda>.<locals>.<lambda> at 0x1166a01e0>, {'target_rot_position': 28.538}), 'disk_bottom': defaultdict(<function Robot._push_once.<locals>.<lambda>.<locals>.<lambda> at 0x1166a0158>, {'target_rot_position': 45.551})})\n",
      "defaultdict(<function Robot._push_once.<locals>.<lambda> at 0x1166a0268>, {'disk_top': defaultdict(<function Robot._push_once.<locals>.<lambda>.<locals>.<lambda> at 0x10fe05ea0>, {'target_rot_position': 47.395}), 'disk_middle': defaultdict(<function Robot._push_once.<locals>.<lambda>.<locals>.<lambda> at 0x1166a0158>, {'target_rot_position': 28.274}), 'disk_bottom': defaultdict(<function Robot._push_once.<locals>.<lambda>.<locals>.<lambda> at 0x1166a01e0>, {'target_rot_position': 45.365})})\n",
      "defaultdict(<function Robot._push_once.<locals>.<lambda> at 0x1166a0730>, {'disk_top': defaultdict(<function Robot._push_once.<locals>.<lambda>.<locals>.<lambda> at 0x10fe05ea0>, {'target_rot_position': 47.168}), 'disk_middle': defaultdict(<function Robot._push_once.<locals>.<lambda>.<locals>.<lambda> at 0x1166a01e0>, {'target_rot_position': 28.063}), 'disk_bottom': defaultdict(<function Robot._push_once.<locals>.<lambda>.<locals>.<lambda> at 0x1166a0158>, {'target_rot_position': 45.217})})\n",
      "defaultdict(<function Robot._push_once.<locals>.<lambda> at 0x1166a02f0>, {'disk_top': defaultdict(<function Robot._push_once.<locals>.<lambda>.<locals>.<lambda> at 0x10fe05ea0>, {'target_rot_position': 46.999}), 'disk_middle': defaultdict(<function Robot._push_once.<locals>.<lambda>.<locals>.<lambda> at 0x1166a0158>, {'target_rot_position': 27.905}), 'disk_bottom': defaultdict(<function Robot._push_once.<locals>.<lambda>.<locals>.<lambda> at 0x1166a01e0>, {'target_rot_position': 45.106})})\n",
      "defaultdict(<function Robot._push_once.<locals>.<lambda> at 0x1166a0730>, {'disk_top': defaultdict(<function Robot._push_once.<locals>.<lambda>.<locals>.<lambda> at 0x10fe05ea0>, {'target_rot_position': 46.888}), 'disk_middle': defaultdict(<function Robot._push_once.<locals>.<lambda>.<locals>.<lambda> at 0x1166a01e0>, {'target_rot_position': 27.801}), 'disk_bottom': defaultdict(<function Robot._push_once.<locals>.<lambda>.<locals>.<lambda> at 0x1166a0158>, {'target_rot_position': 45.033})})\n",
      "defaultdict(<function Robot._push_once.<locals>.<lambda> at 0x1166a02f0>, {'disk_top': defaultdict(<function Robot._push_once.<locals>.<lambda>.<locals>.<lambda> at 0x10fe05ea0>, {'target_rot_position': 46.834}), 'disk_middle': defaultdict(<function Robot._push_once.<locals>.<lambda>.<locals>.<lambda> at 0x1166a0158>, {'target_rot_position': 27.752}), 'disk_bottom': defaultdict(<function Robot._push_once.<locals>.<lambda>.<locals>.<lambda> at 0x1166a01e0>, {'target_rot_position': 44.998})})\n",
      "defaultdict(<function Robot._push_once.<locals>.<lambda> at 0x1166a0268>, {'disk_top': defaultdict(<function Robot._push_once.<locals>.<lambda>.<locals>.<lambda> at 0x10fe05ea0>, {'target_rot_position': 46.839}), 'disk_middle': defaultdict(<function Robot._push_once.<locals>.<lambda>.<locals>.<lambda> at 0x1166a01e0>, {'target_rot_position': 27.756}), 'disk_bottom': defaultdict(<function Robot._push_once.<locals>.<lambda>.<locals>.<lambda> at 0x1166a0158>, {'target_rot_position': 45.002})})\n",
      "defaultdict(<function Robot._push_once.<locals>.<lambda> at 0x1166a02f0>, {'disk_top': defaultdict(<function Robot._push_once.<locals>.<lambda>.<locals>.<lambda> at 0x10fe05ea0>, {'target_rot_position': 46.902}), 'disk_middle': defaultdict(<function Robot._push_once.<locals>.<lambda>.<locals>.<lambda> at 0x1166a0730>, {'target_rot_position': 27.815}), 'disk_bottom': defaultdict(<function Robot._push_once.<locals>.<lambda>.<locals>.<lambda> at 0x1166a0158>, {'target_rot_position': 45.043})})\n",
      "defaultdict(<function Robot._push_once.<locals>.<lambda> at 0x1166a01e0>, {'disk_top': defaultdict(<function Robot._push_once.<locals>.<lambda>.<locals>.<lambda> at 0x10fe05ea0>, {'target_rot_position': 47.023}), 'disk_middle': defaultdict(<function Robot._push_once.<locals>.<lambda>.<locals>.<lambda> at 0x1166a0158>, {'target_rot_position': 27.928}), 'disk_bottom': defaultdict(<function Robot._push_once.<locals>.<lambda>.<locals>.<lambda> at 0x1166a0730>, {'target_rot_position': 45.122})})\n",
      "defaultdict(<function Robot._push_once.<locals>.<lambda> at 0x1166a0268>, {'disk_top': defaultdict(<function Robot._push_once.<locals>.<lambda>.<locals>.<lambda> at 0x10fe05ea0>, {'target_rot_position': 47.202}), 'disk_middle': defaultdict(<function Robot._push_once.<locals>.<lambda>.<locals>.<lambda> at 0x1166a0730>, {'target_rot_position': 28.095}), 'disk_bottom': defaultdict(<function Robot._push_once.<locals>.<lambda>.<locals>.<lambda> at 0x1166a0158>, {'target_rot_position': 45.239})})\n",
      "defaultdict(<function Robot._push_once.<locals>.<lambda> at 0x1166a02f0>, {'disk_top': defaultdict(<function Robot._push_once.<locals>.<lambda>.<locals>.<lambda> at 0x10fe05ea0>, {'target_rot_position': 47.439}), 'disk_middle': defaultdict(<function Robot._push_once.<locals>.<lambda>.<locals>.<lambda> at 0x1166a0158>, {'target_rot_position': 28.315}), 'disk_bottom': defaultdict(<function Robot._push_once.<locals>.<lambda>.<locals>.<lambda> at 0x1166a0730>, {'target_rot_position': 45.394})})\n",
      "defaultdict(<function Robot._push_once.<locals>.<lambda> at 0x1166a0268>, {'disk_top': defaultdict(<function Robot._push_once.<locals>.<lambda>.<locals>.<lambda> at 0x10fe05ea0>, {'target_rot_position': 47.732}), 'disk_middle': defaultdict(<function Robot._push_once.<locals>.<lambda>.<locals>.<lambda> at 0x1166a0730>, {'target_rot_position': 28.588}), 'disk_bottom': defaultdict(<function Robot._push_once.<locals>.<lambda>.<locals>.<lambda> at 0x1166a0158>, {'target_rot_position': 45.585})})\n",
      "defaultdict(<function Robot._push_once.<locals>.<lambda> at 0x1166a06a8>, {'disk_top': defaultdict(<function Robot._push_once.<locals>.<lambda>.<locals>.<lambda> at 0x10fe05ea0>, {'target_rot_position': 48.081}), 'disk_middle': defaultdict(<function Robot._push_once.<locals>.<lambda>.<locals>.<lambda> at 0x1166a0158>, {'target_rot_position': 28.914}), 'disk_bottom': defaultdict(<function Robot._push_once.<locals>.<lambda>.<locals>.<lambda> at 0x1166a0730>, {'target_rot_position': 45.813})})\n",
      "defaultdict(<function Robot._push_once.<locals>.<lambda> at 0x1166a0268>, {'disk_top': defaultdict(<function Robot._push_once.<locals>.<lambda>.<locals>.<lambda> at 0x10fe05ea0>, {'target_rot_position': 48.485}), 'disk_middle': defaultdict(<function Robot._push_once.<locals>.<lambda>.<locals>.<lambda> at 0x1166a0730>, {'target_rot_position': 29.291}), 'disk_bottom': defaultdict(<function Robot._push_once.<locals>.<lambda>.<locals>.<lambda> at 0x1166a0158>, {'target_rot_position': 46.077})})\n",
      "defaultdict(<function Robot._push_once.<locals>.<lambda> at 0x1166a01e0>, {'disk_top': defaultdict(<function Robot._push_once.<locals>.<lambda>.<locals>.<lambda> at 0x10fe05ea0>, {'target_rot_position': 48.943}), 'disk_middle': defaultdict(<function Robot._push_once.<locals>.<lambda>.<locals>.<lambda> at 0x1166a0158>, {'target_rot_position': 29.72}), 'disk_bottom': defaultdict(<function Robot._push_once.<locals>.<lambda>.<locals>.<lambda> at 0x1166a0730>, {'target_rot_position': 46.376})})\n",
      "defaultdict(<function Robot._push_once.<locals>.<lambda> at 0x1166a06a8>, {'disk_top': defaultdict(<function Robot._push_once.<locals>.<lambda>.<locals>.<lambda> at 0x10fe05ea0>, {'target_rot_position': 49.454}), 'disk_middle': defaultdict(<function Robot._push_once.<locals>.<lambda>.<locals>.<lambda> at 0x1166a0730>, {'target_rot_position': 30.199}), 'disk_bottom': defaultdict(<function Robot._push_once.<locals>.<lambda>.<locals>.<lambda> at 0x1166a0158>, {'target_rot_position': 46.709})})\n",
      "defaultdict(<function Robot._push_once.<locals>.<lambda> at 0x1166a0268>, {'disk_top': defaultdict(<function Robot._push_once.<locals>.<lambda>.<locals>.<lambda> at 0x10fe05ea0>, {'target_rot_position': 50.016}), 'disk_middle': defaultdict(<function Robot._push_once.<locals>.<lambda>.<locals>.<lambda> at 0x1166a0158>, {'target_rot_position': 30.727}), 'disk_bottom': defaultdict(<function Robot._push_once.<locals>.<lambda>.<locals>.<lambda> at 0x1166a0730>, {'target_rot_position': 47.075})})\n",
      "defaultdict(<function Robot._push_once.<locals>.<lambda> at 0x1166a01e0>, {'disk_top': defaultdict(<function Robot._push_once.<locals>.<lambda>.<locals>.<lambda> at 0x10fe05ea0>, {'target_rot_position': 50.629}), 'disk_middle': defaultdict(<function Robot._push_once.<locals>.<lambda>.<locals>.<lambda> at 0x1166a0730>, {'target_rot_position': 31.303}), 'disk_bottom': defaultdict(<function Robot._push_once.<locals>.<lambda>.<locals>.<lambda> at 0x1166a0158>, {'target_rot_position': 47.474})})\n",
      "defaultdict(<function Robot._push_once.<locals>.<lambda> at 0x1166a0268>, {'disk_top': defaultdict(<function Robot._push_once.<locals>.<lambda>.<locals>.<lambda> at 0x10fe05ea0>, {'target_rot_position': 51.29}), 'disk_middle': defaultdict(<function Robot._push_once.<locals>.<lambda>.<locals>.<lambda> at 0x1166a0158>, {'target_rot_position': 31.926}), 'disk_bottom': defaultdict(<function Robot._push_once.<locals>.<lambda>.<locals>.<lambda> at 0x1166a0730>, {'target_rot_position': 47.904})})\n",
      "defaultdict(<function Robot._push_once.<locals>.<lambda> at 0x1166a06a8>, {'disk_top': defaultdict(<function Robot._push_once.<locals>.<lambda>.<locals>.<lambda> at 0x10fe05ea0>, {'target_rot_position': 51.997}), 'disk_middle': defaultdict(<function Robot._push_once.<locals>.<lambda>.<locals>.<lambda> at 0x1166a0730>, {'target_rot_position': 32.595}), 'disk_bottom': defaultdict(<function Robot._push_once.<locals>.<lambda>.<locals>.<lambda> at 0x1166a0158>, {'target_rot_position': 48.363})})\n",
      "defaultdict(<function Robot._push_once.<locals>.<lambda> at 0x1166a0268>, {'disk_top': defaultdict(<function Robot._push_once.<locals>.<lambda>.<locals>.<lambda> at 0x10fe05ea0>, {'target_rot_position': 52.75}), 'disk_middle': defaultdict(<function Robot._push_once.<locals>.<lambda>.<locals>.<lambda> at 0x1166a01e0>, {'target_rot_position': 33.308}), 'disk_bottom': defaultdict(<function Robot._push_once.<locals>.<lambda>.<locals>.<lambda> at 0x1166a0158>, {'target_rot_position': 48.852})})\n",
      "defaultdict(<function Robot._push_once.<locals>.<lambda> at 0x1166a06a8>, {'disk_top': defaultdict(<function Robot._push_once.<locals>.<lambda>.<locals>.<lambda> at 0x10fe05ea0>, {'target_rot_position': 53.545}), 'disk_middle': defaultdict(<function Robot._push_once.<locals>.<lambda>.<locals>.<lambda> at 0x1166a0158>, {'target_rot_position': 34.063}), 'disk_bottom': defaultdict(<function Robot._push_once.<locals>.<lambda>.<locals>.<lambda> at 0x1166a01e0>, {'target_rot_position': 49.368})})\n",
      "defaultdict(<function Robot._push_once.<locals>.<lambda> at 0x1166a02f0>, {'disk_top': defaultdict(<function Robot._push_once.<locals>.<lambda>.<locals>.<lambda> at 0x10fe05ea0>, {'target_rot_position': 54.381}), 'disk_middle': defaultdict(<function Robot._push_once.<locals>.<lambda>.<locals>.<lambda> at 0x1166a01e0>, {'target_rot_position': 34.859}), 'disk_bottom': defaultdict(<function Robot._push_once.<locals>.<lambda>.<locals>.<lambda> at 0x1166a0158>, {'target_rot_position': 49.911})})\n",
      "defaultdict(<function Robot._push_once.<locals>.<lambda> at 0x1166a0268>, {'disk_top': defaultdict(<function Robot._push_once.<locals>.<lambda>.<locals>.<lambda> at 0x10fe05ea0>, {'target_rot_position': 55.256}), 'disk_middle': defaultdict(<function Robot._push_once.<locals>.<lambda>.<locals>.<lambda> at 0x1166a06a8>, {'target_rot_position': 35.694}), 'disk_bottom': defaultdict(<function Robot._push_once.<locals>.<lambda>.<locals>.<lambda> at 0x1166a0158>, {'target_rot_position': 50.478})})\n",
      "defaultdict(<function Robot._push_once.<locals>.<lambda> at 0x1166a01e0>, {'disk_top': defaultdict(<function Robot._push_once.<locals>.<lambda>.<locals>.<lambda> at 0x10fe05ea0>, {'target_rot_position': 56.167}), 'disk_middle': defaultdict(<function Robot._push_once.<locals>.<lambda>.<locals>.<lambda> at 0x1166a0158>, {'target_rot_position': 36.566}), 'disk_bottom': defaultdict(<function Robot._push_once.<locals>.<lambda>.<locals>.<lambda> at 0x1166a06a8>, {'target_rot_position': 51.068})})\n"
     ]
    },
    {
     "name": "stdout",
     "output_type": "stream",
     "text": [
      "defaultdict(<function Robot._push_once.<locals>.<lambda> at 0x1166a02f0>, {'disk_top': defaultdict(<function Robot._push_once.<locals>.<lambda>.<locals>.<lambda> at 0x10fe05ea0>, {'target_rot_position': 57.112}), 'disk_middle': defaultdict(<function Robot._push_once.<locals>.<lambda>.<locals>.<lambda> at 0x1166a06a8>, {'target_rot_position': 37.474}), 'disk_bottom': defaultdict(<function Robot._push_once.<locals>.<lambda>.<locals>.<lambda> at 0x1166a0158>, {'target_rot_position': 51.68})})\n",
      "defaultdict(<function Robot._push_once.<locals>.<lambda> at 0x1166a0268>, {'disk_top': defaultdict(<function Robot._push_once.<locals>.<lambda>.<locals>.<lambda> at 0x10fe05ea0>, {'target_rot_position': 58.089}), 'disk_middle': defaultdict(<function Robot._push_once.<locals>.<lambda>.<locals>.<lambda> at 0x1166a0158>, {'target_rot_position': 38.414}), 'disk_bottom': defaultdict(<function Robot._push_once.<locals>.<lambda>.<locals>.<lambda> at 0x1166a06a8>, {'target_rot_position': 52.312})})\n",
      "defaultdict(<function Robot._push_once.<locals>.<lambda> at 0x1166a0730>, {'disk_top': defaultdict(<function Robot._push_once.<locals>.<lambda>.<locals>.<lambda> at 0x10fe05ea0>, {'target_rot_position': 59.095}), 'disk_middle': defaultdict(<function Robot._push_once.<locals>.<lambda>.<locals>.<lambda> at 0x1166a06a8>, {'target_rot_position': 39.386}), 'disk_bottom': defaultdict(<function Robot._push_once.<locals>.<lambda>.<locals>.<lambda> at 0x1166a0158>, {'target_rot_position': 52.963})})\n",
      "defaultdict(<function Robot._push_once.<locals>.<lambda> at 0x1166a02f0>, {'disk_top': defaultdict(<function Robot._push_once.<locals>.<lambda>.<locals>.<lambda> at 0x10fe05ea0>, {'target_rot_position': 60.127}), 'disk_middle': defaultdict(<function Robot._push_once.<locals>.<lambda>.<locals>.<lambda> at 0x1166a0158>, {'target_rot_position': 40.386}), 'disk_bottom': defaultdict(<function Robot._push_once.<locals>.<lambda>.<locals>.<lambda> at 0x1166a06a8>, {'target_rot_position': 53.631})})\n",
      "defaultdict(<function Robot._push_once.<locals>.<lambda> at 0x1166a0268>, {'disk_top': defaultdict(<function Robot._push_once.<locals>.<lambda>.<locals>.<lambda> at 0x10fe05ea0>, {'target_rot_position': 61.182}), 'disk_middle': defaultdict(<function Robot._push_once.<locals>.<lambda>.<locals>.<lambda> at 0x1166a06a8>, {'target_rot_position': 41.412}), 'disk_bottom': defaultdict(<function Robot._push_once.<locals>.<lambda>.<locals>.<lambda> at 0x1166a0158>, {'target_rot_position': 54.314})})\n",
      "defaultdict(<function Robot._push_once.<locals>.<lambda> at 0x1166a01e0>, {'disk_top': defaultdict(<function Robot._push_once.<locals>.<lambda>.<locals>.<lambda> at 0x10fe05ea0>, {'target_rot_position': 62.258}), 'disk_middle': defaultdict(<function Robot._push_once.<locals>.<lambda>.<locals>.<lambda> at 0x1166a0158>, {'target_rot_position': 42.462}), 'disk_bottom': defaultdict(<function Robot._push_once.<locals>.<lambda>.<locals>.<lambda> at 0x1166a06a8>, {'target_rot_position': 55.011})})\n",
      "defaultdict(<function Robot._push_once.<locals>.<lambda> at 0x1166a0268>, {'disk_top': defaultdict(<function Robot._push_once.<locals>.<lambda>.<locals>.<lambda> at 0x10fe05ea0>, {'target_rot_position': 63.353}), 'disk_middle': defaultdict(<function Robot._push_once.<locals>.<lambda>.<locals>.<lambda> at 0x1166a06a8>, {'target_rot_position': 43.532}), 'disk_bottom': defaultdict(<function Robot._push_once.<locals>.<lambda>.<locals>.<lambda> at 0x1166a0158>, {'target_rot_position': 55.719})})\n",
      "defaultdict(<function Robot._push_once.<locals>.<lambda> at 0x1166a02f0>, {'disk_top': defaultdict(<function Robot._push_once.<locals>.<lambda>.<locals>.<lambda> at 0x10fe05ea0>, {'target_rot_position': 64.462}), 'disk_middle': defaultdict(<function Robot._push_once.<locals>.<lambda>.<locals>.<lambda> at 0x1166a0158>, {'target_rot_position': 44.622}), 'disk_bottom': defaultdict(<function Robot._push_once.<locals>.<lambda>.<locals>.<lambda> at 0x1166a06a8>, {'target_rot_position': 56.438})})\n",
      "defaultdict(<function Robot._push_once.<locals>.<lambda> at 0x1166a0268>, {'disk_top': defaultdict(<function Robot._push_once.<locals>.<lambda>.<locals>.<lambda> at 0x10fe05ea0>, {'target_rot_position': 65.584}), 'disk_middle': defaultdict(<function Robot._push_once.<locals>.<lambda>.<locals>.<lambda> at 0x1166a06a8>, {'target_rot_position': 45.727}), 'disk_bottom': defaultdict(<function Robot._push_once.<locals>.<lambda>.<locals>.<lambda> at 0x1166a0158>, {'target_rot_position': 57.166})})\n",
      "defaultdict(<function Robot._push_once.<locals>.<lambda> at 0x1166a01e0>, {'disk_top': defaultdict(<function Robot._push_once.<locals>.<lambda>.<locals>.<lambda> at 0x10fe05ea0>, {'target_rot_position': 66.715}), 'disk_middle': defaultdict(<function Robot._push_once.<locals>.<lambda>.<locals>.<lambda> at 0x1166a0158>, {'target_rot_position': 46.845}), 'disk_bottom': defaultdict(<function Robot._push_once.<locals>.<lambda>.<locals>.<lambda> at 0x1166a06a8>, {'target_rot_position': 57.9})})\n",
      "defaultdict(<function Robot._push_once.<locals>.<lambda> at 0x1166a0268>, {'disk_top': defaultdict(<function Robot._push_once.<locals>.<lambda>.<locals>.<lambda> at 0x10fe05ea0>, {'target_rot_position': 67.853}), 'disk_middle': defaultdict(<function Robot._push_once.<locals>.<lambda>.<locals>.<lambda> at 0x1166a06a8>, {'target_rot_position': 47.973}), 'disk_bottom': defaultdict(<function Robot._push_once.<locals>.<lambda>.<locals>.<lambda> at 0x1166a0158>, {'target_rot_position': 58.639})})\n",
      "defaultdict(<function Robot._push_once.<locals>.<lambda> at 0x1166a01e0>, {'disk_top': defaultdict(<function Robot._push_once.<locals>.<lambda>.<locals>.<lambda> at 0x10fe05ea0>, {'target_rot_position': 68.993}), 'disk_middle': defaultdict(<function Robot._push_once.<locals>.<lambda>.<locals>.<lambda> at 0x1166a0158>, {'target_rot_position': 49.109}), 'disk_bottom': defaultdict(<function Robot._push_once.<locals>.<lambda>.<locals>.<lambda> at 0x1166a06a8>, {'target_rot_position': 59.381})})\n",
      "defaultdict(<function Robot._push_once.<locals>.<lambda> at 0x1166a0268>, {'disk_top': defaultdict(<function Robot._push_once.<locals>.<lambda>.<locals>.<lambda> at 0x1166a06a8>, {'target_rot_position': 70.135}), 'disk_middle': defaultdict(<function Robot._push_once.<locals>.<lambda>.<locals>.<lambda> at 0x1166a0158>, {'target_rot_position': 50.249}), 'disk_bottom': defaultdict(<function Robot._push_once.<locals>.<lambda>.<locals>.<lambda> at 0x1166a01e0>, {'target_rot_position': 60.125})})\n",
      "defaultdict(<function Robot._push_once.<locals>.<lambda> at 0x10fe05ea0>, {'disk_top': defaultdict(<function Robot._push_once.<locals>.<lambda>.<locals>.<lambda> at 0x1166a01e0>, {'target_rot_position': 71.274}), 'disk_middle': defaultdict(<function Robot._push_once.<locals>.<lambda>.<locals>.<lambda> at 0x1166a0158>, {'target_rot_position': 51.39}), 'disk_bottom': defaultdict(<function Robot._push_once.<locals>.<lambda>.<locals>.<lambda> at 0x1166a06a8>, {'target_rot_position': 60.869})})\n",
      "defaultdict(<function Robot._push_once.<locals>.<lambda> at 0x1166a0268>, {'disk_top': defaultdict(<function Robot._push_once.<locals>.<lambda>.<locals>.<lambda> at 0x10fe05ea0>, {'target_rot_position': 72.407}), 'disk_middle': defaultdict(<function Robot._push_once.<locals>.<lambda>.<locals>.<lambda> at 0x1166a06a8>, {'target_rot_position': 52.53}), 'disk_bottom': defaultdict(<function Robot._push_once.<locals>.<lambda>.<locals>.<lambda> at 0x1166a0158>, {'target_rot_position': 61.61})})\n",
      "defaultdict(<function Robot._push_once.<locals>.<lambda> at 0x1166a01e0>, {'disk_top': defaultdict(<function Robot._push_once.<locals>.<lambda>.<locals>.<lambda> at 0x10fe05ea0>, {'target_rot_position': 73.532}), 'disk_middle': defaultdict(<function Robot._push_once.<locals>.<lambda>.<locals>.<lambda> at 0x1166a0158>, {'target_rot_position': 53.666}), 'disk_bottom': defaultdict(<function Robot._push_once.<locals>.<lambda>.<locals>.<lambda> at 0x1166a06a8>, {'target_rot_position': 62.348})})\n",
      "defaultdict(<function Robot._push_once.<locals>.<lambda> at 0x1166a0268>, {'disk_top': defaultdict(<function Robot._push_once.<locals>.<lambda>.<locals>.<lambda> at 0x1166a0598>, {'target_rot_position': 75.746}), 'disk_middle': defaultdict(<function Robot._push_once.<locals>.<lambda>.<locals>.<lambda> at 0x1166a06a8>, {'target_rot_position': 55.912}), 'disk_bottom': defaultdict(<function Robot._push_once.<locals>.<lambda>.<locals>.<lambda> at 0x1166a0158>, {'target_rot_position': 63.804})})\n",
      "defaultdict(<function Robot._push_once.<locals>.<lambda> at 0x10fe05ea0>, {'disk_top': defaultdict(<function Robot._push_once.<locals>.<lambda>.<locals>.<lambda> at 0x1166a0158>, {'target_rot_position': 76.83}), 'disk_middle': defaultdict(<function Robot._push_once.<locals>.<lambda>.<locals>.<lambda> at 0x1166a06a8>, {'target_rot_position': 57.017}), 'disk_bottom': defaultdict(<function Robot._push_once.<locals>.<lambda>.<locals>.<lambda> at 0x1166a0598>, {'target_rot_position': 64.52})})\n",
      "defaultdict(<function Robot._push_once.<locals>.<lambda> at 0x1166a01e0>, {'disk_top': defaultdict(<function Robot._push_once.<locals>.<lambda>.<locals>.<lambda> at 0x10fe05ea0>, {'target_rot_position': 77.894}), 'disk_middle': defaultdict(<function Robot._push_once.<locals>.<lambda>.<locals>.<lambda> at 0x1166a0598>, {'target_rot_position': 58.106}), 'disk_bottom': defaultdict(<function Robot._push_once.<locals>.<lambda>.<locals>.<lambda> at 0x1166a06a8>, {'target_rot_position': 65.225})})\n",
      "defaultdict(<function Robot._push_once.<locals>.<lambda> at 0x1166a0158>, {'disk_top': defaultdict(<function Robot._push_once.<locals>.<lambda>.<locals>.<lambda> at 0x10fe05ea0>, {'target_rot_position': 78.936}), 'disk_middle': defaultdict(<function Robot._push_once.<locals>.<lambda>.<locals>.<lambda> at 0x1166a06a8>, {'target_rot_position': 59.175}), 'disk_bottom': defaultdict(<function Robot._push_once.<locals>.<lambda>.<locals>.<lambda> at 0x1166a0598>, {'target_rot_position': 65.917})})\n",
      "defaultdict(<function Robot._push_once.<locals>.<lambda> at 0x1166a0268>, {'disk_top': defaultdict(<function Robot._push_once.<locals>.<lambda>.<locals>.<lambda> at 0x10fe05ea0>, {'target_rot_position': 79.954}), 'disk_middle': defaultdict(<function Robot._push_once.<locals>.<lambda>.<locals>.<lambda> at 0x1166a0598>, {'target_rot_position': 60.223}), 'disk_bottom': defaultdict(<function Robot._push_once.<locals>.<lambda>.<locals>.<lambda> at 0x1166a06a8>, {'target_rot_position': 66.595})})\n",
      "defaultdict(<function Robot._push_once.<locals>.<lambda> at 0x1166a01e0>, {'disk_top': defaultdict(<function Robot._push_once.<locals>.<lambda>.<locals>.<lambda> at 0x10fe05ea0>, {'target_rot_position': 80.944}), 'disk_middle': defaultdict(<function Robot._push_once.<locals>.<lambda>.<locals>.<lambda> at 0x1166a06a8>, {'target_rot_position': 61.247}), 'disk_bottom': defaultdict(<function Robot._push_once.<locals>.<lambda>.<locals>.<lambda> at 0x1166a0598>, {'target_rot_position': 67.258})})\n",
      "defaultdict(<function Robot._push_once.<locals>.<lambda> at 0x1166a0730>, {'disk_top': defaultdict(<function Robot._push_once.<locals>.<lambda>.<locals>.<lambda> at 0x10fe05ea0>, {'target_rot_position': 81.905}), 'disk_middle': defaultdict(<function Robot._push_once.<locals>.<lambda>.<locals>.<lambda> at 0x1166a0268>, {'target_rot_position': 62.243}), 'disk_bottom': defaultdict(<function Robot._push_once.<locals>.<lambda>.<locals>.<lambda> at 0x1166a0598>, {'target_rot_position': 67.902})})\n",
      "defaultdict(<function Robot._push_once.<locals>.<lambda> at 0x1166a06a8>, {'disk_top': defaultdict(<function Robot._push_once.<locals>.<lambda>.<locals>.<lambda> at 0x10fe05ea0>, {'target_rot_position': 82.835}), 'disk_middle': defaultdict(<function Robot._push_once.<locals>.<lambda>.<locals>.<lambda> at 0x1166a0598>, {'target_rot_position': 63.209}), 'disk_bottom': defaultdict(<function Robot._push_once.<locals>.<lambda>.<locals>.<lambda> at 0x1166a0268>, {'target_rot_position': 68.528})})\n"
     ]
    },
    {
     "name": "stdout",
     "output_type": "stream",
     "text": [
      "defaultdict(<function Robot._push_once.<locals>.<lambda> at 0x1166a0730>, {'disk_top': defaultdict(<function Robot._push_once.<locals>.<lambda>.<locals>.<lambda> at 0x1166a0268>, {'target_rot_position': 84.591}), 'disk_middle': defaultdict(<function Robot._push_once.<locals>.<lambda>.<locals>.<lambda> at 0x1166a0598>, {'target_rot_position': 65.042}), 'disk_bottom': defaultdict(<function Robot._push_once.<locals>.<lambda>.<locals>.<lambda> at 0x1166a06a8>, {'target_rot_position': 69.716})})\n",
      "defaultdict(<function Robot._push_once.<locals>.<lambda> at 0x10fe05ea0>, {'disk_top': defaultdict(<function Robot._push_once.<locals>.<lambda>.<locals>.<lambda> at 0x1166a0598>, {'target_rot_position': 85.413}), 'disk_middle': defaultdict(<function Robot._push_once.<locals>.<lambda>.<locals>.<lambda> at 0x1166a0268>, {'target_rot_position': 65.904}), 'disk_bottom': defaultdict(<function Robot._push_once.<locals>.<lambda>.<locals>.<lambda> at 0x1166a0730>, {'target_rot_position': 70.275})})\n",
      "defaultdict(<function Robot._push_once.<locals>.<lambda> at 0x1166a01e0>, {'disk_top': defaultdict(<function Robot._push_once.<locals>.<lambda>.<locals>.<lambda> at 0x10fe05ea0>, {'target_rot_position': 86.196})})\n",
      "defaultdict(<function Robot._push_once.<locals>.<lambda> at 0x1166a0268>, {'disk_middle': defaultdict(<function Robot._push_once.<locals>.<lambda>.<locals>.<lambda> at 0x10fe05ea0>, {'target_rot_position': 66.727})})\n",
      "defaultdict(<function Robot._push_once.<locals>.<lambda> at 0x1166a0730>, {'disk_bottom': defaultdict(<function Robot._push_once.<locals>.<lambda>.<locals>.<lambda> at 0x10fe05ea0>, {'target_rot_position': 70.808})})\n",
      "defaultdict(<function Robot._push_once.<locals>.<lambda> at 0x1166a0268>, {'disk_top': defaultdict(<function Robot._push_once.<locals>.<lambda>.<locals>.<lambda> at 0x10fe05ea0>, {'target_rot_position': 86.937}), 'disk_middle': defaultdict(<function Robot._push_once.<locals>.<lambda>.<locals>.<lambda> at 0x1166a0730>, {'target_rot_position': 67.508}), 'disk_bottom': defaultdict(<function Robot._push_once.<locals>.<lambda>.<locals>.<lambda> at 0x1166a06a8>, {'target_rot_position': 71.315})})\n",
      "defaultdict(<function Robot._push_once.<locals>.<lambda> at 0x1166a0598>, {'disk_top': defaultdict(<function Robot._push_once.<locals>.<lambda>.<locals>.<lambda> at 0x10fe05ea0>, {'target_rot_position': 87.635}), 'disk_middle': defaultdict(<function Robot._push_once.<locals>.<lambda>.<locals>.<lambda> at 0x1166a06a8>, {'target_rot_position': 68.246}), 'disk_bottom': defaultdict(<function Robot._push_once.<locals>.<lambda>.<locals>.<lambda> at 0x1166a0730>, {'target_rot_position': 71.794})})\n",
      "defaultdict(<function Robot._push_once.<locals>.<lambda> at 0x1166a0268>, {'disk_top': defaultdict(<function Robot._push_once.<locals>.<lambda>.<locals>.<lambda> at 0x10fe05ea0>, {'target_rot_position': 88.288})})\n",
      "defaultdict(<function Robot._push_once.<locals>.<lambda> at 0x1166a06a8>, {'disk_middle': defaultdict(<function Robot._push_once.<locals>.<lambda>.<locals>.<lambda> at 0x10fe05ea0>, {'target_rot_position': 68.938})})\n",
      "defaultdict(<function Robot._push_once.<locals>.<lambda> at 0x1166a0730>, {'disk_bottom': defaultdict(<function Robot._push_once.<locals>.<lambda>.<locals>.<lambda> at 0x10fe05ea0>, {'target_rot_position': 72.244})})\n",
      "defaultdict(<function Robot._push_once.<locals>.<lambda> at 0x1166a0268>, {'disk_top': defaultdict(<function Robot._push_once.<locals>.<lambda>.<locals>.<lambda> at 0x10fe05ea0>, {'target_rot_position': 88.896}), 'disk_middle': defaultdict(<function Robot._push_once.<locals>.<lambda>.<locals>.<lambda> at 0x1166a0730>, {'target_rot_position': 69.583}), 'disk_bottom': defaultdict(<function Robot._push_once.<locals>.<lambda>.<locals>.<lambda> at 0x1166a06a8>, {'target_rot_position': 72.664})})\n",
      "defaultdict(<function Robot._push_once.<locals>.<lambda> at 0x1166a0598>, {'disk_top': defaultdict(<function Robot._push_once.<locals>.<lambda>.<locals>.<lambda> at 0x10fe05ea0>, {'target_rot_position': 89.456}), 'disk_middle': defaultdict(<function Robot._push_once.<locals>.<lambda>.<locals>.<lambda> at 0x1166a06a8>, {'target_rot_position': 70.178}), 'disk_bottom': defaultdict(<function Robot._push_once.<locals>.<lambda>.<locals>.<lambda> at 0x1166a0730>, {'target_rot_position': 73.052})})\n",
      "defaultdict(<function Robot._push_once.<locals>.<lambda> at 0x1166a0268>, {'disk_top': defaultdict(<function Robot._push_once.<locals>.<lambda>.<locals>.<lambda> at 0x10fe05ea0>, {'target_rot_position': 89.968}), 'disk_middle': defaultdict(<function Robot._push_once.<locals>.<lambda>.<locals>.<lambda> at 0x1166a0730>, {'target_rot_position': 70.724}), 'disk_bottom': defaultdict(<function Robot._push_once.<locals>.<lambda>.<locals>.<lambda> at 0x1166a06a8>, {'target_rot_position': 73.407})})\n",
      "defaultdict(<function Robot._push_once.<locals>.<lambda> at 0x1166a01e0>, {'disk_top': defaultdict(<function Robot._push_once.<locals>.<lambda>.<locals>.<lambda> at 0x10fe05ea0>, {'target_rot_position': 90.43}), 'disk_middle': defaultdict(<function Robot._push_once.<locals>.<lambda>.<locals>.<lambda> at 0x1166a06a8>, {'target_rot_position': 71.217}), 'disk_bottom': defaultdict(<function Robot._push_once.<locals>.<lambda>.<locals>.<lambda> at 0x1166a0730>, {'target_rot_position': 73.729})})\n",
      "defaultdict(<function Robot._push_once.<locals>.<lambda> at 0x1166a0268>, {'disk_top': defaultdict(<function Robot._push_once.<locals>.<lambda>.<locals>.<lambda> at 0x10fe05ea0>, {'target_rot_position': 90.841}), 'disk_middle': defaultdict(<function Robot._push_once.<locals>.<lambda>.<locals>.<lambda> at 0x1166a0730>, {'target_rot_position': 71.657}), 'disk_bottom': defaultdict(<function Robot._push_once.<locals>.<lambda>.<locals>.<lambda> at 0x1166a06a8>, {'target_rot_position': 74.016})})\n",
      "defaultdict(<function Robot._push_once.<locals>.<lambda> at 0x1166a0158>, {'disk_top': defaultdict(<function Robot._push_once.<locals>.<lambda>.<locals>.<lambda> at 0x10fe05ea0>, {'target_rot_position': 91.202}), 'disk_middle': defaultdict(<function Robot._push_once.<locals>.<lambda>.<locals>.<lambda> at 0x1166a06a8>, {'target_rot_position': 72.043}), 'disk_bottom': defaultdict(<function Robot._push_once.<locals>.<lambda>.<locals>.<lambda> at 0x1166a0730>, {'target_rot_position': 74.267})})\n",
      "defaultdict(<function Robot._push_once.<locals>.<lambda> at 0x1166a0598>, {'disk_top': defaultdict(<function Robot._push_once.<locals>.<lambda>.<locals>.<lambda> at 0x1166a01e0>, {'target_rot_position': 91.51}), 'disk_middle': defaultdict(<function Robot._push_once.<locals>.<lambda>.<locals>.<lambda> at 0x1166a0730>, {'target_rot_position': 72.373}), 'disk_bottom': defaultdict(<function Robot._push_once.<locals>.<lambda>.<locals>.<lambda> at 0x1166a06a8>, {'target_rot_position': 74.483})})\n",
      "defaultdict(<function Robot._push_once.<locals>.<lambda> at 0x10fe05ea0>, {'disk_top': defaultdict(<function Robot._push_once.<locals>.<lambda>.<locals>.<lambda> at 0x1166a06a8>, {'target_rot_position': 91.765}), 'disk_middle': defaultdict(<function Robot._push_once.<locals>.<lambda>.<locals>.<lambda> at 0x1166a0730>, {'target_rot_position': 72.647}), 'disk_bottom': defaultdict(<function Robot._push_once.<locals>.<lambda>.<locals>.<lambda> at 0x1166a01e0>, {'target_rot_position': 74.662})})\n",
      "defaultdict(<function Robot._push_once.<locals>.<lambda> at 0x1166a0598>, {'disk_top': defaultdict(<function Robot._push_once.<locals>.<lambda>.<locals>.<lambda> at 0x10fe05ea0>, {'target_rot_position': 91.967}), 'disk_middle': defaultdict(<function Robot._push_once.<locals>.<lambda>.<locals>.<lambda> at 0x1166a0268>, {'target_rot_position': 72.864}), 'disk_bottom': defaultdict(<function Robot._push_once.<locals>.<lambda>.<locals>.<lambda> at 0x1166a01e0>, {'target_rot_position': 74.804})})\n",
      "defaultdict(<function Robot._push_once.<locals>.<lambda> at 0x1166a06a8>, {'disk_top': defaultdict(<function Robot._push_once.<locals>.<lambda>.<locals>.<lambda> at 0x10fe05ea0>, {'target_rot_position': 92.116}), 'disk_middle': defaultdict(<function Robot._push_once.<locals>.<lambda>.<locals>.<lambda> at 0x1166a01e0>, {'target_rot_position': 73.024}), 'disk_bottom': defaultdict(<function Robot._push_once.<locals>.<lambda>.<locals>.<lambda> at 0x1166a0268>, {'target_rot_position': 74.909})})\n",
      "defaultdict(<function Robot._push_once.<locals>.<lambda> at 0x1166a0730>, {'disk_top': defaultdict(<function Robot._push_once.<locals>.<lambda>.<locals>.<lambda> at 0x10fe05ea0>, {'target_rot_position': 92.211}), 'disk_middle': defaultdict(<function Robot._push_once.<locals>.<lambda>.<locals>.<lambda> at 0x1166a0268>, {'target_rot_position': 73.126}), 'disk_bottom': defaultdict(<function Robot._push_once.<locals>.<lambda>.<locals>.<lambda> at 0x1166a01e0>, {'target_rot_position': 74.975})})\n",
      "defaultdict(<function Robot._push_once.<locals>.<lambda> at 0x1166a0598>, {'disk_top': defaultdict(<function Robot._push_once.<locals>.<lambda>.<locals>.<lambda> at 0x10fe05ea0>, {'target_rot_position': 92.251}), 'disk_middle': defaultdict(<function Robot._push_once.<locals>.<lambda>.<locals>.<lambda> at 0x1166a01e0>, {'target_rot_position': 73.169}), 'disk_bottom': defaultdict(<function Robot._push_once.<locals>.<lambda>.<locals>.<lambda> at 0x1166a0268>, {'target_rot_position': 75.004})})\n",
      "defaultdict(<function Robot._push_once.<locals>.<lambda> at 0x1166a06a8>, {'disk_top': defaultdict(<function Robot._push_once.<locals>.<lambda>.<locals>.<lambda> at 0x10fe05ea0>, {'target_rot_position': 92.238}), 'disk_middle': defaultdict(<function Robot._push_once.<locals>.<lambda>.<locals>.<lambda> at 0x1166a0268>, {'target_rot_position': 73.154}), 'disk_bottom': defaultdict(<function Robot._push_once.<locals>.<lambda>.<locals>.<lambda> at 0x1166a01e0>, {'target_rot_position': 74.994})})\n",
      "defaultdict(<function Robot._push_once.<locals>.<lambda> at 0x1166a0598>, {'disk_top': defaultdict(<function Robot._push_once.<locals>.<lambda>.<locals>.<lambda> at 0x10fe05ea0>, {'target_rot_position': 92.17}), 'disk_middle': defaultdict(<function Robot._push_once.<locals>.<lambda>.<locals>.<lambda> at 0x1166a01e0>, {'target_rot_position': 73.081}), 'disk_bottom': defaultdict(<function Robot._push_once.<locals>.<lambda>.<locals>.<lambda> at 0x1166a0268>, {'target_rot_position': 74.946})})\n",
      "defaultdict(<function Robot._push_once.<locals>.<lambda> at 0x1166a0730>, {'disk_top': defaultdict(<function Robot._push_once.<locals>.<lambda>.<locals>.<lambda> at 0x10fe05ea0>, {'target_rot_position': 92.048}), 'disk_middle': defaultdict(<function Robot._push_once.<locals>.<lambda>.<locals>.<lambda> at 0x1166a0268>, {'target_rot_position': 72.95}), 'disk_bottom': defaultdict(<function Robot._push_once.<locals>.<lambda>.<locals>.<lambda> at 0x1166a01e0>, {'target_rot_position': 74.861})})\n",
      "defaultdict(<function Robot._push_once.<locals>.<lambda> at 0x1166a06a8>, {'disk_top': defaultdict(<function Robot._push_once.<locals>.<lambda>.<locals>.<lambda> at 0x10fe05ea0>, {'target_rot_position': 91.872}), 'disk_middle': defaultdict(<function Robot._push_once.<locals>.<lambda>.<locals>.<lambda> at 0x1166a01e0>, {'target_rot_position': 72.762}), 'disk_bottom': defaultdict(<function Robot._push_once.<locals>.<lambda>.<locals>.<lambda> at 0x1166a0268>, {'target_rot_position': 74.737})})\n",
      "defaultdict(<function Robot._push_once.<locals>.<lambda> at 0x1166a0598>, {'disk_top': defaultdict(<function Robot._push_once.<locals>.<lambda>.<locals>.<lambda> at 0x10fe05ea0>, {'target_rot_position': 91.643}), 'disk_middle': defaultdict(<function Robot._push_once.<locals>.<lambda>.<locals>.<lambda> at 0x1166a0268>, {'target_rot_position': 72.516}), 'disk_bottom': defaultdict(<function Robot._push_once.<locals>.<lambda>.<locals>.<lambda> at 0x1166a01e0>, {'target_rot_position': 74.577})})\n",
      "defaultdict(<function Robot._push_once.<locals>.<lambda> at 0x1166a0730>, {'disk_top': defaultdict(<function Robot._push_once.<locals>.<lambda>.<locals>.<lambda> at 0x10fe05ea0>, {'target_rot_position': 91.361}), 'disk_middle': defaultdict(<function Robot._push_once.<locals>.<lambda>.<locals>.<lambda> at 0x1166a01e0>, {'target_rot_position': 72.213}), 'disk_bottom': defaultdict(<function Robot._push_once.<locals>.<lambda>.<locals>.<lambda> at 0x1166a0268>, {'target_rot_position': 74.379})})\n",
      "defaultdict(<function Robot._push_once.<locals>.<lambda> at 0x1166a06a8>, {'disk_top': defaultdict(<function Robot._push_once.<locals>.<lambda>.<locals>.<lambda> at 0x10fe05ea0>, {'target_rot_position': 91.026}), 'disk_middle': defaultdict(<function Robot._push_once.<locals>.<lambda>.<locals>.<lambda> at 0x1166a0268>, {'target_rot_position': 71.855}), 'disk_bottom': defaultdict(<function Robot._push_once.<locals>.<lambda>.<locals>.<lambda> at 0x1166a01e0>, {'target_rot_position': 74.145})})\n"
     ]
    },
    {
     "name": "stdout",
     "output_type": "stream",
     "text": [
      "defaultdict(<function Robot._push_once.<locals>.<lambda> at 0x1166a0598>, {'disk_top': defaultdict(<function Robot._push_once.<locals>.<lambda>.<locals>.<lambda> at 0x1166a01e0>, {'target_rot_position': 90.64}), 'disk_middle': defaultdict(<function Robot._push_once.<locals>.<lambda>.<locals>.<lambda> at 0x1166a0268>, {'target_rot_position': 71.442}), 'disk_bottom': defaultdict(<function Robot._push_once.<locals>.<lambda>.<locals>.<lambda> at 0x1166a06a8>, {'target_rot_position': 73.875})})\n",
      "defaultdict(<function Robot._push_once.<locals>.<lambda> at 0x10fe05ea0>, {'disk_top': defaultdict(<function Robot._push_once.<locals>.<lambda>.<locals>.<lambda> at 0x1166a06a8>, {'target_rot_position': 90.203}), 'disk_middle': defaultdict(<function Robot._push_once.<locals>.<lambda>.<locals>.<lambda> at 0x1166a0268>, {'target_rot_position': 70.975}), 'disk_bottom': defaultdict(<function Robot._push_once.<locals>.<lambda>.<locals>.<lambda> at 0x1166a01e0>, {'target_rot_position': 73.571})})\n",
      "defaultdict(<function Robot._push_once.<locals>.<lambda> at 0x1166a0158>, {'disk_top': defaultdict(<function Robot._push_once.<locals>.<lambda>.<locals>.<lambda> at 0x10fe05ea0>, {'target_rot_position': 89.716}), 'disk_middle': defaultdict(<function Robot._push_once.<locals>.<lambda>.<locals>.<lambda> at 0x1166a0730>, {'target_rot_position': 70.455}), 'disk_bottom': defaultdict(<function Robot._push_once.<locals>.<lambda>.<locals>.<lambda> at 0x1166a0598>, {'target_rot_position': 73.232})})\n",
      "defaultdict(<function Robot._push_once.<locals>.<lambda> at 0x1166a01e0>, {'disk_top': defaultdict(<function Robot._push_once.<locals>.<lambda>.<locals>.<lambda> at 0x10fe05ea0>, {'target_rot_position': 89.179}), 'disk_middle': defaultdict(<function Robot._push_once.<locals>.<lambda>.<locals>.<lambda> at 0x1166a0598>, {'target_rot_position': 69.884}), 'disk_bottom': defaultdict(<function Robot._push_once.<locals>.<lambda>.<locals>.<lambda> at 0x1166a0730>, {'target_rot_position': 72.86})})\n",
      "defaultdict(<function Robot._push_once.<locals>.<lambda> at 0x1166a0268>, {'disk_top': defaultdict(<function Robot._push_once.<locals>.<lambda>.<locals>.<lambda> at 0x10fe05ea0>, {'target_rot_position': 88.595}), 'disk_middle': defaultdict(<function Robot._push_once.<locals>.<lambda>.<locals>.<lambda> at 0x1166a0730>, {'target_rot_position': 69.263}), 'disk_bottom': defaultdict(<function Robot._push_once.<locals>.<lambda>.<locals>.<lambda> at 0x1166a0598>, {'target_rot_position': 72.456})})\n",
      "defaultdict(<function Robot._push_once.<locals>.<lambda> at 0x1166a0158>, {'disk_top': defaultdict(<function Robot._push_once.<locals>.<lambda>.<locals>.<lambda> at 0x10fe05ea0>, {'target_rot_position': 87.964}), 'disk_middle': defaultdict(<function Robot._push_once.<locals>.<lambda>.<locals>.<lambda> at 0x1166a0598>, {'target_rot_position': 68.595}), 'disk_bottom': defaultdict(<function Robot._push_once.<locals>.<lambda>.<locals>.<lambda> at 0x1166a0730>, {'target_rot_position': 72.021})})\n",
      "defaultdict(<function Robot._push_once.<locals>.<lambda> at 0x1166a0268>, {'disk_top': defaultdict(<function Robot._push_once.<locals>.<lambda>.<locals>.<lambda> at 0x10fe05ea0>, {'target_rot_position': 87.288}), 'disk_middle': defaultdict(<function Robot._push_once.<locals>.<lambda>.<locals>.<lambda> at 0x1166a01e0>, {'target_rot_position': 67.879}), 'disk_bottom': defaultdict(<function Robot._push_once.<locals>.<lambda>.<locals>.<lambda> at 0x1166a0730>, {'target_rot_position': 71.556})})\n",
      "defaultdict(<function Robot._push_once.<locals>.<lambda> at 0x1166a0598>, {'disk_top': defaultdict(<function Robot._push_once.<locals>.<lambda>.<locals>.<lambda> at 0x10fe05ea0>, {'target_rot_position': 86.568}), 'disk_middle': defaultdict(<function Robot._push_once.<locals>.<lambda>.<locals>.<lambda> at 0x1166a0730>, {'target_rot_position': 67.12}), 'disk_bottom': defaultdict(<function Robot._push_once.<locals>.<lambda>.<locals>.<lambda> at 0x1166a01e0>, {'target_rot_position': 71.063})})\n",
      "defaultdict(<function Robot._push_once.<locals>.<lambda> at 0x1166a0158>, {'disk_top': defaultdict(<function Robot._push_once.<locals>.<lambda>.<locals>.<lambda> at 0x10fe05ea0>, {'target_rot_position': 85.806}), 'disk_middle': defaultdict(<function Robot._push_once.<locals>.<lambda>.<locals>.<lambda> at 0x1166a01e0>, {'target_rot_position': 66.317}), 'disk_bottom': defaultdict(<function Robot._push_once.<locals>.<lambda>.<locals>.<lambda> at 0x1166a0730>, {'target_rot_position': 70.542})})\n",
      "defaultdict(<function Robot._push_once.<locals>.<lambda> at 0x1166a0268>, {'disk_top': defaultdict(<function Robot._push_once.<locals>.<lambda>.<locals>.<lambda> at 0x10fe05ea0>, {'target_rot_position': 85.003}), 'disk_middle': defaultdict(<function Robot._push_once.<locals>.<lambda>.<locals>.<lambda> at 0x1166a0730>, {'target_rot_position': 65.474}), 'disk_bottom': defaultdict(<function Robot._push_once.<locals>.<lambda>.<locals>.<lambda> at 0x1166a01e0>, {'target_rot_position': 69.996})})\n",
      "defaultdict(<function Robot._push_once.<locals>.<lambda> at 0x1166a0158>, {'disk_top': defaultdict(<function Robot._push_once.<locals>.<lambda>.<locals>.<lambda> at 0x10fe05ea0>, {'target_rot_position': 84.162}), 'disk_middle': defaultdict(<function Robot._push_once.<locals>.<lambda>.<locals>.<lambda> at 0x1166a01e0>, {'target_rot_position': 64.593}), 'disk_bottom': defaultdict(<function Robot._push_once.<locals>.<lambda>.<locals>.<lambda> at 0x1166a0730>, {'target_rot_position': 69.425})})\n",
      "defaultdict(<function Robot._push_once.<locals>.<lambda> at 0x1166a0598>, {'disk_top': defaultdict(<function Robot._push_once.<locals>.<lambda>.<locals>.<lambda> at 0x10fe05ea0>, {'target_rot_position': 83.283}), 'disk_middle': defaultdict(<function Robot._push_once.<locals>.<lambda>.<locals>.<lambda> at 0x1166a0730>, {'target_rot_position': 63.676}), 'disk_bottom': defaultdict(<function Robot._push_once.<locals>.<lambda>.<locals>.<lambda> at 0x1166a01e0>, {'target_rot_position': 68.831})})\n",
      "defaultdict(<function Robot._push_once.<locals>.<lambda> at 0x1166a0268>, {'disk_top': defaultdict(<function Robot._push_once.<locals>.<lambda>.<locals>.<lambda> at 0x10fe05ea0>, {'target_rot_position': 82.37}), 'disk_middle': defaultdict(<function Robot._push_once.<locals>.<lambda>.<locals>.<lambda> at 0x1166a01e0>, {'target_rot_position': 62.726}), 'disk_bottom': defaultdict(<function Robot._push_once.<locals>.<lambda>.<locals>.<lambda> at 0x1166a0730>, {'target_rot_position': 68.215})})\n",
      "defaultdict(<function Robot._push_once.<locals>.<lambda> at 0x1166a06a8>, {'disk_top': defaultdict(<function Robot._push_once.<locals>.<lambda>.<locals>.<lambda> at 0x10fe05ea0>, {'target_rot_position': 81.424}), 'disk_middle': defaultdict(<function Robot._push_once.<locals>.<lambda>.<locals>.<lambda> at 0x1166a0158>, {'target_rot_position': 61.744}), 'disk_bottom': defaultdict(<function Robot._push_once.<locals>.<lambda>.<locals>.<lambda> at 0x1166a0598>, {'target_rot_position': 67.58})})\n",
      "defaultdict(<function Robot._push_once.<locals>.<lambda> at 0x1166a01e0>, {'disk_top': defaultdict(<function Robot._push_once.<locals>.<lambda>.<locals>.<lambda> at 0x10fe05ea0>, {'target_rot_position': 80.448}), 'disk_middle': defaultdict(<function Robot._push_once.<locals>.<lambda>.<locals>.<lambda> at 0x1166a0598>, {'target_rot_position': 60.734}), 'disk_bottom': defaultdict(<function Robot._push_once.<locals>.<lambda>.<locals>.<lambda> at 0x1166a0158>, {'target_rot_position': 66.926})})\n",
      "defaultdict(<function Robot._push_once.<locals>.<lambda> at 0x1166a06a8>, {'disk_top': defaultdict(<function Robot._push_once.<locals>.<lambda>.<locals>.<lambda> at 0x10fe05ea0>, {'target_rot_position': 79.444}), 'disk_middle': defaultdict(<function Robot._push_once.<locals>.<lambda>.<locals>.<lambda> at 0x1166a0158>, {'target_rot_position': 59.697}), 'disk_bottom': defaultdict(<function Robot._push_once.<locals>.<lambda>.<locals>.<lambda> at 0x1166a0598>, {'target_rot_position': 66.255})})\n",
      "defaultdict(<function Robot._push_once.<locals>.<lambda> at 0x1166a0268>, {'disk_top': defaultdict(<function Robot._push_once.<locals>.<lambda>.<locals>.<lambda> at 0x10fe05ea0>, {'target_rot_position': 78.413}), 'disk_middle': defaultdict(<function Robot._push_once.<locals>.<lambda>.<locals>.<lambda> at 0x1166a0598>, {'target_rot_position': 58.638}), 'disk_bottom': defaultdict(<function Robot._push_once.<locals>.<lambda>.<locals>.<lambda> at 0x1166a0158>, {'target_rot_position': 65.57})})\n",
      "defaultdict(<function Robot._push_once.<locals>.<lambda> at 0x1166a01e0>, {'disk_top': defaultdict(<function Robot._push_once.<locals>.<lambda>.<locals>.<lambda> at 0x10fe05ea0>, {'target_rot_position': 77.36}), 'disk_middle': defaultdict(<function Robot._push_once.<locals>.<lambda>.<locals>.<lambda> at 0x1166a0158>, {'target_rot_position': 57.559}), 'disk_bottom': defaultdict(<function Robot._push_once.<locals>.<lambda>.<locals>.<lambda> at 0x1166a0598>, {'target_rot_position': 64.871})})\n",
      "defaultdict(<function Robot._push_once.<locals>.<lambda> at 0x1166a0268>, {'disk_top': defaultdict(<function Robot._push_once.<locals>.<lambda>.<locals>.<lambda> at 0x10fe05ea0>, {'target_rot_position': 76.286}), 'disk_middle': defaultdict(<function Robot._push_once.<locals>.<lambda>.<locals>.<lambda> at 0x1166a06a8>, {'target_rot_position': 56.462}), 'disk_bottom': defaultdict(<function Robot._push_once.<locals>.<lambda>.<locals>.<lambda> at 0x1166a0598>, {'target_rot_position': 64.16})})\n",
      "defaultdict(<function Robot._push_once.<locals>.<lambda> at 0x1166a01e0>, {'disk_top': defaultdict(<function Robot._push_once.<locals>.<lambda>.<locals>.<lambda> at 0x10fe05ea0>, {'target_rot_position': 75.193}), 'disk_middle': defaultdict(<function Robot._push_once.<locals>.<lambda>.<locals>.<lambda> at 0x1166a0598>, {'target_rot_position': 55.35}), 'disk_bottom': defaultdict(<function Robot._push_once.<locals>.<lambda>.<locals>.<lambda> at 0x1166a06a8>, {'target_rot_position': 63.44})})\n",
      "defaultdict(<function Robot._push_once.<locals>.<lambda> at 0x1166a0158>, {'disk_top': defaultdict(<function Robot._push_once.<locals>.<lambda>.<locals>.<lambda> at 0x10fe05ea0>, {'target_rot_position': 74.086}), 'disk_middle': defaultdict(<function Robot._push_once.<locals>.<lambda>.<locals>.<lambda> at 0x1166a06a8>, {'target_rot_position': 54.226}), 'disk_bottom': defaultdict(<function Robot._push_once.<locals>.<lambda>.<locals>.<lambda> at 0x1166a0598>, {'target_rot_position': 62.711})})\n",
      "defaultdict(<function Robot._push_once.<locals>.<lambda> at 0x1166a01e0>, {'disk_top': defaultdict(<function Robot._push_once.<locals>.<lambda>.<locals>.<lambda> at 0x10fe05ea0>, {'target_rot_position': 72.966}), 'disk_middle': defaultdict(<function Robot._push_once.<locals>.<lambda>.<locals>.<lambda> at 0x1166a0598>, {'target_rot_position': 53.094}), 'disk_bottom': defaultdict(<function Robot._push_once.<locals>.<lambda>.<locals>.<lambda> at 0x1166a06a8>, {'target_rot_position': 61.976})})\n",
      "defaultdict(<function Robot._push_once.<locals>.<lambda> at 0x1166a0268>, {'disk_top': defaultdict(<function Robot._push_once.<locals>.<lambda>.<locals>.<lambda> at 0x10fe05ea0>, {'target_rot_position': 71.836}), 'disk_middle': defaultdict(<function Robot._push_once.<locals>.<lambda>.<locals>.<lambda> at 0x1166a06a8>, {'target_rot_position': 51.956}), 'disk_bottom': defaultdict(<function Robot._push_once.<locals>.<lambda>.<locals>.<lambda> at 0x1166a0598>, {'target_rot_position': 61.236})})\n",
      "defaultdict(<function Robot._push_once.<locals>.<lambda> at 0x1166a0158>, {'disk_top': defaultdict(<function Robot._push_once.<locals>.<lambda>.<locals>.<lambda> at 0x10fe05ea0>, {'target_rot_position': 70.7}), 'disk_middle': defaultdict(<function Robot._push_once.<locals>.<lambda>.<locals>.<lambda> at 0x1166a0598>, {'target_rot_position': 50.815}), 'disk_bottom': defaultdict(<function Robot._push_once.<locals>.<lambda>.<locals>.<lambda> at 0x1166a06a8>, {'target_rot_position': 60.494})})\n",
      "defaultdict(<function Robot._push_once.<locals>.<lambda> at 0x1166a01e0>, {'disk_top': defaultdict(<function Robot._push_once.<locals>.<lambda>.<locals>.<lambda> at 0x10fe05ea0>, {'target_rot_position': 69.559}), 'disk_middle': defaultdict(<function Robot._push_once.<locals>.<lambda>.<locals>.<lambda> at 0x1166a0268>, {'target_rot_position': 49.674}), 'disk_bottom': defaultdict(<function Robot._push_once.<locals>.<lambda>.<locals>.<lambda> at 0x1166a06a8>, {'target_rot_position': 59.75})})\n",
      "defaultdict(<function Robot._push_once.<locals>.<lambda> at 0x1166a0158>, {'disk_top': defaultdict(<function Robot._push_once.<locals>.<lambda>.<locals>.<lambda> at 0x10fe05ea0>, {'target_rot_position': 68.418}), 'disk_middle': defaultdict(<function Robot._push_once.<locals>.<lambda>.<locals>.<lambda> at 0x1166a06a8>, {'target_rot_position': 48.535}), 'disk_bottom': defaultdict(<function Robot._push_once.<locals>.<lambda>.<locals>.<lambda> at 0x1166a0268>, {'target_rot_position': 59.007})})\n"
     ]
    },
    {
     "name": "stdout",
     "output_type": "stream",
     "text": [
      "defaultdict(<function Robot._push_once.<locals>.<lambda> at 0x1166a01e0>, {'disk_top': defaultdict(<function Robot._push_once.<locals>.<lambda>.<locals>.<lambda> at 0x1166a0268>, {'target_rot_position': 66.144}), 'disk_middle': defaultdict(<function Robot._push_once.<locals>.<lambda>.<locals>.<lambda> at 0x1166a06a8>, {'target_rot_position': 46.28}), 'disk_bottom': defaultdict(<function Robot._push_once.<locals>.<lambda>.<locals>.<lambda> at 0x1166a0158>, {'target_rot_position': 57.529})})\n",
      "defaultdict(<function Robot._push_once.<locals>.<lambda> at 0x10fe05ea0>, {'disk_top': defaultdict(<function Robot._push_once.<locals>.<lambda>.<locals>.<lambda> at 0x1166a0158>, {'target_rot_position': 63.901}), 'disk_middle': defaultdict(<function Robot._push_once.<locals>.<lambda>.<locals>.<lambda> at 0x1166a06a8>, {'target_rot_position': 44.07}), 'disk_bottom': defaultdict(<function Robot._push_once.<locals>.<lambda>.<locals>.<lambda> at 0x1166a0268>, {'target_rot_position': 56.075})})\n",
      "defaultdict(<function Robot._push_once.<locals>.<lambda> at 0x1166a0730>, {'disk_top': defaultdict(<function Robot._push_once.<locals>.<lambda>.<locals>.<lambda> at 0x10fe05ea0>, {'target_rot_position': 61.713}), 'disk_middle': defaultdict(<function Robot._push_once.<locals>.<lambda>.<locals>.<lambda> at 0x1166a01e0>, {'target_rot_position': 41.929}), 'disk_bottom': defaultdict(<function Robot._push_once.<locals>.<lambda>.<locals>.<lambda> at 0x1166a0268>, {'target_rot_position': 54.658})})\n",
      "defaultdict(<function Robot._push_once.<locals>.<lambda> at 0x1166a06a8>, {'disk_top': defaultdict(<function Robot._push_once.<locals>.<lambda>.<locals>.<lambda> at 0x10fe05ea0>, {'target_rot_position': 60.647}), 'disk_middle': defaultdict(<function Robot._push_once.<locals>.<lambda>.<locals>.<lambda> at 0x1166a0158>, {'target_rot_position': 40.891}), 'disk_bottom': defaultdict(<function Robot._push_once.<locals>.<lambda>.<locals>.<lambda> at 0x1166a0268>, {'target_rot_position': 53.968})})\n",
      "defaultdict(<function Robot._push_once.<locals>.<lambda> at 0x1166a0730>, {'disk_top': defaultdict(<function Robot._push_once.<locals>.<lambda>.<locals>.<lambda> at 0x10fe05ea0>, {'target_rot_position': 59.603}), 'disk_middle': defaultdict(<function Robot._push_once.<locals>.<lambda>.<locals>.<lambda> at 0x1166a0268>, {'target_rot_position': 39.878}), 'disk_bottom': defaultdict(<function Robot._push_once.<locals>.<lambda>.<locals>.<lambda> at 0x1166a0158>, {'target_rot_position': 53.292})})\n",
      "defaultdict(<function Robot._push_once.<locals>.<lambda> at 0x1166a06a8>, {'disk_top': defaultdict(<function Robot._push_once.<locals>.<lambda>.<locals>.<lambda> at 0x10fe05ea0>, {'target_rot_position': 58.584}), 'disk_middle': defaultdict(<function Robot._push_once.<locals>.<lambda>.<locals>.<lambda> at 0x1166a01e0>, {'target_rot_position': 38.892}), 'disk_bottom': defaultdict(<function Robot._push_once.<locals>.<lambda>.<locals>.<lambda> at 0x1166a0158>, {'target_rot_position': 52.633})})\n",
      "defaultdict(<function Robot._push_once.<locals>.<lambda> at 0x1166a0730>, {'disk_top': defaultdict(<function Robot._push_once.<locals>.<lambda>.<locals>.<lambda> at 0x10fe05ea0>, {'target_rot_position': 57.593}), 'disk_middle': defaultdict(<function Robot._push_once.<locals>.<lambda>.<locals>.<lambda> at 0x1166a0158>, {'target_rot_position': 37.936}), 'disk_bottom': defaultdict(<function Robot._push_once.<locals>.<lambda>.<locals>.<lambda> at 0x1166a01e0>, {'target_rot_position': 51.991})})\n",
      "defaultdict(<function Robot._push_once.<locals>.<lambda> at 0x1166a0268>, {'disk_top': defaultdict(<function Robot._push_once.<locals>.<lambda>.<locals>.<lambda> at 0x10fe05ea0>, {'target_rot_position': 56.631}), 'disk_middle': defaultdict(<function Robot._push_once.<locals>.<lambda>.<locals>.<lambda> at 0x1166a01e0>, {'target_rot_position': 37.012}), 'disk_bottom': defaultdict(<function Robot._push_once.<locals>.<lambda>.<locals>.<lambda> at 0x1166a0158>, {'target_rot_position': 51.369})})\n",
      "defaultdict(<function Robot._push_once.<locals>.<lambda> at 0x1166a06a8>, {'disk_top': defaultdict(<function Robot._push_once.<locals>.<lambda>.<locals>.<lambda> at 0x10fe05ea0>, {'target_rot_position': 55.703}), 'disk_middle': defaultdict(<function Robot._push_once.<locals>.<lambda>.<locals>.<lambda> at 0x1166a0158>, {'target_rot_position': 36.122}), 'disk_bottom': defaultdict(<function Robot._push_once.<locals>.<lambda>.<locals>.<lambda> at 0x1166a01e0>, {'target_rot_position': 50.767})})\n",
      "defaultdict(<function Robot._push_once.<locals>.<lambda> at 0x1166a0730>, {'disk_top': defaultdict(<function Robot._push_once.<locals>.<lambda>.<locals>.<lambda> at 0x10fe05ea0>, {'target_rot_position': 54.81}), 'disk_middle': defaultdict(<function Robot._push_once.<locals>.<lambda>.<locals>.<lambda> at 0x1166a01e0>, {'target_rot_position': 35.268}), 'disk_bottom': defaultdict(<function Robot._push_once.<locals>.<lambda>.<locals>.<lambda> at 0x1166a0158>, {'target_rot_position': 50.189})})\n",
      "defaultdict(<function Robot._push_once.<locals>.<lambda> at 0x1166a06a8>, {'disk_top': defaultdict(<function Robot._push_once.<locals>.<lambda>.<locals>.<lambda> at 0x10fe05ea0>, {'target_rot_position': 53.954}), 'disk_middle': defaultdict(<function Robot._push_once.<locals>.<lambda>.<locals>.<lambda> at 0x1166a0268>, {'target_rot_position': 34.452}), 'disk_bottom': defaultdict(<function Robot._push_once.<locals>.<lambda>.<locals>.<lambda> at 0x1166a0158>, {'target_rot_position': 49.634})})\n",
      "defaultdict(<function Robot._push_once.<locals>.<lambda> at 0x1166a0730>, {'disk_top': defaultdict(<function Robot._push_once.<locals>.<lambda>.<locals>.<lambda> at 0x10fe05ea0>, {'target_rot_position': 53.138}), 'disk_middle': defaultdict(<function Robot._push_once.<locals>.<lambda>.<locals>.<lambda> at 0x1166a0158>, {'target_rot_position': 33.677}), 'disk_bottom': defaultdict(<function Robot._push_once.<locals>.<lambda>.<locals>.<lambda> at 0x1166a0268>, {'target_rot_position': 49.105})})\n",
      "defaultdict(<function Robot._push_once.<locals>.<lambda> at 0x1166a0598>, {'disk_top': defaultdict(<function Robot._push_once.<locals>.<lambda>.<locals>.<lambda> at 0x10fe05ea0>, {'target_rot_position': 52.365}), 'disk_middle': defaultdict(<function Robot._push_once.<locals>.<lambda>.<locals>.<lambda> at 0x1166a0268>, {'target_rot_position': 32.943}), 'disk_bottom': defaultdict(<function Robot._push_once.<locals>.<lambda>.<locals>.<lambda> at 0x1166a0158>, {'target_rot_position': 48.602})})\n",
      "defaultdict(<function Robot._push_once.<locals>.<lambda> at 0x1166a06a8>, {'disk_top': defaultdict(<function Robot._push_once.<locals>.<lambda>.<locals>.<lambda> at 0x10fe05ea0>, {'target_rot_position': 51.634}), 'disk_middle': defaultdict(<function Robot._push_once.<locals>.<lambda>.<locals>.<lambda> at 0x1166a0158>, {'target_rot_position': 32.252}), 'disk_bottom': defaultdict(<function Robot._push_once.<locals>.<lambda>.<locals>.<lambda> at 0x1166a0268>, {'target_rot_position': 48.128})})\n",
      "defaultdict(<function Robot._push_once.<locals>.<lambda> at 0x1166a0730>, {'disk_top': defaultdict(<function Robot._push_once.<locals>.<lambda>.<locals>.<lambda> at 0x10fe05ea0>, {'target_rot_position': 50.95}), 'disk_middle': defaultdict(<function Robot._push_once.<locals>.<lambda>.<locals>.<lambda> at 0x1166a0268>, {'target_rot_position': 31.606}), 'disk_bottom': defaultdict(<function Robot._push_once.<locals>.<lambda>.<locals>.<lambda> at 0x1166a0158>, {'target_rot_position': 47.683})})\n",
      "defaultdict(<function Robot._push_once.<locals>.<lambda> at 0x1166a06a8>, {'disk_top': defaultdict(<function Robot._push_once.<locals>.<lambda>.<locals>.<lambda> at 0x10fe05ea0>, {'target_rot_position': 50.314}), 'disk_middle': defaultdict(<function Robot._push_once.<locals>.<lambda>.<locals>.<lambda> at 0x1166a0158>, {'target_rot_position': 31.007}), 'disk_bottom': defaultdict(<function Robot._push_once.<locals>.<lambda>.<locals>.<lambda> at 0x1166a0268>, {'target_rot_position': 47.269})})\n",
      "defaultdict(<function Robot._push_once.<locals>.<lambda> at 0x1166a0598>, {'disk_top': defaultdict(<function Robot._push_once.<locals>.<lambda>.<locals>.<lambda> at 0x10fe05ea0>, {'target_rot_position': 49.726}), 'disk_middle': defaultdict(<function Robot._push_once.<locals>.<lambda>.<locals>.<lambda> at 0x1166a0268>, {'target_rot_position': 30.455}), 'disk_bottom': defaultdict(<function Robot._push_once.<locals>.<lambda>.<locals>.<lambda> at 0x1166a0158>, {'target_rot_position': 46.886})})\n",
      "defaultdict(<function Robot._push_once.<locals>.<lambda> at 0x1166a06a8>, {'disk_top': defaultdict(<function Robot._push_once.<locals>.<lambda>.<locals>.<lambda> at 0x10fe05ea0>, {'target_rot_position': 49.19}), 'disk_middle': defaultdict(<function Robot._push_once.<locals>.<lambda>.<locals>.<lambda> at 0x1166a0730>, {'target_rot_position': 29.951}), 'disk_bottom': defaultdict(<function Robot._push_once.<locals>.<lambda>.<locals>.<lambda> at 0x1166a0158>, {'target_rot_position': 46.537})})\n",
      "defaultdict(<function Robot._push_once.<locals>.<lambda> at 0x1166a01e0>, {'disk_top': defaultdict(<function Robot._push_once.<locals>.<lambda>.<locals>.<lambda> at 0x10fe05ea0>, {'target_rot_position': 48.705}), 'disk_middle': defaultdict(<function Robot._push_once.<locals>.<lambda>.<locals>.<lambda> at 0x1166a0598>, {'target_rot_position': 29.498}), 'disk_bottom': defaultdict(<function Robot._push_once.<locals>.<lambda>.<locals>.<lambda> at 0x1166a0268>, {'target_rot_position': 46.221})})\n",
      "defaultdict(<function Robot._push_once.<locals>.<lambda> at 0x1166a0730>, {'disk_top': defaultdict(<function Robot._push_once.<locals>.<lambda>.<locals>.<lambda> at 0x10fe05ea0>, {'target_rot_position': 48.274}), 'disk_middle': defaultdict(<function Robot._push_once.<locals>.<lambda>.<locals>.<lambda> at 0x1166a0268>, {'target_rot_position': 29.095}), 'disk_bottom': defaultdict(<function Robot._push_once.<locals>.<lambda>.<locals>.<lambda> at 0x1166a0598>, {'target_rot_position': 45.939})})\n",
      "defaultdict(<function Robot._push_once.<locals>.<lambda> at 0x1166a01e0>, {'disk_top': defaultdict(<function Robot._push_once.<locals>.<lambda>.<locals>.<lambda> at 0x10fe05ea0>, {'target_rot_position': 47.898}), 'disk_middle': defaultdict(<function Robot._push_once.<locals>.<lambda>.<locals>.<lambda> at 0x1166a0598>, {'target_rot_position': 28.743}), 'disk_bottom': defaultdict(<function Robot._push_once.<locals>.<lambda>.<locals>.<lambda> at 0x1166a0268>, {'target_rot_position': 45.694})})\n",
      "defaultdict(<function Robot._push_once.<locals>.<lambda> at 0x1166a0158>, {'disk_top': defaultdict(<function Robot._push_once.<locals>.<lambda>.<locals>.<lambda> at 0x10fe05ea0>, {'target_rot_position': 47.577}), 'disk_middle': defaultdict(<function Robot._push_once.<locals>.<lambda>.<locals>.<lambda> at 0x1166a0730>, {'target_rot_position': 28.444}), 'disk_bottom': defaultdict(<function Robot._push_once.<locals>.<lambda>.<locals>.<lambda> at 0x1166a0268>, {'target_rot_position': 45.484})})\n",
      "defaultdict(<function Robot._push_once.<locals>.<lambda> at 0x1166a01e0>, {'disk_top': defaultdict(<function Robot._push_once.<locals>.<lambda>.<locals>.<lambda> at 0x10fe05ea0>, {'target_rot_position': 47.312}), 'disk_middle': defaultdict(<function Robot._push_once.<locals>.<lambda>.<locals>.<lambda> at 0x1166a0598>, {'target_rot_position': 28.197}), 'disk_bottom': defaultdict(<function Robot._push_once.<locals>.<lambda>.<locals>.<lambda> at 0x1166a0268>, {'target_rot_position': 45.311})})\n"
     ]
    },
    {
     "name": "stdout",
     "output_type": "stream",
     "text": [
      "defaultdict(<function Robot._push_once.<locals>.<lambda> at 0x1166a0730>, {'disk_top': defaultdict(<function Robot._push_once.<locals>.<lambda>.<locals>.<lambda> at 0x1166a0268>, {'target_rot_position': 47.105}), 'disk_middle': defaultdict(<function Robot._push_once.<locals>.<lambda>.<locals>.<lambda> at 0x1166a0598>, {'target_rot_position': 28.004}), 'disk_bottom': defaultdict(<function Robot._push_once.<locals>.<lambda>.<locals>.<lambda> at 0x1166a01e0>, {'target_rot_position': 45.176})})\n",
      "defaultdict(<function Robot._push_once.<locals>.<lambda> at 0x10fe05ea0>, {'disk_top': defaultdict(<function Robot._push_once.<locals>.<lambda>.<locals>.<lambda> at 0x1166a01e0>, {'target_rot_position': 46.955}), 'disk_middle': defaultdict(<function Robot._push_once.<locals>.<lambda>.<locals>.<lambda> at 0x1166a0598>, {'target_rot_position': 27.864}), 'disk_bottom': defaultdict(<function Robot._push_once.<locals>.<lambda>.<locals>.<lambda> at 0x1166a0268>, {'target_rot_position': 45.078})})\n",
      "defaultdict(<function Robot._push_once.<locals>.<lambda> at 0x1166a06a8>, {'disk_top': defaultdict(<function Robot._push_once.<locals>.<lambda>.<locals>.<lambda> at 0x10fe05ea0>, {'target_rot_position': 46.863}), 'disk_middle': defaultdict(<function Robot._push_once.<locals>.<lambda>.<locals>.<lambda> at 0x1166a0158>, {'target_rot_position': 27.779}), 'disk_bottom': defaultdict(<function Robot._push_once.<locals>.<lambda>.<locals>.<lambda> at 0x1166a0730>, {'target_rot_position': 45.017})})\n",
      "defaultdict(<function Robot._push_once.<locals>.<lambda> at 0x1166a01e0>, {'disk_top': defaultdict(<function Robot._push_once.<locals>.<lambda>.<locals>.<lambda> at 0x10fe05ea0>, {'target_rot_position': 46.829}), 'disk_middle': defaultdict(<function Robot._push_once.<locals>.<lambda>.<locals>.<lambda> at 0x1166a0730>, {'target_rot_position': 27.747}), 'disk_bottom': defaultdict(<function Robot._push_once.<locals>.<lambda>.<locals>.<lambda> at 0x1166a0158>, {'target_rot_position': 44.995})})\n",
      "defaultdict(<function Robot._push_once.<locals>.<lambda> at 0x1166a0268>, {'disk_top': defaultdict(<function Robot._push_once.<locals>.<lambda>.<locals>.<lambda> at 0x1166a06a8>, {'target_rot_position': 46.854}), 'disk_middle': defaultdict(<function Robot._push_once.<locals>.<lambda>.<locals>.<lambda> at 0x1166a0158>, {'target_rot_position': 27.77}), 'disk_bottom': defaultdict(<function Robot._push_once.<locals>.<lambda>.<locals>.<lambda> at 0x1166a0730>, {'target_rot_position': 45.011})})\n",
      "defaultdict(<function Robot._push_once.<locals>.<lambda> at 0x10fe05ea0>, {'disk_top': defaultdict(<function Robot._push_once.<locals>.<lambda>.<locals>.<lambda> at 0x1166a0730>, {'target_rot_position': 46.937})})\n",
      "defaultdict(<function Robot._push_once.<locals>.<lambda> at 0x1166a0158>, {'disk_middle': defaultdict(<function Robot._push_once.<locals>.<lambda>.<locals>.<lambda> at 0x10fe05ea0>, {'target_rot_position': 27.847}), 'disk_bottom': defaultdict(<function Robot._push_once.<locals>.<lambda>.<locals>.<lambda> at 0x1166a0730>, {'target_rot_position': 45.065})})\n",
      "defaultdict(<function Robot._push_once.<locals>.<lambda> at 0x1166a01e0>, {'disk_top': defaultdict(<function Robot._push_once.<locals>.<lambda>.<locals>.<lambda> at 0x10fe05ea0>, {'target_rot_position': 47.077}), 'disk_middle': defaultdict(<function Robot._push_once.<locals>.<lambda>.<locals>.<lambda> at 0x1166a0268>, {'target_rot_position': 27.978}), 'disk_bottom': defaultdict(<function Robot._push_once.<locals>.<lambda>.<locals>.<lambda> at 0x1166a06a8>, {'target_rot_position': 45.157})})\n",
      "defaultdict(<function Robot._push_once.<locals>.<lambda> at 0x1166a0730>, {'disk_top': defaultdict(<function Robot._push_once.<locals>.<lambda>.<locals>.<lambda> at 0x10fe05ea0>, {'target_rot_position': 47.276}), 'disk_middle': defaultdict(<function Robot._push_once.<locals>.<lambda>.<locals>.<lambda> at 0x1166a06a8>, {'target_rot_position': 28.163}), 'disk_bottom': defaultdict(<function Robot._push_once.<locals>.<lambda>.<locals>.<lambda> at 0x1166a0268>, {'target_rot_position': 45.287})})\n",
      "defaultdict(<function Robot._push_once.<locals>.<lambda> at 0x1166a0158>, {'disk_top': defaultdict(<function Robot._push_once.<locals>.<lambda>.<locals>.<lambda> at 0x10fe05ea0>, {'target_rot_position': 47.531}), 'disk_middle': defaultdict(<function Robot._push_once.<locals>.<lambda>.<locals>.<lambda> at 0x1166a01e0>, {'target_rot_position': 28.401}), 'disk_bottom': defaultdict(<function Robot._push_once.<locals>.<lambda>.<locals>.<lambda> at 0x1166a0268>, {'target_rot_position': 45.454})})\n",
      "defaultdict(<function Robot._push_once.<locals>.<lambda> at 0x1166a06a8>, {'disk_top': defaultdict(<function Robot._push_once.<locals>.<lambda>.<locals>.<lambda> at 0x10fe05ea0>, {'target_rot_position': 47.843}), 'disk_middle': defaultdict(<function Robot._push_once.<locals>.<lambda>.<locals>.<lambda> at 0x1166a0268>, {'target_rot_position': 28.692}), 'disk_bottom': defaultdict(<function Robot._push_once.<locals>.<lambda>.<locals>.<lambda> at 0x1166a01e0>, {'target_rot_position': 45.658})})\n",
      "defaultdict(<function Robot._push_once.<locals>.<lambda> at 0x1166a0730>, {'disk_top': defaultdict(<function Robot._push_once.<locals>.<lambda>.<locals>.<lambda> at 0x10fe05ea0>, {'target_rot_position': 48.211}), 'disk_middle': defaultdict(<function Robot._push_once.<locals>.<lambda>.<locals>.<lambda> at 0x1166a01e0>, {'target_rot_position': 29.035}), 'disk_bottom': defaultdict(<function Robot._push_once.<locals>.<lambda>.<locals>.<lambda> at 0x1166a0268>, {'target_rot_position': 45.898})})\n",
      "defaultdict(<function Robot._push_once.<locals>.<lambda> at 0x1166a0158>, {'disk_top': defaultdict(<function Robot._push_once.<locals>.<lambda>.<locals>.<lambda> at 0x10fe05ea0>, {'target_rot_position': 48.633}), 'disk_middle': defaultdict(<function Robot._push_once.<locals>.<lambda>.<locals>.<lambda> at 0x1166a0268>, {'target_rot_position': 29.43}), 'disk_bottom': defaultdict(<function Robot._push_once.<locals>.<lambda>.<locals>.<lambda> at 0x1166a01e0>, {'target_rot_position': 46.174})})\n",
      "defaultdict(<function Robot._push_once.<locals>.<lambda> at 0x1166a0730>, {'disk_top': defaultdict(<function Robot._push_once.<locals>.<lambda>.<locals>.<lambda> at 0x10fe05ea0>, {'target_rot_position': 49.109}), 'disk_middle': defaultdict(<function Robot._push_once.<locals>.<lambda>.<locals>.<lambda> at 0x1166a01e0>, {'target_rot_position': 29.876}), 'disk_bottom': defaultdict(<function Robot._push_once.<locals>.<lambda>.<locals>.<lambda> at 0x1166a0268>, {'target_rot_position': 46.484})})\n",
      "defaultdict(<function Robot._push_once.<locals>.<lambda> at 0x1166a0158>, {'disk_top': defaultdict(<function Robot._push_once.<locals>.<lambda>.<locals>.<lambda> at 0x10fe05ea0>, {'target_rot_position': 49.637}), 'disk_middle': defaultdict(<function Robot._push_once.<locals>.<lambda>.<locals>.<lambda> at 0x1166a0268>, {'target_rot_position': 30.371}), 'disk_bottom': defaultdict(<function Robot._push_once.<locals>.<lambda>.<locals>.<lambda> at 0x1166a01e0>, {'target_rot_position': 46.828})})\n",
      "defaultdict(<function Robot._push_once.<locals>.<lambda> at 0x1166a02f0>, {'disk_top': defaultdict(<function Robot._push_once.<locals>.<lambda>.<locals>.<lambda> at 0x10fe05ea0>, {'target_rot_position': 50.217}), 'disk_middle': defaultdict(<function Robot._push_once.<locals>.<lambda>.<locals>.<lambda> at 0x1166a0598>, {'target_rot_position': 30.916}), 'disk_bottom': defaultdict(<function Robot._push_once.<locals>.<lambda>.<locals>.<lambda> at 0x1166a06a8>, {'target_rot_position': 47.206})})\n",
      "defaultdict(<function Robot._push_once.<locals>.<lambda> at 0x1166a0730>, {'disk_top': defaultdict(<function Robot._push_once.<locals>.<lambda>.<locals>.<lambda> at 0x10fe05ea0>, {'target_rot_position': 50.846}), 'disk_middle': defaultdict(<function Robot._push_once.<locals>.<lambda>.<locals>.<lambda> at 0x1166a06a8>, {'target_rot_position': 31.508}), 'disk_bottom': defaultdict(<function Robot._push_once.<locals>.<lambda>.<locals>.<lambda> at 0x1166a0598>, {'target_rot_position': 47.615})})\n",
      "defaultdict(<function Robot._push_once.<locals>.<lambda> at 0x1166a01e0>, {'disk_top': defaultdict(<function Robot._push_once.<locals>.<lambda>.<locals>.<lambda> at 0x10fe05ea0>, {'target_rot_position': 51.522}), 'disk_middle': defaultdict(<function Robot._push_once.<locals>.<lambda>.<locals>.<lambda> at 0x1166a0598>, {'target_rot_position': 32.146}), 'disk_bottom': defaultdict(<function Robot._push_once.<locals>.<lambda>.<locals>.<lambda> at 0x1166a06a8>, {'target_rot_position': 48.055})})\n",
      "defaultdict(<function Robot._push_once.<locals>.<lambda> at 0x1166a02f0>, {'disk_top': defaultdict(<function Robot._push_once.<locals>.<lambda>.<locals>.<lambda> at 0x10fe05ea0>, {'target_rot_position': 52.245}), 'disk_middle': defaultdict(<function Robot._push_once.<locals>.<lambda>.<locals>.<lambda> at 0x1166a06a8>, {'target_rot_position': 32.83}), 'disk_bottom': defaultdict(<function Robot._push_once.<locals>.<lambda>.<locals>.<lambda> at 0x1166a0598>, {'target_rot_position': 48.525})})\n",
      "defaultdict(<function Robot._push_once.<locals>.<lambda> at 0x1166a0730>, {'disk_top': defaultdict(<function Robot._push_once.<locals>.<lambda>.<locals>.<lambda> at 0x10fe05ea0>, {'target_rot_position': 53.012}), 'disk_middle': defaultdict(<function Robot._push_once.<locals>.<lambda>.<locals>.<lambda> at 0x1166a0598>, {'target_rot_position': 33.557}), 'disk_bottom': defaultdict(<function Robot._push_once.<locals>.<lambda>.<locals>.<lambda> at 0x1166a06a8>, {'target_rot_position': 49.023})})\n",
      "defaultdict(<function Robot._push_once.<locals>.<lambda> at 0x1166a01e0>, {'disk_top': defaultdict(<function Robot._push_once.<locals>.<lambda>.<locals>.<lambda> at 0x10fe05ea0>, {'target_rot_position': 53.822}), 'disk_middle': defaultdict(<function Robot._push_once.<locals>.<lambda>.<locals>.<lambda> at 0x1166a06a8>, {'target_rot_position': 34.326}), 'disk_bottom': defaultdict(<function Robot._push_once.<locals>.<lambda>.<locals>.<lambda> at 0x1166a0598>, {'target_rot_position': 49.548})})\n",
      "defaultdict(<function Robot._push_once.<locals>.<lambda> at 0x1166a02f0>, {'disk_top': defaultdict(<function Robot._push_once.<locals>.<lambda>.<locals>.<lambda> at 0x10fe05ea0>, {'target_rot_position': 54.671}), 'disk_middle': defaultdict(<function Robot._push_once.<locals>.<lambda>.<locals>.<lambda> at 0x1166a0598>, {'target_rot_position': 35.136}), 'disk_bottom': defaultdict(<function Robot._push_once.<locals>.<lambda>.<locals>.<lambda> at 0x1166a06a8>, {'target_rot_position': 50.099})})\n",
      "defaultdict(<function Robot._push_once.<locals>.<lambda> at 0x1166a0268>, {'disk_top': defaultdict(<function Robot._push_once.<locals>.<lambda>.<locals>.<lambda> at 0x10fe05ea0>, {'target_rot_position': 55.558}), 'disk_middle': defaultdict(<function Robot._push_once.<locals>.<lambda>.<locals>.<lambda> at 0x1166a0730>, {'target_rot_position': 35.983}), 'disk_bottom': defaultdict(<function Robot._push_once.<locals>.<lambda>.<locals>.<lambda> at 0x1166a01e0>, {'target_rot_position': 50.674})})\n",
      "defaultdict(<function Robot._push_once.<locals>.<lambda> at 0x1166a0598>, {'disk_top': defaultdict(<function Robot._push_once.<locals>.<lambda>.<locals>.<lambda> at 0x10fe05ea0>, {'target_rot_position': 56.481}), 'disk_middle': defaultdict(<function Robot._push_once.<locals>.<lambda>.<locals>.<lambda> at 0x1166a01e0>, {'target_rot_position': 36.868}), 'disk_bottom': defaultdict(<function Robot._push_once.<locals>.<lambda>.<locals>.<lambda> at 0x1166a0730>, {'target_rot_position': 51.272})})\n",
      "defaultdict(<function Robot._push_once.<locals>.<lambda> at 0x1166a06a8>, {'disk_top': defaultdict(<function Robot._push_once.<locals>.<lambda>.<locals>.<lambda> at 0x10fe05ea0>, {'target_rot_position': 57.437}), 'disk_middle': defaultdict(<function Robot._push_once.<locals>.<lambda>.<locals>.<lambda> at 0x1166a0730>, {'target_rot_position': 37.787}), 'disk_bottom': defaultdict(<function Robot._push_once.<locals>.<lambda>.<locals>.<lambda> at 0x1166a01e0>, {'target_rot_position': 51.891})})\n",
      "defaultdict(<function Robot._push_once.<locals>.<lambda> at 0x1166a0268>, {'disk_top': defaultdict(<function Robot._push_once.<locals>.<lambda>.<locals>.<lambda> at 0x10fe05ea0>, {'target_rot_position': 58.424}), 'disk_middle': defaultdict(<function Robot._push_once.<locals>.<lambda>.<locals>.<lambda> at 0x1166a01e0>, {'target_rot_position': 38.738}), 'disk_bottom': defaultdict(<function Robot._push_once.<locals>.<lambda>.<locals>.<lambda> at 0x1166a0730>, {'target_rot_position': 52.529})})\n",
      "defaultdict(<function Robot._push_once.<locals>.<lambda> at 0x1166a0598>, {'disk_top': defaultdict(<function Robot._push_once.<locals>.<lambda>.<locals>.<lambda> at 0x10fe05ea0>, {'target_rot_position': 59.439}), 'disk_middle': defaultdict(<function Robot._push_once.<locals>.<lambda>.<locals>.<lambda> at 0x1166a0730>, {'target_rot_position': 39.719}), 'disk_bottom': defaultdict(<function Robot._push_once.<locals>.<lambda>.<locals>.<lambda> at 0x1166a01e0>, {'target_rot_position': 53.186})})\n",
      "defaultdict(<function Robot._push_once.<locals>.<lambda> at 0x1166a0268>, {'disk_top': defaultdict(<function Robot._push_once.<locals>.<lambda>.<locals>.<lambda> at 0x10fe05ea0>, {'target_rot_position': 60.479}), 'disk_middle': defaultdict(<function Robot._push_once.<locals>.<lambda>.<locals>.<lambda> at 0x1166a01e0>, {'target_rot_position': 40.728}), 'disk_bottom': defaultdict(<function Robot._push_once.<locals>.<lambda>.<locals>.<lambda> at 0x1166a0730>, {'target_rot_position': 53.859})})\n"
     ]
    },
    {
     "name": "stdout",
     "output_type": "stream",
     "text": [
      "defaultdict(<function Robot._push_once.<locals>.<lambda> at 0x1166a0598>, {'disk_top': defaultdict(<function Robot._push_once.<locals>.<lambda>.<locals>.<lambda> at 0x10fe05ea0>, {'target_rot_position': 61.542}), 'disk_middle': defaultdict(<function Robot._push_once.<locals>.<lambda>.<locals>.<lambda> at 0x1166a06a8>, {'target_rot_position': 41.762}), 'disk_bottom': defaultdict(<function Robot._push_once.<locals>.<lambda>.<locals>.<lambda> at 0x1166a0730>, {'target_rot_position': 54.547})})\n",
      "defaultdict(<function Robot._push_once.<locals>.<lambda> at 0x1166a0268>, {'disk_top': defaultdict(<function Robot._push_once.<locals>.<lambda>.<locals>.<lambda> at 0x10fe05ea0>, {'target_rot_position': 62.625}), 'disk_middle': defaultdict(<function Robot._push_once.<locals>.<lambda>.<locals>.<lambda> at 0x1166a0730>, {'target_rot_position': 42.819}), 'disk_bottom': defaultdict(<function Robot._push_once.<locals>.<lambda>.<locals>.<lambda> at 0x1166a06a8>, {'target_rot_position': 55.248})})\n",
      "defaultdict(<function Robot._push_once.<locals>.<lambda> at 0x1166a02f0>, {'disk_top': defaultdict(<function Robot._push_once.<locals>.<lambda>.<locals>.<lambda> at 0x10fe05ea0>, {'target_rot_position': 63.724}), 'disk_middle': defaultdict(<function Robot._push_once.<locals>.<lambda>.<locals>.<lambda> at 0x1166a06a8>, {'target_rot_position': 43.897}), 'disk_bottom': defaultdict(<function Robot._push_once.<locals>.<lambda>.<locals>.<lambda> at 0x1166a0730>, {'target_rot_position': 55.96})})\n",
      "defaultdict(<function Robot._push_once.<locals>.<lambda> at 0x1166a0598>, {'disk_top': defaultdict(<function Robot._push_once.<locals>.<lambda>.<locals>.<lambda> at 0x10fe05ea0>, {'target_rot_position': 64.838}), 'disk_middle': defaultdict(<function Robot._push_once.<locals>.<lambda>.<locals>.<lambda> at 0x1166a0730>, {'target_rot_position': 44.992}), 'disk_bottom': defaultdict(<function Robot._push_once.<locals>.<lambda>.<locals>.<lambda> at 0x1166a06a8>, {'target_rot_position': 56.682})})\n",
      "defaultdict(<function Robot._push_once.<locals>.<lambda> at 0x1166a0268>, {'disk_top': defaultdict(<function Robot._push_once.<locals>.<lambda>.<locals>.<lambda> at 0x10fe05ea0>, {'target_rot_position': 65.964}), 'disk_middle': defaultdict(<function Robot._push_once.<locals>.<lambda>.<locals>.<lambda> at 0x1166a06a8>, {'target_rot_position': 46.102}), 'disk_bottom': defaultdict(<function Robot._push_once.<locals>.<lambda>.<locals>.<lambda> at 0x1166a0730>, {'target_rot_position': 57.412})})\n",
      "defaultdict(<function Robot._push_once.<locals>.<lambda> at 0x1166a02f0>, {'disk_top': defaultdict(<function Robot._push_once.<locals>.<lambda>.<locals>.<lambda> at 0x10fe05ea0>, {'target_rot_position': 67.097}), 'disk_middle': defaultdict(<function Robot._push_once.<locals>.<lambda>.<locals>.<lambda> at 0x1166a0730>, {'target_rot_position': 47.223}), 'disk_bottom': defaultdict(<function Robot._push_once.<locals>.<lambda>.<locals>.<lambda> at 0x1166a06a8>, {'target_rot_position': 58.148})})\n",
      "defaultdict(<function Robot._push_once.<locals>.<lambda> at 0x1166a0598>, {'disk_top': defaultdict(<function Robot._push_once.<locals>.<lambda>.<locals>.<lambda> at 0x10fe05ea0>, {'target_rot_position': 68.236}), 'disk_middle': defaultdict(<function Robot._push_once.<locals>.<lambda>.<locals>.<lambda> at 0x1166a06a8>, {'target_rot_position': 48.355}), 'disk_bottom': defaultdict(<function Robot._push_once.<locals>.<lambda>.<locals>.<lambda> at 0x1166a0730>, {'target_rot_position': 58.888})})\n",
      "defaultdict(<function Robot._push_once.<locals>.<lambda> at 0x1166a02f0>, {'disk_top': defaultdict(<function Robot._push_once.<locals>.<lambda>.<locals>.<lambda> at 0x10fe05ea0>, {'target_rot_position': 69.377}), 'disk_middle': defaultdict(<function Robot._push_once.<locals>.<lambda>.<locals>.<lambda> at 0x1166a0268>, {'target_rot_position': 49.492}), 'disk_bottom': defaultdict(<function Robot._push_once.<locals>.<lambda>.<locals>.<lambda> at 0x1166a0730>, {'target_rot_position': 59.631})})\n",
      "defaultdict(<function Robot._push_once.<locals>.<lambda> at 0x1166a01e0>, {'disk_top': defaultdict(<function Robot._push_once.<locals>.<lambda>.<locals>.<lambda> at 0x10fe05ea0>, {'target_rot_position': 70.518}), 'disk_middle': defaultdict(<function Robot._push_once.<locals>.<lambda>.<locals>.<lambda> at 0x1166a06a8>, {'target_rot_position': 50.633}), 'disk_bottom': defaultdict(<function Robot._push_once.<locals>.<lambda>.<locals>.<lambda> at 0x1166a0730>, {'target_rot_position': 60.375})})\n",
      "defaultdict(<function Robot._push_once.<locals>.<lambda> at 0x1166a02f0>, {'disk_top': defaultdict(<function Robot._push_once.<locals>.<lambda>.<locals>.<lambda> at 0x10fe05ea0>, {'target_rot_position': 71.656}), 'disk_middle': defaultdict(<function Robot._push_once.<locals>.<lambda>.<locals>.<lambda> at 0x1166a0730>, {'target_rot_position': 51.774}), 'disk_bottom': defaultdict(<function Robot._push_once.<locals>.<lambda>.<locals>.<lambda> at 0x1166a06a8>, {'target_rot_position': 61.118})})\n",
      "defaultdict(<function Robot._push_once.<locals>.<lambda> at 0x1166a0268>, {'disk_top': defaultdict(<function Robot._push_once.<locals>.<lambda>.<locals>.<lambda> at 0x10fe05ea0>, {'target_rot_position': 72.787}), 'disk_middle': defaultdict(<function Robot._push_once.<locals>.<lambda>.<locals>.<lambda> at 0x1166a06a8>, {'target_rot_position': 52.913}), 'disk_bottom': defaultdict(<function Robot._push_once.<locals>.<lambda>.<locals>.<lambda> at 0x1166a0730>, {'target_rot_position': 61.859})})\n",
      "defaultdict(<function Robot._push_once.<locals>.<lambda> at 0x1166a01e0>, {'disk_top': defaultdict(<function Robot._push_once.<locals>.<lambda>.<locals>.<lambda> at 0x10fe05ea0>, {'target_rot_position': 73.908}), 'disk_middle': defaultdict(<function Robot._push_once.<locals>.<lambda>.<locals>.<lambda> at 0x1166a0730>, {'target_rot_position': 54.046}), 'disk_bottom': defaultdict(<function Robot._push_once.<locals>.<lambda>.<locals>.<lambda> at 0x1166a06a8>, {'target_rot_position': 62.595})})\n",
      "defaultdict(<function Robot._push_once.<locals>.<lambda> at 0x1166a0598>, {'disk_top': defaultdict(<function Robot._push_once.<locals>.<lambda>.<locals>.<lambda> at 0x10fe05ea0>, {'target_rot_position': 75.018}), 'disk_middle': defaultdict(<function Robot._push_once.<locals>.<lambda>.<locals>.<lambda> at 0x1166a06a8>, {'target_rot_position': 55.172}), 'disk_bottom': defaultdict(<function Robot._push_once.<locals>.<lambda>.<locals>.<lambda> at 0x1166a0730>, {'target_rot_position': 63.324})})\n",
      "defaultdict(<function Robot._push_once.<locals>.<lambda> at 0x1166a0400>, {'disk_top': defaultdict(<function Robot._push_once.<locals>.<lambda>.<locals>.<lambda> at 0x10fe05ea0>, {'target_rot_position': 76.113}), 'disk_middle': defaultdict(<function Robot._push_once.<locals>.<lambda>.<locals>.<lambda> at 0x1166a0158>, {'target_rot_position': 56.285}), 'disk_bottom': defaultdict(<function Robot._push_once.<locals>.<lambda>.<locals>.<lambda> at 0x1166a02f0>, {'target_rot_position': 64.046})})\n",
      "defaultdict(<function Robot._push_once.<locals>.<lambda> at 0x1166a0268>, {'disk_top': defaultdict(<function Robot._push_once.<locals>.<lambda>.<locals>.<lambda> at 0x10fe05ea0>, {'target_rot_position': 77.19}), 'disk_middle': defaultdict(<function Robot._push_once.<locals>.<lambda>.<locals>.<lambda> at 0x1166a02f0>, {'target_rot_position': 57.385}), 'disk_bottom': defaultdict(<function Robot._push_once.<locals>.<lambda>.<locals>.<lambda> at 0x1166a0158>, {'target_rot_position': 64.758})})\n",
      "defaultdict(<function Robot._push_once.<locals>.<lambda> at 0x1166a01e0>, {'disk_top': defaultdict(<function Robot._push_once.<locals>.<lambda>.<locals>.<lambda> at 0x10fe05ea0>, {'target_rot_position': 78.247}), 'disk_middle': defaultdict(<function Robot._push_once.<locals>.<lambda>.<locals>.<lambda> at 0x1166a0158>, {'target_rot_position': 58.468}), 'disk_bottom': defaultdict(<function Robot._push_once.<locals>.<lambda>.<locals>.<lambda> at 0x1166a02f0>, {'target_rot_position': 65.459})})\n",
      "defaultdict(<function Robot._push_once.<locals>.<lambda> at 0x1166a0268>, {'disk_top': defaultdict(<function Robot._push_once.<locals>.<lambda>.<locals>.<lambda> at 0x10fe05ea0>, {'target_rot_position': 79.281}), 'disk_middle': defaultdict(<function Robot._push_once.<locals>.<lambda>.<locals>.<lambda> at 0x1166a02f0>, {'target_rot_position': 59.53}), 'disk_bottom': defaultdict(<function Robot._push_once.<locals>.<lambda>.<locals>.<lambda> at 0x1166a0158>, {'target_rot_position': 66.147})})\n",
      "defaultdict(<function Robot._push_once.<locals>.<lambda> at 0x1166a0400>, {'disk_top': defaultdict(<function Robot._push_once.<locals>.<lambda>.<locals>.<lambda> at 0x10fe05ea0>, {'target_rot_position': 80.29}), 'disk_middle': defaultdict(<function Robot._push_once.<locals>.<lambda>.<locals>.<lambda> at 0x1166a0158>, {'target_rot_position': 60.57}), 'disk_bottom': defaultdict(<function Robot._push_once.<locals>.<lambda>.<locals>.<lambda> at 0x1166a02f0>, {'target_rot_position': 66.82})})\n",
      "defaultdict(<function Robot._push_once.<locals>.<lambda> at 0x1166a01e0>, {'disk_top': defaultdict(<function Robot._push_once.<locals>.<lambda>.<locals>.<lambda> at 0x10fe05ea0>, {'target_rot_position': 81.271}), 'disk_middle': defaultdict(<function Robot._push_once.<locals>.<lambda>.<locals>.<lambda> at 0x1166a02f0>, {'target_rot_position': 61.585}), 'disk_bottom': defaultdict(<function Robot._push_once.<locals>.<lambda>.<locals>.<lambda> at 0x1166a0158>, {'target_rot_position': 67.477})})\n",
      "defaultdict(<function Robot._push_once.<locals>.<lambda> at 0x1166a0268>, {'disk_top': defaultdict(<function Robot._push_once.<locals>.<lambda>.<locals>.<lambda> at 0x10fe05ea0>, {'target_rot_position': 82.222}), 'disk_middle': defaultdict(<function Robot._push_once.<locals>.<lambda>.<locals>.<lambda> at 0x1166a0158>, {'target_rot_position': 62.571}), 'disk_bottom': defaultdict(<function Robot._push_once.<locals>.<lambda>.<locals>.<lambda> at 0x1166a02f0>, {'target_rot_position': 68.115})})\n",
      "defaultdict(<function Robot._push_once.<locals>.<lambda> at 0x1166a0400>, {'disk_top': defaultdict(<function Robot._push_once.<locals>.<lambda>.<locals>.<lambda> at 0x10fe05ea0>, {'target_rot_position': 83.14}), 'disk_middle': defaultdict(<function Robot._push_once.<locals>.<lambda>.<locals>.<lambda> at 0x1166a02f0>, {'target_rot_position': 63.527}), 'disk_bottom': defaultdict(<function Robot._push_once.<locals>.<lambda>.<locals>.<lambda> at 0x1166a0158>, {'target_rot_position': 68.734})})\n",
      "defaultdict(<function Robot._push_once.<locals>.<lambda> at 0x1166a01e0>, {'disk_top': defaultdict(<function Robot._push_once.<locals>.<lambda>.<locals>.<lambda> at 0x10fe05ea0>, {'target_rot_position': 84.024}), 'disk_middle': defaultdict(<function Robot._push_once.<locals>.<lambda>.<locals>.<lambda> at 0x1166a0158>, {'target_rot_position': 64.45}), 'disk_bottom': defaultdict(<function Robot._push_once.<locals>.<lambda>.<locals>.<lambda> at 0x1166a02f0>, {'target_rot_position': 69.331})})\n",
      "defaultdict(<function Robot._push_once.<locals>.<lambda> at 0x1166a0268>, {'disk_top': defaultdict(<function Robot._push_once.<locals>.<lambda>.<locals>.<lambda> at 0x10fe05ea0>, {'target_rot_position': 84.872}), 'disk_middle': defaultdict(<function Robot._push_once.<locals>.<lambda>.<locals>.<lambda> at 0x1166a02f0>, {'target_rot_position': 65.337}), 'disk_bottom': defaultdict(<function Robot._push_once.<locals>.<lambda>.<locals>.<lambda> at 0x1166a0158>, {'target_rot_position': 69.906})})\n",
      "defaultdict(<function Robot._push_once.<locals>.<lambda> at 0x1166a0400>, {'disk_top': defaultdict(<function Robot._push_once.<locals>.<lambda>.<locals>.<lambda> at 0x10fe05ea0>, {'target_rot_position': 85.681}), 'disk_middle': defaultdict(<function Robot._push_once.<locals>.<lambda>.<locals>.<lambda> at 0x1166a0158>, {'target_rot_position': 66.186}), 'disk_bottom': defaultdict(<function Robot._push_once.<locals>.<lambda>.<locals>.<lambda> at 0x1166a02f0>, {'target_rot_position': 70.457})})\n"
     ]
    },
    {
     "name": "stdout",
     "output_type": "stream",
     "text": [
      "defaultdict(<function Robot._push_once.<locals>.<lambda> at 0x1166a01e0>, {'disk_top': defaultdict(<function Robot._push_once.<locals>.<lambda>.<locals>.<lambda> at 0x10fe05ea0>, {'target_rot_position': 86.45}), 'disk_middle': defaultdict(<function Robot._push_once.<locals>.<lambda>.<locals>.<lambda> at 0x1166a02f0>, {'target_rot_position': 66.995}), 'disk_bottom': defaultdict(<function Robot._push_once.<locals>.<lambda>.<locals>.<lambda> at 0x1166a0158>, {'target_rot_position': 70.982})})\n",
      "defaultdict(<function Robot._push_once.<locals>.<lambda> at 0x1166a0598>, {'disk_top': defaultdict(<function Robot._push_once.<locals>.<lambda>.<locals>.<lambda> at 0x10fe05ea0>, {'target_rot_position': 87.176}), 'disk_middle': defaultdict(<function Robot._push_once.<locals>.<lambda>.<locals>.<lambda> at 0x1166a06a8>, {'target_rot_position': 67.761}), 'disk_bottom': defaultdict(<function Robot._push_once.<locals>.<lambda>.<locals>.<lambda> at 0x1166a0730>, {'target_rot_position': 71.48})})\n",
      "defaultdict(<function Robot._push_once.<locals>.<lambda> at 0x1166a0268>, {'disk_top': defaultdict(<function Robot._push_once.<locals>.<lambda>.<locals>.<lambda> at 0x10fe05ea0>, {'target_rot_position': 87.86}), 'disk_middle': defaultdict(<function Robot._push_once.<locals>.<lambda>.<locals>.<lambda> at 0x1166a0730>, {'target_rot_position': 68.484}), 'disk_bottom': defaultdict(<function Robot._push_once.<locals>.<lambda>.<locals>.<lambda> at 0x1166a06a8>, {'target_rot_position': 71.949})})\n",
      "defaultdict(<function Robot._push_once.<locals>.<lambda> at 0x1166a0400>, {'disk_top': defaultdict(<function Robot._push_once.<locals>.<lambda>.<locals>.<lambda> at 0x10fe05ea0>, {'target_rot_position': 88.498}), 'disk_middle': defaultdict(<function Robot._push_once.<locals>.<lambda>.<locals>.<lambda> at 0x1166a06a8>, {'target_rot_position': 69.16}), 'disk_bottom': defaultdict(<function Robot._push_once.<locals>.<lambda>.<locals>.<lambda> at 0x1166a0730>, {'target_rot_position': 72.389})})\n",
      "defaultdict(<function Robot._push_once.<locals>.<lambda> at 0x1166a0598>, {'disk_top': defaultdict(<function Robot._push_once.<locals>.<lambda>.<locals>.<lambda> at 0x10fe05ea0>, {'target_rot_position': 89.089}), 'disk_middle': defaultdict(<function Robot._push_once.<locals>.<lambda>.<locals>.<lambda> at 0x1166a0730>, {'target_rot_position': 69.789}), 'disk_bottom': defaultdict(<function Robot._push_once.<locals>.<lambda>.<locals>.<lambda> at 0x1166a06a8>, {'target_rot_position': 72.798})})\n",
      "defaultdict(<function Robot._push_once.<locals>.<lambda> at 0x1166a0268>, {'disk_top': defaultdict(<function Robot._push_once.<locals>.<lambda>.<locals>.<lambda> at 0x10fe05ea0>, {'target_rot_position': 89.633}), 'disk_middle': defaultdict(<function Robot._push_once.<locals>.<lambda>.<locals>.<lambda> at 0x1166a06a8>, {'target_rot_position': 70.368}), 'disk_bottom': defaultdict(<function Robot._push_once.<locals>.<lambda>.<locals>.<lambda> at 0x1166a0730>, {'target_rot_position': 73.175})})\n",
      "defaultdict(<function Robot._push_once.<locals>.<lambda> at 0x1166a0158>, {'disk_top': defaultdict(<function Robot._push_once.<locals>.<lambda>.<locals>.<lambda> at 0x10fe05ea0>, {'target_rot_position': 90.129})})\n",
      "defaultdict(<function Robot._push_once.<locals>.<lambda> at 0x1166a06a8>, {'disk_middle': defaultdict(<function Robot._push_once.<locals>.<lambda>.<locals>.<lambda> at 0x10fe05ea0>, {'target_rot_position': 70.895}), 'disk_bottom': defaultdict(<function Robot._push_once.<locals>.<lambda>.<locals>.<lambda> at 0x1166a0158>, {'target_rot_position': 73.519})})\n",
      "defaultdict(<function Robot._push_once.<locals>.<lambda> at 0x1166a0268>, {'disk_top': defaultdict(<function Robot._push_once.<locals>.<lambda>.<locals>.<lambda> at 0x10fe05ea0>, {'target_rot_position': 90.574}), 'disk_middle': defaultdict(<function Robot._push_once.<locals>.<lambda>.<locals>.<lambda> at 0x1166a0730>, {'target_rot_position': 71.371}), 'disk_bottom': defaultdict(<function Robot._push_once.<locals>.<lambda>.<locals>.<lambda> at 0x1166a0598>, {'target_rot_position': 73.829})})\n",
      "defaultdict(<function Robot._push_once.<locals>.<lambda> at 0x1166a06a8>, {'disk_top': defaultdict(<function Robot._push_once.<locals>.<lambda>.<locals>.<lambda> at 0x10fe05ea0>, {'target_rot_position': 90.968}), 'disk_middle': defaultdict(<function Robot._push_once.<locals>.<lambda>.<locals>.<lambda> at 0x1166a0598>, {'target_rot_position': 71.793}), 'disk_bottom': defaultdict(<function Robot._push_once.<locals>.<lambda>.<locals>.<lambda> at 0x1166a0730>, {'target_rot_position': 74.104})})\n",
      "defaultdict(<function Robot._push_once.<locals>.<lambda> at 0x1166a0158>, {'disk_top': defaultdict(<function Robot._push_once.<locals>.<lambda>.<locals>.<lambda> at 0x10fe05ea0>, {'target_rot_position': 91.311}), 'disk_middle': defaultdict(<function Robot._push_once.<locals>.<lambda>.<locals>.<lambda> at 0x1166a0730>, {'target_rot_position': 72.16}), 'disk_bottom': defaultdict(<function Robot._push_once.<locals>.<lambda>.<locals>.<lambda> at 0x1166a0598>, {'target_rot_position': 74.344})})\n",
      "defaultdict(<function Robot._push_once.<locals>.<lambda> at 0x1166a06a8>, {'disk_top': defaultdict(<function Robot._push_once.<locals>.<lambda>.<locals>.<lambda> at 0x10fe05ea0>, {'target_rot_position': 91.602}), 'disk_middle': defaultdict(<function Robot._push_once.<locals>.<lambda>.<locals>.<lambda> at 0x1166a0268>, {'target_rot_position': 72.471}), 'disk_bottom': defaultdict(<function Robot._push_once.<locals>.<lambda>.<locals>.<lambda> at 0x1166a0598>, {'target_rot_position': 74.548})})\n",
      "defaultdict(<function Robot._push_once.<locals>.<lambda> at 0x1166a0158>, {'disk_top': defaultdict(<function Robot._push_once.<locals>.<lambda>.<locals>.<lambda> at 0x10fe05ea0>, {'target_rot_position': 91.839}), 'disk_middle': defaultdict(<function Robot._push_once.<locals>.<lambda>.<locals>.<lambda> at 0x1166a0598>, {'target_rot_position': 72.726}), 'disk_bottom': defaultdict(<function Robot._push_once.<locals>.<lambda>.<locals>.<lambda> at 0x1166a0268>, {'target_rot_position': 74.714})})\n",
      "defaultdict(<function Robot._push_once.<locals>.<lambda> at 0x1166a0730>, {'disk_top': defaultdict(<function Robot._push_once.<locals>.<lambda>.<locals>.<lambda> at 0x10fe05ea0>, {'target_rot_position': 92.023}), 'disk_middle': defaultdict(<function Robot._push_once.<locals>.<lambda>.<locals>.<lambda> at 0x1166a0268>, {'target_rot_position': 72.924}), 'disk_bottom': defaultdict(<function Robot._push_once.<locals>.<lambda>.<locals>.<lambda> at 0x1166a0598>, {'target_rot_position': 74.844})})\n",
      "defaultdict(<function Robot._push_once.<locals>.<lambda> at 0x1166a06a8>, {'disk_top': defaultdict(<function Robot._push_once.<locals>.<lambda>.<locals>.<lambda> at 0x10fe05ea0>, {'target_rot_position': 92.154}), 'disk_middle': defaultdict(<function Robot._push_once.<locals>.<lambda>.<locals>.<lambda> at 0x1166a0598>, {'target_rot_position': 73.064}), 'disk_bottom': defaultdict(<function Robot._push_once.<locals>.<lambda>.<locals>.<lambda> at 0x1166a0268>, {'target_rot_position': 74.935})})\n",
      "defaultdict(<function Robot._push_once.<locals>.<lambda> at 0x1166a0158>, {'disk_top': defaultdict(<function Robot._push_once.<locals>.<lambda>.<locals>.<lambda> at 0x10fe05ea0>, {'target_rot_position': 92.23}), 'disk_middle': defaultdict(<function Robot._push_once.<locals>.<lambda>.<locals>.<lambda> at 0x1166a0268>, {'target_rot_position': 73.147}), 'disk_bottom': defaultdict(<function Robot._push_once.<locals>.<lambda>.<locals>.<lambda> at 0x1166a0598>, {'target_rot_position': 74.989})})\n",
      "defaultdict(<function Robot._push_once.<locals>.<lambda> at 0x1166a0730>, {'disk_top': defaultdict(<function Robot._push_once.<locals>.<lambda>.<locals>.<lambda> at 0x10fe05ea0>, {'target_rot_position': 92.253}), 'disk_middle': defaultdict(<function Robot._push_once.<locals>.<lambda>.<locals>.<lambda> at 0x1166a0598>, {'target_rot_position': 73.171}), 'disk_bottom': defaultdict(<function Robot._push_once.<locals>.<lambda>.<locals>.<lambda> at 0x1166a0268>, {'target_rot_position': 75.005})})\n",
      "defaultdict(<function Robot._push_once.<locals>.<lambda> at 0x1166a0400>, {'disk_top': defaultdict(<function Robot._push_once.<locals>.<lambda>.<locals>.<lambda> at 0x10fe05ea0>, {'target_rot_position': 92.221}), 'disk_middle': defaultdict(<function Robot._push_once.<locals>.<lambda>.<locals>.<lambda> at 0x1166a0268>, {'target_rot_position': 73.136}), 'disk_bottom': defaultdict(<function Robot._push_once.<locals>.<lambda>.<locals>.<lambda> at 0x1166a0598>, {'target_rot_position': 74.982})})\n",
      "defaultdict(<function Robot._push_once.<locals>.<lambda> at 0x1166a0158>, {'disk_top': defaultdict(<function Robot._push_once.<locals>.<lambda>.<locals>.<lambda> at 0x10fe05ea0>, {'target_rot_position': 92.135}), 'disk_middle': defaultdict(<function Robot._push_once.<locals>.<lambda>.<locals>.<lambda> at 0x1166a0598>, {'target_rot_position': 73.044}), 'disk_bottom': defaultdict(<function Robot._push_once.<locals>.<lambda>.<locals>.<lambda> at 0x1166a0268>, {'target_rot_position': 74.922})})\n",
      "defaultdict(<function Robot._push_once.<locals>.<lambda> at 0x1166a0400>, {'disk_top': defaultdict(<function Robot._push_once.<locals>.<lambda>.<locals>.<lambda> at 0x10fe05ea0>, {'target_rot_position': 91.995}), 'disk_middle': defaultdict(<function Robot._push_once.<locals>.<lambda>.<locals>.<lambda> at 0x1166a0730>, {'target_rot_position': 72.893}), 'disk_bottom': defaultdict(<function Robot._push_once.<locals>.<lambda>.<locals>.<lambda> at 0x1166a0268>, {'target_rot_position': 74.823})})\n",
      "defaultdict(<function Robot._push_once.<locals>.<lambda> at 0x1166a0158>, {'disk_top': defaultdict(<function Robot._push_once.<locals>.<lambda>.<locals>.<lambda> at 0x10fe05ea0>, {'target_rot_position': 91.801}), 'disk_middle': defaultdict(<function Robot._push_once.<locals>.<lambda>.<locals>.<lambda> at 0x1166a0268>, {'target_rot_position': 72.685}), 'disk_bottom': defaultdict(<function Robot._push_once.<locals>.<lambda>.<locals>.<lambda> at 0x1166a0730>, {'target_rot_position': 74.687})})\n",
      "defaultdict(<function Robot._push_once.<locals>.<lambda> at 0x1166a0598>, {'disk_top': defaultdict(<function Robot._push_once.<locals>.<lambda>.<locals>.<lambda> at 0x10fe05ea0>, {'target_rot_position': 91.554}), 'disk_middle': defaultdict(<function Robot._push_once.<locals>.<lambda>.<locals>.<lambda> at 0x1166a0730>, {'target_rot_position': 72.42}), 'disk_bottom': defaultdict(<function Robot._push_once.<locals>.<lambda>.<locals>.<lambda> at 0x1166a0268>, {'target_rot_position': 74.514})})\n",
      "defaultdict(<function Robot._push_once.<locals>.<lambda> at 0x1166a06a8>, {'disk_top': defaultdict(<function Robot._push_once.<locals>.<lambda>.<locals>.<lambda> at 0x10fe05ea0>, {'target_rot_position': 91.254}), 'disk_middle': defaultdict(<function Robot._push_once.<locals>.<lambda>.<locals>.<lambda> at 0x1166a0268>, {'target_rot_position': 72.099}), 'disk_bottom': defaultdict(<function Robot._push_once.<locals>.<lambda>.<locals>.<lambda> at 0x1166a0730>, {'target_rot_position': 74.304})})\n",
      "defaultdict(<function Robot._push_once.<locals>.<lambda> at 0x1166a0598>, {'disk_top': defaultdict(<function Robot._push_once.<locals>.<lambda>.<locals>.<lambda> at 0x10fe05ea0>, {'target_rot_position': 90.902}), 'disk_middle': defaultdict(<function Robot._push_once.<locals>.<lambda>.<locals>.<lambda> at 0x1166a0730>, {'target_rot_position': 71.722}), 'disk_bottom': defaultdict(<function Robot._push_once.<locals>.<lambda>.<locals>.<lambda> at 0x1166a0268>, {'target_rot_position': 74.058})})\n",
      "defaultdict(<function Robot._push_once.<locals>.<lambda> at 0x1166a0158>, {'disk_top': defaultdict(<function Robot._push_once.<locals>.<lambda>.<locals>.<lambda> at 0x10fe05ea0>, {'target_rot_position': 90.499}), 'disk_middle': defaultdict(<function Robot._push_once.<locals>.<lambda>.<locals>.<lambda> at 0x1166a0268>, {'target_rot_position': 71.291}), 'disk_bottom': defaultdict(<function Robot._push_once.<locals>.<lambda>.<locals>.<lambda> at 0x1166a0730>, {'target_rot_position': 73.777})})\n",
      "defaultdict(<function Robot._push_once.<locals>.<lambda> at 0x1166a06a8>, {'disk_top': defaultdict(<function Robot._push_once.<locals>.<lambda>.<locals>.<lambda> at 0x10fe05ea0>, {'target_rot_position': 90.044}), 'disk_middle': defaultdict(<function Robot._push_once.<locals>.<lambda>.<locals>.<lambda> at 0x1166a0730>, {'target_rot_position': 70.806}), 'disk_bottom': defaultdict(<function Robot._push_once.<locals>.<lambda>.<locals>.<lambda> at 0x1166a0268>, {'target_rot_position': 73.46})})\n",
      "defaultdict(<function Robot._push_once.<locals>.<lambda> at 0x1166a0400>, {'disk_top': defaultdict(<function Robot._push_once.<locals>.<lambda>.<locals>.<lambda> at 0x10fe05ea0>, {'target_rot_position': 89.541}), 'disk_middle': defaultdict(<function Robot._push_once.<locals>.<lambda>.<locals>.<lambda> at 0x1166a0598>, {'target_rot_position': 70.269}), 'disk_bottom': defaultdict(<function Robot._push_once.<locals>.<lambda>.<locals>.<lambda> at 0x1166a0158>, {'target_rot_position': 73.111})})\n",
      "defaultdict(<function Robot._push_once.<locals>.<lambda> at 0x1166a0730>, {'disk_top': defaultdict(<function Robot._push_once.<locals>.<lambda>.<locals>.<lambda> at 0x10fe05ea0>, {'target_rot_position': 88.988}), 'disk_middle': defaultdict(<function Robot._push_once.<locals>.<lambda>.<locals>.<lambda> at 0x1166a0268>, {'target_rot_position': 69.681}), 'disk_bottom': defaultdict(<function Robot._push_once.<locals>.<lambda>.<locals>.<lambda> at 0x1166a0158>, {'target_rot_position': 72.728})})\n"
     ]
    },
    {
     "name": "stdout",
     "output_type": "stream",
     "text": [
      "defaultdict(<function Robot._push_once.<locals>.<lambda> at 0x1166a0400>, {'disk_top': defaultdict(<function Robot._push_once.<locals>.<lambda>.<locals>.<lambda> at 0x10fe05ea0>, {'target_rot_position': 88.388}), 'disk_middle': defaultdict(<function Robot._push_once.<locals>.<lambda>.<locals>.<lambda> at 0x1166a0158>, {'target_rot_position': 69.044}), 'disk_bottom': defaultdict(<function Robot._push_once.<locals>.<lambda>.<locals>.<lambda> at 0x1166a0268>, {'target_rot_position': 72.313})})\n",
      "defaultdict(<function Robot._push_once.<locals>.<lambda> at 0x1166a0598>, {'disk_top': defaultdict(<function Robot._push_once.<locals>.<lambda>.<locals>.<lambda> at 0x10fe05ea0>, {'target_rot_position': 87.742}), 'disk_middle': defaultdict(<function Robot._push_once.<locals>.<lambda>.<locals>.<lambda> at 0x1166a0268>, {'target_rot_position': 68.359}), 'disk_bottom': defaultdict(<function Robot._push_once.<locals>.<lambda>.<locals>.<lambda> at 0x1166a0158>, {'target_rot_position': 71.868})})\n",
      "defaultdict(<function Robot._push_once.<locals>.<lambda> at 0x1166a06a8>, {'disk_top': defaultdict(<function Robot._push_once.<locals>.<lambda>.<locals>.<lambda> at 0x1166a0400>, {'target_rot_position': 87.051}), 'disk_middle': defaultdict(<function Robot._push_once.<locals>.<lambda>.<locals>.<lambda> at 0x1166a0158>, {'target_rot_position': 67.629}), 'disk_bottom': defaultdict(<function Robot._push_once.<locals>.<lambda>.<locals>.<lambda> at 0x1166a0268>, {'target_rot_position': 71.394})})\n",
      "defaultdict(<function Robot._push_once.<locals>.<lambda> at 0x10fe05ea0>, {'disk_top': defaultdict(<function Robot._push_once.<locals>.<lambda>.<locals>.<lambda> at 0x1166a0268>, {'target_rot_position': 86.317}), 'disk_middle': defaultdict(<function Robot._push_once.<locals>.<lambda>.<locals>.<lambda> at 0x1166a0158>, {'target_rot_position': 66.854}), 'disk_bottom': defaultdict(<function Robot._push_once.<locals>.<lambda>.<locals>.<lambda> at 0x1166a0400>, {'target_rot_position': 70.891})})\n",
      "defaultdict(<function Robot._push_once.<locals>.<lambda> at 0x1166a0598>, {'disk_top': defaultdict(<function Robot._push_once.<locals>.<lambda>.<locals>.<lambda> at 0x10fe05ea0>, {'target_rot_position': 85.541}), 'disk_middle': defaultdict(<function Robot._push_once.<locals>.<lambda>.<locals>.<lambda> at 0x1166a0400>, {'target_rot_position': 66.038}), 'disk_bottom': defaultdict(<function Robot._push_once.<locals>.<lambda>.<locals>.<lambda> at 0x1166a0158>, {'target_rot_position': 70.361})})\n",
      "defaultdict(<function Robot._push_once.<locals>.<lambda> at 0x1166a06a8>, {'disk_top': defaultdict(<function Robot._push_once.<locals>.<lambda>.<locals>.<lambda> at 0x10fe05ea0>, {'target_rot_position': 84.725}), 'disk_middle': defaultdict(<function Robot._push_once.<locals>.<lambda>.<locals>.<lambda> at 0x1166a0158>, {'target_rot_position': 65.182}), 'disk_bottom': defaultdict(<function Robot._push_once.<locals>.<lambda>.<locals>.<lambda> at 0x1166a0400>, {'target_rot_position': 69.806})})\n",
      "defaultdict(<function Robot._push_once.<locals>.<lambda> at 0x1166a0268>, {'disk_top': defaultdict(<function Robot._push_once.<locals>.<lambda>.<locals>.<lambda> at 0x10fe05ea0>, {'target_rot_position': 83.87}), 'disk_middle': defaultdict(<function Robot._push_once.<locals>.<lambda>.<locals>.<lambda> at 0x1166a0400>, {'target_rot_position': 64.289}), 'disk_bottom': defaultdict(<function Robot._push_once.<locals>.<lambda>.<locals>.<lambda> at 0x1166a0158>, {'target_rot_position': 69.227})})\n",
      "defaultdict(<function Robot._push_once.<locals>.<lambda> at 0x1166a06a8>, {'disk_top': defaultdict(<function Robot._push_once.<locals>.<lambda>.<locals>.<lambda> at 0x10fe05ea0>, {'target_rot_position': 82.98}), 'disk_middle': defaultdict(<function Robot._push_once.<locals>.<lambda>.<locals>.<lambda> at 0x1166a0158>, {'target_rot_position': 63.36}), 'disk_bottom': defaultdict(<function Robot._push_once.<locals>.<lambda>.<locals>.<lambda> at 0x1166a0400>, {'target_rot_position': 68.626})})\n",
      "defaultdict(<function Robot._push_once.<locals>.<lambda> at 0x1166a0598>, {'disk_top': defaultdict(<function Robot._push_once.<locals>.<lambda>.<locals>.<lambda> at 0x10fe05ea0>, {'target_rot_position': 82.056}), 'disk_middle': defaultdict(<function Robot._push_once.<locals>.<lambda>.<locals>.<lambda> at 0x1166a0400>, {'target_rot_position': 62.399}), 'disk_bottom': defaultdict(<function Robot._push_once.<locals>.<lambda>.<locals>.<lambda> at 0x1166a0158>, {'target_rot_position': 68.003})})\n",
      "defaultdict(<function Robot._push_once.<locals>.<lambda> at 0x1166a0268>, {'disk_top': defaultdict(<function Robot._push_once.<locals>.<lambda>.<locals>.<lambda> at 0x10fe05ea0>, {'target_rot_position': 81.099}), 'disk_middle': defaultdict(<function Robot._push_once.<locals>.<lambda>.<locals>.<lambda> at 0x1166a0158>, {'target_rot_position': 61.407}), 'disk_bottom': defaultdict(<function Robot._push_once.<locals>.<lambda>.<locals>.<lambda> at 0x1166a0400>, {'target_rot_position': 67.362})})\n",
      "defaultdict(<function Robot._push_once.<locals>.<lambda> at 0x1166a06a8>, {'disk_top': defaultdict(<function Robot._push_once.<locals>.<lambda>.<locals>.<lambda> at 0x10fe05ea0>, {'target_rot_position': 80.113}), 'disk_middle': defaultdict(<function Robot._push_once.<locals>.<lambda>.<locals>.<lambda> at 0x1166a0400>, {'target_rot_position': 60.388}), 'disk_bottom': defaultdict(<function Robot._push_once.<locals>.<lambda>.<locals>.<lambda> at 0x1166a0158>, {'target_rot_position': 66.702})})\n",
      "defaultdict(<function Robot._push_once.<locals>.<lambda> at 0x1166a0598>, {'disk_top': defaultdict(<function Robot._push_once.<locals>.<lambda>.<locals>.<lambda> at 0x10fe05ea0>, {'target_rot_position': 79.1}), 'disk_middle': defaultdict(<function Robot._push_once.<locals>.<lambda>.<locals>.<lambda> at 0x1166a0158>, {'target_rot_position': 59.344}), 'disk_bottom': defaultdict(<function Robot._push_once.<locals>.<lambda>.<locals>.<lambda> at 0x1166a0400>, {'target_rot_position': 66.026})})\n",
      "defaultdict(<function Robot._push_once.<locals>.<lambda> at 0x1166a0730>, {'disk_top': defaultdict(<function Robot._push_once.<locals>.<lambda>.<locals>.<lambda> at 0x10fe05ea0>, {'target_rot_position': 77.001}), 'disk_middle': defaultdict(<function Robot._push_once.<locals>.<lambda>.<locals>.<lambda> at 0x1166a06a8>, {'target_rot_position': 57.192}), 'disk_bottom': defaultdict(<function Robot._push_once.<locals>.<lambda>.<locals>.<lambda> at 0x1166a0400>, {'target_rot_position': 64.633})})\n",
      "defaultdict(<function Robot._push_once.<locals>.<lambda> at 0x1166a0598>, {'disk_top': defaultdict(<function Robot._push_once.<locals>.<lambda>.<locals>.<lambda> at 0x10fe05ea0>, {'target_rot_position': 75.92}), 'disk_middle': defaultdict(<function Robot._push_once.<locals>.<lambda>.<locals>.<lambda> at 0x1166a0400>, {'target_rot_position': 56.089}), 'disk_bottom': defaultdict(<function Robot._push_once.<locals>.<lambda>.<locals>.<lambda> at 0x1166a06a8>, {'target_rot_position': 63.919})})\n",
      "defaultdict(<function Robot._push_once.<locals>.<lambda> at 0x1166a0158>, {'disk_top': defaultdict(<function Robot._push_once.<locals>.<lambda>.<locals>.<lambda> at 0x10fe05ea0>, {'target_rot_position': 74.823}), 'disk_middle': defaultdict(<function Robot._push_once.<locals>.<lambda>.<locals>.<lambda> at 0x1166a06a8>, {'target_rot_position': 54.973}), 'disk_bottom': defaultdict(<function Robot._push_once.<locals>.<lambda>.<locals>.<lambda> at 0x1166a0400>, {'target_rot_position': 63.196})})\n",
      "defaultdict(<function Robot._push_once.<locals>.<lambda> at 0x1166a0598>, {'disk_top': defaultdict(<function Robot._push_once.<locals>.<lambda>.<locals>.<lambda> at 0x10fe05ea0>, {'target_rot_position': 73.711}), 'disk_middle': defaultdict(<function Robot._push_once.<locals>.<lambda>.<locals>.<lambda> at 0x1166a0400>, {'target_rot_position': 53.846}), 'disk_bottom': defaultdict(<function Robot._push_once.<locals>.<lambda>.<locals>.<lambda> at 0x1166a06a8>, {'target_rot_position': 62.465})})\n",
      "defaultdict(<function Robot._push_once.<locals>.<lambda> at 0x1166a0158>, {'disk_top': defaultdict(<function Robot._push_once.<locals>.<lambda>.<locals>.<lambda> at 0x10fe05ea0>, {'target_rot_position': 72.587}), 'disk_middle': defaultdict(<function Robot._push_once.<locals>.<lambda>.<locals>.<lambda> at 0x1166a0268>, {'target_rot_position': 52.712}), 'disk_bottom': defaultdict(<function Robot._push_once.<locals>.<lambda>.<locals>.<lambda> at 0x1166a06a8>, {'target_rot_position': 61.728})})\n",
      "defaultdict(<function Robot._push_once.<locals>.<lambda> at 0x1166a0598>, {'disk_top': defaultdict(<function Robot._push_once.<locals>.<lambda>.<locals>.<lambda> at 0x10fe05ea0>, {'target_rot_position': 71.455}), 'disk_middle': defaultdict(<function Robot._push_once.<locals>.<lambda>.<locals>.<lambda> at 0x1166a06a8>, {'target_rot_position': 51.572}), 'disk_bottom': defaultdict(<function Robot._push_once.<locals>.<lambda>.<locals>.<lambda> at 0x1166a0268>, {'target_rot_position': 60.987})})\n"
     ]
    }
   ],
   "source": [
    "t=0\n",
    "while t < 2.5:\n",
    "    angle=20*math.sin(5*t)\n",
    "    q11,q12,q13 = a.get_angles_from_vector([0.3,0,1],angle)\n",
    "    r.disk_top.target_rot_position = -q11\n",
    "    r.disk_middle.target_rot_position = -q12\n",
    "    r.disk_bottom.target_rot_position = -q13\n",
    "    time.sleep(0.01)\n",
    "    t=t+0.01"
   ]
  },
  {
   "cell_type": "markdown",
   "metadata": {},
   "source": [
    "both"
   ]
  },
  {
   "cell_type": "code",
   "execution_count": 14,
   "metadata": {},
   "outputs": [
    {
     "name": "stdout",
     "output_type": "stream",
     "text": [
      "defaultdict(<function Robot._push_once.<locals>.<lambda> at 0x1166a0158>, {'disk_top': defaultdict(<function Robot._push_once.<locals>.<lambda>.<locals>.<lambda> at 0x10fed6c80>, {'target_rot_position': 63.567}), 'disk_middle': defaultdict(<function Robot._push_once.<locals>.<lambda>.<locals>.<lambda> at 0x1166a0268>, {'target_rot_position': 56.433}), 'disk_bottom': defaultdict(<function Robot._push_once.<locals>.<lambda>.<locals>.<lambda> at 0x1166a0048>, {'target_rot_position': 60.0})})\n",
      "defaultdict(<function Robot._push_once.<locals>.<lambda> at 0x1166a0400>, {'disk_top': defaultdict(<function Robot._push_once.<locals>.<lambda>.<locals>.<lambda> at 0x10fed6c80>, {'target_rot_position': 64.926}), 'disk_middle': defaultdict(<function Robot._push_once.<locals>.<lambda>.<locals>.<lambda> at 0x1166a0048>, {'target_rot_position': 55.775}), 'disk_bottom': defaultdict(<function Robot._push_once.<locals>.<lambda>.<locals>.<lambda> at 0x1166a0268>, {'target_rot_position': 59.313})})\n",
      "defaultdict(<function Robot._push_once.<locals>.<lambda> at 0x1166a0730>, {'disk_top': defaultdict(<function Robot._push_once.<locals>.<lambda>.<locals>.<lambda> at 0x10fed6c80>, {'target_rot_position': 66.187}), 'disk_middle': defaultdict(<function Robot._push_once.<locals>.<lambda>.<locals>.<lambda> at 0x1166a0268>, {'target_rot_position': 55.228}), 'disk_bottom': defaultdict(<function Robot._push_once.<locals>.<lambda>.<locals>.<lambda> at 0x1166a0048>, {'target_rot_position': 58.625})})\n",
      "defaultdict(<function Robot._push_once.<locals>.<lambda> at 0x1166a0158>, {'disk_top': defaultdict(<function Robot._push_once.<locals>.<lambda>.<locals>.<lambda> at 0x10fed6c80>, {'target_rot_position': 67.267}), 'disk_middle': defaultdict(<function Robot._push_once.<locals>.<lambda>.<locals>.<lambda> at 0x1166a0048>, {'target_rot_position': 54.852}), 'disk_bottom': defaultdict(<function Robot._push_once.<locals>.<lambda>.<locals>.<lambda> at 0x1166a0268>, {'target_rot_position': 57.957})})\n",
      "defaultdict(<function Robot._push_once.<locals>.<lambda> at 0x1166a0400>, {'disk_top': defaultdict(<function Robot._push_once.<locals>.<lambda>.<locals>.<lambda> at 0x10fed6c80>, {'target_rot_position': 68.094})})\n",
      "defaultdict(<function Robot._push_once.<locals>.<lambda> at 0x1166a0048>, {'disk_middle': defaultdict(<function Robot._push_once.<locals>.<lambda>.<locals>.<lambda> at 0x10fed6c80>, {'target_rot_position': 54.689})})\n",
      "defaultdict(<function Robot._push_once.<locals>.<lambda> at 0x1166a0268>, {'disk_bottom': defaultdict(<function Robot._push_once.<locals>.<lambda>.<locals>.<lambda> at 0x10fed6c80>, {'target_rot_position': 57.332})})\n",
      "defaultdict(<function Robot._push_once.<locals>.<lambda> at 0x1166a0400>, {'disk_top': defaultdict(<function Robot._push_once.<locals>.<lambda>.<locals>.<lambda> at 0x10fed6c80>, {'target_rot_position': 68.618}), 'disk_middle': defaultdict(<function Robot._push_once.<locals>.<lambda>.<locals>.<lambda> at 0x1166a0268>, {'target_rot_position': 54.758}), 'disk_bottom': defaultdict(<function Robot._push_once.<locals>.<lambda>.<locals>.<lambda> at 0x1166a0048>, {'target_rot_position': 56.77})})\n",
      "defaultdict(<function Robot._push_once.<locals>.<lambda> at 0x1166a0158>, {'disk_top': defaultdict(<function Robot._push_once.<locals>.<lambda>.<locals>.<lambda> at 0x10fed6c80>, {'target_rot_position': 68.808}), 'disk_middle': defaultdict(<function Robot._push_once.<locals>.<lambda>.<locals>.<lambda> at 0x1166a0048>, {'target_rot_position': 55.062}), 'disk_bottom': defaultdict(<function Robot._push_once.<locals>.<lambda>.<locals>.<lambda> at 0x1166a0268>, {'target_rot_position': 56.292})})\n",
      "defaultdict(<function Robot._push_once.<locals>.<lambda> at 0x1166a0730>, {'disk_top': defaultdict(<function Robot._push_once.<locals>.<lambda>.<locals>.<lambda> at 0x10fed6c80>, {'target_rot_position': 68.658}), 'disk_middle': defaultdict(<function Robot._push_once.<locals>.<lambda>.<locals>.<lambda> at 0x1166a0268>, {'target_rot_position': 55.588}), 'disk_bottom': defaultdict(<function Robot._push_once.<locals>.<lambda>.<locals>.<lambda> at 0x1166a0048>, {'target_rot_position': 55.911})})\n",
      "defaultdict(<function Robot._push_once.<locals>.<lambda> at 0x1166a0158>, {'disk_top': defaultdict(<function Robot._push_once.<locals>.<lambda>.<locals>.<lambda> at 0x10fed6c80>, {'target_rot_position': 68.185}), 'disk_middle': defaultdict(<function Robot._push_once.<locals>.<lambda>.<locals>.<lambda> at 0x1166a0048>, {'target_rot_position': 56.306}), 'disk_bottom': defaultdict(<function Robot._push_once.<locals>.<lambda>.<locals>.<lambda> at 0x1166a0268>, {'target_rot_position': 55.64})})\n",
      "defaultdict(<function Robot._push_once.<locals>.<lambda> at 0x1166a0730>, {'disk_top': defaultdict(<function Robot._push_once.<locals>.<lambda>.<locals>.<lambda> at 0x10fed6c80>, {'target_rot_position': 67.435}), 'disk_middle': defaultdict(<function Robot._push_once.<locals>.<lambda>.<locals>.<lambda> at 0x1166a0400>, {'target_rot_position': 57.174}), 'disk_bottom': defaultdict(<function Robot._push_once.<locals>.<lambda>.<locals>.<lambda> at 0x1166a0268>, {'target_rot_position': 55.486})})\n",
      "defaultdict(<function Robot._push_once.<locals>.<lambda> at 0x1166a0158>, {'disk_top': defaultdict(<function Robot._push_once.<locals>.<lambda>.<locals>.<lambda> at 0x10fed6c80>, {'target_rot_position': 66.475}), 'disk_middle': defaultdict(<function Robot._push_once.<locals>.<lambda>.<locals>.<lambda> at 0x1166a0268>, {'target_rot_position': 58.132}), 'disk_bottom': defaultdict(<function Robot._push_once.<locals>.<lambda>.<locals>.<lambda> at 0x1166a0400>, {'target_rot_position': 55.448})})\n",
      "defaultdict(<function Robot._push_once.<locals>.<lambda> at 0x1166a0730>, {'disk_top': defaultdict(<function Robot._push_once.<locals>.<lambda>.<locals>.<lambda> at 0x10fed6c80>, {'target_rot_position': 65.392}), 'disk_middle': defaultdict(<function Robot._push_once.<locals>.<lambda>.<locals>.<lambda> at 0x1166a0400>, {'target_rot_position': 59.107}), 'disk_bottom': defaultdict(<function Robot._push_once.<locals>.<lambda>.<locals>.<lambda> at 0x1166a0268>, {'target_rot_position': 55.522})})\n",
      "defaultdict(<function Robot._push_once.<locals>.<lambda> at 0x1166a0048>, {'disk_top': defaultdict(<function Robot._push_once.<locals>.<lambda>.<locals>.<lambda> at 0x10fed6c80>, {'target_rot_position': 64.288}), 'disk_middle': defaultdict(<function Robot._push_once.<locals>.<lambda>.<locals>.<lambda> at 0x1166a0268>, {'target_rot_position': 60.016}), 'disk_bottom': defaultdict(<function Robot._push_once.<locals>.<lambda>.<locals>.<lambda> at 0x1166a0400>, {'target_rot_position': 55.696})})\n",
      "defaultdict(<function Robot._push_once.<locals>.<lambda> at 0x1166a0158>, {'disk_top': defaultdict(<function Robot._push_once.<locals>.<lambda>.<locals>.<lambda> at 0x10fed6c80>, {'target_rot_position': 63.264}), 'disk_middle': defaultdict(<function Robot._push_once.<locals>.<lambda>.<locals>.<lambda> at 0x1166a0400>, {'target_rot_position': 60.771}), 'disk_bottom': defaultdict(<function Robot._push_once.<locals>.<lambda>.<locals>.<lambda> at 0x1166a0268>, {'target_rot_position': 55.955})})\n",
      "defaultdict(<function Robot._push_once.<locals>.<lambda> at 0x1166a0730>, {'disk_top': defaultdict(<function Robot._push_once.<locals>.<lambda>.<locals>.<lambda> at 0x10fed6c80>, {'target_rot_position': 62.416}), 'disk_middle': defaultdict(<function Robot._push_once.<locals>.<lambda>.<locals>.<lambda> at 0x1166a0268>, {'target_rot_position': 61.288}), 'disk_bottom': defaultdict(<function Robot._push_once.<locals>.<lambda>.<locals>.<lambda> at 0x1166a0400>, {'target_rot_position': 56.285})})\n",
      "defaultdict(<function Robot._push_once.<locals>.<lambda> at 0x1166a0598>, {'disk_top': defaultdict(<function Robot._push_once.<locals>.<lambda>.<locals>.<lambda> at 0x10fed6c80>, {'target_rot_position': 61.816}), 'disk_middle': defaultdict(<function Robot._push_once.<locals>.<lambda>.<locals>.<lambda> at 0x1166a0400>, {'target_rot_position': 61.5}), 'disk_bottom': defaultdict(<function Robot._push_once.<locals>.<lambda>.<locals>.<lambda> at 0x1166a0268>, {'target_rot_position': 56.676})})\n",
      "defaultdict(<function Robot._push_once.<locals>.<lambda> at 0x1166a0158>, {'disk_top': defaultdict(<function Robot._push_once.<locals>.<lambda>.<locals>.<lambda> at 0x10fed6c80>, {'target_rot_position': 61.509}), 'disk_middle': defaultdict(<function Robot._push_once.<locals>.<lambda>.<locals>.<lambda> at 0x1166a0268>, {'target_rot_position': 61.368}), 'disk_bottom': defaultdict(<function Robot._push_once.<locals>.<lambda>.<locals>.<lambda> at 0x1166a0400>, {'target_rot_position': 57.118})})\n",
      "defaultdict(<function Robot._push_once.<locals>.<lambda> at 0x1166a0730>, {'disk_top': defaultdict(<function Robot._push_once.<locals>.<lambda>.<locals>.<lambda> at 0x10fed6c80>, {'target_rot_position': 61.505}), 'disk_middle': defaultdict(<function Robot._push_once.<locals>.<lambda>.<locals>.<lambda> at 0x1166a0400>, {'target_rot_position': 60.882}), 'disk_bottom': defaultdict(<function Robot._push_once.<locals>.<lambda>.<locals>.<lambda> at 0x1166a0268>, {'target_rot_position': 57.61})})\n",
      "defaultdict(<function Robot._push_once.<locals>.<lambda> at 0x1166a0598>, {'disk_top': defaultdict(<function Robot._push_once.<locals>.<lambda>.<locals>.<lambda> at 0x10fed6c80>, {'target_rot_position': 61.78}), 'disk_middle': defaultdict(<function Robot._push_once.<locals>.<lambda>.<locals>.<lambda> at 0x1166a0268>, {'target_rot_position': 60.07}), 'disk_bottom': defaultdict(<function Robot._push_once.<locals>.<lambda>.<locals>.<lambda> at 0x1166a0400>, {'target_rot_position': 58.15})})\n",
      "defaultdict(<function Robot._push_once.<locals>.<lambda> at 0x1166a0158>, {'disk_top': defaultdict(<function Robot._push_once.<locals>.<lambda>.<locals>.<lambda> at 0x10fed6c80>, {'target_rot_position': 62.276}), 'disk_middle': defaultdict(<function Robot._push_once.<locals>.<lambda>.<locals>.<lambda> at 0x1166a0400>, {'target_rot_position': 58.988}), 'disk_bottom': defaultdict(<function Robot._push_once.<locals>.<lambda>.<locals>.<lambda> at 0x1166a0268>, {'target_rot_position': 58.738})})\n",
      "defaultdict(<function Robot._push_once.<locals>.<lambda> at 0x1166a0730>, {'disk_top': defaultdict(<function Robot._push_once.<locals>.<lambda>.<locals>.<lambda> at 0x10fed6c80>, {'target_rot_position': 62.915}), 'disk_middle': defaultdict(<function Robot._push_once.<locals>.<lambda>.<locals>.<lambda> at 0x1166a0268>, {'target_rot_position': 57.718}), 'disk_bottom': defaultdict(<function Robot._push_once.<locals>.<lambda>.<locals>.<lambda> at 0x1166a0400>, {'target_rot_position': 59.371})})\n",
      "defaultdict(<function Robot._push_once.<locals>.<lambda> at 0x1166a0158>, {'disk_top': defaultdict(<function Robot._push_once.<locals>.<lambda>.<locals>.<lambda> at 0x10fed6c80>, {'target_rot_position': 63.606}), 'disk_middle': defaultdict(<function Robot._push_once.<locals>.<lambda>.<locals>.<lambda> at 0x1166a0400>, {'target_rot_position': 56.356}), 'disk_bottom': defaultdict(<function Robot._push_once.<locals>.<lambda>.<locals>.<lambda> at 0x1166a0268>, {'target_rot_position': 60.038})})\n",
      "defaultdict(<function Robot._push_once.<locals>.<lambda> at 0x1166a0598>, {'disk_top': defaultdict(<function Robot._push_once.<locals>.<lambda>.<locals>.<lambda> at 0x10fed6c80>, {'target_rot_position': 64.259}), 'disk_middle': defaultdict(<function Robot._push_once.<locals>.<lambda>.<locals>.<lambda> at 0x1166a0268>, {'target_rot_position': 55.0}), 'disk_bottom': defaultdict(<function Robot._push_once.<locals>.<lambda>.<locals>.<lambda> at 0x1166a0400>, {'target_rot_position': 60.725})})\n",
      "defaultdict(<function Robot._push_once.<locals>.<lambda> at 0x1166a0048>, {'disk_top': defaultdict(<function Robot._push_once.<locals>.<lambda>.<locals>.<lambda> at 0x10fed6c80>, {'target_rot_position': 64.798}), 'disk_middle': defaultdict(<function Robot._push_once.<locals>.<lambda>.<locals>.<lambda> at 0x1166a0158>, {'target_rot_position': 53.747}), 'disk_bottom': defaultdict(<function Robot._push_once.<locals>.<lambda>.<locals>.<lambda> at 0x1166a0730>, {'target_rot_position': 61.413})})\n",
      "defaultdict(<function Robot._push_once.<locals>.<lambda> at 0x1166a0268>, {'disk_top': defaultdict(<function Robot._push_once.<locals>.<lambda>.<locals>.<lambda> at 0x10fed6c80>, {'target_rot_position': 65.163})})\n",
      "defaultdict(<function Robot._push_once.<locals>.<lambda> at 0x1166a0158>, {'disk_middle': defaultdict(<function Robot._push_once.<locals>.<lambda>.<locals>.<lambda> at 0x10fed6c80>, {'target_rot_position': 52.68})})\n",
      "defaultdict(<function Robot._push_once.<locals>.<lambda> at 0x1166a0730>, {'disk_bottom': defaultdict(<function Robot._push_once.<locals>.<lambda>.<locals>.<lambda> at 0x10fed6c80>, {'target_rot_position': 62.079})})\n",
      "defaultdict(<function Robot._push_once.<locals>.<lambda> at 0x1166a0268>, {'disk_top': defaultdict(<function Robot._push_once.<locals>.<lambda>.<locals>.<lambda> at 0x10fed6c80>, {'target_rot_position': 65.313}), 'disk_middle': defaultdict(<function Robot._push_once.<locals>.<lambda>.<locals>.<lambda> at 0x1166a0730>, {'target_rot_position': 51.868}), 'disk_bottom': defaultdict(<function Robot._push_once.<locals>.<lambda>.<locals>.<lambda> at 0x1166a0158>, {'target_rot_position': 62.702})})\n",
      "defaultdict(<function Robot._push_once.<locals>.<lambda> at 0x1166a0400>, {'disk_top': defaultdict(<function Robot._push_once.<locals>.<lambda>.<locals>.<lambda> at 0x10fed6c80>, {'target_rot_position': 65.231}), 'disk_middle': defaultdict(<function Robot._push_once.<locals>.<lambda>.<locals>.<lambda> at 0x1166a0158>, {'target_rot_position': 51.363}), 'disk_bottom': defaultdict(<function Robot._push_once.<locals>.<lambda>.<locals>.<lambda> at 0x1166a0730>, {'target_rot_position': 63.259})})\n"
     ]
    },
    {
     "name": "stdout",
     "output_type": "stream",
     "text": [
      "defaultdict(<function Robot._push_once.<locals>.<lambda> at 0x1166a0048>, {'disk_top': defaultdict(<function Robot._push_once.<locals>.<lambda>.<locals>.<lambda> at 0x10fed6c80>, {'target_rot_position': 64.914}), 'disk_middle': defaultdict(<function Robot._push_once.<locals>.<lambda>.<locals>.<lambda> at 0x1166a0730>, {'target_rot_position': 51.192}), 'disk_bottom': defaultdict(<function Robot._push_once.<locals>.<lambda>.<locals>.<lambda> at 0x1166a0158>, {'target_rot_position': 63.732})})\n",
      "defaultdict(<function Robot._push_once.<locals>.<lambda> at 0x1166a02f0>, {'disk_top': defaultdict(<function Robot._push_once.<locals>.<lambda>.<locals>.<lambda> at 0x10fed6c80>, {'target_rot_position': 64.377}), 'disk_middle': defaultdict(<function Robot._push_once.<locals>.<lambda>.<locals>.<lambda> at 0x1166a0598>, {'target_rot_position': 51.361}), 'disk_bottom': defaultdict(<function Robot._push_once.<locals>.<lambda>.<locals>.<lambda> at 0x1166a0268>, {'target_rot_position': 64.107})})\n",
      "defaultdict(<function Robot._push_once.<locals>.<lambda> at 0x1166a0158>, {'disk_top': defaultdict(<function Robot._push_once.<locals>.<lambda>.<locals>.<lambda> at 0x10fed6c80>, {'target_rot_position': 63.649}), 'disk_middle': defaultdict(<function Robot._push_once.<locals>.<lambda>.<locals>.<lambda> at 0x1166a0268>, {'target_rot_position': 51.85}), 'disk_bottom': defaultdict(<function Robot._push_once.<locals>.<lambda>.<locals>.<lambda> at 0x1166a0598>, {'target_rot_position': 64.372})})\n",
      "defaultdict(<function Robot._push_once.<locals>.<lambda> at 0x1166a0730>, {'disk_top': defaultdict(<function Robot._push_once.<locals>.<lambda>.<locals>.<lambda> at 0x10fed6c80>, {'target_rot_position': 62.775}), 'disk_middle': defaultdict(<function Robot._push_once.<locals>.<lambda>.<locals>.<lambda> at 0x1166a0598>, {'target_rot_position': 52.614}), 'disk_bottom': defaultdict(<function Robot._push_once.<locals>.<lambda>.<locals>.<lambda> at 0x1166a0268>, {'target_rot_position': 64.519})})\n",
      "defaultdict(<function Robot._push_once.<locals>.<lambda> at 0x1166a0158>, {'disk_top': defaultdict(<function Robot._push_once.<locals>.<lambda>.<locals>.<lambda> at 0x10fed6c80>, {'target_rot_position': 61.814}), 'disk_middle': defaultdict(<function Robot._push_once.<locals>.<lambda>.<locals>.<lambda> at 0x1166a0268>, {'target_rot_position': 53.583}), 'disk_bottom': defaultdict(<function Robot._push_once.<locals>.<lambda>.<locals>.<lambda> at 0x1166a0598>, {'target_rot_position': 64.551})})\n",
      "defaultdict(<function Robot._push_once.<locals>.<lambda> at 0x1166a02f0>, {'disk_top': defaultdict(<function Robot._push_once.<locals>.<lambda>.<locals>.<lambda> at 0x10fed6c80>, {'target_rot_position': 60.839}), 'disk_middle': defaultdict(<function Robot._push_once.<locals>.<lambda>.<locals>.<lambda> at 0x1166a0598>, {'target_rot_position': 54.67}), 'disk_bottom': defaultdict(<function Robot._push_once.<locals>.<lambda>.<locals>.<lambda> at 0x1166a0268>, {'target_rot_position': 64.471})})\n",
      "defaultdict(<function Robot._push_once.<locals>.<lambda> at 0x1166a0730>, {'disk_top': defaultdict(<function Robot._push_once.<locals>.<lambda>.<locals>.<lambda> at 0x10fed6c80>, {'target_rot_position': 59.937}), 'disk_middle': defaultdict(<function Robot._push_once.<locals>.<lambda>.<locals>.<lambda> at 0x1166a0268>, {'target_rot_position': 55.773}), 'disk_bottom': defaultdict(<function Robot._push_once.<locals>.<lambda>.<locals>.<lambda> at 0x1166a0598>, {'target_rot_position': 64.292})})\n",
      "defaultdict(<function Robot._push_once.<locals>.<lambda> at 0x1166a0158>, {'disk_top': defaultdict(<function Robot._push_once.<locals>.<lambda>.<locals>.<lambda> at 0x10fed6c80>, {'target_rot_position': 59.193}), 'disk_middle': defaultdict(<function Robot._push_once.<locals>.<lambda>.<locals>.<lambda> at 0x1166a0598>, {'target_rot_position': 56.789}), 'disk_bottom': defaultdict(<function Robot._push_once.<locals>.<lambda>.<locals>.<lambda> at 0x1166a0268>, {'target_rot_position': 64.028})})\n",
      "defaultdict(<function Robot._push_once.<locals>.<lambda> at 0x1166a0730>, {'disk_top': defaultdict(<function Robot._push_once.<locals>.<lambda>.<locals>.<lambda> at 0x10fed6c80>, {'target_rot_position': 58.692}), 'disk_middle': defaultdict(<function Robot._push_once.<locals>.<lambda>.<locals>.<lambda> at 0x1166a0268>, {'target_rot_position': 57.625}), 'disk_bottom': defaultdict(<function Robot._push_once.<locals>.<lambda>.<locals>.<lambda> at 0x1166a0598>, {'target_rot_position': 63.694})})\n",
      "defaultdict(<function Robot._push_once.<locals>.<lambda> at 0x1166a02f0>, {'disk_top': defaultdict(<function Robot._push_once.<locals>.<lambda>.<locals>.<lambda> at 0x10fed6c80>, {'target_rot_position': 58.498}), 'disk_middle': defaultdict(<function Robot._push_once.<locals>.<lambda>.<locals>.<lambda> at 0x1166a0598>, {'target_rot_position': 58.21}), 'disk_bottom': defaultdict(<function Robot._push_once.<locals>.<lambda>.<locals>.<lambda> at 0x1166a0268>, {'target_rot_position': 63.301})})\n",
      "defaultdict(<function Robot._push_once.<locals>.<lambda> at 0x1166a0158>, {'disk_top': defaultdict(<function Robot._push_once.<locals>.<lambda>.<locals>.<lambda> at 0x10fed6c80>, {'target_rot_position': 58.65}), 'disk_middle': defaultdict(<function Robot._push_once.<locals>.<lambda>.<locals>.<lambda> at 0x1166a0268>, {'target_rot_position': 58.499}), 'disk_bottom': defaultdict(<function Robot._push_once.<locals>.<lambda>.<locals>.<lambda> at 0x1166a0598>, {'target_rot_position': 62.856})})\n",
      "defaultdict(<function Robot._push_once.<locals>.<lambda> at 0x1166a02f0>, {'disk_top': defaultdict(<function Robot._push_once.<locals>.<lambda>.<locals>.<lambda> at 0x10fed6c80>, {'target_rot_position': 59.155}), 'disk_middle': defaultdict(<function Robot._push_once.<locals>.<lambda>.<locals>.<lambda> at 0x1166a0598>, {'target_rot_position': 58.486}), 'disk_bottom': defaultdict(<function Robot._push_once.<locals>.<lambda>.<locals>.<lambda> at 0x1166a0268>, {'target_rot_position': 62.361})})\n",
      "defaultdict(<function Robot._push_once.<locals>.<lambda> at 0x1166a0730>, {'disk_top': defaultdict(<function Robot._push_once.<locals>.<lambda>.<locals>.<lambda> at 0x10fed6c80>, {'target_rot_position': 59.985}), 'disk_middle': defaultdict(<function Robot._push_once.<locals>.<lambda>.<locals>.<lambda> at 0x1166a0158>, {'target_rot_position': 58.197}), 'disk_bottom': defaultdict(<function Robot._push_once.<locals>.<lambda>.<locals>.<lambda> at 0x1166a0268>, {'target_rot_position': 61.818})})\n",
      "defaultdict(<function Robot._push_once.<locals>.<lambda> at 0x1166a02f0>, {'disk_top': defaultdict(<function Robot._push_once.<locals>.<lambda>.<locals>.<lambda> at 0x10fed6c80>, {'target_rot_position': 61.079}), 'disk_middle': defaultdict(<function Robot._push_once.<locals>.<lambda>.<locals>.<lambda> at 0x1166a0268>, {'target_rot_position': 57.691}), 'disk_bottom': defaultdict(<function Robot._push_once.<locals>.<lambda>.<locals>.<lambda> at 0x1166a0158>, {'target_rot_position': 61.227})})\n",
      "defaultdict(<function Robot._push_once.<locals>.<lambda> at 0x1166a0730>, {'disk_top': defaultdict(<function Robot._push_once.<locals>.<lambda>.<locals>.<lambda> at 0x10fed6c80>, {'target_rot_position': 62.356}), 'disk_middle': defaultdict(<function Robot._push_once.<locals>.<lambda>.<locals>.<lambda> at 0x1166a0158>, {'target_rot_position': 57.047}), 'disk_bottom': defaultdict(<function Robot._push_once.<locals>.<lambda>.<locals>.<lambda> at 0x1166a0268>, {'target_rot_position': 60.593})})\n",
      "defaultdict(<function Robot._push_once.<locals>.<lambda> at 0x1166a0598>, {'disk_top': defaultdict(<function Robot._push_once.<locals>.<lambda>.<locals>.<lambda> at 0x10fed6c80>, {'target_rot_position': 63.721}), 'disk_middle': defaultdict(<function Robot._push_once.<locals>.<lambda>.<locals>.<lambda> at 0x1166a0268>, {'target_rot_position': 56.356}), 'disk_bottom': defaultdict(<function Robot._push_once.<locals>.<lambda>.<locals>.<lambda> at 0x1166a0158>, {'target_rot_position': 59.924})})\n",
      "defaultdict(<function Robot._push_once.<locals>.<lambda> at 0x1166a0400>, {'disk_top': defaultdict(<function Robot._push_once.<locals>.<lambda>.<locals>.<lambda> at 0x10fed6c80>, {'target_rot_position': 65.074}), 'disk_middle': defaultdict(<function Robot._push_once.<locals>.<lambda>.<locals>.<lambda> at 0x1166a0158>, {'target_rot_position': 55.707}), 'disk_bottom': defaultdict(<function Robot._push_once.<locals>.<lambda>.<locals>.<lambda> at 0x1166a0268>, {'target_rot_position': 59.236})})\n",
      "defaultdict(<function Robot._push_once.<locals>.<lambda> at 0x1166a0730>, {'disk_top': defaultdict(<function Robot._push_once.<locals>.<lambda>.<locals>.<lambda> at 0x10fed6c80>, {'target_rot_position': 66.319}), 'disk_middle': defaultdict(<function Robot._push_once.<locals>.<lambda>.<locals>.<lambda> at 0x1166a0268>, {'target_rot_position': 55.176}), 'disk_bottom': defaultdict(<function Robot._push_once.<locals>.<lambda>.<locals>.<lambda> at 0x1166a0158>, {'target_rot_position': 58.549})})\n",
      "defaultdict(<function Robot._push_once.<locals>.<lambda> at 0x1166a0400>, {'disk_top': defaultdict(<function Robot._push_once.<locals>.<lambda>.<locals>.<lambda> at 0x10fed6c80>, {'target_rot_position': 67.373}), 'disk_middle': defaultdict(<function Robot._push_once.<locals>.<lambda>.<locals>.<lambda> at 0x1166a0158>, {'target_rot_position': 54.823}), 'disk_bottom': defaultdict(<function Robot._push_once.<locals>.<lambda>.<locals>.<lambda> at 0x1166a0268>, {'target_rot_position': 57.884})})\n",
      "defaultdict(<function Robot._push_once.<locals>.<lambda> at 0x1166a0730>, {'disk_top': defaultdict(<function Robot._push_once.<locals>.<lambda>.<locals>.<lambda> at 0x10fed6c80>, {'target_rot_position': 68.169}), 'disk_middle': defaultdict(<function Robot._push_once.<locals>.<lambda>.<locals>.<lambda> at 0x1166a0268>, {'target_rot_position': 54.685}), 'disk_bottom': defaultdict(<function Robot._push_once.<locals>.<lambda>.<locals>.<lambda> at 0x1166a0158>, {'target_rot_position': 57.265})})\n",
      "defaultdict(<function Robot._push_once.<locals>.<lambda> at 0x1166a0598>, {'disk_top': defaultdict(<function Robot._push_once.<locals>.<lambda>.<locals>.<lambda> at 0x10fed6c80>, {'target_rot_position': 68.656}), 'disk_middle': defaultdict(<function Robot._push_once.<locals>.<lambda>.<locals>.<lambda> at 0x1166a0158>, {'target_rot_position': 54.781}), 'disk_bottom': defaultdict(<function Robot._push_once.<locals>.<lambda>.<locals>.<lambda> at 0x1166a0268>, {'target_rot_position': 56.712})})\n",
      "defaultdict(<function Robot._push_once.<locals>.<lambda> at 0x1166a0730>, {'disk_top': defaultdict(<function Robot._push_once.<locals>.<lambda>.<locals>.<lambda> at 0x10fed6c80>, {'target_rot_position': 68.808}), 'disk_middle': defaultdict(<function Robot._push_once.<locals>.<lambda>.<locals>.<lambda> at 0x1166a0268>, {'target_rot_position': 55.111}), 'disk_bottom': defaultdict(<function Robot._push_once.<locals>.<lambda>.<locals>.<lambda> at 0x1166a0158>, {'target_rot_position': 56.244})})\n",
      "defaultdict(<function Robot._push_once.<locals>.<lambda> at 0x1166a0598>, {'disk_top': defaultdict(<function Robot._push_once.<locals>.<lambda>.<locals>.<lambda> at 0x10fed6c80>, {'target_rot_position': 68.62}), 'disk_middle': defaultdict(<function Robot._push_once.<locals>.<lambda>.<locals>.<lambda> at 0x1166a0158>, {'target_rot_position': 55.659}), 'disk_bottom': defaultdict(<function Robot._push_once.<locals>.<lambda>.<locals>.<lambda> at 0x1166a0268>, {'target_rot_position': 55.875})})\n",
      "defaultdict(<function Robot._push_once.<locals>.<lambda> at 0x1166a0400>, {'disk_top': defaultdict(<function Robot._push_once.<locals>.<lambda>.<locals>.<lambda> at 0x10fed6c80>, {'target_rot_position': 68.114}), 'disk_middle': defaultdict(<function Robot._push_once.<locals>.<lambda>.<locals>.<lambda> at 0x1166a0268>, {'target_rot_position': 56.397}), 'disk_bottom': defaultdict(<function Robot._push_once.<locals>.<lambda>.<locals>.<lambda> at 0x1166a0158>, {'target_rot_position': 55.617})})\n",
      "defaultdict(<function Robot._push_once.<locals>.<lambda> at 0x1166a02f0>, {'disk_top': defaultdict(<function Robot._push_once.<locals>.<lambda>.<locals>.<lambda> at 0x10fed6c80>, {'target_rot_position': 67.336}), 'disk_middle': defaultdict(<function Robot._push_once.<locals>.<lambda>.<locals>.<lambda> at 0x1166a0730>, {'target_rot_position': 57.278}), 'disk_bottom': defaultdict(<function Robot._push_once.<locals>.<lambda>.<locals>.<lambda> at 0x1166a0598>, {'target_rot_position': 55.476})})\n",
      "defaultdict(<function Robot._push_once.<locals>.<lambda> at 0x1166a0158>, {'disk_top': defaultdict(<function Robot._push_once.<locals>.<lambda>.<locals>.<lambda> at 0x10fed6c80>, {'target_rot_position': 66.358}), 'disk_middle': defaultdict(<function Robot._push_once.<locals>.<lambda>.<locals>.<lambda> at 0x1166a0598>, {'target_rot_position': 58.241}), 'disk_bottom': defaultdict(<function Robot._push_once.<locals>.<lambda>.<locals>.<lambda> at 0x1166a0730>, {'target_rot_position': 55.451})})\n",
      "defaultdict(<function Robot._push_once.<locals>.<lambda> at 0x1166a0268>, {'disk_top': defaultdict(<function Robot._push_once.<locals>.<lambda>.<locals>.<lambda> at 0x10fed6c80>, {'target_rot_position': 65.268}), 'disk_middle': defaultdict(<function Robot._push_once.<locals>.<lambda>.<locals>.<lambda> at 0x1166a0730>, {'target_rot_position': 59.214}), 'disk_bottom': defaultdict(<function Robot._push_once.<locals>.<lambda>.<locals>.<lambda> at 0x1166a0598>, {'target_rot_position': 55.537})})\n"
     ]
    },
    {
     "name": "stdout",
     "output_type": "stream",
     "text": [
      "defaultdict(<function Robot._push_once.<locals>.<lambda> at 0x1166a02f0>, {'disk_top': defaultdict(<function Robot._push_once.<locals>.<lambda>.<locals>.<lambda> at 0x1166a0158>, {'target_rot_position': 64.167}), 'disk_middle': defaultdict(<function Robot._push_once.<locals>.<lambda>.<locals>.<lambda> at 0x1166a0598>, {'target_rot_position': 60.11}), 'disk_bottom': defaultdict(<function Robot._push_once.<locals>.<lambda>.<locals>.<lambda> at 0x1166a0730>, {'target_rot_position': 55.721})})\n",
      "defaultdict(<function Robot._push_once.<locals>.<lambda> at 0x10fed6c80>, {'disk_top': defaultdict(<function Robot._push_once.<locals>.<lambda>.<locals>.<lambda> at 0x1166a0730>, {'target_rot_position': 63.159}), 'disk_middle': defaultdict(<function Robot._push_once.<locals>.<lambda>.<locals>.<lambda> at 0x1166a0598>, {'target_rot_position': 60.842}), 'disk_bottom': defaultdict(<function Robot._push_once.<locals>.<lambda>.<locals>.<lambda> at 0x1166a0158>, {'target_rot_position': 55.989})})\n",
      "defaultdict(<function Robot._push_once.<locals>.<lambda> at 0x1166a0400>, {'disk_top': defaultdict(<function Robot._push_once.<locals>.<lambda>.<locals>.<lambda> at 0x10fed6c80>, {'target_rot_position': 62.335}), 'disk_middle': defaultdict(<function Robot._push_once.<locals>.<lambda>.<locals>.<lambda> at 0x1166a0158>, {'target_rot_position': 61.328}), 'disk_bottom': defaultdict(<function Robot._push_once.<locals>.<lambda>.<locals>.<lambda> at 0x1166a0598>, {'target_rot_position': 56.326})})\n",
      "defaultdict(<function Robot._push_once.<locals>.<lambda> at 0x1166a0730>, {'disk_top': defaultdict(<function Robot._push_once.<locals>.<lambda>.<locals>.<lambda> at 0x10fed6c80>, {'target_rot_position': 61.766}), 'disk_middle': defaultdict(<function Robot._push_once.<locals>.<lambda>.<locals>.<lambda> at 0x1166a0598>, {'target_rot_position': 61.503}), 'disk_bottom': defaultdict(<function Robot._push_once.<locals>.<lambda>.<locals>.<lambda> at 0x1166a0158>, {'target_rot_position': 56.723})})\n",
      "defaultdict(<function Robot._push_once.<locals>.<lambda> at 0x1166a0268>, {'disk_top': defaultdict(<function Robot._push_once.<locals>.<lambda>.<locals>.<lambda> at 0x10fed6c80>, {'target_rot_position': 61.493}), 'disk_middle': defaultdict(<function Robot._push_once.<locals>.<lambda>.<locals>.<lambda> at 0x1166a02f0>, {'target_rot_position': 61.33}), 'disk_bottom': defaultdict(<function Robot._push_once.<locals>.<lambda>.<locals>.<lambda> at 0x1166a0400>, {'target_rot_position': 57.171})})\n",
      "defaultdict(<function Robot._push_once.<locals>.<lambda> at 0x1166a0598>, {'disk_top': defaultdict(<function Robot._push_once.<locals>.<lambda>.<locals>.<lambda> at 0x10fed6c80>, {'target_rot_position': 61.523}), 'disk_middle': defaultdict(<function Robot._push_once.<locals>.<lambda>.<locals>.<lambda> at 0x1166a0400>, {'target_rot_position': 60.806}), 'disk_bottom': defaultdict(<function Robot._push_once.<locals>.<lambda>.<locals>.<lambda> at 0x1166a02f0>, {'target_rot_position': 57.668})})\n",
      "defaultdict(<function Robot._push_once.<locals>.<lambda> at 0x1166a0268>, {'disk_top': defaultdict(<function Robot._push_once.<locals>.<lambda>.<locals>.<lambda> at 0x10fed6c80>, {'target_rot_position': 61.826}), 'disk_middle': defaultdict(<function Robot._push_once.<locals>.<lambda>.<locals>.<lambda> at 0x1166a02f0>, {'target_rot_position': 59.96}), 'disk_bottom': defaultdict(<function Robot._push_once.<locals>.<lambda>.<locals>.<lambda> at 0x1166a0400>, {'target_rot_position': 58.214})})\n",
      "defaultdict(<function Robot._push_once.<locals>.<lambda> at 0x1166a0598>, {'disk_top': defaultdict(<function Robot._push_once.<locals>.<lambda>.<locals>.<lambda> at 0x10fed6c80>, {'target_rot_position': 62.342}), 'disk_middle': defaultdict(<function Robot._push_once.<locals>.<lambda>.<locals>.<lambda> at 0x1166a0158>, {'target_rot_position': 58.853}), 'disk_bottom': defaultdict(<function Robot._push_once.<locals>.<lambda>.<locals>.<lambda> at 0x1166a0400>, {'target_rot_position': 58.807})})\n",
      "defaultdict(<function Robot._push_once.<locals>.<lambda> at 0x1166a0268>, {'disk_top': defaultdict(<function Robot._push_once.<locals>.<lambda>.<locals>.<lambda> at 0x10fed6c80>, {'target_rot_position': 62.991}), 'disk_middle': defaultdict(<function Robot._push_once.<locals>.<lambda>.<locals>.<lambda> at 0x1166a0400>, {'target_rot_position': 57.568}), 'disk_bottom': defaultdict(<function Robot._push_once.<locals>.<lambda>.<locals>.<lambda> at 0x1166a0158>, {'target_rot_position': 59.444})})\n",
      "defaultdict(<function Robot._push_once.<locals>.<lambda> at 0x1166a02f0>, {'disk_top': defaultdict(<function Robot._push_once.<locals>.<lambda>.<locals>.<lambda> at 0x10fed6c80>, {'target_rot_position': 63.682}), 'disk_middle': defaultdict(<function Robot._push_once.<locals>.<lambda>.<locals>.<lambda> at 0x1166a0158>, {'target_rot_position': 56.202}), 'disk_bottom': defaultdict(<function Robot._push_once.<locals>.<lambda>.<locals>.<lambda> at 0x1166a0400>, {'target_rot_position': 60.114})})\n",
      "defaultdict(<function Robot._push_once.<locals>.<lambda> at 0x1166a0598>, {'disk_top': defaultdict(<function Robot._push_once.<locals>.<lambda>.<locals>.<lambda> at 0x10fed6c80>, {'target_rot_position': 64.327}), 'disk_middle': defaultdict(<function Robot._push_once.<locals>.<lambda>.<locals>.<lambda> at 0x1166a0400>, {'target_rot_position': 54.853}), 'disk_bottom': defaultdict(<function Robot._push_once.<locals>.<lambda>.<locals>.<lambda> at 0x1166a0158>, {'target_rot_position': 60.803})})\n",
      "defaultdict(<function Robot._push_once.<locals>.<lambda> at 0x1166a0730>, {'disk_top': defaultdict(<function Robot._push_once.<locals>.<lambda>.<locals>.<lambda> at 0x10fed6c80>, {'target_rot_position': 64.849}), 'disk_middle': defaultdict(<function Robot._push_once.<locals>.<lambda>.<locals>.<lambda> at 0x1166a0268>, {'target_rot_position': 53.616}), 'disk_bottom': defaultdict(<function Robot._push_once.<locals>.<lambda>.<locals>.<lambda> at 0x1166a02f0>, {'target_rot_position': 61.489})})\n",
      "defaultdict(<function Robot._push_once.<locals>.<lambda> at 0x1166a0158>, {'disk_top': defaultdict(<function Robot._push_once.<locals>.<lambda>.<locals>.<lambda> at 0x10fed6c80>, {'target_rot_position': 65.191}), 'disk_middle': defaultdict(<function Robot._push_once.<locals>.<lambda>.<locals>.<lambda> at 0x1166a02f0>, {'target_rot_position': 52.575}), 'disk_bottom': defaultdict(<function Robot._push_once.<locals>.<lambda>.<locals>.<lambda> at 0x1166a0268>, {'target_rot_position': 62.152})})\n",
      "defaultdict(<function Robot._push_once.<locals>.<lambda> at 0x1166a0400>, {'disk_top': defaultdict(<function Robot._push_once.<locals>.<lambda>.<locals>.<lambda> at 0x1166a0268>, {'target_rot_position': 65.316}), 'disk_middle': defaultdict(<function Robot._push_once.<locals>.<lambda>.<locals>.<lambda> at 0x1166a02f0>, {'target_rot_position': 51.796}), 'disk_bottom': defaultdict(<function Robot._push_once.<locals>.<lambda>.<locals>.<lambda> at 0x1166a0158>, {'target_rot_position': 62.768})})\n",
      "defaultdict(<function Robot._push_once.<locals>.<lambda> at 0x10fed6c80>, {'disk_top': defaultdict(<function Robot._push_once.<locals>.<lambda>.<locals>.<lambda> at 0x1166a0158>, {'target_rot_position': 65.207}), 'disk_middle': defaultdict(<function Robot._push_once.<locals>.<lambda>.<locals>.<lambda> at 0x1166a02f0>, {'target_rot_position': 51.326}), 'disk_bottom': defaultdict(<function Robot._push_once.<locals>.<lambda>.<locals>.<lambda> at 0x1166a0268>, {'target_rot_position': 63.316})})\n",
      "defaultdict(<function Robot._push_once.<locals>.<lambda> at 0x1166a0730>, {'disk_top': defaultdict(<function Robot._push_once.<locals>.<lambda>.<locals>.<lambda> at 0x10fed6c80>, {'target_rot_position': 64.864}), 'disk_middle': defaultdict(<function Robot._push_once.<locals>.<lambda>.<locals>.<lambda> at 0x1166a0598>, {'target_rot_position': 51.194}), 'disk_bottom': defaultdict(<function Robot._push_once.<locals>.<lambda>.<locals>.<lambda> at 0x1166a0400>, {'target_rot_position': 63.78})})\n",
      "defaultdict(<function Robot._push_once.<locals>.<lambda> at 0x1166a02f0>, {'disk_top': defaultdict(<function Robot._push_once.<locals>.<lambda>.<locals>.<lambda> at 0x10fed6c80>, {'target_rot_position': 64.304}), 'disk_middle': defaultdict(<function Robot._push_once.<locals>.<lambda>.<locals>.<lambda> at 0x1166a0400>, {'target_rot_position': 51.4}), 'disk_bottom': defaultdict(<function Robot._push_once.<locals>.<lambda>.<locals>.<lambda> at 0x1166a0598>, {'target_rot_position': 64.142})})\n",
      "defaultdict(<function Robot._push_once.<locals>.<lambda> at 0x1166a0268>, {'disk_top': defaultdict(<function Robot._push_once.<locals>.<lambda>.<locals>.<lambda> at 0x10fed6c80>, {'target_rot_position': 63.557}), 'disk_middle': defaultdict(<function Robot._push_once.<locals>.<lambda>.<locals>.<lambda> at 0x1166a0598>, {'target_rot_position': 51.923}), 'disk_bottom': defaultdict(<function Robot._push_once.<locals>.<lambda>.<locals>.<lambda> at 0x1166a0400>, {'target_rot_position': 64.394})})\n",
      "defaultdict(<function Robot._push_once.<locals>.<lambda> at 0x1166a0730>, {'disk_top': defaultdict(<function Robot._push_once.<locals>.<lambda>.<locals>.<lambda> at 0x10fed6c80>, {'target_rot_position': 62.67}), 'disk_middle': defaultdict(<function Robot._push_once.<locals>.<lambda>.<locals>.<lambda> at 0x1166a0400>, {'target_rot_position': 52.714}), 'disk_bottom': defaultdict(<function Robot._push_once.<locals>.<lambda>.<locals>.<lambda> at 0x1166a0598>, {'target_rot_position': 64.529})})\n",
      "defaultdict(<function Robot._push_once.<locals>.<lambda> at 0x1166a02f0>, {'disk_top': defaultdict(<function Robot._push_once.<locals>.<lambda>.<locals>.<lambda> at 0x10fed6c80>, {'target_rot_position': 61.703}), 'disk_middle': defaultdict(<function Robot._push_once.<locals>.<lambda>.<locals>.<lambda> at 0x1166a0598>, {'target_rot_position': 53.701}), 'disk_bottom': defaultdict(<function Robot._push_once.<locals>.<lambda>.<locals>.<lambda> at 0x1166a0400>, {'target_rot_position': 64.547})})\n",
      "defaultdict(<function Robot._push_once.<locals>.<lambda> at 0x1166a0268>, {'disk_top': defaultdict(<function Robot._push_once.<locals>.<lambda>.<locals>.<lambda> at 0x10fed6c80>, {'target_rot_position': 60.733}), 'disk_middle': defaultdict(<function Robot._push_once.<locals>.<lambda>.<locals>.<lambda> at 0x1166a0400>, {'target_rot_position': 54.795}), 'disk_bottom': defaultdict(<function Robot._push_once.<locals>.<lambda>.<locals>.<lambda> at 0x1166a0598>, {'target_rot_position': 64.456})})\n",
      "defaultdict(<function Robot._push_once.<locals>.<lambda> at 0x1166a02f0>, {'disk_top': defaultdict(<function Robot._push_once.<locals>.<lambda>.<locals>.<lambda> at 0x10fed6c80>, {'target_rot_position': 59.844}), 'disk_middle': defaultdict(<function Robot._push_once.<locals>.<lambda>.<locals>.<lambda> at 0x1166a0598>, {'target_rot_position': 55.893}), 'disk_bottom': defaultdict(<function Robot._push_once.<locals>.<lambda>.<locals>.<lambda> at 0x1166a0400>, {'target_rot_position': 64.266})})\n",
      "defaultdict(<function Robot._push_once.<locals>.<lambda> at 0x1166a0048>, {'disk_top': defaultdict(<function Robot._push_once.<locals>.<lambda>.<locals>.<lambda> at 0x10fed6c80>, {'target_rot_position': 59.124}), 'disk_middle': defaultdict(<function Robot._push_once.<locals>.<lambda>.<locals>.<lambda> at 0x1166a0158>, {'target_rot_position': 56.893}), 'disk_bottom': defaultdict(<function Robot._push_once.<locals>.<lambda>.<locals>.<lambda> at 0x1166a0730>, {'target_rot_position': 63.994})})\n",
      "defaultdict(<function Robot._push_once.<locals>.<lambda> at 0x1166a0400>, {'disk_top': defaultdict(<function Robot._push_once.<locals>.<lambda>.<locals>.<lambda> at 0x10fed6c80>, {'target_rot_position': 58.654}), 'disk_middle': defaultdict(<function Robot._push_once.<locals>.<lambda>.<locals>.<lambda> at 0x1166a0730>, {'target_rot_position': 57.704}), 'disk_bottom': defaultdict(<function Robot._push_once.<locals>.<lambda>.<locals>.<lambda> at 0x1166a0158>, {'target_rot_position': 63.653})})\n",
      "defaultdict(<function Robot._push_once.<locals>.<lambda> at 0x1166a0048>, {'disk_top': defaultdict(<function Robot._push_once.<locals>.<lambda>.<locals>.<lambda> at 0x10fed6c80>, {'target_rot_position': 58.497}), 'disk_middle': defaultdict(<function Robot._push_once.<locals>.<lambda>.<locals>.<lambda> at 0x1166a0158>, {'target_rot_position': 58.257}), 'disk_bottom': defaultdict(<function Robot._push_once.<locals>.<lambda>.<locals>.<lambda> at 0x1166a0730>, {'target_rot_position': 63.254})})\n",
      "defaultdict(<function Robot._push_once.<locals>.<lambda> at 0x1166a0268>, {'disk_top': defaultdict(<function Robot._push_once.<locals>.<lambda>.<locals>.<lambda> at 0x10fed6c80>, {'target_rot_position': 58.69}), 'disk_middle': defaultdict(<function Robot._push_once.<locals>.<lambda>.<locals>.<lambda> at 0x1166a0730>, {'target_rot_position': 58.513}), 'disk_bottom': defaultdict(<function Robot._push_once.<locals>.<lambda>.<locals>.<lambda> at 0x1166a0158>, {'target_rot_position': 62.803})})\n"
     ]
    },
    {
     "name": "stdout",
     "output_type": "stream",
     "text": [
      "defaultdict(<function Robot._push_once.<locals>.<lambda> at 0x1166a0048>, {'disk_top': defaultdict(<function Robot._push_once.<locals>.<lambda>.<locals>.<lambda> at 0x1166a0400>, {'target_rot_position': 59.233}), 'disk_middle': defaultdict(<function Robot._push_once.<locals>.<lambda>.<locals>.<lambda> at 0x1166a0158>, {'target_rot_position': 58.467}), 'disk_bottom': defaultdict(<function Robot._push_once.<locals>.<lambda>.<locals>.<lambda> at 0x1166a0730>, {'target_rot_position': 62.303})})\n",
      "defaultdict(<function Robot._push_once.<locals>.<lambda> at 0x10fed6c80>, {'disk_top': defaultdict(<function Robot._push_once.<locals>.<lambda>.<locals>.<lambda> at 0x1166a0730>, {'target_rot_position': 60.095}), 'disk_middle': defaultdict(<function Robot._push_once.<locals>.<lambda>.<locals>.<lambda> at 0x1166a0158>, {'target_rot_position': 58.15}), 'disk_bottom': defaultdict(<function Robot._push_once.<locals>.<lambda>.<locals>.<lambda> at 0x1166a0400>, {'target_rot_position': 61.754})})\n",
      "defaultdict(<function Robot._push_once.<locals>.<lambda> at 0x1166a0598>, {'disk_top': defaultdict(<function Robot._push_once.<locals>.<lambda>.<locals>.<lambda> at 0x10fed6c80>, {'target_rot_position': 61.215}), 'disk_middle': defaultdict(<function Robot._push_once.<locals>.<lambda>.<locals>.<lambda> at 0x1166a0400>, {'target_rot_position': 57.624}), 'disk_bottom': defaultdict(<function Robot._push_once.<locals>.<lambda>.<locals>.<lambda> at 0x1166a0158>, {'target_rot_position': 61.158})})\n",
      "defaultdict(<function Robot._push_once.<locals>.<lambda> at 0x1166a0730>, {'disk_top': defaultdict(<function Robot._push_once.<locals>.<lambda>.<locals>.<lambda> at 0x10fed6c80>, {'target_rot_position': 62.507}), 'disk_middle': defaultdict(<function Robot._push_once.<locals>.<lambda>.<locals>.<lambda> at 0x1166a0158>, {'target_rot_position': 56.97}), 'disk_bottom': defaultdict(<function Robot._push_once.<locals>.<lambda>.<locals>.<lambda> at 0x1166a0400>, {'target_rot_position': 60.519})})\n",
      "defaultdict(<function Robot._push_once.<locals>.<lambda> at 0x1166a0598>, {'disk_top': defaultdict(<function Robot._push_once.<locals>.<lambda>.<locals>.<lambda> at 0x10fed6c80>, {'target_rot_position': 63.875}), 'disk_middle': defaultdict(<function Robot._push_once.<locals>.<lambda>.<locals>.<lambda> at 0x1166a0400>, {'target_rot_position': 56.28}), 'disk_bottom': defaultdict(<function Robot._push_once.<locals>.<lambda>.<locals>.<lambda> at 0x1166a0158>, {'target_rot_position': 59.847})})\n",
      "defaultdict(<function Robot._push_once.<locals>.<lambda> at 0x1166a0048>, {'disk_top': defaultdict(<function Robot._push_once.<locals>.<lambda>.<locals>.<lambda> at 0x10fed6c80>, {'target_rot_position': 65.22}), 'disk_middle': defaultdict(<function Robot._push_once.<locals>.<lambda>.<locals>.<lambda> at 0x1166a0158>, {'target_rot_position': 55.64}), 'disk_bottom': defaultdict(<function Robot._push_once.<locals>.<lambda>.<locals>.<lambda> at 0x1166a0400>, {'target_rot_position': 59.158})})\n",
      "defaultdict(<function Robot._push_once.<locals>.<lambda> at 0x1166a0268>, {'disk_top': defaultdict(<function Robot._push_once.<locals>.<lambda>.<locals>.<lambda> at 0x10fed6c80>, {'target_rot_position': 66.448}), 'disk_middle': defaultdict(<function Robot._push_once.<locals>.<lambda>.<locals>.<lambda> at 0x1166a0730>, {'target_rot_position': 55.127}), 'disk_bottom': defaultdict(<function Robot._push_once.<locals>.<lambda>.<locals>.<lambda> at 0x1166a0598>, {'target_rot_position': 58.473})})\n",
      "defaultdict(<function Robot._push_once.<locals>.<lambda> at 0x1166a0158>, {'disk_top': defaultdict(<function Robot._push_once.<locals>.<lambda>.<locals>.<lambda> at 0x10fed6c80>, {'target_rot_position': 67.476}), 'disk_middle': defaultdict(<function Robot._push_once.<locals>.<lambda>.<locals>.<lambda> at 0x1166a0400>, {'target_rot_position': 54.796}), 'disk_bottom': defaultdict(<function Robot._push_once.<locals>.<lambda>.<locals>.<lambda> at 0x1166a0598>, {'target_rot_position': 57.812})})\n",
      "defaultdict(<function Robot._push_once.<locals>.<lambda> at 0x1166a0730>, {'disk_top': defaultdict(<function Robot._push_once.<locals>.<lambda>.<locals>.<lambda> at 0x10fed6c80>, {'target_rot_position': 68.239}), 'disk_middle': defaultdict(<function Robot._push_once.<locals>.<lambda>.<locals>.<lambda> at 0x1166a0598>, {'target_rot_position': 54.684}), 'disk_bottom': defaultdict(<function Robot._push_once.<locals>.<lambda>.<locals>.<lambda> at 0x1166a0400>, {'target_rot_position': 57.2})})\n",
      "defaultdict(<function Robot._push_once.<locals>.<lambda> at 0x1166a0268>, {'disk_top': defaultdict(<function Robot._push_once.<locals>.<lambda>.<locals>.<lambda> at 0x10fed6c80>, {'target_rot_position': 68.69}), 'disk_middle': defaultdict(<function Robot._push_once.<locals>.<lambda>.<locals>.<lambda> at 0x1166a0400>, {'target_rot_position': 54.806}), 'disk_bottom': defaultdict(<function Robot._push_once.<locals>.<lambda>.<locals>.<lambda> at 0x1166a0598>, {'target_rot_position': 56.655})})\n",
      "defaultdict(<function Robot._push_once.<locals>.<lambda> at 0x1166a0048>, {'disk_top': defaultdict(<function Robot._push_once.<locals>.<lambda>.<locals>.<lambda> at 0x10fed6c80>, {'target_rot_position': 68.803}), 'disk_middle': defaultdict(<function Robot._push_once.<locals>.<lambda>.<locals>.<lambda> at 0x1166a0158>, {'target_rot_position': 55.162}), 'disk_bottom': defaultdict(<function Robot._push_once.<locals>.<lambda>.<locals>.<lambda> at 0x1166a0730>, {'target_rot_position': 56.197})})\n",
      "defaultdict(<function Robot._push_once.<locals>.<lambda> at 0x1166a0400>, {'disk_top': defaultdict(<function Robot._push_once.<locals>.<lambda>.<locals>.<lambda> at 0x10fed6c80>, {'target_rot_position': 68.578}), 'disk_middle': defaultdict(<function Robot._push_once.<locals>.<lambda>.<locals>.<lambda> at 0x1166a0730>, {'target_rot_position': 55.733}), 'disk_bottom': defaultdict(<function Robot._push_once.<locals>.<lambda>.<locals>.<lambda> at 0x1166a0158>, {'target_rot_position': 55.84})})\n",
      "defaultdict(<function Robot._push_once.<locals>.<lambda> at 0x1166a0598>, {'disk_top': defaultdict(<function Robot._push_once.<locals>.<lambda>.<locals>.<lambda> at 0x10fed6c80>, {'target_rot_position': 68.039}), 'disk_middle': defaultdict(<function Robot._push_once.<locals>.<lambda>.<locals>.<lambda> at 0x1166a0158>, {'target_rot_position': 56.489}), 'disk_bottom': defaultdict(<function Robot._push_once.<locals>.<lambda>.<locals>.<lambda> at 0x1166a0730>, {'target_rot_position': 55.595})})\n",
      "defaultdict(<function Robot._push_once.<locals>.<lambda> at 0x1166a0048>, {'disk_top': defaultdict(<function Robot._push_once.<locals>.<lambda>.<locals>.<lambda> at 0x10fed6c80>, {'target_rot_position': 67.235}), 'disk_middle': defaultdict(<function Robot._push_once.<locals>.<lambda>.<locals>.<lambda> at 0x1166a0730>, {'target_rot_position': 57.383}), 'disk_bottom': defaultdict(<function Robot._push_once.<locals>.<lambda>.<locals>.<lambda> at 0x1166a0158>, {'target_rot_position': 55.467})})\n",
      "defaultdict(<function Robot._push_once.<locals>.<lambda> at 0x1166a0400>, {'disk_top': defaultdict(<function Robot._push_once.<locals>.<lambda>.<locals>.<lambda> at 0x10fed6c80>, {'target_rot_position': 66.239}), 'disk_middle': defaultdict(<function Robot._push_once.<locals>.<lambda>.<locals>.<lambda> at 0x1166a0268>, {'target_rot_position': 58.352}), 'disk_bottom': defaultdict(<function Robot._push_once.<locals>.<lambda>.<locals>.<lambda> at 0x1166a0158>, {'target_rot_position': 55.455})})\n",
      "defaultdict(<function Robot._push_once.<locals>.<lambda> at 0x1166a0048>, {'disk_top': defaultdict(<function Robot._push_once.<locals>.<lambda>.<locals>.<lambda> at 0x10fed6c80>, {'target_rot_position': 65.143}), 'disk_middle': defaultdict(<function Robot._push_once.<locals>.<lambda>.<locals>.<lambda> at 0x1166a0158>, {'target_rot_position': 59.32}), 'disk_bottom': defaultdict(<function Robot._push_once.<locals>.<lambda>.<locals>.<lambda> at 0x1166a0268>, {'target_rot_position': 55.553})})\n",
      "defaultdict(<function Robot._push_once.<locals>.<lambda> at 0x1166a0400>, {'disk_top': defaultdict(<function Robot._push_once.<locals>.<lambda>.<locals>.<lambda> at 0x10fed6c80>, {'target_rot_position': 64.048}), 'disk_middle': defaultdict(<function Robot._push_once.<locals>.<lambda>.<locals>.<lambda> at 0x1166a0730>, {'target_rot_position': 60.202}), 'disk_bottom': defaultdict(<function Robot._push_once.<locals>.<lambda>.<locals>.<lambda> at 0x1166a0268>, {'target_rot_position': 55.747})})\n",
      "defaultdict(<function Robot._push_once.<locals>.<lambda> at 0x1166a0158>, {'disk_top': defaultdict(<function Robot._push_once.<locals>.<lambda>.<locals>.<lambda> at 0x10fed6c80>, {'target_rot_position': 63.056}), 'disk_middle': defaultdict(<function Robot._push_once.<locals>.<lambda>.<locals>.<lambda> at 0x1166a0048>, {'target_rot_position': 60.91}), 'disk_bottom': defaultdict(<function Robot._push_once.<locals>.<lambda>.<locals>.<lambda> at 0x1166a0268>, {'target_rot_position': 56.023})})\n",
      "defaultdict(<function Robot._push_once.<locals>.<lambda> at 0x1166a0730>, {'disk_top': defaultdict(<function Robot._push_once.<locals>.<lambda>.<locals>.<lambda> at 0x10fed6c80>, {'target_rot_position': 61.72}), 'disk_middle': defaultdict(<function Robot._push_once.<locals>.<lambda>.<locals>.<lambda> at 0x1166a0268>, {'target_rot_position': 61.501}), 'disk_bottom': defaultdict(<function Robot._push_once.<locals>.<lambda>.<locals>.<lambda> at 0x1166a0048>, {'target_rot_position': 56.77})})\n",
      "defaultdict(<function Robot._push_once.<locals>.<lambda> at 0x1166a0598>, {'disk_top': defaultdict(<function Robot._push_once.<locals>.<lambda>.<locals>.<lambda> at 0x10fed6c80>, {'target_rot_position': 61.482}), 'disk_middle': defaultdict(<function Robot._push_once.<locals>.<lambda>.<locals>.<lambda> at 0x1166a0158>, {'target_rot_position': 61.289}), 'disk_bottom': defaultdict(<function Robot._push_once.<locals>.<lambda>.<locals>.<lambda> at 0x1166a0048>, {'target_rot_position': 57.224})})\n",
      "defaultdict(<function Robot._push_once.<locals>.<lambda> at 0x1166a0730>, {'disk_top': defaultdict(<function Robot._push_once.<locals>.<lambda>.<locals>.<lambda> at 0x10fed6c80>, {'target_rot_position': 61.544}), 'disk_middle': defaultdict(<function Robot._push_once.<locals>.<lambda>.<locals>.<lambda> at 0x1166a0048>, {'target_rot_position': 60.727}), 'disk_bottom': defaultdict(<function Robot._push_once.<locals>.<lambda>.<locals>.<lambda> at 0x1166a0158>, {'target_rot_position': 57.727})})\n",
      "defaultdict(<function Robot._push_once.<locals>.<lambda> at 0x1166a0598>, {'disk_top': defaultdict(<function Robot._push_once.<locals>.<lambda>.<locals>.<lambda> at 0x10fed6c80>, {'target_rot_position': 61.875}), 'disk_middle': defaultdict(<function Robot._push_once.<locals>.<lambda>.<locals>.<lambda> at 0x1166a0158>, {'target_rot_position': 59.848}), 'disk_bottom': defaultdict(<function Robot._push_once.<locals>.<lambda>.<locals>.<lambda> at 0x1166a0048>, {'target_rot_position': 58.278})})\n",
      "defaultdict(<function Robot._push_once.<locals>.<lambda> at 0x1166a0730>, {'disk_top': defaultdict(<function Robot._push_once.<locals>.<lambda>.<locals>.<lambda> at 0x10fed6c80>, {'target_rot_position': 63.068}), 'disk_middle': defaultdict(<function Robot._push_once.<locals>.<lambda>.<locals>.<lambda> at 0x1166a0048>, {'target_rot_position': 57.417}), 'disk_bottom': defaultdict(<function Robot._push_once.<locals>.<lambda>.<locals>.<lambda> at 0x1166a0158>, {'target_rot_position': 59.518})})\n"
     ]
    },
    {
     "name": "stdout",
     "output_type": "stream",
     "text": [
      "defaultdict(<function Robot._push_once.<locals>.<lambda> at 0x1166a0268>, {'disk_top': defaultdict(<function Robot._push_once.<locals>.<lambda>.<locals>.<lambda> at 0x1166a0158>, {'target_rot_position': 63.758}), 'disk_middle': defaultdict(<function Robot._push_once.<locals>.<lambda>.<locals>.<lambda> at 0x1166a0048>, {'target_rot_position': 56.048}), 'disk_bottom': defaultdict(<function Robot._push_once.<locals>.<lambda>.<locals>.<lambda> at 0x1166a0730>, {'target_rot_position': 60.191})})\n",
      "defaultdict(<function Robot._push_once.<locals>.<lambda> at 0x10fed6c80>, {'disk_top': defaultdict(<function Robot._push_once.<locals>.<lambda>.<locals>.<lambda> at 0x1166a0730>, {'target_rot_position': 64.392}), 'disk_middle': defaultdict(<function Robot._push_once.<locals>.<lambda>.<locals>.<lambda> at 0x1166a0048>, {'target_rot_position': 54.707}), 'disk_bottom': defaultdict(<function Robot._push_once.<locals>.<lambda>.<locals>.<lambda> at 0x1166a0158>, {'target_rot_position': 60.88})})\n",
      "defaultdict(<function Robot._push_once.<locals>.<lambda> at 0x1166a0400>, {'disk_top': defaultdict(<function Robot._push_once.<locals>.<lambda>.<locals>.<lambda> at 0x10fed6c80>, {'target_rot_position': 64.897}), 'disk_middle': defaultdict(<function Robot._push_once.<locals>.<lambda>.<locals>.<lambda> at 0x1166a0158>, {'target_rot_position': 53.488}), 'disk_bottom': defaultdict(<function Robot._push_once.<locals>.<lambda>.<locals>.<lambda> at 0x1166a0048>, {'target_rot_position': 61.565})})\n",
      "defaultdict(<function Robot._push_once.<locals>.<lambda> at 0x1166a0268>, {'disk_top': defaultdict(<function Robot._push_once.<locals>.<lambda>.<locals>.<lambda> at 0x10fed6c80>, {'target_rot_position': 65.216}), 'disk_middle': defaultdict(<function Robot._push_once.<locals>.<lambda>.<locals>.<lambda> at 0x1166a0048>, {'target_rot_position': 52.473}), 'disk_bottom': defaultdict(<function Robot._push_once.<locals>.<lambda>.<locals>.<lambda> at 0x1166a0158>, {'target_rot_position': 62.224})})\n",
      "defaultdict(<function Robot._push_once.<locals>.<lambda> at 0x1166a0400>, {'disk_top': defaultdict(<function Robot._push_once.<locals>.<lambda>.<locals>.<lambda> at 0x10fed6c80>, {'target_rot_position': 65.316}), 'disk_middle': defaultdict(<function Robot._push_once.<locals>.<lambda>.<locals>.<lambda> at 0x1166a0158>, {'target_rot_position': 51.727}), 'disk_bottom': defaultdict(<function Robot._push_once.<locals>.<lambda>.<locals>.<lambda> at 0x1166a0048>, {'target_rot_position': 62.833})})\n",
      "defaultdict(<function Robot._push_once.<locals>.<lambda> at 0x1166a0268>, {'disk_top': defaultdict(<function Robot._push_once.<locals>.<lambda>.<locals>.<lambda> at 0x1166a0048>, {'target_rot_position': 65.18}), 'disk_middle': defaultdict(<function Robot._push_once.<locals>.<lambda>.<locals>.<lambda> at 0x1166a0158>, {'target_rot_position': 51.295}), 'disk_bottom': defaultdict(<function Robot._push_once.<locals>.<lambda>.<locals>.<lambda> at 0x1166a0400>, {'target_rot_position': 63.373})})\n",
      "defaultdict(<function Robot._push_once.<locals>.<lambda> at 0x10fed6c80>, {'disk_top': defaultdict(<function Robot._push_once.<locals>.<lambda>.<locals>.<lambda> at 0x1166a0400>, {'target_rot_position': 64.812}), 'disk_middle': defaultdict(<function Robot._push_once.<locals>.<lambda>.<locals>.<lambda> at 0x1166a0158>, {'target_rot_position': 51.2}), 'disk_bottom': defaultdict(<function Robot._push_once.<locals>.<lambda>.<locals>.<lambda> at 0x1166a0048>, {'target_rot_position': 63.826})})\n",
      "defaultdict(<function Robot._push_once.<locals>.<lambda> at 0x1166a0730>, {'disk_top': defaultdict(<function Robot._push_once.<locals>.<lambda>.<locals>.<lambda> at 0x10fed6c80>, {'target_rot_position': 64.229}), 'disk_middle': defaultdict(<function Robot._push_once.<locals>.<lambda>.<locals>.<lambda> at 0x1166a0048>, {'target_rot_position': 51.444}), 'disk_bottom': defaultdict(<function Robot._push_once.<locals>.<lambda>.<locals>.<lambda> at 0x1166a0158>, {'target_rot_position': 64.176})})\n",
      "defaultdict(<function Robot._push_once.<locals>.<lambda> at 0x1166a0268>, {'disk_top': defaultdict(<function Robot._push_once.<locals>.<lambda>.<locals>.<lambda> at 0x10fed6c80>, {'target_rot_position': 63.464}), 'disk_middle': defaultdict(<function Robot._push_once.<locals>.<lambda>.<locals>.<lambda> at 0x1166a0158>, {'target_rot_position': 51.999}), 'disk_bottom': defaultdict(<function Robot._push_once.<locals>.<lambda>.<locals>.<lambda> at 0x1166a0048>, {'target_rot_position': 64.415})})\n",
      "defaultdict(<function Robot._push_once.<locals>.<lambda> at 0x1166a0400>, {'disk_top': defaultdict(<function Robot._push_once.<locals>.<lambda>.<locals>.<lambda> at 0x10fed6c80>, {'target_rot_position': 62.564}), 'disk_middle': defaultdict(<function Robot._push_once.<locals>.<lambda>.<locals>.<lambda> at 0x1166a0048>, {'target_rot_position': 52.816}), 'disk_bottom': defaultdict(<function Robot._push_once.<locals>.<lambda>.<locals>.<lambda> at 0x1166a0158>, {'target_rot_position': 64.536})})\n",
      "defaultdict(<function Robot._push_once.<locals>.<lambda> at 0x1166a0598>, {'disk_top': defaultdict(<function Robot._push_once.<locals>.<lambda>.<locals>.<lambda> at 0x10fed6c80>, {'target_rot_position': 61.593}), 'disk_middle': defaultdict(<function Robot._push_once.<locals>.<lambda>.<locals>.<lambda> at 0x1166a0730>, {'target_rot_position': 53.82}), 'disk_bottom': defaultdict(<function Robot._push_once.<locals>.<lambda>.<locals>.<lambda> at 0x1166a0268>, {'target_rot_position': 64.542})})\n",
      "defaultdict(<function Robot._push_once.<locals>.<lambda> at 0x1166a0158>, {'disk_top': defaultdict(<function Robot._push_once.<locals>.<lambda>.<locals>.<lambda> at 0x10fed6c80>, {'target_rot_position': 60.628}), 'disk_middle': defaultdict(<function Robot._push_once.<locals>.<lambda>.<locals>.<lambda> at 0x1166a0048>, {'target_rot_position': 54.919}), 'disk_bottom': defaultdict(<function Robot._push_once.<locals>.<lambda>.<locals>.<lambda> at 0x1166a0268>, {'target_rot_position': 64.439})})\n",
      "defaultdict(<function Robot._push_once.<locals>.<lambda> at 0x1166a0730>, {'disk_top': defaultdict(<function Robot._push_once.<locals>.<lambda>.<locals>.<lambda> at 0x10fed6c80>, {'target_rot_position': 59.753}), 'disk_middle': defaultdict(<function Robot._push_once.<locals>.<lambda>.<locals>.<lambda> at 0x1166a0598>, {'target_rot_position': 56.011}), 'disk_bottom': defaultdict(<function Robot._push_once.<locals>.<lambda>.<locals>.<lambda> at 0x1166a0268>, {'target_rot_position': 64.24})})\n",
      "defaultdict(<function Robot._push_once.<locals>.<lambda> at 0x1166a0158>, {'disk_top': defaultdict(<function Robot._push_once.<locals>.<lambda>.<locals>.<lambda> at 0x10fed6c80>, {'target_rot_position': 59.057}), 'disk_middle': defaultdict(<function Robot._push_once.<locals>.<lambda>.<locals>.<lambda> at 0x1166a0268>, {'target_rot_position': 56.995}), 'disk_bottom': defaultdict(<function Robot._push_once.<locals>.<lambda>.<locals>.<lambda> at 0x1166a0598>, {'target_rot_position': 63.959})})\n",
      "defaultdict(<function Robot._push_once.<locals>.<lambda> at 0x1166a0048>, {'disk_top': defaultdict(<function Robot._push_once.<locals>.<lambda>.<locals>.<lambda> at 0x10fed6c80>, {'target_rot_position': 58.62}), 'disk_middle': defaultdict(<function Robot._push_once.<locals>.<lambda>.<locals>.<lambda> at 0x1166a0598>, {'target_rot_position': 57.78}), 'disk_bottom': defaultdict(<function Robot._push_once.<locals>.<lambda>.<locals>.<lambda> at 0x1166a0268>, {'target_rot_position': 63.611})})\n",
      "defaultdict(<function Robot._push_once.<locals>.<lambda> at 0x1166a0730>, {'disk_top': defaultdict(<function Robot._push_once.<locals>.<lambda>.<locals>.<lambda> at 0x1166a0268>, {'target_rot_position': 58.501}), 'disk_middle': defaultdict(<function Robot._push_once.<locals>.<lambda>.<locals>.<lambda> at 0x1166a0598>, {'target_rot_position': 58.301}), 'disk_bottom': defaultdict(<function Robot._push_once.<locals>.<lambda>.<locals>.<lambda> at 0x1166a0048>, {'target_rot_position': 63.206})})\n",
      "defaultdict(<function Robot._push_once.<locals>.<lambda> at 0x10fed6c80>, {'disk_top': defaultdict(<function Robot._push_once.<locals>.<lambda>.<locals>.<lambda> at 0x1166a0048>, {'target_rot_position': 58.733}), 'disk_middle': defaultdict(<function Robot._push_once.<locals>.<lambda>.<locals>.<lambda> at 0x1166a0598>, {'target_rot_position': 58.522}), 'disk_bottom': defaultdict(<function Robot._push_once.<locals>.<lambda>.<locals>.<lambda> at 0x1166a0268>, {'target_rot_position': 62.749})})\n",
      "defaultdict(<function Robot._push_once.<locals>.<lambda> at 0x1166a0730>, {'disk_top': defaultdict(<function Robot._push_once.<locals>.<lambda>.<locals>.<lambda> at 0x10fed6c80>, {'target_rot_position': 59.315}), 'disk_middle': defaultdict(<function Robot._push_once.<locals>.<lambda>.<locals>.<lambda> at 0x1166a0400>, {'target_rot_position': 58.444}), 'disk_bottom': defaultdict(<function Robot._push_once.<locals>.<lambda>.<locals>.<lambda> at 0x1166a0268>, {'target_rot_position': 62.244})})\n",
      "defaultdict(<function Robot._push_once.<locals>.<lambda> at 0x1166a0048>, {'disk_top': defaultdict(<function Robot._push_once.<locals>.<lambda>.<locals>.<lambda> at 0x10fed6c80>, {'target_rot_position': 60.209}), 'disk_middle': defaultdict(<function Robot._push_once.<locals>.<lambda>.<locals>.<lambda> at 0x1166a0268>, {'target_rot_position': 58.1}), 'disk_bottom': defaultdict(<function Robot._push_once.<locals>.<lambda>.<locals>.<lambda> at 0x1166a0400>, {'target_rot_position': 61.69})})\n",
      "defaultdict(<function Robot._push_once.<locals>.<lambda> at 0x1166a0730>, {'disk_top': defaultdict(<function Robot._push_once.<locals>.<lambda>.<locals>.<lambda> at 0x10fed6c80>, {'target_rot_position': 61.353}), 'disk_middle': defaultdict(<function Robot._push_once.<locals>.<lambda>.<locals>.<lambda> at 0x1166a0400>, {'target_rot_position': 57.555}), 'disk_bottom': defaultdict(<function Robot._push_once.<locals>.<lambda>.<locals>.<lambda> at 0x1166a0268>, {'target_rot_position': 61.089})})\n",
      "defaultdict(<function Robot._push_once.<locals>.<lambda> at 0x1166a0598>, {'disk_top': defaultdict(<function Robot._push_once.<locals>.<lambda>.<locals>.<lambda> at 0x10fed6c80>, {'target_rot_position': 62.658}), 'disk_middle': defaultdict(<function Robot._push_once.<locals>.<lambda>.<locals>.<lambda> at 0x1166a0268>, {'target_rot_position': 56.893}), 'disk_bottom': defaultdict(<function Robot._push_once.<locals>.<lambda>.<locals>.<lambda> at 0x1166a0400>, {'target_rot_position': 60.445})})\n",
      "defaultdict(<function Robot._push_once.<locals>.<lambda> at 0x1166a0158>, {'disk_top': defaultdict(<function Robot._push_once.<locals>.<lambda>.<locals>.<lambda> at 0x10fed6c80>, {'target_rot_position': 64.029}), 'disk_middle': defaultdict(<function Robot._push_once.<locals>.<lambda>.<locals>.<lambda> at 0x1166a0048>, {'target_rot_position': 56.204}), 'disk_bottom': defaultdict(<function Robot._push_once.<locals>.<lambda>.<locals>.<lambda> at 0x1166a0730>, {'target_rot_position': 59.771})})\n",
      "defaultdict(<function Robot._push_once.<locals>.<lambda> at 0x1166a0400>, {'disk_top': defaultdict(<function Robot._push_once.<locals>.<lambda>.<locals>.<lambda> at 0x10fed6c80>, {'target_rot_position': 65.365}), 'disk_middle': defaultdict(<function Robot._push_once.<locals>.<lambda>.<locals>.<lambda> at 0x1166a0268>, {'target_rot_position': 55.575}), 'disk_bottom': defaultdict(<function Robot._push_once.<locals>.<lambda>.<locals>.<lambda> at 0x1166a0730>, {'target_rot_position': 59.081})})\n",
      "defaultdict(<function Robot._push_once.<locals>.<lambda> at 0x1166a0158>, {'disk_top': defaultdict(<function Robot._push_once.<locals>.<lambda>.<locals>.<lambda> at 0x10fed6c80>, {'target_rot_position': 66.575}), 'disk_middle': defaultdict(<function Robot._push_once.<locals>.<lambda>.<locals>.<lambda> at 0x1166a0730>, {'target_rot_position': 55.08}), 'disk_bottom': defaultdict(<function Robot._push_once.<locals>.<lambda>.<locals>.<lambda> at 0x1166a0268>, {'target_rot_position': 58.397})})\n",
      "defaultdict(<function Robot._push_once.<locals>.<lambda> at 0x1166a0048>, {'disk_top': defaultdict(<function Robot._push_once.<locals>.<lambda>.<locals>.<lambda> at 0x10fed6c80>, {'target_rot_position': 67.576}), 'disk_middle': defaultdict(<function Robot._push_once.<locals>.<lambda>.<locals>.<lambda> at 0x1166a0268>, {'target_rot_position': 54.772}), 'disk_bottom': defaultdict(<function Robot._push_once.<locals>.<lambda>.<locals>.<lambda> at 0x1166a0730>, {'target_rot_position': 57.741})})\n",
      "defaultdict(<function Robot._push_once.<locals>.<lambda> at 0x1166a0158>, {'disk_top': defaultdict(<function Robot._push_once.<locals>.<lambda>.<locals>.<lambda> at 0x10fed6c80>, {'target_rot_position': 68.306}), 'disk_middle': defaultdict(<function Robot._push_once.<locals>.<lambda>.<locals>.<lambda> at 0x1166a0400>, {'target_rot_position': 54.686}), 'disk_bottom': defaultdict(<function Robot._push_once.<locals>.<lambda>.<locals>.<lambda> at 0x1166a0730>, {'target_rot_position': 57.135})})\n"
     ]
    },
    {
     "name": "stdout",
     "output_type": "stream",
     "text": [
      "defaultdict(<function Robot._push_once.<locals>.<lambda> at 0x1166a0598>, {'disk_top': defaultdict(<function Robot._push_once.<locals>.<lambda>.<locals>.<lambda> at 0x10fed6c80>, {'target_rot_position': 68.72}), 'disk_middle': defaultdict(<function Robot._push_once.<locals>.<lambda>.<locals>.<lambda> at 0x1166a0268>, {'target_rot_position': 54.834}), 'disk_bottom': defaultdict(<function Robot._push_once.<locals>.<lambda>.<locals>.<lambda> at 0x1166a0730>, {'target_rot_position': 56.599})})\n",
      "defaultdict(<function Robot._push_once.<locals>.<lambda> at 0x1166a0158>, {'disk_top': defaultdict(<function Robot._push_once.<locals>.<lambda>.<locals>.<lambda> at 0x10fed6c80>, {'target_rot_position': 68.795}), 'disk_middle': defaultdict(<function Robot._push_once.<locals>.<lambda>.<locals>.<lambda> at 0x1166a0730>, {'target_rot_position': 55.215}), 'disk_bottom': defaultdict(<function Robot._push_once.<locals>.<lambda>.<locals>.<lambda> at 0x1166a0268>, {'target_rot_position': 56.152})})\n",
      "defaultdict(<function Robot._push_once.<locals>.<lambda> at 0x1166a0048>, {'disk_top': defaultdict(<function Robot._push_once.<locals>.<lambda>.<locals>.<lambda> at 0x10fed6c80>, {'target_rot_position': 68.533}), 'disk_middle': defaultdict(<function Robot._push_once.<locals>.<lambda>.<locals>.<lambda> at 0x1166a0268>, {'target_rot_position': 55.81}), 'disk_bottom': defaultdict(<function Robot._push_once.<locals>.<lambda>.<locals>.<lambda> at 0x1166a0730>, {'target_rot_position': 55.807})})\n",
      "defaultdict(<function Robot._push_once.<locals>.<lambda> at 0x1166a0400>, {'disk_top': defaultdict(<function Robot._push_once.<locals>.<lambda>.<locals>.<lambda> at 0x10fed6c80>, {'target_rot_position': 67.961}), 'disk_middle': defaultdict(<function Robot._push_once.<locals>.<lambda>.<locals>.<lambda> at 0x1166a0598>, {'target_rot_position': 56.584}), 'disk_bottom': defaultdict(<function Robot._push_once.<locals>.<lambda>.<locals>.<lambda> at 0x1166a0158>, {'target_rot_position': 55.575})})\n",
      "defaultdict(<function Robot._push_once.<locals>.<lambda> at 0x1166a0730>, {'disk_top': defaultdict(<function Robot._push_once.<locals>.<lambda>.<locals>.<lambda> at 0x10fed6c80>, {'target_rot_position': 67.132}), 'disk_middle': defaultdict(<function Robot._push_once.<locals>.<lambda>.<locals>.<lambda> at 0x1166a0158>, {'target_rot_position': 57.489}), 'disk_bottom': defaultdict(<function Robot._push_once.<locals>.<lambda>.<locals>.<lambda> at 0x1166a0598>, {'target_rot_position': 55.46})})\n",
      "defaultdict(<function Robot._push_once.<locals>.<lambda> at 0x1166a0048>, {'disk_top': defaultdict(<function Robot._push_once.<locals>.<lambda>.<locals>.<lambda> at 0x10fed6c80>, {'target_rot_position': 66.12}), 'disk_middle': defaultdict(<function Robot._push_once.<locals>.<lambda>.<locals>.<lambda> at 0x1166a0268>, {'target_rot_position': 58.462}), 'disk_bottom': defaultdict(<function Robot._push_once.<locals>.<lambda>.<locals>.<lambda> at 0x1166a0400>, {'target_rot_position': 55.461})})\n",
      "defaultdict(<function Robot._push_once.<locals>.<lambda> at 0x1166a0158>, {'disk_top': defaultdict(<function Robot._push_once.<locals>.<lambda>.<locals>.<lambda> at 0x10fed6c80>, {'target_rot_position': 65.018}), 'disk_middle': defaultdict(<function Robot._push_once.<locals>.<lambda>.<locals>.<lambda> at 0x1166a0400>, {'target_rot_position': 59.425}), 'disk_bottom': defaultdict(<function Robot._push_once.<locals>.<lambda>.<locals>.<lambda> at 0x1166a0268>, {'target_rot_position': 55.57})})\n",
      "defaultdict(<function Robot._push_once.<locals>.<lambda> at 0x1166a0048>, {'disk_top': defaultdict(<function Robot._push_once.<locals>.<lambda>.<locals>.<lambda> at 0x10fed6c80>, {'target_rot_position': 63.93}), 'disk_middle': defaultdict(<function Robot._push_once.<locals>.<lambda>.<locals>.<lambda> at 0x1166a0598>, {'target_rot_position': 60.292}), 'disk_bottom': defaultdict(<function Robot._push_once.<locals>.<lambda>.<locals>.<lambda> at 0x1166a0268>, {'target_rot_position': 55.774})})\n",
      "defaultdict(<function Robot._push_once.<locals>.<lambda> at 0x1166a0158>, {'disk_top': defaultdict(<function Robot._push_once.<locals>.<lambda>.<locals>.<lambda> at 0x10fed6c80>, {'target_rot_position': 62.955}), 'disk_middle': defaultdict(<function Robot._push_once.<locals>.<lambda>.<locals>.<lambda> at 0x1166a0268>, {'target_rot_position': 60.975}), 'disk_bottom': defaultdict(<function Robot._push_once.<locals>.<lambda>.<locals>.<lambda> at 0x1166a0598>, {'target_rot_position': 56.059})})\n",
      "defaultdict(<function Robot._push_once.<locals>.<lambda> at 0x1166a0400>, {'disk_top': defaultdict(<function Robot._push_once.<locals>.<lambda>.<locals>.<lambda> at 0x10fed6c80>, {'target_rot_position': 62.183}), 'disk_middle': defaultdict(<function Robot._push_once.<locals>.<lambda>.<locals>.<lambda> at 0x1166a0598>, {'target_rot_position': 61.396}), 'disk_bottom': defaultdict(<function Robot._push_once.<locals>.<lambda>.<locals>.<lambda> at 0x1166a0268>, {'target_rot_position': 56.41})})\n",
      "defaultdict(<function Robot._push_once.<locals>.<lambda> at 0x1166a0158>, {'disk_top': defaultdict(<function Robot._push_once.<locals>.<lambda>.<locals>.<lambda> at 0x10fed6c80>, {'target_rot_position': 61.678}), 'disk_middle': defaultdict(<function Robot._push_once.<locals>.<lambda>.<locals>.<lambda> at 0x1166a0048>, {'target_rot_position': 61.495}), 'disk_bottom': defaultdict(<function Robot._push_once.<locals>.<lambda>.<locals>.<lambda> at 0x1166a0268>, {'target_rot_position': 56.819})})\n",
      "defaultdict(<function Robot._push_once.<locals>.<lambda> at 0x1166a0400>, {'disk_top': defaultdict(<function Robot._push_once.<locals>.<lambda>.<locals>.<lambda> at 0x10fed6c80>, {'target_rot_position': 61.474}), 'disk_middle': defaultdict(<function Robot._push_once.<locals>.<lambda>.<locals>.<lambda> at 0x1166a0268>, {'target_rot_position': 61.243}), 'disk_bottom': defaultdict(<function Robot._push_once.<locals>.<lambda>.<locals>.<lambda> at 0x1166a0048>, {'target_rot_position': 57.278})})\n",
      "defaultdict(<function Robot._push_once.<locals>.<lambda> at 0x1166a0158>, {'disk_top': defaultdict(<function Robot._push_once.<locals>.<lambda>.<locals>.<lambda> at 0x10fed6c80>, {'target_rot_position': 61.569}), 'disk_middle': defaultdict(<function Robot._push_once.<locals>.<lambda>.<locals>.<lambda> at 0x1166a0598>, {'target_rot_position': 60.643}), 'disk_bottom': defaultdict(<function Robot._push_once.<locals>.<lambda>.<locals>.<lambda> at 0x1166a0048>, {'target_rot_position': 57.786})})\n",
      "defaultdict(<function Robot._push_once.<locals>.<lambda> at 0x1166a0730>, {'disk_top': defaultdict(<function Robot._push_once.<locals>.<lambda>.<locals>.<lambda> at 0x1166a0268>, {'target_rot_position': 61.926}), 'disk_middle': defaultdict(<function Robot._push_once.<locals>.<lambda>.<locals>.<lambda> at 0x1166a0048>, {'target_rot_position': 59.732}), 'disk_bottom': defaultdict(<function Robot._push_once.<locals>.<lambda>.<locals>.<lambda> at 0x1166a0598>, {'target_rot_position': 58.343})})\n",
      "defaultdict(<function Robot._push_once.<locals>.<lambda> at 0x10fed6c80>, {'disk_top': defaultdict(<function Robot._push_once.<locals>.<lambda>.<locals>.<lambda> at 0x1166a0598>, {'target_rot_position': 62.48}), 'disk_middle': defaultdict(<function Robot._push_once.<locals>.<lambda>.<locals>.<lambda> at 0x1166a0048>, {'target_rot_position': 58.578}), 'disk_bottom': defaultdict(<function Robot._push_once.<locals>.<lambda>.<locals>.<lambda> at 0x1166a0268>, {'target_rot_position': 58.947})})\n",
      "defaultdict(<function Robot._push_once.<locals>.<lambda> at 0x1166a0158>, {'disk_top': defaultdict(<function Robot._push_once.<locals>.<lambda>.<locals>.<lambda> at 0x10fed6c80>, {'target_rot_position': 63.146}), 'disk_middle': defaultdict(<function Robot._push_once.<locals>.<lambda>.<locals>.<lambda> at 0x1166a0268>, {'target_rot_position': 57.266}), 'disk_bottom': defaultdict(<function Robot._push_once.<locals>.<lambda>.<locals>.<lambda> at 0x1166a0048>, {'target_rot_position': 59.592})})\n",
      "defaultdict(<function Robot._push_once.<locals>.<lambda> at 0x1166a0730>, {'disk_top': defaultdict(<function Robot._push_once.<locals>.<lambda>.<locals>.<lambda> at 0x10fed6c80>, {'target_rot_position': 63.834}), 'disk_middle': defaultdict(<function Robot._push_once.<locals>.<lambda>.<locals>.<lambda> at 0x1166a0048>, {'target_rot_position': 55.894}), 'disk_bottom': defaultdict(<function Robot._push_once.<locals>.<lambda>.<locals>.<lambda> at 0x1166a0268>, {'target_rot_position': 60.268})})\n",
      "defaultdict(<function Robot._push_once.<locals>.<lambda> at 0x1166a0598>, {'disk_top': defaultdict(<function Robot._push_once.<locals>.<lambda>.<locals>.<lambda> at 0x10fed6c80>, {'target_rot_position': 64.457}), 'disk_middle': defaultdict(<function Robot._push_once.<locals>.<lambda>.<locals>.<lambda> at 0x1166a0158>, {'target_rot_position': 54.563}), 'disk_bottom': defaultdict(<function Robot._push_once.<locals>.<lambda>.<locals>.<lambda> at 0x1166a0268>, {'target_rot_position': 60.958})})\n",
      "defaultdict(<function Robot._push_once.<locals>.<lambda> at 0x1166a0730>, {'disk_top': defaultdict(<function Robot._push_once.<locals>.<lambda>.<locals>.<lambda> at 0x10fed6c80>, {'target_rot_position': 64.943}), 'disk_middle': defaultdict(<function Robot._push_once.<locals>.<lambda>.<locals>.<lambda> at 0x1166a0268>, {'target_rot_position': 53.363}), 'disk_bottom': defaultdict(<function Robot._push_once.<locals>.<lambda>.<locals>.<lambda> at 0x1166a0158>, {'target_rot_position': 61.641})})\n",
      "defaultdict(<function Robot._push_once.<locals>.<lambda> at 0x1166a0048>, {'disk_top': defaultdict(<function Robot._push_once.<locals>.<lambda>.<locals>.<lambda> at 0x10fed6c80>, {'target_rot_position': 65.239}), 'disk_middle': defaultdict(<function Robot._push_once.<locals>.<lambda>.<locals>.<lambda> at 0x1166a0158>, {'target_rot_position': 52.375}), 'disk_bottom': defaultdict(<function Robot._push_once.<locals>.<lambda>.<locals>.<lambda> at 0x1166a0268>, {'target_rot_position': 62.295})})\n",
      "defaultdict(<function Robot._push_once.<locals>.<lambda> at 0x1166a0730>, {'disk_top': defaultdict(<function Robot._push_once.<locals>.<lambda>.<locals>.<lambda> at 0x10fed6c80>, {'target_rot_position': 65.312}), 'disk_middle': defaultdict(<function Robot._push_once.<locals>.<lambda>.<locals>.<lambda> at 0x1166a0268>, {'target_rot_position': 51.662}), 'disk_bottom': defaultdict(<function Robot._push_once.<locals>.<lambda>.<locals>.<lambda> at 0x1166a0158>, {'target_rot_position': 62.897})})\n",
      "defaultdict(<function Robot._push_once.<locals>.<lambda> at 0x1166a0598>, {'disk_top': defaultdict(<function Robot._push_once.<locals>.<lambda>.<locals>.<lambda> at 0x10fed6c80>, {'target_rot_position': 65.15}), 'disk_middle': defaultdict(<function Robot._push_once.<locals>.<lambda>.<locals>.<lambda> at 0x1166a0158>, {'target_rot_position': 51.267}), 'disk_bottom': defaultdict(<function Robot._push_once.<locals>.<lambda>.<locals>.<lambda> at 0x1166a0268>, {'target_rot_position': 63.428})})\n",
      "defaultdict(<function Robot._push_once.<locals>.<lambda> at 0x1166a0730>, {'disk_top': defaultdict(<function Robot._push_once.<locals>.<lambda>.<locals>.<lambda> at 0x10fed6c80>, {'target_rot_position': 64.757}), 'disk_middle': defaultdict(<function Robot._push_once.<locals>.<lambda>.<locals>.<lambda> at 0x1166a0048>, {'target_rot_position': 51.211}), 'disk_bottom': defaultdict(<function Robot._push_once.<locals>.<lambda>.<locals>.<lambda> at 0x1166a0268>, {'target_rot_position': 63.87})})\n",
      "defaultdict(<function Robot._push_once.<locals>.<lambda> at 0x1166a0598>, {'disk_top': defaultdict(<function Robot._push_once.<locals>.<lambda>.<locals>.<lambda> at 0x10fed6c80>, {'target_rot_position': 64.151}), 'disk_middle': defaultdict(<function Robot._push_once.<locals>.<lambda>.<locals>.<lambda> at 0x1166a0268>, {'target_rot_position': 51.491}), 'disk_bottom': defaultdict(<function Robot._push_once.<locals>.<lambda>.<locals>.<lambda> at 0x1166a0048>, {'target_rot_position': 64.209})})\n",
      "defaultdict(<function Robot._push_once.<locals>.<lambda> at 0x1166a0158>, {'disk_top': defaultdict(<function Robot._push_once.<locals>.<lambda>.<locals>.<lambda> at 0x10fed6c80>, {'target_rot_position': 63.368}), 'disk_middle': defaultdict(<function Robot._push_once.<locals>.<lambda>.<locals>.<lambda> at 0x1166a0048>, {'target_rot_position': 52.079}), 'disk_bottom': defaultdict(<function Robot._push_once.<locals>.<lambda>.<locals>.<lambda> at 0x1166a0268>, {'target_rot_position': 64.434})})\n",
      "defaultdict(<function Robot._push_once.<locals>.<lambda> at 0x1166a0598>, {'disk_top': defaultdict(<function Robot._push_once.<locals>.<lambda>.<locals>.<lambda> at 0x10fed6c80>, {'target_rot_position': 62.458}), 'disk_middle': defaultdict(<function Robot._push_once.<locals>.<lambda>.<locals>.<lambda> at 0x1166a0730>, {'target_rot_position': 52.921}), 'disk_bottom': defaultdict(<function Robot._push_once.<locals>.<lambda>.<locals>.<lambda> at 0x1166a0268>, {'target_rot_position': 64.543})})\n"
     ]
    },
    {
     "name": "stdout",
     "output_type": "stream",
     "text": [
      "defaultdict(<function Robot._push_once.<locals>.<lambda> at 0x1166a0158>, {'disk_top': defaultdict(<function Robot._push_once.<locals>.<lambda>.<locals>.<lambda> at 0x1166a0268>, {'target_rot_position': 61.483}), 'disk_middle': defaultdict(<function Robot._push_once.<locals>.<lambda>.<locals>.<lambda> at 0x1166a0730>, {'target_rot_position': 53.941}), 'disk_bottom': defaultdict(<function Robot._push_once.<locals>.<lambda>.<locals>.<lambda> at 0x1166a0598>, {'target_rot_position': 64.536})})\n",
      "defaultdict(<function Robot._push_once.<locals>.<lambda> at 0x1166a0048>, {'disk_top': defaultdict(<function Robot._push_once.<locals>.<lambda>.<locals>.<lambda> at 0x10fed6c80>, {'target_rot_position': 60.523}), 'disk_middle': defaultdict(<function Robot._push_once.<locals>.<lambda>.<locals>.<lambda> at 0x1166a0598>, {'target_rot_position': 55.044}), 'disk_bottom': defaultdict(<function Robot._push_once.<locals>.<lambda>.<locals>.<lambda> at 0x1166a0730>, {'target_rot_position': 64.421})})\n",
      "defaultdict(<function Robot._push_once.<locals>.<lambda> at 0x1166a0158>, {'disk_top': defaultdict(<function Robot._push_once.<locals>.<lambda>.<locals>.<lambda> at 0x10fed6c80>, {'target_rot_position': 59.665}), 'disk_middle': defaultdict(<function Robot._push_once.<locals>.<lambda>.<locals>.<lambda> at 0x1166a0730>, {'target_rot_position': 56.129}), 'disk_bottom': defaultdict(<function Robot._push_once.<locals>.<lambda>.<locals>.<lambda> at 0x1166a0598>, {'target_rot_position': 64.212})})\n",
      "defaultdict(<function Robot._push_once.<locals>.<lambda> at 0x1166a0048>, {'disk_top': defaultdict(<function Robot._push_once.<locals>.<lambda>.<locals>.<lambda> at 0x10fed6c80>, {'target_rot_position': 58.994}), 'disk_middle': defaultdict(<function Robot._push_once.<locals>.<lambda>.<locals>.<lambda> at 0x1166a0598>, {'target_rot_position': 57.094}), 'disk_bottom': defaultdict(<function Robot._push_once.<locals>.<lambda>.<locals>.<lambda> at 0x1166a0730>, {'target_rot_position': 63.923})})\n",
      "defaultdict(<function Robot._push_once.<locals>.<lambda> at 0x1166a0400>, {'disk_top': defaultdict(<function Robot._push_once.<locals>.<lambda>.<locals>.<lambda> at 0x10fed6c80>, {'target_rot_position': 58.59}), 'disk_middle': defaultdict(<function Robot._push_once.<locals>.<lambda>.<locals>.<lambda> at 0x1166a0268>, {'target_rot_position': 57.853}), 'disk_bottom': defaultdict(<function Robot._push_once.<locals>.<lambda>.<locals>.<lambda> at 0x1166a0158>, {'target_rot_position': 63.568})})\n",
      "defaultdict(<function Robot._push_once.<locals>.<lambda> at 0x1166a0730>, {'disk_top': defaultdict(<function Robot._push_once.<locals>.<lambda>.<locals>.<lambda> at 0x10fed6c80>, {'target_rot_position': 58.51}), 'disk_middle': defaultdict(<function Robot._push_once.<locals>.<lambda>.<locals>.<lambda> at 0x1166a0598>, {'target_rot_position': 58.341}), 'disk_bottom': defaultdict(<function Robot._push_once.<locals>.<lambda>.<locals>.<lambda> at 0x1166a0158>, {'target_rot_position': 63.157})})\n",
      "defaultdict(<function Robot._push_once.<locals>.<lambda> at 0x1166a0400>, {'disk_top': defaultdict(<function Robot._push_once.<locals>.<lambda>.<locals>.<lambda> at 0x10fed6c80>, {'target_rot_position': 58.782}), 'disk_middle': defaultdict(<function Robot._push_once.<locals>.<lambda>.<locals>.<lambda> at 0x1166a0158>, {'target_rot_position': 58.528}), 'disk_bottom': defaultdict(<function Robot._push_once.<locals>.<lambda>.<locals>.<lambda> at 0x1166a0598>, {'target_rot_position': 62.695})})\n",
      "defaultdict(<function Robot._push_once.<locals>.<lambda> at 0x1166a0268>, {'disk_top': defaultdict(<function Robot._push_once.<locals>.<lambda>.<locals>.<lambda> at 0x10fed6c80>, {'target_rot_position': 59.4}), 'disk_middle': defaultdict(<function Robot._push_once.<locals>.<lambda>.<locals>.<lambda> at 0x1166a0598>, {'target_rot_position': 58.417}), 'disk_bottom': defaultdict(<function Robot._push_once.<locals>.<lambda>.<locals>.<lambda> at 0x1166a0158>, {'target_rot_position': 62.184})})\n",
      "defaultdict(<function Robot._push_once.<locals>.<lambda> at 0x1166a0730>, {'disk_top': defaultdict(<function Robot._push_once.<locals>.<lambda>.<locals>.<lambda> at 0x10fed6c80>, {'target_rot_position': 60.327}), 'disk_middle': defaultdict(<function Robot._push_once.<locals>.<lambda>.<locals>.<lambda> at 0x1166a0158>, {'target_rot_position': 58.048}), 'disk_bottom': defaultdict(<function Robot._push_once.<locals>.<lambda>.<locals>.<lambda> at 0x1166a0598>, {'target_rot_position': 61.625})})\n",
      "defaultdict(<function Robot._push_once.<locals>.<lambda> at 0x1166a0048>, {'disk_top': defaultdict(<function Robot._push_once.<locals>.<lambda>.<locals>.<lambda> at 0x10fed6c80>, {'target_rot_position': 61.493}), 'disk_middle': defaultdict(<function Robot._push_once.<locals>.<lambda>.<locals>.<lambda> at 0x1166a0400>, {'target_rot_position': 57.485}), 'disk_bottom': defaultdict(<function Robot._push_once.<locals>.<lambda>.<locals>.<lambda> at 0x1166a0268>, {'target_rot_position': 61.018})})\n",
      "defaultdict(<function Robot._push_once.<locals>.<lambda> at 0x1166a0158>, {'disk_top': defaultdict(<function Robot._push_once.<locals>.<lambda>.<locals>.<lambda> at 0x10fed6c80>, {'target_rot_position': 62.811}), 'disk_middle': defaultdict(<function Robot._push_once.<locals>.<lambda>.<locals>.<lambda> at 0x1166a0268>, {'target_rot_position': 56.815}), 'disk_bottom': defaultdict(<function Robot._push_once.<locals>.<lambda>.<locals>.<lambda> at 0x1166a0400>, {'target_rot_position': 60.371})})\n",
      "defaultdict(<function Robot._push_once.<locals>.<lambda> at 0x1166a0598>, {'disk_top': defaultdict(<function Robot._push_once.<locals>.<lambda>.<locals>.<lambda> at 0x10fed6c80>, {'target_rot_position': 64.182}), 'disk_middle': defaultdict(<function Robot._push_once.<locals>.<lambda>.<locals>.<lambda> at 0x1166a0400>, {'target_rot_position': 56.129}), 'disk_bottom': defaultdict(<function Robot._push_once.<locals>.<lambda>.<locals>.<lambda> at 0x1166a0268>, {'target_rot_position': 59.694})})\n",
      "defaultdict(<function Robot._push_once.<locals>.<lambda> at 0x1166a0158>, {'disk_top': defaultdict(<function Robot._push_once.<locals>.<lambda>.<locals>.<lambda> at 0x10fed6c80>, {'target_rot_position': 65.509}), 'disk_middle': defaultdict(<function Robot._push_once.<locals>.<lambda>.<locals>.<lambda> at 0x1166a0048>, {'target_rot_position': 55.512}), 'disk_bottom': defaultdict(<function Robot._push_once.<locals>.<lambda>.<locals>.<lambda> at 0x1166a0268>, {'target_rot_position': 59.004})})\n",
      "defaultdict(<function Robot._push_once.<locals>.<lambda> at 0x1166a0400>, {'disk_top': defaultdict(<function Robot._push_once.<locals>.<lambda>.<locals>.<lambda> at 0x1166a0598>, {'target_rot_position': 67.672}), 'disk_middle': defaultdict(<function Robot._push_once.<locals>.<lambda>.<locals>.<lambda> at 0x1166a0268>, {'target_rot_position': 54.751}), 'disk_bottom': defaultdict(<function Robot._push_once.<locals>.<lambda>.<locals>.<lambda> at 0x1166a0048>, {'target_rot_position': 57.67})})\n",
      "defaultdict(<function Robot._push_once.<locals>.<lambda> at 0x10fed6c80>, {'disk_top': defaultdict(<function Robot._push_once.<locals>.<lambda>.<locals>.<lambda> at 0x1166a0048>, {'target_rot_position': 68.745}), 'disk_middle': defaultdict(<function Robot._push_once.<locals>.<lambda>.<locals>.<lambda> at 0x1166a0268>, {'target_rot_position': 54.866}), 'disk_bottom': defaultdict(<function Robot._push_once.<locals>.<lambda>.<locals>.<lambda> at 0x1166a0598>, {'target_rot_position': 56.544})})\n",
      "defaultdict(<function Robot._push_once.<locals>.<lambda> at 0x1166a0730>, {'disk_top': defaultdict(<function Robot._push_once.<locals>.<lambda>.<locals>.<lambda> at 0x10fed6c80>, {'target_rot_position': 68.782}), 'disk_middle': defaultdict(<function Robot._push_once.<locals>.<lambda>.<locals>.<lambda> at 0x1166a0598>, {'target_rot_position': 55.272}), 'disk_bottom': defaultdict(<function Robot._push_once.<locals>.<lambda>.<locals>.<lambda> at 0x1166a0268>, {'target_rot_position': 56.108})})\n",
      "defaultdict(<function Robot._push_once.<locals>.<lambda> at 0x1166a0400>, {'disk_top': defaultdict(<function Robot._push_once.<locals>.<lambda>.<locals>.<lambda> at 0x10fed6c80>, {'target_rot_position': 68.484}), 'disk_middle': defaultdict(<function Robot._push_once.<locals>.<lambda>.<locals>.<lambda> at 0x1166a0268>, {'target_rot_position': 55.888}), 'disk_bottom': defaultdict(<function Robot._push_once.<locals>.<lambda>.<locals>.<lambda> at 0x1166a0598>, {'target_rot_position': 55.776})})\n",
      "defaultdict(<function Robot._push_once.<locals>.<lambda> at 0x1166a0730>, {'disk_top': defaultdict(<function Robot._push_once.<locals>.<lambda>.<locals>.<lambda> at 0x10fed6c80>, {'target_rot_position': 67.88}), 'disk_middle': defaultdict(<function Robot._push_once.<locals>.<lambda>.<locals>.<lambda> at 0x1166a0598>, {'target_rot_position': 56.68}), 'disk_bottom': defaultdict(<function Robot._push_once.<locals>.<lambda>.<locals>.<lambda> at 0x1166a0268>, {'target_rot_position': 55.556})})\n",
      "defaultdict(<function Robot._push_once.<locals>.<lambda> at 0x1166a0400>, {'disk_top': defaultdict(<function Robot._push_once.<locals>.<lambda>.<locals>.<lambda> at 0x10fed6c80>, {'target_rot_position': 67.026}), 'disk_middle': defaultdict(<function Robot._push_once.<locals>.<lambda>.<locals>.<lambda> at 0x1166a0048>, {'target_rot_position': 57.596}), 'disk_bottom': defaultdict(<function Robot._push_once.<locals>.<lambda>.<locals>.<lambda> at 0x1166a0268>, {'target_rot_position': 55.455})})\n",
      "defaultdict(<function Robot._push_once.<locals>.<lambda> at 0x1166a0730>, {'disk_top': defaultdict(<function Robot._push_once.<locals>.<lambda>.<locals>.<lambda> at 0x10fed6c80>, {'target_rot_position': 65.999}), 'disk_middle': defaultdict(<function Robot._push_once.<locals>.<lambda>.<locals>.<lambda> at 0x1166a0268>, {'target_rot_position': 58.572}), 'disk_bottom': defaultdict(<function Robot._push_once.<locals>.<lambda>.<locals>.<lambda> at 0x1166a0048>, {'target_rot_position': 55.468})})\n",
      "defaultdict(<function Robot._push_once.<locals>.<lambda> at 0x1166a0400>, {'disk_top': defaultdict(<function Robot._push_once.<locals>.<lambda>.<locals>.<lambda> at 0x10fed6c80>, {'target_rot_position': 64.894}), 'disk_middle': defaultdict(<function Robot._push_once.<locals>.<lambda>.<locals>.<lambda> at 0x1166a0598>, {'target_rot_position': 59.528}), 'disk_bottom': defaultdict(<function Robot._push_once.<locals>.<lambda>.<locals>.<lambda> at 0x1166a0048>, {'target_rot_position': 55.588})})\n",
      "defaultdict(<function Robot._push_once.<locals>.<lambda> at 0x1166a0268>, {'disk_top': defaultdict(<function Robot._push_once.<locals>.<lambda>.<locals>.<lambda> at 0x10fed6c80>, {'target_rot_position': 63.813}), 'disk_middle': defaultdict(<function Robot._push_once.<locals>.<lambda>.<locals>.<lambda> at 0x1166a0048>, {'target_rot_position': 60.379}), 'disk_bottom': defaultdict(<function Robot._push_once.<locals>.<lambda>.<locals>.<lambda> at 0x1166a0598>, {'target_rot_position': 55.802})})\n",
      "defaultdict(<function Robot._push_once.<locals>.<lambda> at 0x1166a0730>, {'disk_top': defaultdict(<function Robot._push_once.<locals>.<lambda>.<locals>.<lambda> at 0x10fed6c80>, {'target_rot_position': 62.112}), 'disk_middle': defaultdict(<function Robot._push_once.<locals>.<lambda>.<locals>.<lambda> at 0x1166a0598>, {'target_rot_position': 61.424}), 'disk_bottom': defaultdict(<function Robot._push_once.<locals>.<lambda>.<locals>.<lambda> at 0x1166a0048>, {'target_rot_position': 56.454})})\n",
      "defaultdict(<function Robot._push_once.<locals>.<lambda> at 0x1166a0268>, {'disk_top': defaultdict(<function Robot._push_once.<locals>.<lambda>.<locals>.<lambda> at 0x10fed6c80>, {'target_rot_position': 61.64}), 'disk_middle': defaultdict(<function Robot._push_once.<locals>.<lambda>.<locals>.<lambda> at 0x1166a0048>, {'target_rot_position': 61.485}), 'disk_bottom': defaultdict(<function Robot._push_once.<locals>.<lambda>.<locals>.<lambda> at 0x1166a0598>, {'target_rot_position': 56.868})})\n"
     ]
    },
    {
     "name": "stdout",
     "output_type": "stream",
     "text": [
      "defaultdict(<function Robot._push_once.<locals>.<lambda> at 0x1166a0730>, {'disk_top': defaultdict(<function Robot._push_once.<locals>.<lambda>.<locals>.<lambda> at 0x10fed6c80>, {'target_rot_position': 61.47}), 'disk_middle': defaultdict(<function Robot._push_once.<locals>.<lambda>.<locals>.<lambda> at 0x1166a0400>, {'target_rot_position': 61.193}), 'disk_bottom': defaultdict(<function Robot._push_once.<locals>.<lambda>.<locals>.<lambda> at 0x1166a0598>, {'target_rot_position': 57.332})})\n",
      "defaultdict(<function Robot._push_once.<locals>.<lambda> at 0x1166a0158>, {'disk_top': defaultdict(<function Robot._push_once.<locals>.<lambda>.<locals>.<lambda> at 0x10fed6c80>, {'target_rot_position': 61.597}), 'disk_middle': defaultdict(<function Robot._push_once.<locals>.<lambda>.<locals>.<lambda> at 0x1166a0598>, {'target_rot_position': 60.555}), 'disk_bottom': defaultdict(<function Robot._push_once.<locals>.<lambda>.<locals>.<lambda> at 0x1166a0400>, {'target_rot_position': 57.846})})\n",
      "defaultdict(<function Robot._push_once.<locals>.<lambda> at 0x1166a0048>, {'disk_top': defaultdict(<function Robot._push_once.<locals>.<lambda>.<locals>.<lambda> at 0x10fed6c80>, {'target_rot_position': 62.55}), 'disk_middle': defaultdict(<function Robot._push_once.<locals>.<lambda>.<locals>.<lambda> at 0x1166a0730>, {'target_rot_position': 58.437}), 'disk_bottom': defaultdict(<function Robot._push_once.<locals>.<lambda>.<locals>.<lambda> at 0x1166a0400>, {'target_rot_position': 59.017})})\n",
      "defaultdict(<function Robot._push_once.<locals>.<lambda> at 0x1166a0158>, {'disk_top': defaultdict(<function Robot._push_once.<locals>.<lambda>.<locals>.<lambda> at 0x10fed6c80>, {'target_rot_position': 63.224}), 'disk_middle': defaultdict(<function Robot._push_once.<locals>.<lambda>.<locals>.<lambda> at 0x1166a0400>, {'target_rot_position': 57.113}), 'disk_bottom': defaultdict(<function Robot._push_once.<locals>.<lambda>.<locals>.<lambda> at 0x1166a0730>, {'target_rot_position': 59.666})})\n",
      "defaultdict(<function Robot._push_once.<locals>.<lambda> at 0x1166a0598>, {'disk_top': defaultdict(<function Robot._push_once.<locals>.<lambda>.<locals>.<lambda> at 0x10fed6c80>, {'target_rot_position': 63.908}), 'disk_middle': defaultdict(<function Robot._push_once.<locals>.<lambda>.<locals>.<lambda> at 0x1166a0730>, {'target_rot_position': 55.741}), 'disk_bottom': defaultdict(<function Robot._push_once.<locals>.<lambda>.<locals>.<lambda> at 0x1166a0400>, {'target_rot_position': 60.345})})\n",
      "defaultdict(<function Robot._push_once.<locals>.<lambda> at 0x1166a0048>, {'disk_top': defaultdict(<function Robot._push_once.<locals>.<lambda>.<locals>.<lambda> at 0x10fed6c80>, {'target_rot_position': 64.519}), 'disk_middle': defaultdict(<function Robot._push_once.<locals>.<lambda>.<locals>.<lambda> at 0x1166a0400>, {'target_rot_position': 54.42}), 'disk_bottom': defaultdict(<function Robot._push_once.<locals>.<lambda>.<locals>.<lambda> at 0x1166a0730>, {'target_rot_position': 61.035})})\n",
      "defaultdict(<function Robot._push_once.<locals>.<lambda> at 0x1166a0158>, {'disk_top': defaultdict(<function Robot._push_once.<locals>.<lambda>.<locals>.<lambda> at 0x10fed6c80>, {'target_rot_position': 64.986}), 'disk_middle': defaultdict(<function Robot._push_once.<locals>.<lambda>.<locals>.<lambda> at 0x1166a0730>, {'target_rot_position': 53.241}), 'disk_bottom': defaultdict(<function Robot._push_once.<locals>.<lambda>.<locals>.<lambda> at 0x1166a0400>, {'target_rot_position': 61.716})})\n",
      "defaultdict(<function Robot._push_once.<locals>.<lambda> at 0x1166a0598>, {'disk_top': defaultdict(<function Robot._push_once.<locals>.<lambda>.<locals>.<lambda> at 0x10fed6c80>, {'target_rot_position': 65.258}), 'disk_middle': defaultdict(<function Robot._push_once.<locals>.<lambda>.<locals>.<lambda> at 0x1166a0400>, {'target_rot_position': 52.281}), 'disk_bottom': defaultdict(<function Robot._push_once.<locals>.<lambda>.<locals>.<lambda> at 0x1166a0730>, {'target_rot_position': 62.365})})\n",
      "defaultdict(<function Robot._push_once.<locals>.<lambda> at 0x1166a0048>, {'disk_top': defaultdict(<function Robot._push_once.<locals>.<lambda>.<locals>.<lambda> at 0x10fed6c80>, {'target_rot_position': 65.306}), 'disk_middle': defaultdict(<function Robot._push_once.<locals>.<lambda>.<locals>.<lambda> at 0x1166a0730>, {'target_rot_position': 51.601}), 'disk_bottom': defaultdict(<function Robot._push_once.<locals>.<lambda>.<locals>.<lambda> at 0x1166a0400>, {'target_rot_position': 62.961})})\n",
      "defaultdict(<function Robot._push_once.<locals>.<lambda> at 0x1166a0158>, {'disk_top': defaultdict(<function Robot._push_once.<locals>.<lambda>.<locals>.<lambda> at 0x10fed6c80>, {'target_rot_position': 65.117}), 'disk_middle': defaultdict(<function Robot._push_once.<locals>.<lambda>.<locals>.<lambda> at 0x1166a0400>, {'target_rot_position': 51.244}), 'disk_bottom': defaultdict(<function Robot._push_once.<locals>.<lambda>.<locals>.<lambda> at 0x1166a0730>, {'target_rot_position': 63.483})})\n",
      "defaultdict(<function Robot._push_once.<locals>.<lambda> at 0x1166a0598>, {'disk_top': defaultdict(<function Robot._push_once.<locals>.<lambda>.<locals>.<lambda> at 0x10fed6c80>, {'target_rot_position': 64.699}), 'disk_middle': defaultdict(<function Robot._push_once.<locals>.<lambda>.<locals>.<lambda> at 0x1166a0730>, {'target_rot_position': 51.226}), 'disk_bottom': defaultdict(<function Robot._push_once.<locals>.<lambda>.<locals>.<lambda> at 0x1166a0400>, {'target_rot_position': 63.913})})\n",
      "defaultdict(<function Robot._push_once.<locals>.<lambda> at 0x1166a0268>, {'disk_top': defaultdict(<function Robot._push_once.<locals>.<lambda>.<locals>.<lambda> at 0x10fed6c80>, {'target_rot_position': 64.072}), 'disk_middle': defaultdict(<function Robot._push_once.<locals>.<lambda>.<locals>.<lambda> at 0x1166a0400>, {'target_rot_position': 51.543}), 'disk_bottom': defaultdict(<function Robot._push_once.<locals>.<lambda>.<locals>.<lambda> at 0x1166a0730>, {'target_rot_position': 64.24})})\n",
      "defaultdict(<function Robot._push_once.<locals>.<lambda> at 0x1166a02f0>, {'disk_top': defaultdict(<function Robot._push_once.<locals>.<lambda>.<locals>.<lambda> at 0x10fed6c80>, {'target_rot_position': 63.272}), 'disk_middle': defaultdict(<function Robot._push_once.<locals>.<lambda>.<locals>.<lambda> at 0x1166a0730>, {'target_rot_position': 52.162}), 'disk_bottom': defaultdict(<function Robot._push_once.<locals>.<lambda>.<locals>.<lambda> at 0x1166a0400>, {'target_rot_position': 64.452})})\n",
      "defaultdict(<function Robot._push_once.<locals>.<lambda> at 0x1166a0268>, {'disk_top': defaultdict(<function Robot._push_once.<locals>.<lambda>.<locals>.<lambda> at 0x10fed6c80>, {'target_rot_position': 62.35}), 'disk_middle': defaultdict(<function Robot._push_once.<locals>.<lambda>.<locals>.<lambda> at 0x1166a0048>, {'target_rot_position': 53.028}), 'disk_bottom': defaultdict(<function Robot._push_once.<locals>.<lambda>.<locals>.<lambda> at 0x1166a0400>, {'target_rot_position': 64.548})})\n",
      "defaultdict(<function Robot._push_once.<locals>.<lambda> at 0x1166a02f0>, {'disk_top': defaultdict(<function Robot._push_once.<locals>.<lambda>.<locals>.<lambda> at 0x10fed6c80>, {'target_rot_position': 61.374}), 'disk_middle': defaultdict(<function Robot._push_once.<locals>.<lambda>.<locals>.<lambda> at 0x1166a0730>, {'target_rot_position': 54.062}), 'disk_bottom': defaultdict(<function Robot._push_once.<locals>.<lambda>.<locals>.<lambda> at 0x1166a0400>, {'target_rot_position': 64.528})})\n",
      "defaultdict(<function Robot._push_once.<locals>.<lambda> at 0x1166a0268>, {'disk_top': defaultdict(<function Robot._push_once.<locals>.<lambda>.<locals>.<lambda> at 0x10fed6c80>, {'target_rot_position': 60.421}), 'disk_middle': defaultdict(<function Robot._push_once.<locals>.<lambda>.<locals>.<lambda> at 0x1166a0400>, {'target_rot_position': 55.169}), 'disk_bottom': defaultdict(<function Robot._push_once.<locals>.<lambda>.<locals>.<lambda> at 0x1166a0730>, {'target_rot_position': 64.402})})\n",
      "defaultdict(<function Robot._push_once.<locals>.<lambda> at 0x1166a0158>, {'disk_top': defaultdict(<function Robot._push_once.<locals>.<lambda>.<locals>.<lambda> at 0x10fed6c80>, {'target_rot_position': 59.578}), 'disk_middle': defaultdict(<function Robot._push_once.<locals>.<lambda>.<locals>.<lambda> at 0x1166a0048>, {'target_rot_position': 56.245}), 'disk_bottom': defaultdict(<function Robot._push_once.<locals>.<lambda>.<locals>.<lambda> at 0x1166a02f0>, {'target_rot_position': 64.183})})\n",
      "defaultdict(<function Robot._push_once.<locals>.<lambda> at 0x1166a0730>, {'disk_top': defaultdict(<function Robot._push_once.<locals>.<lambda>.<locals>.<lambda> at 0x10fed6c80>, {'target_rot_position': 58.934}), 'disk_middle': defaultdict(<function Robot._push_once.<locals>.<lambda>.<locals>.<lambda> at 0x1166a02f0>, {'target_rot_position': 57.191}), 'disk_bottom': defaultdict(<function Robot._push_once.<locals>.<lambda>.<locals>.<lambda> at 0x1166a0048>, {'target_rot_position': 63.886})})\n",
      "defaultdict(<function Robot._push_once.<locals>.<lambda> at 0x1166a0400>, {'disk_top': defaultdict(<function Robot._push_once.<locals>.<lambda>.<locals>.<lambda> at 0x10fed6c80>, {'target_rot_position': 58.564}), 'disk_middle': defaultdict(<function Robot._push_once.<locals>.<lambda>.<locals>.<lambda> at 0x1166a0048>, {'target_rot_position': 57.922}), 'disk_bottom': defaultdict(<function Robot._push_once.<locals>.<lambda>.<locals>.<lambda> at 0x1166a02f0>, {'target_rot_position': 63.525})})\n",
      "defaultdict(<function Robot._push_once.<locals>.<lambda> at 0x1166a0158>, {'disk_top': defaultdict(<function Robot._push_once.<locals>.<lambda>.<locals>.<lambda> at 0x1166a02f0>, {'target_rot_position': 58.522}), 'disk_middle': defaultdict(<function Robot._push_once.<locals>.<lambda>.<locals>.<lambda> at 0x1166a0048>, {'target_rot_position': 58.377}), 'disk_bottom': defaultdict(<function Robot._push_once.<locals>.<lambda>.<locals>.<lambda> at 0x1166a0400>, {'target_rot_position': 63.108})})\n",
      "defaultdict(<function Robot._push_once.<locals>.<lambda> at 0x10fed6c80>, {'disk_top': defaultdict(<function Robot._push_once.<locals>.<lambda>.<locals>.<lambda> at 0x1166a0400>, {'target_rot_position': 58.834}), 'disk_middle': defaultdict(<function Robot._push_once.<locals>.<lambda>.<locals>.<lambda> at 0x1166a0048>, {'target_rot_position': 58.53}), 'disk_bottom': defaultdict(<function Robot._push_once.<locals>.<lambda>.<locals>.<lambda> at 0x1166a02f0>, {'target_rot_position': 62.64})})\n",
      "defaultdict(<function Robot._push_once.<locals>.<lambda> at 0x1166a0158>, {'disk_top': defaultdict(<function Robot._push_once.<locals>.<lambda>.<locals>.<lambda> at 0x10fed6c80>, {'target_rot_position': 59.49}), 'disk_middle': defaultdict(<function Robot._push_once.<locals>.<lambda>.<locals>.<lambda> at 0x1166a02f0>, {'target_rot_position': 58.388}), 'disk_bottom': defaultdict(<function Robot._push_once.<locals>.<lambda>.<locals>.<lambda> at 0x1166a0048>, {'target_rot_position': 62.124})})\n",
      "defaultdict(<function Robot._push_once.<locals>.<lambda> at 0x1166a0268>, {'disk_top': defaultdict(<function Robot._push_once.<locals>.<lambda>.<locals>.<lambda> at 0x10fed6c80>, {'target_rot_position': 60.447}), 'disk_middle': defaultdict(<function Robot._push_once.<locals>.<lambda>.<locals>.<lambda> at 0x1166a0730>, {'target_rot_position': 57.993}), 'disk_bottom': defaultdict(<function Robot._push_once.<locals>.<lambda>.<locals>.<lambda> at 0x1166a0400>, {'target_rot_position': 61.559})})\n",
      "defaultdict(<function Robot._push_once.<locals>.<lambda> at 0x1166a02f0>, {'disk_top': defaultdict(<function Robot._push_once.<locals>.<lambda>.<locals>.<lambda> at 0x10fed6c80>, {'target_rot_position': 61.635}), 'disk_middle': defaultdict(<function Robot._push_once.<locals>.<lambda>.<locals>.<lambda> at 0x1166a0048>, {'target_rot_position': 57.414}), 'disk_bottom': defaultdict(<function Robot._push_once.<locals>.<lambda>.<locals>.<lambda> at 0x1166a0400>, {'target_rot_position': 60.948})})\n"
     ]
    },
    {
     "name": "stdout",
     "output_type": "stream",
     "text": [
      "defaultdict(<function Robot._push_once.<locals>.<lambda> at 0x1166a0268>, {'disk_top': defaultdict(<function Robot._push_once.<locals>.<lambda>.<locals>.<lambda> at 0x10fed6c80>, {'target_rot_position': 62.964}), 'disk_middle': defaultdict(<function Robot._push_once.<locals>.<lambda>.<locals>.<lambda> at 0x1166a0400>, {'target_rot_position': 56.737}), 'disk_bottom': defaultdict(<function Robot._push_once.<locals>.<lambda>.<locals>.<lambda> at 0x1166a0048>, {'target_rot_position': 60.296})})\n",
      "defaultdict(<function Robot._push_once.<locals>.<lambda> at 0x1166a0730>, {'disk_top': defaultdict(<function Robot._push_once.<locals>.<lambda>.<locals>.<lambda> at 0x10fed6c80>, {'target_rot_position': 64.335}), 'disk_middle': defaultdict(<function Robot._push_once.<locals>.<lambda>.<locals>.<lambda> at 0x1166a0048>, {'target_rot_position': 56.055}), 'disk_bottom': defaultdict(<function Robot._push_once.<locals>.<lambda>.<locals>.<lambda> at 0x1166a0400>, {'target_rot_position': 59.617})})\n",
      "defaultdict(<function Robot._push_once.<locals>.<lambda> at 0x1166a0158>, {'disk_top': defaultdict(<function Robot._push_once.<locals>.<lambda>.<locals>.<lambda> at 0x10fed6c80>, {'target_rot_position': 65.651}), 'disk_middle': defaultdict(<function Robot._push_once.<locals>.<lambda>.<locals>.<lambda> at 0x1166a0400>, {'target_rot_position': 55.45}), 'disk_bottom': defaultdict(<function Robot._push_once.<locals>.<lambda>.<locals>.<lambda> at 0x1166a0048>, {'target_rot_position': 58.926})})\n",
      "defaultdict(<function Robot._push_once.<locals>.<lambda> at 0x1166a0268>, {'disk_top': defaultdict(<function Robot._push_once.<locals>.<lambda>.<locals>.<lambda> at 0x10fed6c80>, {'target_rot_position': 66.82}), 'disk_middle': defaultdict(<function Robot._push_once.<locals>.<lambda>.<locals>.<lambda> at 0x1166a0048>, {'target_rot_position': 54.993}), 'disk_bottom': defaultdict(<function Robot._push_once.<locals>.<lambda>.<locals>.<lambda> at 0x1166a0400>, {'target_rot_position': 58.247})})\n",
      "defaultdict(<function Robot._push_once.<locals>.<lambda> at 0x1166a0730>, {'disk_top': defaultdict(<function Robot._push_once.<locals>.<lambda>.<locals>.<lambda> at 0x10fed6c80>, {'target_rot_position': 67.765}), 'disk_middle': defaultdict(<function Robot._push_once.<locals>.<lambda>.<locals>.<lambda> at 0x1166a0400>, {'target_rot_position': 54.733}), 'disk_bottom': defaultdict(<function Robot._push_once.<locals>.<lambda>.<locals>.<lambda> at 0x1166a0048>, {'target_rot_position': 57.6})})\n",
      "defaultdict(<function Robot._push_once.<locals>.<lambda> at 0x1166a0158>, {'disk_top': defaultdict(<function Robot._push_once.<locals>.<lambda>.<locals>.<lambda> at 0x10fed6c80>, {'target_rot_position': 68.427}), 'disk_middle': defaultdict(<function Robot._push_once.<locals>.<lambda>.<locals>.<lambda> at 0x1166a0048>, {'target_rot_position': 54.698}), 'disk_bottom': defaultdict(<function Robot._push_once.<locals>.<lambda>.<locals>.<lambda> at 0x1166a0400>, {'target_rot_position': 57.008})})\n",
      "defaultdict(<function Robot._push_once.<locals>.<lambda> at 0x1166a0730>, {'disk_top': defaultdict(<function Robot._push_once.<locals>.<lambda>.<locals>.<lambda> at 0x10fed6c80>, {'target_rot_position': 68.766}), 'disk_middle': defaultdict(<function Robot._push_once.<locals>.<lambda>.<locals>.<lambda> at 0x1166a0400>, {'target_rot_position': 54.9}), 'disk_bottom': defaultdict(<function Robot._push_once.<locals>.<lambda>.<locals>.<lambda> at 0x1166a0048>, {'target_rot_position': 56.491})})\n",
      "defaultdict(<function Robot._push_once.<locals>.<lambda> at 0x1166a0268>, {'disk_top': defaultdict(<function Robot._push_once.<locals>.<lambda>.<locals>.<lambda> at 0x10fed6c80>, {'target_rot_position': 68.765}), 'disk_middle': defaultdict(<function Robot._push_once.<locals>.<lambda>.<locals>.<lambda> at 0x1166a0048>, {'target_rot_position': 55.331}), 'disk_bottom': defaultdict(<function Robot._push_once.<locals>.<lambda>.<locals>.<lambda> at 0x1166a0400>, {'target_rot_position': 56.065})})\n",
      "defaultdict(<function Robot._push_once.<locals>.<lambda> at 0x1166a0730>, {'disk_top': defaultdict(<function Robot._push_once.<locals>.<lambda>.<locals>.<lambda> at 0x10fed6c80>, {'target_rot_position': 68.43}), 'disk_middle': defaultdict(<function Robot._push_once.<locals>.<lambda>.<locals>.<lambda> at 0x1166a0158>, {'target_rot_position': 55.969}), 'disk_bottom': defaultdict(<function Robot._push_once.<locals>.<lambda>.<locals>.<lambda> at 0x1166a0400>, {'target_rot_position': 55.745})})\n",
      "defaultdict(<function Robot._push_once.<locals>.<lambda> at 0x1166a02f0>, {'disk_top': defaultdict(<function Robot._push_once.<locals>.<lambda>.<locals>.<lambda> at 0x10fed6c80>, {'target_rot_position': 67.795}), 'disk_middle': defaultdict(<function Robot._push_once.<locals>.<lambda>.<locals>.<lambda> at 0x1166a0268>, {'target_rot_position': 56.777}), 'disk_bottom': defaultdict(<function Robot._push_once.<locals>.<lambda>.<locals>.<lambda> at 0x1166a0048>, {'target_rot_position': 55.539})})\n",
      "defaultdict(<function Robot._push_once.<locals>.<lambda> at 0x1166a0158>, {'disk_top': defaultdict(<function Robot._push_once.<locals>.<lambda>.<locals>.<lambda> at 0x10fed6c80>, {'target_rot_position': 66.918}), 'disk_middle': defaultdict(<function Robot._push_once.<locals>.<lambda>.<locals>.<lambda> at 0x1166a0048>, {'target_rot_position': 57.704}), 'disk_bottom': defaultdict(<function Robot._push_once.<locals>.<lambda>.<locals>.<lambda> at 0x1166a0268>, {'target_rot_position': 55.451})})\n",
      "defaultdict(<function Robot._push_once.<locals>.<lambda> at 0x1166a0400>, {'disk_top': defaultdict(<function Robot._push_once.<locals>.<lambda>.<locals>.<lambda> at 0x10fed6c80>, {'target_rot_position': 65.877}), 'disk_middle': defaultdict(<function Robot._push_once.<locals>.<lambda>.<locals>.<lambda> at 0x1166a0268>, {'target_rot_position': 58.681}), 'disk_bottom': defaultdict(<function Robot._push_once.<locals>.<lambda>.<locals>.<lambda> at 0x1166a0048>, {'target_rot_position': 55.476})})\n",
      "defaultdict(<function Robot._push_once.<locals>.<lambda> at 0x1166a02f0>, {'disk_top': defaultdict(<function Robot._push_once.<locals>.<lambda>.<locals>.<lambda> at 0x10fed6c80>, {'target_rot_position': 64.769}), 'disk_middle': defaultdict(<function Robot._push_once.<locals>.<lambda>.<locals>.<lambda> at 0x1166a0048>, {'target_rot_position': 59.63}), 'disk_bottom': defaultdict(<function Robot._push_once.<locals>.<lambda>.<locals>.<lambda> at 0x1166a0268>, {'target_rot_position': 55.608})})\n",
      "defaultdict(<function Robot._push_once.<locals>.<lambda> at 0x1166a01e0>, {'disk_top': defaultdict(<function Robot._push_once.<locals>.<lambda>.<locals>.<lambda> at 0x10fed6c80>, {'target_rot_position': 63.698}), 'disk_middle': defaultdict(<function Robot._push_once.<locals>.<lambda>.<locals>.<lambda> at 0x1166a0598>, {'target_rot_position': 60.464}), 'disk_bottom': defaultdict(<function Robot._push_once.<locals>.<lambda>.<locals>.<lambda> at 0x1166a0730>, {'target_rot_position': 55.831})})\n",
      "defaultdict(<function Robot._push_once.<locals>.<lambda> at 0x1166a0400>, {'disk_top': defaultdict(<function Robot._push_once.<locals>.<lambda>.<locals>.<lambda> at 0x10fed6c80>, {'target_rot_position': 62.762}), 'disk_middle': defaultdict(<function Robot._push_once.<locals>.<lambda>.<locals>.<lambda> at 0x1166a0730>, {'target_rot_position': 61.094}), 'disk_bottom': defaultdict(<function Robot._push_once.<locals>.<lambda>.<locals>.<lambda> at 0x1166a0598>, {'target_rot_position': 56.132})})\n",
      "defaultdict(<function Robot._push_once.<locals>.<lambda> at 0x1166a01e0>, {'disk_top': defaultdict(<function Robot._push_once.<locals>.<lambda>.<locals>.<lambda> at 0x10fed6c80>, {'target_rot_position': 62.045}), 'disk_middle': defaultdict(<function Robot._push_once.<locals>.<lambda>.<locals>.<lambda> at 0x1166a0598>, {'target_rot_position': 61.448})})\n",
      "defaultdict(<function Robot._push_once.<locals>.<lambda> at 0x1166a0400>, {'disk_bottom': defaultdict(<function Robot._push_once.<locals>.<lambda>.<locals>.<lambda> at 0x10fed6c80>, {'target_rot_position': 56.497})})\n",
      "defaultdict(<function Robot._push_once.<locals>.<lambda> at 0x1166a01e0>, {'disk_top': defaultdict(<function Robot._push_once.<locals>.<lambda>.<locals>.<lambda> at 0x10fed6c80>, {'target_rot_position': 61.606}), 'disk_middle': defaultdict(<function Robot._push_once.<locals>.<lambda>.<locals>.<lambda> at 0x1166a0400>, {'target_rot_position': 61.47}), 'disk_bottom': defaultdict(<function Robot._push_once.<locals>.<lambda>.<locals>.<lambda> at 0x1166a0598>, {'target_rot_position': 56.917})})\n",
      "defaultdict(<function Robot._push_once.<locals>.<lambda> at 0x1166a0268>, {'disk_top': defaultdict(<function Robot._push_once.<locals>.<lambda>.<locals>.<lambda> at 0x10fed6c80>, {'target_rot_position': 61.47}), 'disk_middle': defaultdict(<function Robot._push_once.<locals>.<lambda>.<locals>.<lambda> at 0x1166a0158>, {'target_rot_position': 61.138}), 'disk_bottom': defaultdict(<function Robot._push_once.<locals>.<lambda>.<locals>.<lambda> at 0x1166a0730>, {'target_rot_position': 57.388})})\n",
      "defaultdict(<function Robot._push_once.<locals>.<lambda> at 0x1166a0400>, {'disk_top': defaultdict(<function Robot._push_once.<locals>.<lambda>.<locals>.<lambda> at 0x10fed6c80>, {'target_rot_position': 61.628}), 'disk_middle': defaultdict(<function Robot._push_once.<locals>.<lambda>.<locals>.<lambda> at 0x1166a0730>, {'target_rot_position': 60.464}), 'disk_bottom': defaultdict(<function Robot._push_once.<locals>.<lambda>.<locals>.<lambda> at 0x1166a0158>, {'target_rot_position': 57.907})})\n",
      "defaultdict(<function Robot._push_once.<locals>.<lambda> at 0x1166a0598>, {'disk_top': defaultdict(<function Robot._push_once.<locals>.<lambda>.<locals>.<lambda> at 0x10fed6c80>, {'target_rot_position': 62.036}), 'disk_middle': defaultdict(<function Robot._push_once.<locals>.<lambda>.<locals>.<lambda> at 0x1166a0158>, {'target_rot_position': 59.492}), 'disk_bottom': defaultdict(<function Robot._push_once.<locals>.<lambda>.<locals>.<lambda> at 0x1166a0730>, {'target_rot_position': 58.474})})\n",
      "defaultdict(<function Robot._push_once.<locals>.<lambda> at 0x1166a0400>, {'disk_top': defaultdict(<function Robot._push_once.<locals>.<lambda>.<locals>.<lambda> at 0x10fed6c80>, {'target_rot_position': 62.622}), 'disk_middle': defaultdict(<function Robot._push_once.<locals>.<lambda>.<locals>.<lambda> at 0x1166a0268>, {'target_rot_position': 58.294}), 'disk_bottom': defaultdict(<function Robot._push_once.<locals>.<lambda>.<locals>.<lambda> at 0x1166a0730>, {'target_rot_position': 59.088})})\n",
      "defaultdict(<function Robot._push_once.<locals>.<lambda> at 0x1166a0598>, {'disk_top': defaultdict(<function Robot._push_once.<locals>.<lambda>.<locals>.<lambda> at 0x10fed6c80>, {'target_rot_position': 63.301}), 'disk_middle': defaultdict(<function Robot._push_once.<locals>.<lambda>.<locals>.<lambda> at 0x1166a0730>, {'target_rot_position': 56.96}), 'disk_bottom': defaultdict(<function Robot._push_once.<locals>.<lambda>.<locals>.<lambda> at 0x1166a0268>, {'target_rot_position': 59.741})})\n",
      "defaultdict(<function Robot._push_once.<locals>.<lambda> at 0x1166a0158>, {'disk_top': defaultdict(<function Robot._push_once.<locals>.<lambda>.<locals>.<lambda> at 0x10fed6c80>, {'target_rot_position': 63.982}), 'disk_middle': defaultdict(<function Robot._push_once.<locals>.<lambda>.<locals>.<lambda> at 0x1166a0268>, {'target_rot_position': 55.589}), 'disk_bottom': defaultdict(<function Robot._push_once.<locals>.<lambda>.<locals>.<lambda> at 0x1166a0730>, {'target_rot_position': 60.422})})\n",
      "defaultdict(<function Robot._push_once.<locals>.<lambda> at 0x1166a0400>, {'disk_top': defaultdict(<function Robot._push_once.<locals>.<lambda>.<locals>.<lambda> at 0x10fed6c80>, {'target_rot_position': 64.58}), 'disk_middle': defaultdict(<function Robot._push_once.<locals>.<lambda>.<locals>.<lambda> at 0x1166a0730>, {'target_rot_position': 54.279}), 'disk_bottom': defaultdict(<function Robot._push_once.<locals>.<lambda>.<locals>.<lambda> at 0x1166a0268>, {'target_rot_position': 61.112})})\n"
     ]
    },
    {
     "name": "stdout",
     "output_type": "stream",
     "text": [
      "defaultdict(<function Robot._push_once.<locals>.<lambda> at 0x1166a0598>, {'disk_top': defaultdict(<function Robot._push_once.<locals>.<lambda>.<locals>.<lambda> at 0x10fed6c80>, {'target_rot_position': 65.275}), 'disk_middle': defaultdict(<function Robot._push_once.<locals>.<lambda>.<locals>.<lambda> at 0x1166a0268>, {'target_rot_position': 52.19}), 'disk_bottom': defaultdict(<function Robot._push_once.<locals>.<lambda>.<locals>.<lambda> at 0x1166a0730>, {'target_rot_position': 62.435})})\n",
      "defaultdict(<function Robot._push_once.<locals>.<lambda> at 0x1166a0158>, {'disk_top': defaultdict(<function Robot._push_once.<locals>.<lambda>.<locals>.<lambda> at 0x10fed6c80>, {'target_rot_position': 65.296}), 'disk_middle': defaultdict(<function Robot._push_once.<locals>.<lambda>.<locals>.<lambda> at 0x1166a0730>, {'target_rot_position': 51.545}), 'disk_bottom': defaultdict(<function Robot._push_once.<locals>.<lambda>.<locals>.<lambda> at 0x1166a0268>, {'target_rot_position': 63.023})})\n",
      "defaultdict(<function Robot._push_once.<locals>.<lambda> at 0x1166a0400>, {'disk_top': defaultdict(<function Robot._push_once.<locals>.<lambda>.<locals>.<lambda> at 0x10fed6c80>, {'target_rot_position': 65.082}), 'disk_middle': defaultdict(<function Robot._push_once.<locals>.<lambda>.<locals>.<lambda> at 0x1166a01e0>, {'target_rot_position': 51.225}), 'disk_bottom': defaultdict(<function Robot._push_once.<locals>.<lambda>.<locals>.<lambda> at 0x1166a0598>, {'target_rot_position': 63.536})})\n",
      "defaultdict(<function Robot._push_once.<locals>.<lambda> at 0x1166a0268>, {'disk_top': defaultdict(<function Robot._push_once.<locals>.<lambda>.<locals>.<lambda> at 0x10fed6c80>, {'target_rot_position': 64.638}), 'disk_middle': defaultdict(<function Robot._push_once.<locals>.<lambda>.<locals>.<lambda> at 0x1166a0598>, {'target_rot_position': 51.245}), 'disk_bottom': defaultdict(<function Robot._push_once.<locals>.<lambda>.<locals>.<lambda> at 0x1166a01e0>, {'target_rot_position': 63.955})})\n",
      "defaultdict(<function Robot._push_once.<locals>.<lambda> at 0x1166a0400>, {'disk_top': defaultdict(<function Robot._push_once.<locals>.<lambda>.<locals>.<lambda> at 0x10fed6c80>, {'target_rot_position': 63.99}), 'disk_middle': defaultdict(<function Robot._push_once.<locals>.<lambda>.<locals>.<lambda> at 0x1166a01e0>, {'target_rot_position': 51.598}), 'disk_bottom': defaultdict(<function Robot._push_once.<locals>.<lambda>.<locals>.<lambda> at 0x1166a0598>, {'target_rot_position': 64.269})})\n",
      "defaultdict(<function Robot._push_once.<locals>.<lambda> at 0x1166a0158>, {'disk_top': defaultdict(<function Robot._push_once.<locals>.<lambda>.<locals>.<lambda> at 0x10fed6c80>, {'target_rot_position': 63.173}), 'disk_middle': defaultdict(<function Robot._push_once.<locals>.<lambda>.<locals>.<lambda> at 0x1166a0730>, {'target_rot_position': 52.248}), 'disk_bottom': defaultdict(<function Robot._push_once.<locals>.<lambda>.<locals>.<lambda> at 0x1166a0268>, {'target_rot_position': 64.469})})\n",
      "defaultdict(<function Robot._push_once.<locals>.<lambda> at 0x1166a0598>, {'disk_top': defaultdict(<function Robot._push_once.<locals>.<lambda>.<locals>.<lambda> at 0x10fed6c80>, {'target_rot_position': 62.242}), 'disk_middle': defaultdict(<function Robot._push_once.<locals>.<lambda>.<locals>.<lambda> at 0x1166a01e0>, {'target_rot_position': 53.137}), 'disk_bottom': defaultdict(<function Robot._push_once.<locals>.<lambda>.<locals>.<lambda> at 0x1166a0268>, {'target_rot_position': 64.551})})\n",
      "defaultdict(<function Robot._push_once.<locals>.<lambda> at 0x1166a0158>, {'disk_top': defaultdict(<function Robot._push_once.<locals>.<lambda>.<locals>.<lambda> at 0x10fed6c80>, {'target_rot_position': 61.264}), 'disk_middle': defaultdict(<function Robot._push_once.<locals>.<lambda>.<locals>.<lambda> at 0x1166a0268>, {'target_rot_position': 54.184}), 'disk_bottom': defaultdict(<function Robot._push_once.<locals>.<lambda>.<locals>.<lambda> at 0x1166a01e0>, {'target_rot_position': 64.519})})\n",
      "defaultdict(<function Robot._push_once.<locals>.<lambda> at 0x1166a0598>, {'disk_top': defaultdict(<function Robot._push_once.<locals>.<lambda>.<locals>.<lambda> at 0x10fed6c80>, {'target_rot_position': 60.319}), 'disk_middle': defaultdict(<function Robot._push_once.<locals>.<lambda>.<locals>.<lambda> at 0x1166a0730>, {'target_rot_position': 55.293}), 'disk_bottom': defaultdict(<function Robot._push_once.<locals>.<lambda>.<locals>.<lambda> at 0x1166a01e0>, {'target_rot_position': 64.382})})\n",
      "defaultdict(<function Robot._push_once.<locals>.<lambda> at 0x1166a0158>, {'disk_top': defaultdict(<function Robot._push_once.<locals>.<lambda>.<locals>.<lambda> at 0x10fed6c80>, {'target_rot_position': 59.495}), 'disk_middle': defaultdict(<function Robot._push_once.<locals>.<lambda>.<locals>.<lambda> at 0x1166a01e0>, {'target_rot_position': 56.359}), 'disk_bottom': defaultdict(<function Robot._push_once.<locals>.<lambda>.<locals>.<lambda> at 0x1166a0730>, {'target_rot_position': 64.154})})\n",
      "defaultdict(<function Robot._push_once.<locals>.<lambda> at 0x1166a0268>, {'disk_top': defaultdict(<function Robot._push_once.<locals>.<lambda>.<locals>.<lambda> at 0x10fed6c80>, {'target_rot_position': 58.878}), 'disk_middle': defaultdict(<function Robot._push_once.<locals>.<lambda>.<locals>.<lambda> at 0x1166a0730>, {'target_rot_position': 57.285}), 'disk_bottom': defaultdict(<function Robot._push_once.<locals>.<lambda>.<locals>.<lambda> at 0x1166a01e0>, {'target_rot_position': 63.849})})\n",
      "defaultdict(<function Robot._push_once.<locals>.<lambda> at 0x1166a0598>, {'disk_top': defaultdict(<function Robot._push_once.<locals>.<lambda>.<locals>.<lambda> at 0x10fed6c80>, {'target_rot_position': 58.542}), 'disk_middle': defaultdict(<function Robot._push_once.<locals>.<lambda>.<locals>.<lambda> at 0x1166a01e0>, {'target_rot_position': 57.987}), 'disk_bottom': defaultdict(<function Robot._push_once.<locals>.<lambda>.<locals>.<lambda> at 0x1166a0730>, {'target_rot_position': 63.481})})\n",
      "defaultdict(<function Robot._push_once.<locals>.<lambda> at 0x1166a0268>, {'disk_top': defaultdict(<function Robot._push_once.<locals>.<lambda>.<locals>.<lambda> at 0x10fed6c80>, {'target_rot_position': 58.54}), 'disk_middle': defaultdict(<function Robot._push_once.<locals>.<lambda>.<locals>.<lambda> at 0x1166a0730>, {'target_rot_position': 58.41}), 'disk_bottom': defaultdict(<function Robot._push_once.<locals>.<lambda>.<locals>.<lambda> at 0x1166a01e0>, {'target_rot_position': 63.058})})\n",
      "defaultdict(<function Robot._push_once.<locals>.<lambda> at 0x1166a02f0>, {'disk_top': defaultdict(<function Robot._push_once.<locals>.<lambda>.<locals>.<lambda> at 0x10fed6c80>, {'target_rot_position': 58.891}), 'disk_middle': defaultdict(<function Robot._push_once.<locals>.<lambda>.<locals>.<lambda> at 0x1166a0048>, {'target_rot_position': 58.528}), 'disk_bottom': defaultdict(<function Robot._push_once.<locals>.<lambda>.<locals>.<lambda> at 0x1166a0400>, {'target_rot_position': 62.585})})\n",
      "defaultdict(<function Robot._push_once.<locals>.<lambda> at 0x1166a0598>, {'disk_top': defaultdict(<function Robot._push_once.<locals>.<lambda>.<locals>.<lambda> at 0x10fed6c80>, {'target_rot_position': 59.583}), 'disk_middle': defaultdict(<function Robot._push_once.<locals>.<lambda>.<locals>.<lambda> at 0x1166a0400>, {'target_rot_position': 58.355}), 'disk_bottom': defaultdict(<function Robot._push_once.<locals>.<lambda>.<locals>.<lambda> at 0x1166a0048>, {'target_rot_position': 62.063})})\n",
      "defaultdict(<function Robot._push_once.<locals>.<lambda> at 0x1166a0158>, {'disk_top': defaultdict(<function Robot._push_once.<locals>.<lambda>.<locals>.<lambda> at 0x10fed6c80>, {'target_rot_position': 60.57}), 'disk_middle': defaultdict(<function Robot._push_once.<locals>.<lambda>.<locals>.<lambda> at 0x1166a0048>, {'target_rot_position': 57.935}), 'disk_bottom': defaultdict(<function Robot._push_once.<locals>.<lambda>.<locals>.<lambda> at 0x1166a0400>, {'target_rot_position': 61.493})})\n",
      "defaultdict(<function Robot._push_once.<locals>.<lambda> at 0x1166a02f0>, {'disk_top': defaultdict(<function Robot._push_once.<locals>.<lambda>.<locals>.<lambda> at 0x10fed6c80>, {'target_rot_position': 61.778}), 'disk_middle': defaultdict(<function Robot._push_once.<locals>.<lambda>.<locals>.<lambda> at 0x1166a0400>, {'target_rot_position': 57.341}), 'disk_bottom': defaultdict(<function Robot._push_once.<locals>.<lambda>.<locals>.<lambda> at 0x1166a0048>, {'target_rot_position': 60.876})})\n"
     ]
    },
    {
     "name": "stderr",
     "output_type": "stream",
     "text": [
      "Exception in thread Thread-4:\n",
      "Traceback (most recent call last):\n",
      "  File \"/usr/local/Cellar/python/3.6.5_1/Frameworks/Python.framework/Versions/3.6/lib/python3.6/threading.py\", line 916, in _bootstrap_inner\n",
      "    self.run()\n",
      "  File \"/usr/local/Cellar/python/3.6.5_1/Frameworks/Python.framework/Versions/3.6/lib/python3.6/threading.py\", line 864, in run\n",
      "    self._target(*self._args, **self._kwargs)\n",
      "  File \"/Users/augustin/dev/pyluos/pyluos/io/serial_io.py\", line 89, in _poll\n",
      "    to_read = self._serial.in_waiting\n",
      "  File \"/Users/augustin/.virtualenvs/spherical-joint/lib/python3.6/site-packages/serial/serialposix.py\", line 467, in in_waiting\n",
      "    s = fcntl.ioctl(self.fd, TIOCINQ, TIOCM_zero_str)\n",
      "OSError: [Errno 6] Device not configured\n",
      "\n"
     ]
    }
   ],
   "source": [
    "t=0\n",
    "while t < 2.5:\n",
    "    angle1=0.1*math.sin(30*t)\n",
    "    angle2=0.1*math.sin(15*t)\n",
    "    q11,q12,q13 = a.get_angles_from_vector([0.1+angle1,angle2,1],0)\n",
    "    r.disk_top.target_rot_position = -q11\n",
    "    r.disk_middle.target_rot_position = -q12\n",
    "    r.disk_bottom.target_rot_position = -q13\n",
    "    time.sleep(0.01)\n",
    "    t=t+0.01"
   ]
  },
  {
   "cell_type": "markdown",
   "metadata": {},
   "source": [
    "## Demo 2 : Rotation of the platform / Exorcist"
   ]
  },
  {
   "cell_type": "code",
   "execution_count": 16,
   "metadata": {},
   "outputs": [],
   "source": [
    "q11,q12,q13 = a.get_angles_from_vector([0.3,0,1],0)\n",
    "r.disk_top.target_rot_position = -q11\n",
    "r.disk_middle.target_rot_position = -q12\n",
    "r.disk_bottom.target_rot_position = -q13\n",
    "\n",
    "time.sleep(1)\n",
    "angle = 0\n",
    "for i in range(1800):\n",
    "    angle=i/5\n",
    "    time.sleep(0.001)\n",
    "    q11,q12,q13 = a.get_angles_from_vector([0.3,0,1],angle)\n",
    "    \n",
    "    r.disk_top.target_rot_position = -q11\n",
    "    r.disk_middle.target_rot_position = -q12\n",
    "    r.disk_bottom.target_rot_position = -q13\n",
    "\n",
    "time.sleep(1)\n",
    "q11,q12,q13 = a.get_angles_from_vector([0,0,1],0)\n",
    "r.disk_bottom.target_rot_position = -q11\n",
    "r.disk_middle.target_rot_position = -q12\n",
    "r.disk_top.target_rot_position = -q13"
   ]
  },
  {
   "cell_type": "markdown",
   "metadata": {},
   "source": [
    "WIP : send an array to the target_rot_pos"
   ]
  },
  {
   "cell_type": "code",
   "execution_count": 16,
   "metadata": {},
   "outputs": [],
   "source": [
    "q11,q12,q13 = a.get_angles_from_vector([0.3,0,1],0)\n",
    "r.disk_top.target_rot_position = -q11\n",
    "r.disk_middle.target_rot_position = -q12\n",
    "#r.disk_bottom.target_rot_position = -q13\n",
    "\n",
    "r.disk_top.sampling_freq = 200\n",
    "r.disk_middle.sampling_freq = 200\n",
    "#r.disk_bottom.sampling_freq = 100\n",
    "\n",
    "top_tab = []\n",
    "middle_tab = []\n",
    "#bottom_tab = []\n",
    "\n",
    "time.sleep(1)\n",
    "angle = 0\n",
    "\n",
    "r.disk_top.pause()\n",
    "r.disk_middle.pause()\n",
    "#r.disk_bottom.pause()\n",
    "\n",
    "#r.disk_middle.compliant = True\n",
    "#r.disk_bottom.compliant = True\n",
    "\n",
    "for i in range(180):\n",
    "    angle+=1\n",
    "    q11,q12,q13 = a.get_angles_from_vector([0.3,0,1],angle)\n",
    "    \n",
    "    top_tab.append(-q11)\n",
    "    middle_tab.append(-q12)\n",
    "    #bottom_tab.append(-q13)\n",
    "    \n"
   ]
  },
  {
   "cell_type": "code",
   "execution_count": 17,
   "metadata": {},
   "outputs": [],
   "source": [
    "r.disk_top.target_rot_position = top_tab\n",
    "r.disk_middle.target_rot_position = middle_tab\n",
    "#r.disk_bottom.target_rot_position = np.array(bottom_tab)"
   ]
  },
  {
   "cell_type": "code",
   "execution_count": null,
   "metadata": {},
   "outputs": [],
   "source": [
    "r.disk_top.play()\n",
    "r.disk_middle.play()\n",
    "#r.disk_bottom.play()"
   ]
  },
  {
   "cell_type": "code",
   "execution_count": null,
   "metadata": {},
   "outputs": [],
   "source": [
    "time.sleep(1)\n",
    "q11,q12,q13 = a.get_angles_from_vector([0,0,1],0)\n",
    "#r.disk_bottom.target_rot_position = -q11\n",
    "r.disk_middle.target_rot_position = -q12\n",
    "r.disk_top.target_rot_position = -q13"
   ]
  },
  {
   "cell_type": "markdown",
   "metadata": {},
   "source": [
    "## Demo 3 : Circle"
   ]
  },
  {
   "cell_type": "code",
   "execution_count": 16,
   "metadata": {},
   "outputs": [],
   "source": [
    "Rtest = 4\n",
    "centerTest = 20\n",
    "angle=0\n",
    "t=0\n",
    "a.reset_last_angles()\n",
    "a.reset_offset()\n",
    "\n",
    "while t<3*2*math.pi: #TEST CIRCLE PARAMETRIC EQUATION:\n",
    "    locus = np.array([Rtest*math.cos(t),Rtest*math.sin(t),centerTest])\n",
    "    t=t+math.pi/100\n",
    "    \n",
    "    q11,q12,q13 = a.get_angles_from_vector(locus,angle)\n",
    "    \n",
    "    r.disk_top.target_rot_position = -q11\n",
    "    r.disk_middle.target_rot_position = -q12\n",
    "    r.disk_bottom.target_rot_position = -q13\n",
    "\n",
    "    \n",
    "    time.sleep(0.005)"
   ]
  },
  {
   "cell_type": "markdown",
   "metadata": {},
   "source": [
    "## Demo 4 : Circle and rotation"
   ]
  },
  {
   "cell_type": "code",
   "execution_count": null,
   "metadata": {},
   "outputs": [],
   "source": [
    "Rtest = 4\n",
    "centerTest = 10\n",
    "angle=0\n",
    "t=0\n",
    "\n",
    "a.reset_last_angles()\n",
    "a.reset_offset()\n",
    "\n",
    "while t<2*2*math.pi:\n",
    "    locus = np.array([Rtest*math.cos(t),Rtest*math.sin(t),centerTest])\n",
    "    t=t+math.pi/1000\n",
    "    angle = angle+1\n",
    "    \n",
    "    q11,q12,q13 = a.get_angles_from_vector(locus,angle)\n",
    "    \n",
    "    r.disk_top.target_rot_position = -q11\n",
    "    r.disk_middle.target_rot_position = -q12\n",
    "    r.disk_bottom.target_rot_position = -q13\n",
    "\n",
    "\n",
    "    time.sleep(0.01)"
   ]
  },
  {
   "cell_type": "markdown",
   "metadata": {},
   "source": [
    "## Demo 5 : Record and play moves\n",
    "1) Record and play a pose"
   ]
  },
  {
   "cell_type": "code",
   "execution_count": null,
   "metadata": {},
   "outputs": [],
   "source": [
    "pose = [r.disk_top.rot_position,r.disk_middle.rot_position,r.disk_bottom.rot_position]"
   ]
  },
  {
   "cell_type": "code",
   "execution_count": null,
   "metadata": {},
   "outputs": [],
   "source": [
    "r.disk_top.target_rot_position = pose[0]\n",
    "r.disk_middle.target_rot_position = pose[1]\n",
    "r.disk_bottom.target_rot_position = pose[2]"
   ]
  },
  {
   "cell_type": "markdown",
   "metadata": {},
   "source": [
    "2) Record a move"
   ]
  },
  {
   "cell_type": "code",
   "execution_count": 26,
   "metadata": {},
   "outputs": [
    {
     "name": "stdout",
     "output_type": "stream",
     "text": [
      "\n"
     ]
    }
   ],
   "source": [
    "r.disk_bottom.compliant = True\n",
    "r.disk_middle.compliant = True\n",
    "r.disk_top.compliant = True\n",
    "\n",
    "Input = []\n",
    "T = []\n",
    "t=0\n",
    "top = []\n",
    "middle = []\n",
    "bottom = []\n",
    "\n",
    "def Listener():\n",
    "    global Input\n",
    "    Input = input()\n",
    "    \n",
    "listener = threading.Thread(target=Listener)\n",
    "listener.start()\n",
    "move = []\n",
    "\n",
    "while True:\n",
    "    if type(Input) == type(\"\"):\n",
    "        break\n",
    "    else :\n",
    "        move.append([r.disk_top.rot_position,r.disk_middle.rot_position,r.disk_bottom.rot_position])\n",
    "        t=t+0.005\n",
    "        T.append(t)\n",
    "        top.append(move[-1][0])\n",
    "        middle.append(move[-1][1])\n",
    "        bottom.append(move[-1][2])\n",
    "    time.sleep(0.005)"
   ]
  },
  {
   "cell_type": "markdown",
   "metadata": {},
   "source": [
    "3) Play a move"
   ]
  },
  {
   "cell_type": "code",
   "execution_count": 24,
   "metadata": {},
   "outputs": [
    {
     "data": {
      "text/plain": [
       "[<matplotlib.lines.Line2D at 0x116239400>]"
      ]
     },
     "execution_count": 24,
     "metadata": {},
     "output_type": "execute_result"
    },
    {
     "data": {
      "image/png": "[encoded data removed]",
      "text/plain": [
       "<Figure size 432x288 with 1 Axes>"
      ]
     },
     "metadata": {
      "needs_background": "light"
     },
     "output_type": "display_data"
    }
   ],
   "source": [
    "from matplotlib import pyplot as plt\n",
    "plt.plot(T,top, label = 'top')\n",
    "plt.plot(T,middle, label='middle')\n",
    "plt.plot(T,bottom, label = 'bottom')"
   ]
  },
  {
   "cell_type": "code",
   "execution_count": 27,
   "metadata": {},
   "outputs": [],
   "source": [
    "r.disk_bottom.compliant = False\n",
    "r.disk_middle.compliant = False\n",
    "r.disk_top.compliant = False\n",
    "\n",
    "for i in range(len(move)):\n",
    "    r.disk_top.target_rot_position = move[i][0]\n",
    "    r.disk_middle.target_rot_position = move[i][1]\n",
    "    r.disk_bottom.target_rot_position = move[i][2]\n",
    "    time.sleep(0.005)"
   ]
  },
  {
   "cell_type": "code",
   "execution_count": null,
   "metadata": {},
   "outputs": [],
   "source": []
  }
 ],
 "metadata": {
  "kernelspec": {
   "display_name": "Python 3",
   "language": "python",
   "name": "python3"
  },
  "language_info": {
   "codemirror_mode": {
    "name": "ipython",
    "version": 3
   },
   "file_extension": ".py",
   "mimetype": "text/x-python",
   "name": "python",
   "nbconvert_exporter": "python",
   "pygments_lexer": "ipython3",
   "version": "3.6.5"
  }
 },
 "nbformat": 4,
 "nbformat_minor": 2
}
