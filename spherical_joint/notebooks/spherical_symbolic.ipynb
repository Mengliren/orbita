{
 "cells": [
  {
   "attachments": {},
   "cell_type": "markdown",
   "metadata": {},
   "source": [
    "# Symbolic calculation of q3i and q1i\n",
    "\n",
    "This system is composed of three disks, linked to three arms and a platform in the end. Le goal is to orientate the platform, so the disks do a rotation following a circle called \"proximal circle\". Then, these disks make the arm rotate around the platform's center on a circle called \"distal circle\".\n",
    "\n",
    "<img src=\"screenshot.png\" alt=\"spherical joint\" width=\"600\"/>\n",
    "\n",
    "The angles reached by the arms are called \"q3i\" and those made by disks are called \"q1i\".\n",
    "\n",
    "## Importation of useful librairies\n"
   ]
  },
  {
   "cell_type": "code",
   "execution_count": 4,
   "metadata": {},
   "outputs": [],
   "source": [
    "#Maths operations librairies\n",
    "import numpy as np\n",
    "import quaternion\n",
    "import math\n",
    "from numpy import linalg as LA\n",
    "\n",
    "#Symbolic operations librairies\n",
    "from sympy.solvers import solve\n",
    "from sympy import symbols,cos,sin,sqrt,acos,simplify\n",
    "from sympy.algebras.quaternion import Quaternion"
   ]
  },
  {
   "cell_type": "markdown",
   "metadata": {},
   "source": [
    "## Initial frame R0\n",
    "\n",
    "The initial frame R0 is expressed by the vectors x0, y0 and z0 \n",
    "that are converted to quaternion type"
   ]
  },
  {
   "cell_type": "code",
   "execution_count": 2,
   "metadata": {},
   "outputs": [],
   "source": [
    "x0 = [1, 0, 0]\n",
    "y0 = [0, 1, 0]\n",
    "z0 = [0, 0, 1]\n",
    "\n",
    "x0_quat = Quaternion(0,1,0,0)\n",
    "y0_quat = Quaternion(0,0,1,0)\n",
    "z0_quat = Quaternion(0,0,0,1)"
   ]
  },
  {
   "cell_type": "markdown",
   "metadata": {},
   "source": [
    "## Parameters\n",
    "The angles of the disks depend on several parameters as : <br>\n",
    "- R : radius of the distal circle\n",
    "- Rp : radius of the proximal circle\n",
    "- Pc : pcx, pcy, pcz coordinates of the center of the distal link in 3D space\n",
    "- Cp : cx, cy, cz coordinates of the center of the proximal link <br>\n",
    "\n",
    "The angles of the disks on the proximal circle are expressed as q1 and those on the distal links are expressed as q3.<br>"
   ]
  },
  {
   "cell_type": "code",
   "execution_count": null,
   "metadata": {},
   "outputs": [],
   "source": [
    "pcx,pcy,pcz = symbols('pcx pcy pcz')\n",
    "cx,cy,cz = symbols('cx cy cz')\n",
    "R,Rp = symbols('R Rp')#Radius of the distal and proximal circle\n",
    "\n",
    "\n",
    "\n",
    "Pc = [0,0,pcz]   #Coordinates of the plateform's center\n",
    "C = [0,0,cz]   #Coordinates of the center of the proximal circle\n",
    "\n",
    "q3,q1 = symbols('q3 q1')"
   ]
  },
  {
   "cell_type": "markdown",
   "metadata": {},
   "source": [
    "The vectors of the platform's frame are X, Y and Z and are defined as follows : <br>"
   ]
  },
  {
   "cell_type": "code",
   "execution_count": null,
   "metadata": {},
   "outputs": [],
   "source": [
    "X1,X2,X3,Y1,Y2,Y3,Z1,Z2,Z3 = symbols('X1 X2 X3 Y1 Y2 Y3 Z1 Z2 Z3')\n",
    "\n",
    "X_ = [X1,X2,X3]\n",
    "Y_ = [Y1,Y2,Y3]\n",
    "Z_ = [Z1,Z2,Z3]"
   ]
  },
  {
   "cell_type": "markdown",
   "metadata": {},
   "source": [
    "## Math equations\n",
    "\n",
    "The equation of each distal circle can be expressed with rotation the matrix Rt which describes the rotation with Euler's angles, and the Rz(theta) matrix which corresponds to a rotation of angle theta around the Z axis of the platform:\n",
    "\n",
    "$Xi=Pc+Rcos(q3i)RtRz(theta)Z0+Rsin(q3i)RtRz(theta)X0$ (Eq. 1)\n",
    "\n",
    "The proximal circle also has its own equation:\n",
    "\n",
    "$Xip=Cp+Rpcos(q1i)X0+Rpsin(q1i)Y0$  (Eq. 2)\n",
    "\n",
    "In the equation (Eq. 1), Rt*Rz(theta)*Z0 corresponds to the final Z after rotation, and Rt*Rz(theta)*X0 to the final X axis. These final Z and X axis can be calculated with quaternions instead of rotation matrix.\n",
    "\n",
    "To find the expressions of q3i and q1i, the equation (Eq. 1)=(Eq. 2) must be solved.\n",
    "\n",
    "$Pc+R*cos(q3i)*Zfinal+R*sin(q3i)*Xfinal=Cp+Rp*cos(q1i)*X0+Rp*sin(q1i)*Y0$\n",
    "\n",
    "Since this equation has 3D vectors, a system with 3 equations and 3 unknowns (q3i and q1i) must be solved:\n",
    "\n",
    "$R*cos(q3i)*Z1+R*sin(q3i)*X1=Rp*cos(q1i)$<br>\n",
    "$R*cos(q3i)*Z2+R*sin(q3i)*X2=Rp*sin(q1i)$<br>\n",
    "$Pcz+R*cos(q3i)*Z3+R*sin(q3i)*Z3=Cpz$<br>\n",
    "\n",
    "\n",
    "## Solver\n",
    "\n",
    "Only the third equation must be solved to find q3i.<br>\n",
    "To do so, the scipy librairie is used to solve symbolic equations.<br>\n",
    "\n",
    "First, the system of 3 equations is built."
   ]
  },
  {
   "cell_type": "code",
   "execution_count": null,
   "metadata": {},
   "outputs": [],
   "source": [
    "eq = []\n",
    "\n",
    "for i in range(3):\n",
    "    eq.append(Pc[i]+R*cos(q3)*Z_[i]+R*sin(q3)*X_[i]-(C[i]+Rp*cos(q1)*x0[i]+Rp*sin(q1)*y0[i])) \n",
    "    simplify(eq[i])\n",
    "print(\"eq : \",eq)  #Equation to solve"
   ]
  },
  {
   "cell_type": "markdown",
   "metadata": {},
   "source": [
    "Then, the solutions of the equation are calculated with the scipy function \"solve\" and put into a variable that is converted in a list which can be printed:"
   ]
  },
  {
   "cell_type": "code",
   "execution_count": 6,
   "metadata": {},
   "outputs": [
    {
     "name": "stdout",
     "output_type": "stream",
     "text": [
      "q3 :  [2*atan((R*X3 - sqrt(R**2*X3**2 + R**2*Z3**2 - cz**2 + 2*cz*pcz - pcz**2))/(R*Z3 + cz - pcz)), 2*atan((R*X3 + sqrt(R**2*X3**2 + R**2*Z3**2 - cz**2 + 2*cz*pcz - pcz**2))/(R*Z3 + cz - pcz))]\n"
     ]
    }
   ],
   "source": [
    "A = solve(eq[2],q3)   #Solving the 3rd equation gives the q31 solution\n",
    "A_list = []\n",
    "for i in A:\n",
    "    A_list.append(i)\n",
    "print(\"q3 : \",A_list)"
   ]
  },
  {
   "cell_type": "markdown",
   "metadata": {},
   "source": [
    "## Finding q1i\n",
    "\n",
    "This kind of algorithm can be used to find q1i, but the expression found is much more complicated than it really is. This is why q1i has been calculated by hand :\n",
    "\n",
    "$R*cos(q3i)*Z1+R*sin(q3i)*X1=Rp*cos(q1i)$<br>\n",
    "$R*cos(q3i)*Z2+R*sin(q3i)*X2=Rp*sin(q1i)$<br>\n",
    "\n",
    "So, \n",
    "\n",
    "$R*[cos(q3i)*Z1+sin(q3i)*X1]=Rp*cos(q1i)$<br>\n",
    "$R*[cos(q3i)*Z2+sin(q3i)*X2]=Rp*sin(q1i)$<br>\n",
    "\n",
    "So,\n",
    "\n",
    "$tan(q1i) = \\frac{(cos(q3i)*Z2 + sin(q3i)*X2)}{(cos(q3i)*Z1 + sin(q3i)*X1)}$\n",
    "\n",
    "Finally:\n",
    "\n",
    "$q1i = atan2(cos(q3i)*Z2 + sin(q3i)*X2,cos(q3i)*Z1 + sin(q3i)*X1)$"
   ]
  },
  {
   "cell_type": "markdown",
   "metadata": {},
   "source": [
    "# Useless codes\n",
    "## Find symbolic expression of the new frame X, Y and Z"
   ]
  },
  {
   "cell_type": "code",
   "execution_count": null,
   "metadata": {},
   "outputs": [],
   "source": [
    "### EXPRESSION OF NEW FRAME ###\n",
    "\n",
    "x0 = [1, 0, 0]\n",
    "y0 = [0, 1, 0]\n",
    "z0 = [0, 0, 1]\n",
    "\n",
    "x0_quat = Quaternion(0,1,0,0)\n",
    "y0_quat = Quaternion(0,0,1,0)\n",
    "z0_quat = Quaternion(0,0,0,1)\n",
    "\n",
    "beta,a,b,c = symbols('beta a b c')\n",
    "\n",
    "\n",
    "### GOAL VECTOR (the desired Z axis)###\n",
    "goal = [a,b,c]\n",
    "\n",
    "\n",
    "goal_norm = []\n",
    "for i in goal:\n",
    "    goal_norm.append(i/sqrt(goal[0]**2+goal[1]**2+goal[2]**2)) #Normalized vector of goal\n",
    "    \n",
    "### VECTOR AND ANGLE OF ROTATION ###\n",
    "vector= np.cross(z0,goal_norm)\n",
    "\n",
    "\n",
    "vector_norm = [] #Normalized vector of rotation\n",
    "for i in vector:\n",
    "    vector_norm.append(i/sqrt(vector[0]**2+vector[1]**2+vector[2]**2))\n",
    "print(\"vector = \",vector_norm)\n",
    "alpha = acos(np.vdot(z0,goal_norm)) #Angle of rotation\n",
    "print(\"alpha = \",alpha)\n",
    "\n",
    "if alpha == 0 :\n",
    "    v = [0.0,0.0,1.0]\n",
    "else:\n",
    "    v = [vector_norm[0],vector_norm[1],vector_norm[2]]\n",
    "    \n",
    "### QUATERNION OF ROTATION ###\n",
    "w1 = cos(alpha/2.0)\n",
    "x1 = sin(alpha/2.0)*v[0]\n",
    "y1 = sin(alpha/2.0)*v[1]\n",
    "z1 = sin(alpha/2.0)*v[2]\n",
    "\n",
    "q = Quaternion(w1,x1,y1,z1) #1st rotation quaternion\n",
    "q_inv = Quaternion(w1,-x1,-y1,-z1)\n",
    "\n",
    "z_prime = q.mul(z0_quat.mul(q_inv))\n",
    "\n",
    "w2 = cos(beta/2.0)\n",
    "x2 = sin(beta/2.0)*z_prime.b\n",
    "y2 = sin(beta/2.0)*z_prime.c\n",
    "z2 = sin(beta/2.0)*z_prime.d\n",
    "\n",
    "q2 = Quaternion(w2,x2,y2,z2) #Quaternion of the rotation on new z axis\n",
    "q2_inv = Quaternion(w2,-x2,-y2,-z2)\n",
    "\n",
    "new_z = q2.mul(z_prime.mul(q2_inv)) #Final Z\n",
    "new_x = q2.mul((q.mul(x0_quat.mul(q_inv))).mul(q2_inv)) #Final X\n",
    "new_y = q2.mul((q.mul(y0_quat.mul(q_inv))).mul(q2_inv)) #Final Y\n",
    "\n",
    "X = [simplify(new_x.b), simplify(new_x.c), simplify(new_x.d)]\n",
    "Y = [new_y.b, new_y.c, new_y.d]\n",
    "Z = [new_z.b, new_z.c, new_z.d]\n",
    "\n",
    "print(\"X = \",X)"
   ]
  },
  {
   "cell_type": "markdown",
   "metadata": {},
   "source": [
    "## The two others symbolic equations solving to find q1i "
   ]
  },
  {
   "cell_type": "code",
   "execution_count": 10,
   "metadata": {},
   "outputs": [
    {
     "name": "stdout",
     "output_type": "stream",
     "text": [
      "q1 :  [[-acos(R*(X1*sin(2*atan(R*X3/(R*Z3 + cz - pcz) - sqrt(R**2*X3**2 + R**2*Z3**2 - cz**2 + 2*cz*pcz - pcz**2)/(R*Z3 + cz - pcz))) + Z1*cos(2*atan(R*X3/(R*Z3 + cz - pcz) - sqrt(R**2*X3**2 + R**2*Z3**2 - cz**2 + 2*cz*pcz - pcz**2)/(R*Z3 + cz - pcz))))/Rp) + 2*pi], [acos(R*(X1*sin(2*atan(R*X3/(R*Z3 + cz - pcz) - sqrt(R**2*X3**2 + R**2*Z3**2 - cz**2 + 2*cz*pcz - pcz**2)/(R*Z3 + cz - pcz))) + Z1*cos(2*atan(R*X3/(R*Z3 + cz - pcz) - sqrt(R**2*X3**2 + R**2*Z3**2 - cz**2 + 2*cz*pcz - pcz**2)/(R*Z3 + cz - pcz))))/Rp)]]\n",
      "q1 :  [[-acos(R*(X1*sin(2*atan(R*X3/(R*Z3 + cz - pcz) + sqrt(R**2*X3**2 + R**2*Z3**2 - cz**2 + 2*cz*pcz - pcz**2)/(R*Z3 + cz - pcz))) + Z1*cos(2*atan(R*X3/(R*Z3 + cz - pcz) + sqrt(R**2*X3**2 + R**2*Z3**2 - cz**2 + 2*cz*pcz - pcz**2)/(R*Z3 + cz - pcz))))/Rp) + 2*pi], [acos(R*(X1*sin(2*atan(R*X3/(R*Z3 + cz - pcz) + sqrt(R**2*X3**2 + R**2*Z3**2 - cz**2 + 2*cz*pcz - pcz**2)/(R*Z3 + cz - pcz))) + Z1*cos(2*atan(R*X3/(R*Z3 + cz - pcz) + sqrt(R**2*X3**2 + R**2*Z3**2 - cz**2 + 2*cz*pcz - pcz**2)/(R*Z3 + cz - pcz))))/Rp)]]\n"
     ]
    }
   ],
   "source": [
    "for i in range(2):\n",
    "    eq[i]=(Pc[i]+R*cos(A_list[0])*Z_[i]+R*sin(A_list[0])*X_[i]-(C[i]+Rp*cos(q1)*x0[i]+Rp*sin(q1)*y0[i])) \n",
    "    simplify(eq[i])\n",
    "\n",
    "res = solve([eq[0],eq[1]],q1)\n",
    "res_list1=[]\n",
    "for i in range(len(res)):\n",
    "    res_list1.append([])\n",
    "    for j in res[i]:\n",
    "        res_list1[i].append(j)   #Converts the results in a list\n",
    "print(\"q1 : \",res_list1)\n",
    "\n",
    "for i in range(2):\n",
    "    eq[i]=(Pc[i]+R*cos(A_list[1])*Z_[i]+R*sin(A_list[1])*X_[i]-(C[i]+Rp*cos(q1)*x0[i]+Rp*sin(q1)*y0[i])) \n",
    "    simplify(eq[i])\n",
    "\n",
    "res = solve([eq[0],eq[1]],q1)\n",
    "res_list2=[]\n",
    "for i in range(len(res)):\n",
    "    res_list2.append([])\n",
    "    for j in res[i]:\n",
    "        res_list2[i].append(j)   #Converts the results in a list\n",
    "print(\"q1 : \",res_list2)\n",
    "\n"
   ]
  },
  {
   "cell_type": "code",
   "execution_count": null,
   "metadata": {},
   "outputs": [],
   "source": []
  }
 ],
 "metadata": {
  "kernelspec": {
   "display_name": "Python 3",
   "language": "python",
   "name": "python3"
  },
  "language_info": {
   "codemirror_mode": {
    "name": "ipython",
    "version": 3
   },
   "file_extension": ".py",
   "mimetype": "text/x-python",
   "name": "python",
   "nbconvert_exporter": "python",
   "pygments_lexer": "ipython3",
   "version": "3.6.5"
  }
 },
 "nbformat": 4,
 "nbformat_minor": 2
}
