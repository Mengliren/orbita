{
 "cells": [
  {
   "cell_type": "markdown",
   "metadata": {},
   "source": [
    "# Examples of using the spherical_joint library\n",
    "\n",
    "## Importation of useful libraries"
   ]
  },
  {
   "cell_type": "code",
   "execution_count": 1,
   "metadata": {},
   "outputs": [
    {
     "name": "stderr",
     "output_type": "stream",
     "text": [
      "/Users/augustin/.virtualenvs/spherical-joint/lib/python3.6/site-packages/quaternion/numba_wrapper.py:20: UserWarning: \n",
      "\n",
      "!!!!!!!!!!!!!!!!!!!!!!!!!!!!!!!!!!!!!!!!!!!!!!!!!!!!!\n",
      "Could not import from numba, which means that some\n",
      "parts of this code may run MUCH more slowly.  You\n",
      "may wish to install numba.\n",
      "!!!!!!!!!!!!!!!!!!!!!!!!!!!!!!!!!!!!!!!!!!!!!!!!!!!!!\n",
      "\n",
      "  warnings.warn(warning_text)\n"
     ]
    }
   ],
   "source": [
    "from pyluos import Robot\n",
    "from spherical_joint import Actuator\n",
    "import time\n",
    "import math\n",
    "import numpy as np"
   ]
  },
  {
   "cell_type": "markdown",
   "metadata": {},
   "source": [
    "## Parameters of the actuator\n",
    "To create the actuator, the Actuator from spherical_joint library and robot from pyluos objects are used.<br>\n",
    "Then, some parameters are set : <br>\n",
    "- Encoder resolution\n",
    "- Initial position of the motors\n",
    "- Reduction ratio between the motors and the disks\n",
    "- Size of the disks\n",
    "- PID parameters (found with the Motor_PID.ipynb notebook)\n",
    "- Activation of the position controller"
   ]
  },
  {
   "cell_type": "code",
   "execution_count": 2,
   "metadata": {},
   "outputs": [
    {
     "name": "stdout",
     "output_type": "stream",
     "text": [
      "Connected to \"/dev/cu.usbserial-DN05NM0L\".\n",
      "Sending detection signal.\n",
      "Waiting for route table...\n",
      "Robot setup.\n"
     ]
    }
   ],
   "source": [
    "a = Actuator()\n",
    "\n",
    "r = Robot('/dev/cu.usbserial-DN05NM0L')\n",
    "r.gate.delay=10\n",
    "r.disk_bottom.rot_position=False\n",
    "r.disk_middle.rot_position=False\n",
    "r.disk_top.rot_position=False\n",
    "\n",
    "###########Setup############\n",
    "\n",
    "r.disk_bottom.encoder_res = 5\n",
    "r.disk_middle.encoder_res = 5\n",
    "r.disk_top.encoder_res = 5\n",
    "\n",
    "\n",
    "r.disk_bottom.setToZero()\n",
    "r.disk_middle.setToZero()\n",
    "r.disk_top.setToZero()\n",
    "\n",
    "\n",
    "r.disk_bottom.reduction = 232\n",
    "r.disk_middle.reduction = 232\n",
    "r.disk_top.reduction = 232\n",
    "\n",
    "\n",
    "r.disk_bottom.wheel_size = 60.0\n",
    "r.disk_middle.wheel_size = 60.0\n",
    "r.disk_top.wheel_size = 60\n",
    "\n",
    "\n",
    "r.disk_bottom.positionPid = [9,0.02,100]\n",
    "r.disk_middle.positionPid = [9,0.02,100]\n",
    "r.disk_top.positionPid = [9,0.02,100]\n",
    "\n",
    "\n",
    "r.disk_bottom.rot_position_mode(True)\n",
    "r.disk_middle.rot_position_mode(True)\n",
    "r.disk_top.rot_position_mode(True)"
   ]
  },
  {
   "cell_type": "markdown",
   "metadata": {},
   "source": [
    "## Set the motors compliant or not\n",
    "The motors must not be compliant in order to make them rotate\n",
    "so this parameter must be False."
   ]
  },
  {
   "cell_type": "code",
   "execution_count": 3,
   "metadata": {},
   "outputs": [],
   "source": [
    "r.disk_bottom.compliant = True\n",
    "r.disk_middle.compliant = True\n",
    "r.disk_top.compliant = True"
   ]
  },
  {
   "cell_type": "code",
   "execution_count": 4,
   "metadata": {},
   "outputs": [],
   "source": [
    "r.disk_bottom.compliant = False\n",
    "r.disk_middle.compliant = False\n",
    "r.disk_top.compliant = False"
   ]
  },
  {
   "cell_type": "markdown",
   "metadata": {},
   "source": [
    "## Make the motors go back to zero position\n",
    "Using this cell allows the motors to go back to their initial position when they have been used."
   ]
  },
  {
   "cell_type": "code",
   "execution_count": 6,
   "metadata": {},
   "outputs": [],
   "source": [
    "r.disk_bottom.target_rot_position = 0\n",
    "r.disk_middle.target_rot_position = 0\n",
    "r.disk_top.target_rot_position = 0"
   ]
  },
  {
   "cell_type": "markdown",
   "metadata": {},
   "source": [
    "## Demo 1 : Input a vector and an angle\n",
    "The platform is oriented according to a vector and rotate on its own Z axis at the same time."
   ]
  },
  {
   "cell_type": "code",
   "execution_count": 7,
   "metadata": {},
   "outputs": [],
   "source": [
    "q11,q12,q13 = a.get_angles_from_vector([0,0.7,1],0)\n",
    "r.disk_top.target_rot_position = q11\n",
    "r.disk_middle.target_rot_position = q12\n",
    "r.disk_bottom.target_rot_position = q13\n",
    "\n",
    "time.sleep(1)\n",
    "angle = 0\n",
    "for i in range(720):\n",
    "    angle=i\n",
    "    time.sleep(0.01)\n",
    "    q11,q12,q13 = a.get_angles_from_vector([0,0.7,1],angle)\n",
    "\n",
    "    r.disk_top.target_rot_position = q11\n",
    "    r.disk_middle.target_rot_position = q12\n",
    "    r.disk_bottom.target_rot_position = q13\n",
    "\n",
    "time.sleep(1)\n",
    "r.disk_bottom.target_rot_position = 0\n",
    "r.disk_middle.target_rot_position = 0\n",
    "r.disk_top.target_rot_position = 0"
   ]
  },
  {
   "cell_type": "markdown",
   "metadata": {},
   "source": [
    "## Demo 2 : Control the actuator with an IMU\n",
    "An IMU is stuck on another version of the actuator without motors. The actuator imitates the moves of the IMU"
   ]
  },
  {
   "cell_type": "code",
   "execution_count": null,
   "metadata": {},
   "outputs": [],
   "source": [
    "a.reset_last_angles()\n",
    "a.reset_offset()\n",
    "while(True):\n",
    "    imu_quat = r.Imu_mod.quaternion\n",
    "    q11,q12,q13 = a.get_angles_from_quaternion(imu_quat[0],imu_quat[1],imu_quat[2],imu_quat[3])\n",
    "    r.disk_top.target_rot_position = q11\n",
    "    r.disk_middle.target_rot_position = q12\n",
    "    r.disk_bottom.target_rot_position = q13\n",
    "\n",
    "    time.sleep(0.01)"
   ]
  },
  {
   "cell_type": "markdown",
   "metadata": {},
   "source": [
    "## Demo 3 : Circle drawing\n",
    "The actuator is drawing a circle trajectory in the air."
   ]
  },
  {
   "cell_type": "code",
   "execution_count": 5,
   "metadata": {},
   "outputs": [],
   "source": [
    "Rtest = 4\n",
    "centerTest = 10\n",
    "angle=0\n",
    "t=0\n",
    "a.reset_last_angles()\n",
    "a.reset_offset()\n",
    "\n",
    "while t<2*2*math.pi: #TEST CIRCLE PARAMETRIC EQUATION:\n",
    "    locus = np.array([Rtest*math.cos(t),Rtest*math.sin(t),centerTest])\n",
    "    t=t+math.pi/100\n",
    "    angle = angle\n",
    "    \n",
    "    q11,q12,q13 = a.get_angles_from_vector(locus,angle)\n",
    "    \n",
    "    r.disk_top.target_rot_position = q11\n",
    "    r.disk_middle.target_rot_position = q12\n",
    "    r.disk_bottom.target_rot_position = q13\n",
    "\n",
    "    \n",
    "    time.sleep(0.01)"
   ]
  },
  {
   "cell_type": "markdown",
   "metadata": {},
   "source": [
    "## Demo 4 : Circle drawing and rotation\n",
    "The actuator draws a circle trajectory in the air and rotates on its own Z axis at the same time."
   ]
  },
  {
   "cell_type": "code",
   "execution_count": 7,
   "metadata": {},
   "outputs": [],
   "source": [
    "Rtest = 4\n",
    "centerTest = 10\n",
    "angle=0\n",
    "t=0\n",
    "\n",
    "a.reset_last_angles()\n",
    "a.reset_offset()\n",
    "\n",
    "while t<2*2*math.pi:\n",
    "    locus = np.array([Rtest*math.cos(t),Rtest*math.sin(t),centerTest])\n",
    "    t=t+math.pi/1000\n",
    "    angle = angle+1\n",
    "    \n",
    "    q11,q12,q13 = a.get_angles_from_vector(locus,angle)\n",
    "    \n",
    "    r.disk_top.target_rot_position = q11\n",
    "    r.disk_middle.target_rot_position = q12\n",
    "    r.disk_bottom.target_rot_position = q13\n",
    "\n",
    "\n",
    "    time.sleep(0.01)"
   ]
  },
  {
   "cell_type": "markdown",
   "metadata": {},
   "source": [
    "## Demo 5 : Keep the platform horizontal\n",
    "The plaform's rotations is described by the opposite of the quaternion provided by an IMU stuck on it, so it stays horizontal. Oscillation can be observed."
   ]
  },
  {
   "cell_type": "code",
   "execution_count": null,
   "metadata": {},
   "outputs": [],
   "source": [
    "a.reset_last_angles()\n",
    "a.reset_offset()\n",
    "while(True):\n",
    "    imu_quat = r.Imu_mod.quaternion\n",
    "    for i in range (1,4):\n",
    "        imu_quat[i]=-imu_quat[i]\n",
    "    q11,q12,q13 = a.get_angles_from_quaternion(imu_quat[0],imu_quat[1],imu_quat[2],imu_quat[3])\n",
    "    r.disk_top.target_rot_position = q11\n",
    "    r.disk_middle.target_rot_position = q12\n",
    "    r.disk_bottom.target_rot_position = q13\n",
    "\n",
    "    time.sleep(0.02)"
   ]
  },
  {
   "cell_type": "markdown",
   "metadata": {},
   "source": [
    "## Demo  6 : Keep the platform horizontal without oscillation\n",
    "The oscillation is deleted but the platform is not perfectly horizontal."
   ]
  },
  {
   "cell_type": "code",
   "execution_count": null,
   "metadata": {},
   "outputs": [],
   "source": [
    "a.reset_last_angles()\n",
    "a.reset_offset()\n",
    "quat_prec = r.Imu_mod.quaternion\n",
    "for i in range(1,4):\n",
    "    quat_prec[i]=-quat_prec[i]\n",
    "quat_final = [0,0,0,0]\n",
    "while(True):\n",
    "    imu_quat = r.Imu_mod.quaternion\n",
    "    for i in range (1,4):\n",
    "        quat_final[i]=(4*quat_prec[i]-imu_quat[i])/5\n",
    "    quat_final[0]=math.sqrt(1-(quat_final[1]**2+quat_final[2]**2+quat_final[3]**2))\n",
    "    quat_prec=quat_final\n",
    "    q11,q12,q13 = a.get_angles_from_quaternion(quat_final[0],quat_final[1],quat_final[2],quat_final[3])\n",
    "    r.disk_top.target_rot_position = q11\n",
    "    r.disk_middle.target_rot_position = q12\n",
    "    r.disk_bottom.target_rot_position = q13\n",
    "\n",
    "    time.sleep(0.01)"
   ]
  }
 ],
 "metadata": {
  "kernelspec": {
   "display_name": "Python 3",
   "language": "python",
   "name": "python3"
  },
  "language_info": {
   "codemirror_mode": {
    "name": "ipython",
    "version": 3
   },
   "file_extension": ".py",
   "mimetype": "text/x-python",
   "name": "python",
   "nbconvert_exporter": "python",
   "pygments_lexer": "ipython3",
   "version": "3.6.5"
  }
 },
 "nbformat": 4,
 "nbformat_minor": 2
}
