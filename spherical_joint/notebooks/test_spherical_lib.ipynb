{
 "cells": [
  {
   "cell_type": "code",
   "execution_count": 1,
   "metadata": {},
   "outputs": [
    {
     "name": "stderr",
     "output_type": "stream",
     "text": [
      "/Users/augustin/.virtualenvs/spherical-joint/lib/python3.6/site-packages/quaternion/numba_wrapper.py:20: UserWarning: \n",
      "\n",
      "!!!!!!!!!!!!!!!!!!!!!!!!!!!!!!!!!!!!!!!!!!!!!!!!!!!!!\n",
      "Could not import from numba, which means that some\n",
      "parts of this code may run MUCH more slowly.  You\n",
      "may wish to install numba.\n",
      "!!!!!!!!!!!!!!!!!!!!!!!!!!!!!!!!!!!!!!!!!!!!!!!!!!!!!\n",
      "\n",
      "  warnings.warn(warning_text)\n"
     ]
    }
   ],
   "source": [
    "from pyluos import Robot\n",
    "from spherical_joint import Actuator\n",
    "import time"
   ]
  },
  {
   "cell_type": "code",
   "execution_count": 2,
   "metadata": {},
   "outputs": [
    {
     "name": "stdout",
     "output_type": "stream",
     "text": [
      "Connected to \"/dev/cu.usbserial-DN05NM0L\".\n",
      "Sending detection signal.\n",
      "Waiting for route table...\n",
      "Robot setup.\n"
     ]
    }
   ],
   "source": [
    "a = Actuator()\n",
    "\n",
    "r = Robot('/dev/cu.usbserial-DN05NM0L')\n",
    "r.gate.delay=10\n",
    "r.disk_bottom.rot_position=False\n",
    "r.disk_middle.rot_position=False\n",
    "r.disk_top.rot_position=False\n",
    "\n",
    "###########Setup############\n",
    "\n",
    "r.disk_bottom.encoder_res = 5\n",
    "r.disk_middle.encoder_res = 5\n",
    "r.disk_top.encoder_res = 5\n",
    "\n",
    "\n",
    "r.disk_bottom.setToZero()\n",
    "r.disk_middle.setToZero()\n",
    "r.disk_top.setToZero()\n",
    "\n",
    "\n",
    "r.disk_bottom.reduction = 232\n",
    "r.disk_middle.reduction = 232\n",
    "r.disk_top.reduction = 232\n",
    "\n",
    "\n",
    "r.disk_bottom.wheel_size = 60.0\n",
    "r.disk_middle.wheel_size = 60.0\n",
    "r.disk_top.wheel_size = 60\n",
    "\n",
    "\n",
    "r.disk_bottom.positionPid = [9,0.02,100]\n",
    "r.disk_middle.positionPid = [9,0.02,100]\n",
    "r.disk_top.positionPid = [9,0.02,100]\n",
    "\n",
    "\n",
    "r.disk_bottom.rot_position_mode(True)\n",
    "r.disk_middle.rot_position_mode(True)\n",
    "r.disk_top.rot_position_mode(True)"
   ]
  },
  {
   "cell_type": "code",
   "execution_count": 3,
   "metadata": {},
   "outputs": [],
   "source": [
    "r.disk_bottom.compliant = True\n",
    "r.disk_middle.compliant = True\n",
    "r.disk_top.compliant = True"
   ]
  },
  {
   "cell_type": "code",
   "execution_count": 4,
   "metadata": {},
   "outputs": [],
   "source": [
    "r.disk_bottom.compliant = False\n",
    "r.disk_middle.compliant = False\n",
    "r.disk_top.compliant = False"
   ]
  },
  {
   "cell_type": "code",
   "execution_count": 5,
   "metadata": {},
   "outputs": [],
   "source": [
    "##### Remise à zéro #####\n",
    "r.disk_bottom.target_rot_position = 0\n",
    "r.disk_middle.target_rot_position = 0\n",
    "r.disk_top.target_rot_position = 0"
   ]
  },
  {
   "cell_type": "code",
   "execution_count": 6,
   "metadata": {},
   "outputs": [],
   "source": [
    "##### Test indiquer vecteur ##### \n",
    "q11,q12,q13 = a.from_vector_get_angles([0,0.7,1],0)\n",
    "r.disk_top.target_rot_position = q11\n",
    "r.disk_middle.target_rot_position = q12\n",
    "r.disk_bottom.target_rot_position = q13\n",
    "\n",
    "time.sleep(1)\n",
    "angle = 0\n",
    "for i in range(360):\n",
    "    angle=i\n",
    "    time.sleep(0.01)\n",
    "    q11,q12,q13 = a.from_vector_get_angles([0,0.7,1],angle)\n",
    "\n",
    "    r.disk_top.target_rot_position = q11\n",
    "    r.disk_middle.target_rot_position = q12\n",
    "    r.disk_bottom.target_rot_position = q13\n",
    "\n",
    "time.sleep(1)\n",
    "r.disk_bottom.target_rot_position = 0\n",
    "r.disk_middle.target_rot_position = 0\n",
    "r.disk_top.target_rot_position = 0"
   ]
  },
  {
   "cell_type": "code",
   "execution_count": null,
   "metadata": {},
   "outputs": [],
   "source": [
    "a.reset_last_angles()\n",
    "while(True):\n",
    "    imu_quat = r.Imu_mod.quaternion\n",
    "    q11,q12,q13 = a.from_quaternion_get_angles(imu_quat)\n",
    "    r.disk_top.target_rot_position = q11\n",
    "    r.disk_middle.target_rot_position = q12\n",
    "    r.disk_bottom.target_rot_position = q13\n",
    "\n",
    "    time.sleep(0.01)"
   ]
  }
 ],
 "metadata": {
  "kernelspec": {
   "display_name": "Python 3",
   "language": "python",
   "name": "python3"
  },
  "language_info": {
   "codemirror_mode": {
    "name": "ipython",
    "version": 3
   },
   "file_extension": ".py",
   "mimetype": "text/x-python",
   "name": "python",
   "nbconvert_exporter": "python",
   "pygments_lexer": "ipython3",
   "version": "3.6.5"
  }
 },
 "nbformat": 4,
 "nbformat_minor": 2
}
