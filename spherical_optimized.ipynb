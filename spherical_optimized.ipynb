{
 "cells": [
  {
   "cell_type": "code",
   "execution_count": 1,
   "metadata": {},
   "outputs": [
    {
     "name": "stderr",
     "output_type": "stream",
     "text": [
      "/Users/augustin/.virtualenvs/spherical-joint/lib/python3.6/site-packages/quaternion/numba_wrapper.py:20: UserWarning: \n",
      "\n",
      "!!!!!!!!!!!!!!!!!!!!!!!!!!!!!!!!!!!!!!!!!!!!!!!!!!!!!\n",
      "Could not import from numba, which means that some\n",
      "parts of this code may run MUCH more slowly.  You\n",
      "may wish to install numba.\n",
      "!!!!!!!!!!!!!!!!!!!!!!!!!!!!!!!!!!!!!!!!!!!!!!!!!!!!!\n",
      "\n",
      "  warnings.warn(warning_text)\n"
     ]
    }
   ],
   "source": [
    "import numpy as np\n",
    "import quaternion\n",
    "import math\n",
    "from numpy import linalg as LA\n",
    "from math import *\n",
    "from pyluos import Robot\n",
    "import time\n",
    "\n",
    "x0 = [1, 0, 0]\n",
    "y0 = [0, 1, 0]\n",
    "z0 = [0, 0, 1]\n",
    "\n",
    "x0_quat = quaternion.quaternion(0,1,0,0)\n",
    "y0_quat = quaternion.quaternion(0,0,1,0)\n",
    "z0_quat = quaternion.quaternion(0,0,0,1)\n",
    "\n",
    "Pc = [0,0,89.40]   #Coordinates of the plateform's center\n",
    "C = [0,0,64.227]   #Coordinates of the center of the proximal circle\n",
    "R = 39.162   #Radius of the distal circle\n",
    "Rp = R*cos(40.0*pi/180)   #Radius of the proximal center"
   ]
  },
  {
   "cell_type": "code",
   "execution_count": 2,
   "metadata": {},
   "outputs": [],
   "source": [
    "def get_new_frame(vect,angle=0):\n",
    "\n",
    "    beta = angle*math.pi/180\n",
    "\n",
    "\n",
    "    ### GOAL VECTOR (the desired Z axis)###\n",
    "    goal = vect\n",
    "\n",
    "\n",
    "    goal_norm = []\n",
    "    for i in goal:\n",
    "        goal_norm.append(i/LA.norm(goal)) #Normalized vector of goal\n",
    "\n",
    "    ### VECTOR AND ANGLE OF ROTATION ###\n",
    "    vector= np.cross(z0,goal_norm)\n",
    "\n",
    "    vector_norm = [] #Normalized vector of rotation\n",
    "    for i in vector:\n",
    "        vector_norm.append(i/LA.norm(vector))\n",
    "\n",
    "    alpha = math.acos(np.vdot(z0,goal_norm)) #Angle of rotation\n",
    "\n",
    "    if alpha == 0 :\n",
    "        v = quaternion.quaternion(0.0,0.0,0.0,1.0)\n",
    "\n",
    "    else :  \n",
    "        v = quaternion.quaternion(0.0,vector_norm[0],vector_norm[1],vector_norm[2]) #Vector of rotation as a quaternion\n",
    "\n",
    "\n",
    "\n",
    "\n",
    "\n",
    "    ### QUATERNION OF ROTATION ###\n",
    "    w1 = math.cos(alpha/2.0)\n",
    "    x1 = math.sin(alpha/2.0)*v.x\n",
    "    y1 = math.sin(alpha/2.0)*v.y\n",
    "    z1 = math.sin(alpha/2.0)*v.z\n",
    "\n",
    "    q1 = quaternion.quaternion(w1,x1,y1,z1) #1st rotation quaternion\n",
    "    q1_inv = q1.inverse()\n",
    "\n",
    "    z_prime = q1*z0_quat*q1_inv\n",
    "\n",
    "    w2 = math.cos(beta/2.0)\n",
    "    x2 = math.sin(beta/2.0)*z_prime.x\n",
    "    y2 = math.sin(beta/2.0)*z_prime.y\n",
    "    z2 = math.sin(beta/2.0)*z_prime.z\n",
    "\n",
    "    q2 = quaternion.quaternion(w2,x2,y2,z2) #Quaternion of the rotation on new z axis\n",
    "    q2_inv = q2.inverse()\n",
    "\n",
    "    new_z = q2*z_prime*q2_inv #Final Z\n",
    "    new_x = q2*(q1*x0_quat*q1_inv)*q2_inv #Final X\n",
    "    new_y = q2*(q1*y0_quat*q1_inv)*q2_inv #Final Y\n",
    "\n",
    "    X = [new_x.x, new_x.y, new_x.z]\n",
    "    Y = [new_y.x, new_y.y, new_y.z]\n",
    "    Z = [new_z.x, new_z.y, new_z.z]\n",
    "\n",
    "    return X,Y,Z"
   ]
  },
  {
   "cell_type": "code",
   "execution_count": 3,
   "metadata": {},
   "outputs": [],
   "source": [
    "def Q_angles(goal,beta=0):\n",
    "    ### Find q31 and q11 ###\n",
    "    X,Y,Z = get_new_frame(goal,beta)\n",
    "    q31_ = [2*atan((R*X[2] - sqrt(R**2*X[2]**2 + R**2*Z[2]**2 - C[2]**2 + 2*C[2]*Pc[2] - Pc[2]**2))/(R*Z[2] + C[2] - Pc[2])), 2*atan((R*X[2] + sqrt(R**2*X[2]**2 + R**2*Z[2]**2 - C[2]**2 + 2*C[2]*Pc[2] - Pc[2]**2))/(R*Z[2] + C[2] - Pc[2]))]\n",
    "\n",
    "    if 0<=q31_[0]<=180:\n",
    "        q31 = q31_[0]\n",
    "    else :\n",
    "        q31= q31_[1]\n",
    "    q11 = atan((Z[1]*cos(q31)+X[1]*sin(q31))/(Z[0]*cos(q31)+X[0]*sin(q31)))\n",
    "\n",
    "    ### Find q32 and q12 ###\n",
    "    X,Y,Z = get_new_frame(goal,beta+120)\n",
    "    q32_ = [2*atan((R*X[2] - sqrt(R**2*X[2]**2 + R**2*Z[2]**2 - C[2]**2 + 2*C[2]*Pc[2] - Pc[2]**2))/(R*Z[2] + C[2] - Pc[2])), 2*atan((R*X[2] + sqrt(R**2*X[2]**2 + R**2*Z[2]**2 - C[2]**2 + 2*C[2]*Pc[2] - Pc[2]**2))/(R*Z[2] + C[2] - Pc[2]))]\n",
    "\n",
    "    if 0<=q32_[0]<=180:\n",
    "        q32 = q32_[0]\n",
    "    else :\n",
    "        q32= q32_[1]\n",
    "    q12 = atan2((Z[1]*cos(q32)+X[1]*sin(q32)),(Z[0]*cos(q32)+X[0]*sin(q32)))\n",
    "    \n",
    "    ### Find q33 and q13 ###\n",
    "    X,Y,Z = get_new_frame(goal,beta-120)\n",
    "    q33_ = [2*atan((R*X[2] - sqrt(R**2*X[2]**2 + R**2*Z[2]**2 - C[2]**2 + 2*C[2]*Pc[2] - Pc[2]**2))/(R*Z[2] + C[2] - Pc[2])), 2*atan((R*X[2] + sqrt(R**2*X[2]**2 + R**2*Z[2]**2 - C[2]**2 + 2*C[2]*Pc[2] - Pc[2]**2))/(R*Z[2] + C[2] - Pc[2]))]\n",
    "\n",
    "    if 0<=q33_[0]<=180:\n",
    "        q33 = q33_[0]\n",
    "    else :\n",
    "        q33= q33_[1]\n",
    "    q13 = atan2((Z[1]*cos(q33)+X[1]*sin(q33)),(Z[0]*cos(q33)+X[0]*sin(q33)))\n",
    "    \n",
    "    return [q11*180/pi,(q12*180/pi)-120,(q13*180/pi)+120]\n",
    "\n",
    "\n"
   ]
  },
  {
   "cell_type": "code",
   "execution_count": 4,
   "metadata": {},
   "outputs": [],
   "source": [
    "r = Robot('/dev/cu.usbserial-DN05NM0L')\n",
    "\n",
    "\n",
    "###########Setup############\n",
    "\n",
    "r.disk_bottom.encoder_res = 5\n",
    "r.disk_middle.encoder_res = 5\n",
    "r.disk_top.encoder_res = 5\n",
    "\n",
    "\n",
    "r.disk_bottom.setToZero()\n",
    "r.disk_middle.setToZero()\n",
    "r.disk_top.setToZero()\n",
    "\n",
    "\n",
    "r.disk_bottom.reduction = 232\n",
    "r.disk_middle.reduction = 232\n",
    "r.disk_top.reduction = 232\n",
    "\n",
    "\n",
    "r.disk_bottom.wheel_size = 60.0\n",
    "r.disk_middle.wheel_size = 60.0\n",
    "r.disk_top.wheel_size = 60\n",
    "\n",
    "\n",
    "r.disk_bottom.positionPid = [9,0.02,100]\n",
    "r.disk_middle.positionPid = [9,0.02,100]\n",
    "r.disk_top.positionPid = [9,0.02,100]\n",
    "\n",
    "\n",
    "r.disk_bottom.rot_position_mode(True)\n",
    "r.disk_middle.rot_position_mode(True)\n",
    "r.disk_top.rot_position_mode(True)"
   ]
  },
  {
   "cell_type": "code",
   "execution_count": 5,
   "metadata": {},
   "outputs": [],
   "source": [
    "r.disk_bottom.compliant = True\n",
    "r.disk_middle.compliant = True\n",
    "r.disk_top.compliant = True"
   ]
  },
  {
   "cell_type": "code",
   "execution_count": 6,
   "metadata": {},
   "outputs": [],
   "source": [
    "r.disk_bottom.compliant = False\n",
    "r.disk_middle.compliant = False\n",
    "r.disk_top.compliant = False"
   ]
  },
  {
   "cell_type": "code",
   "execution_count": 12,
   "metadata": {},
   "outputs": [],
   "source": [
    "##### Remise à zéro #####\n",
    "r.disk_bottom.target_rot_position = 0\n",
    "r.disk_middle.target_rot_position = 0\n",
    "r.disk_top.target_rot_position = 0"
   ]
  },
  {
   "cell_type": "code",
   "execution_count": 30,
   "metadata": {},
   "outputs": [
    {
     "name": "stderr",
     "output_type": "stream",
     "text": [
      "/Users/augustin/.virtualenvs/spherical-joint/lib/python3.6/site-packages/ipykernel_launcher.py:19: RuntimeWarning: invalid value encountered in double_scalars\n"
     ]
    }
   ],
   "source": [
    "##### Test indiquer vecteur #####\n",
    "\n",
    "locus = [0,0,1]\n",
    "angle = 0\n",
    "\n",
    "Q=Q_angles(locus,angle)\n",
    "\n",
    "r.disk_top.target_rot_position = Q[0]\n",
    "r.disk_middle.target_rot_position = Q[1]\n",
    "r.disk_bottom.target_rot_position = Q[2]"
   ]
  },
  {
   "cell_type": "code",
   "execution_count": 7,
   "metadata": {},
   "outputs": [],
   "source": [
    "##### Tracé de cercle #####\n",
    "Rtest = 4\n",
    "centerTest = 10\n",
    "\n",
    "i=1\n",
    "t=0\n",
    "\n",
    "while t<5*2.0*math.pi: #TEST CIRCLE PARAMETRIC EQUATION:\n",
    "    locus = np.array([Rtest*math.cos(t),Rtest*math.sin(t),centerTest])\n",
    "    i=i+1\n",
    "    t=t+math.pi/30.0\n",
    "    \n",
    "    \n",
    "    Q=Q_angles(locus)\n",
    "    r.disk_top.target_rot_position = Q[0]\n",
    "    r.disk_middle.target_rot_position = Q[1]\n",
    "    r.disk_bottom.target_rot_position = Q[2]\n",
    "    \n",
    "    time.sleep(0.001)"
   ]
  },
  {
   "cell_type": "code",
   "execution_count": 7,
   "metadata": {},
   "outputs": [],
   "source": [
    "##### Tracé de carré #####\n",
    "L = 5.\n",
    "cote1 = np.array([np.linspace(L,L,num=10),np.linspace(-L,L,num=10),np.linspace(10,10,num=10)])\n",
    "cote2 = np.array([np.linspace(L,-L,num=10),np.linspace(L,L,num=10),np.linspace(10,10,num=10)])\n",
    "cote3 = np.array([np.linspace(-L,-L,num=10),np.linspace(L,-L,num=10),np.linspace(10,10,num=10)])\n",
    "cote4 = np.array([np.linspace(-L,L,num=10),np.linspace(-L,-L,num=10),np.linspace(10,10,num=10)])\n",
    "\n",
    "poses = np.concatenate((cote1,cote2,cote3,cote4),axis=1)\n",
    "poses = poses.transpose()\n",
    "\n",
    "for i in range(len(poses)):\n",
    "    pose = poses[i]\n",
    "\n",
    "    \n",
    "    Q=Q_angles(pose)\n",
    "    r.disk_top.target_rot_position = Q[0]\n",
    "    r.disk_middle.target_rot_position = Q[1]\n",
    "    r.disk_bottom.target_rot_position = Q[2]\n",
    "    \n",
    "    time.sleep(0.05)"
   ]
  },
  {
   "cell_type": "code",
   "execution_count": 71,
   "metadata": {},
   "outputs": [
    {
     "data": {
      "image/png": "[encoded data removed]",
      "text/plain": [
       "<Figure size 432x288 with 1 Axes>"
      ]
     },
     "metadata": {
      "needs_background": "light"
     },
     "output_type": "display_data"
    }
   ],
   "source": [
    "import matplotlib.pyplot as plt\n",
    "from mpl_toolkits.mplot3d import Axes3D\n",
    "\n",
    "\n",
    "\n",
    "origin = [0,0,0]\n",
    "X_, Y_, Z_ = zip(origin,origin,origin)\n",
    "X0_,Y0_,Z0_ = zip(origin,origin,origin)\n",
    "U, V, W = zip(X,Y,Z)\n",
    "U0,V0,W0 = zip(x0,y0,z0)\n",
    "\n",
    "fig = plt.figure()\n",
    "ax = fig.add_subplot(1,1,1, projection='3d')\n",
    "ax.quiver(X0_,Y0_,Z0_,U0,V0,W0,arrow_length_ratio=0.01)\n",
    "ax.quiver(X_,Y_,Z_,U,V,W,arrow_length_ratio=0.01,color='r')\n",
    "plt.show()"
   ]
  },
  {
   "cell_type": "code",
   "execution_count": 8,
   "metadata": {},
   "outputs": [
    {
     "name": "stderr",
     "output_type": "stream",
     "text": [
      "/Users/augustin/.virtualenvs/spherical-joint/lib/python3.6/site-packages/ipykernel_launcher.py:19: RuntimeWarning: invalid value encountered in double_scalars\n"
     ]
    },
    {
     "data": {
      "text/plain": [
       "<matplotlib.legend.Legend at 0x117c2cb38>"
      ]
     },
     "execution_count": 8,
     "metadata": {},
     "output_type": "execute_result"
    },
    {
     "data": {
      "image/png": "[encoded data removed]",
      "text/plain": [
       "<Figure size 432x288 with 1 Axes>"
      ]
     },
     "metadata": {
      "needs_background": "light"
     },
     "output_type": "display_data"
    }
   ],
   "source": [
    "from matplotlib import pyplot as plt\n",
    "locus = [0,0,1]\n",
    "\n",
    "beta = []\n",
    "for i in range(360):\n",
    "    beta.append(i)\n",
    "\n",
    "bas = []\n",
    "milieu = []\n",
    "haut = []\n",
    "\n",
    "for _ in beta:\n",
    "\n",
    "    Q=Q_angles(locus,_)\n",
    "    haut.append(Q[0])\n",
    "    milieu.append(Q[1]-120)\n",
    "    bas.append(Q[2]+120)\n",
    "    \n",
    "plt.plot(beta,bas, label='bas')\n",
    "plt.plot(beta,milieu, label='milieu')\n",
    "plt.plot(beta,haut, label='haut')\n",
    "plt.legend()"
   ]
  },
  {
   "cell_type": "code",
   "execution_count": null,
   "metadata": {},
   "outputs": [],
   "source": []
  }
 ],
 "metadata": {
  "kernelspec": {
   "display_name": "Python 3",
   "language": "python",
   "name": "python3"
  },
  "language_info": {
   "codemirror_mode": {
    "name": "ipython",
    "version": 3
   },
   "file_extension": ".py",
   "mimetype": "text/x-python",
   "name": "python",
   "nbconvert_exporter": "python",
   "pygments_lexer": "ipython3",
   "version": "3.6.5"
  }
 },
 "nbformat": 4,
 "nbformat_minor": 2
}
